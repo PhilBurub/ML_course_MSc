{
  "cells": [
    {
      "cell_type": "markdown",
      "metadata": {
        "id": "view-in-github",
        "colab_type": "text"
      },
      "source": [
        "<a href=\"https://colab.research.google.com/github/PhilBurub/ML_course_MSc/blob/main/HW3_recsys/HW3.ipynb\" target=\"_parent\"><img src=\"https://colab.research.google.com/assets/colab-badge.svg\" alt=\"Open In Colab\"/></a>"
      ]
    },
    {
      "cell_type": "markdown",
      "metadata": {
        "id": "amX5p9e7P6jt"
      },
      "source": [
        "## ДЗ №3 Двухуровневый пайплайн\n",
        "#### В этой домашке вам предстоит написать с нуля двустадийную рекомендательную систему.\n",
        "\n",
        "#### Дата выдачи: 10.03.25\n",
        "\n",
        "#### Мягкий дедлайн: 31.03.25 23:59 MSK\n",
        "\n",
        "#### Жесткий дедлайн: 7.04.25 23:59 MSK"
      ]
    },
    {
      "cell_type": "code",
      "source": [
        "!pip install numpy==1.23.2"
      ],
      "metadata": {
        "colab": {
          "base_uri": "https://localhost:8080/"
        },
        "id": "XcM61DxIlYPs",
        "outputId": "6e85d32c-0245-479d-fcff-adb80fc7dcf9"
      },
      "execution_count": null,
      "outputs": [
        {
          "output_type": "stream",
          "name": "stdout",
          "text": [
            "Requirement already satisfied: numpy==1.23.2 in /usr/local/lib/python3.11/dist-packages (1.23.2)\n"
          ]
        }
      ]
    },
    {
      "cell_type": "code",
      "source": [
        "%%capture\n",
        "!pip install rectools[torch]==0.12.0\n",
        "!pip install implicit\n",
        "!export OPENBLAS_NUM_THREADS=1"
      ],
      "metadata": {
        "id": "HTUnlNaug62t"
      },
      "execution_count": null,
      "outputs": []
    },
    {
      "cell_type": "markdown",
      "metadata": {
        "id": "GE_WmJpsP6jv"
      },
      "source": [
        "### Описание\n",
        "Это творческое задание, в котором вам необходимо реализовать полный цикл построения рекомендательной системы: реализовать кандидат генераторов, придумать и собрать признаки, обучить итоговый ранкер и заинференсить модели на всех пользователей.\n",
        "\n",
        "Вам предоставляется два набора данных: `train.csv` и `test.csv`"
      ]
    },
    {
      "cell_type": "code",
      "source": [
        "from google.colab import drive\n",
        "drive.mount('/content/drive')"
      ],
      "metadata": {
        "id": "AqLmrVHcTnh9",
        "outputId": "0c4096d5-7673-458e-d8a0-c31da08020fd",
        "colab": {
          "base_uri": "https://localhost:8080/"
        }
      },
      "execution_count": null,
      "outputs": [
        {
          "output_type": "stream",
          "name": "stdout",
          "text": [
            "Mounted at /content/drive\n"
          ]
        }
      ]
    },
    {
      "cell_type": "markdown",
      "metadata": {
        "id": "VS8wkrJPP6jy"
      },
      "source": [
        "\n",
        "\n",
        "### 1 Этап. Модели первого уровня. (max 3 балла)\n",
        "В этом этапе вам необходимо разделить `train` датасет на 2 части: для обучения моделей первого уровня и для их валидации. Единственное условие для разбиения – разбивать нужно по времени. Данные для обучение будем называть `train_stage_1`, данные для валидации `valid_stage_1`. Объемы этих датасетов вы определяет самостоятельно.\n",
        "\n",
        "Для начала нам нужно отобрать кандидатов при помощи легких моделей. Необходимо реализовать 3 типа моделей:\n",
        "1. Любая эвристическая(алгоритмичная) модель на ваш выбор **(0.5 балл)**\n",
        "2. Любая матричная факторизация на ваш выбор **(1 балл)**\n",
        "3. Любая нейросетевая модель на ваш выбор **(1 балла)**\n",
        "\n",
        "Не забудьте использовать скор каждой модели, как признак!\n",
        "\n"
      ]
    },
    {
      "cell_type": "code",
      "source": [
        "import pandas as pd\n",
        "import numpy as np\n",
        "from datetime import date\n",
        "from matplotlib import pyplot as plt\n",
        "from sklearn.metrics import ndcg_score"
      ],
      "metadata": {
        "id": "Iyp0SL7RSV1U"
      },
      "execution_count": null,
      "outputs": []
    },
    {
      "cell_type": "markdown",
      "source": [
        "#### 1. Разделение данных"
      ],
      "metadata": {
        "id": "oYl5cneagaad"
      }
    },
    {
      "cell_type": "code",
      "source": [
        "train = pd.read_csv('/content/drive/MyDrive/AI/recsys/train_part.csv')\n",
        "train.head()"
      ],
      "metadata": {
        "id": "ME0rZxFOSfAG",
        "colab": {
          "base_uri": "https://localhost:8080/",
          "height": 206
        },
        "outputId": "6ea8d37e-394c-47b9-8637-36cc2fbfced2"
      },
      "execution_count": null,
      "outputs": [
        {
          "output_type": "execute_result",
          "data": {
            "text/plain": [
              "   user_id  item_id last_watch_dt  total_dur  watched_pct  target\n",
              "0   310745    13373    2021-03-13       4485         98.0       1\n",
              "1   952323    15997    2021-03-13       7507        100.0       1\n",
              "2   889459    11460    2021-03-13         60          0.0       0\n",
              "3   854016    11237    2021-03-13       5381         98.0       1\n",
              "4   307257     9132    2021-03-13       5814        100.0       1"
            ],
            "text/html": [
              "\n",
              "  <div id=\"df-31072181-ca55-42aa-80b1-f9f9a7debad1\" class=\"colab-df-container\">\n",
              "    <div>\n",
              "<style scoped>\n",
              "    .dataframe tbody tr th:only-of-type {\n",
              "        vertical-align: middle;\n",
              "    }\n",
              "\n",
              "    .dataframe tbody tr th {\n",
              "        vertical-align: top;\n",
              "    }\n",
              "\n",
              "    .dataframe thead th {\n",
              "        text-align: right;\n",
              "    }\n",
              "</style>\n",
              "<table border=\"1\" class=\"dataframe\">\n",
              "  <thead>\n",
              "    <tr style=\"text-align: right;\">\n",
              "      <th></th>\n",
              "      <th>user_id</th>\n",
              "      <th>item_id</th>\n",
              "      <th>last_watch_dt</th>\n",
              "      <th>total_dur</th>\n",
              "      <th>watched_pct</th>\n",
              "      <th>target</th>\n",
              "    </tr>\n",
              "  </thead>\n",
              "  <tbody>\n",
              "    <tr>\n",
              "      <th>0</th>\n",
              "      <td>310745</td>\n",
              "      <td>13373</td>\n",
              "      <td>2021-03-13</td>\n",
              "      <td>4485</td>\n",
              "      <td>98.0</td>\n",
              "      <td>1</td>\n",
              "    </tr>\n",
              "    <tr>\n",
              "      <th>1</th>\n",
              "      <td>952323</td>\n",
              "      <td>15997</td>\n",
              "      <td>2021-03-13</td>\n",
              "      <td>7507</td>\n",
              "      <td>100.0</td>\n",
              "      <td>1</td>\n",
              "    </tr>\n",
              "    <tr>\n",
              "      <th>2</th>\n",
              "      <td>889459</td>\n",
              "      <td>11460</td>\n",
              "      <td>2021-03-13</td>\n",
              "      <td>60</td>\n",
              "      <td>0.0</td>\n",
              "      <td>0</td>\n",
              "    </tr>\n",
              "    <tr>\n",
              "      <th>3</th>\n",
              "      <td>854016</td>\n",
              "      <td>11237</td>\n",
              "      <td>2021-03-13</td>\n",
              "      <td>5381</td>\n",
              "      <td>98.0</td>\n",
              "      <td>1</td>\n",
              "    </tr>\n",
              "    <tr>\n",
              "      <th>4</th>\n",
              "      <td>307257</td>\n",
              "      <td>9132</td>\n",
              "      <td>2021-03-13</td>\n",
              "      <td>5814</td>\n",
              "      <td>100.0</td>\n",
              "      <td>1</td>\n",
              "    </tr>\n",
              "  </tbody>\n",
              "</table>\n",
              "</div>\n",
              "    <div class=\"colab-df-buttons\">\n",
              "\n",
              "  <div class=\"colab-df-container\">\n",
              "    <button class=\"colab-df-convert\" onclick=\"convertToInteractive('df-31072181-ca55-42aa-80b1-f9f9a7debad1')\"\n",
              "            title=\"Convert this dataframe to an interactive table.\"\n",
              "            style=\"display:none;\">\n",
              "\n",
              "  <svg xmlns=\"http://www.w3.org/2000/svg\" height=\"24px\" viewBox=\"0 -960 960 960\">\n",
              "    <path d=\"M120-120v-720h720v720H120Zm60-500h600v-160H180v160Zm220 220h160v-160H400v160Zm0 220h160v-160H400v160ZM180-400h160v-160H180v160Zm440 0h160v-160H620v160ZM180-180h160v-160H180v160Zm440 0h160v-160H620v160Z\"/>\n",
              "  </svg>\n",
              "    </button>\n",
              "\n",
              "  <style>\n",
              "    .colab-df-container {\n",
              "      display:flex;\n",
              "      gap: 12px;\n",
              "    }\n",
              "\n",
              "    .colab-df-convert {\n",
              "      background-color: #E8F0FE;\n",
              "      border: none;\n",
              "      border-radius: 50%;\n",
              "      cursor: pointer;\n",
              "      display: none;\n",
              "      fill: #1967D2;\n",
              "      height: 32px;\n",
              "      padding: 0 0 0 0;\n",
              "      width: 32px;\n",
              "    }\n",
              "\n",
              "    .colab-df-convert:hover {\n",
              "      background-color: #E2EBFA;\n",
              "      box-shadow: 0px 1px 2px rgba(60, 64, 67, 0.3), 0px 1px 3px 1px rgba(60, 64, 67, 0.15);\n",
              "      fill: #174EA6;\n",
              "    }\n",
              "\n",
              "    .colab-df-buttons div {\n",
              "      margin-bottom: 4px;\n",
              "    }\n",
              "\n",
              "    [theme=dark] .colab-df-convert {\n",
              "      background-color: #3B4455;\n",
              "      fill: #D2E3FC;\n",
              "    }\n",
              "\n",
              "    [theme=dark] .colab-df-convert:hover {\n",
              "      background-color: #434B5C;\n",
              "      box-shadow: 0px 1px 3px 1px rgba(0, 0, 0, 0.15);\n",
              "      filter: drop-shadow(0px 1px 2px rgba(0, 0, 0, 0.3));\n",
              "      fill: #FFFFFF;\n",
              "    }\n",
              "  </style>\n",
              "\n",
              "    <script>\n",
              "      const buttonEl =\n",
              "        document.querySelector('#df-31072181-ca55-42aa-80b1-f9f9a7debad1 button.colab-df-convert');\n",
              "      buttonEl.style.display =\n",
              "        google.colab.kernel.accessAllowed ? 'block' : 'none';\n",
              "\n",
              "      async function convertToInteractive(key) {\n",
              "        const element = document.querySelector('#df-31072181-ca55-42aa-80b1-f9f9a7debad1');\n",
              "        const dataTable =\n",
              "          await google.colab.kernel.invokeFunction('convertToInteractive',\n",
              "                                                    [key], {});\n",
              "        if (!dataTable) return;\n",
              "\n",
              "        const docLinkHtml = 'Like what you see? Visit the ' +\n",
              "          '<a target=\"_blank\" href=https://colab.research.google.com/notebooks/data_table.ipynb>data table notebook</a>'\n",
              "          + ' to learn more about interactive tables.';\n",
              "        element.innerHTML = '';\n",
              "        dataTable['output_type'] = 'display_data';\n",
              "        await google.colab.output.renderOutput(dataTable, element);\n",
              "        const docLink = document.createElement('div');\n",
              "        docLink.innerHTML = docLinkHtml;\n",
              "        element.appendChild(docLink);\n",
              "      }\n",
              "    </script>\n",
              "  </div>\n",
              "\n",
              "\n",
              "<div id=\"df-d422f528-1425-4904-85c0-47c378deaf40\">\n",
              "  <button class=\"colab-df-quickchart\" onclick=\"quickchart('df-d422f528-1425-4904-85c0-47c378deaf40')\"\n",
              "            title=\"Suggest charts\"\n",
              "            style=\"display:none;\">\n",
              "\n",
              "<svg xmlns=\"http://www.w3.org/2000/svg\" height=\"24px\"viewBox=\"0 0 24 24\"\n",
              "     width=\"24px\">\n",
              "    <g>\n",
              "        <path d=\"M19 3H5c-1.1 0-2 .9-2 2v14c0 1.1.9 2 2 2h14c1.1 0 2-.9 2-2V5c0-1.1-.9-2-2-2zM9 17H7v-7h2v7zm4 0h-2V7h2v10zm4 0h-2v-4h2v4z\"/>\n",
              "    </g>\n",
              "</svg>\n",
              "  </button>\n",
              "\n",
              "<style>\n",
              "  .colab-df-quickchart {\n",
              "      --bg-color: #E8F0FE;\n",
              "      --fill-color: #1967D2;\n",
              "      --hover-bg-color: #E2EBFA;\n",
              "      --hover-fill-color: #174EA6;\n",
              "      --disabled-fill-color: #AAA;\n",
              "      --disabled-bg-color: #DDD;\n",
              "  }\n",
              "\n",
              "  [theme=dark] .colab-df-quickchart {\n",
              "      --bg-color: #3B4455;\n",
              "      --fill-color: #D2E3FC;\n",
              "      --hover-bg-color: #434B5C;\n",
              "      --hover-fill-color: #FFFFFF;\n",
              "      --disabled-bg-color: #3B4455;\n",
              "      --disabled-fill-color: #666;\n",
              "  }\n",
              "\n",
              "  .colab-df-quickchart {\n",
              "    background-color: var(--bg-color);\n",
              "    border: none;\n",
              "    border-radius: 50%;\n",
              "    cursor: pointer;\n",
              "    display: none;\n",
              "    fill: var(--fill-color);\n",
              "    height: 32px;\n",
              "    padding: 0;\n",
              "    width: 32px;\n",
              "  }\n",
              "\n",
              "  .colab-df-quickchart:hover {\n",
              "    background-color: var(--hover-bg-color);\n",
              "    box-shadow: 0 1px 2px rgba(60, 64, 67, 0.3), 0 1px 3px 1px rgba(60, 64, 67, 0.15);\n",
              "    fill: var(--button-hover-fill-color);\n",
              "  }\n",
              "\n",
              "  .colab-df-quickchart-complete:disabled,\n",
              "  .colab-df-quickchart-complete:disabled:hover {\n",
              "    background-color: var(--disabled-bg-color);\n",
              "    fill: var(--disabled-fill-color);\n",
              "    box-shadow: none;\n",
              "  }\n",
              "\n",
              "  .colab-df-spinner {\n",
              "    border: 2px solid var(--fill-color);\n",
              "    border-color: transparent;\n",
              "    border-bottom-color: var(--fill-color);\n",
              "    animation:\n",
              "      spin 1s steps(1) infinite;\n",
              "  }\n",
              "\n",
              "  @keyframes spin {\n",
              "    0% {\n",
              "      border-color: transparent;\n",
              "      border-bottom-color: var(--fill-color);\n",
              "      border-left-color: var(--fill-color);\n",
              "    }\n",
              "    20% {\n",
              "      border-color: transparent;\n",
              "      border-left-color: var(--fill-color);\n",
              "      border-top-color: var(--fill-color);\n",
              "    }\n",
              "    30% {\n",
              "      border-color: transparent;\n",
              "      border-left-color: var(--fill-color);\n",
              "      border-top-color: var(--fill-color);\n",
              "      border-right-color: var(--fill-color);\n",
              "    }\n",
              "    40% {\n",
              "      border-color: transparent;\n",
              "      border-right-color: var(--fill-color);\n",
              "      border-top-color: var(--fill-color);\n",
              "    }\n",
              "    60% {\n",
              "      border-color: transparent;\n",
              "      border-right-color: var(--fill-color);\n",
              "    }\n",
              "    80% {\n",
              "      border-color: transparent;\n",
              "      border-right-color: var(--fill-color);\n",
              "      border-bottom-color: var(--fill-color);\n",
              "    }\n",
              "    90% {\n",
              "      border-color: transparent;\n",
              "      border-bottom-color: var(--fill-color);\n",
              "    }\n",
              "  }\n",
              "</style>\n",
              "\n",
              "  <script>\n",
              "    async function quickchart(key) {\n",
              "      const quickchartButtonEl =\n",
              "        document.querySelector('#' + key + ' button');\n",
              "      quickchartButtonEl.disabled = true;  // To prevent multiple clicks.\n",
              "      quickchartButtonEl.classList.add('colab-df-spinner');\n",
              "      try {\n",
              "        const charts = await google.colab.kernel.invokeFunction(\n",
              "            'suggestCharts', [key], {});\n",
              "      } catch (error) {\n",
              "        console.error('Error during call to suggestCharts:', error);\n",
              "      }\n",
              "      quickchartButtonEl.classList.remove('colab-df-spinner');\n",
              "      quickchartButtonEl.classList.add('colab-df-quickchart-complete');\n",
              "    }\n",
              "    (() => {\n",
              "      let quickchartButtonEl =\n",
              "        document.querySelector('#df-d422f528-1425-4904-85c0-47c378deaf40 button');\n",
              "      quickchartButtonEl.style.display =\n",
              "        google.colab.kernel.accessAllowed ? 'block' : 'none';\n",
              "    })();\n",
              "  </script>\n",
              "</div>\n",
              "    </div>\n",
              "  </div>\n"
            ],
            "application/vnd.google.colaboratory.intrinsic+json": {
              "type": "dataframe",
              "variable_name": "train"
            }
          },
          "metadata": {},
          "execution_count": 6
        }
      ]
    },
    {
      "cell_type": "code",
      "source": [
        "train.head()"
      ],
      "metadata": {
        "id": "RcY-hH9AUAv-",
        "outputId": "c04251d6-1af8-4e54-e1e0-1ab6b461a9b5",
        "colab": {
          "base_uri": "https://localhost:8080/",
          "height": 206
        }
      },
      "execution_count": null,
      "outputs": [
        {
          "output_type": "execute_result",
          "data": {
            "text/plain": [
              "   user_id  item_id last_watch_dt  total_dur  watched_pct  target\n",
              "0   310745    13373    2021-03-13       4485         98.0       1\n",
              "1   952323    15997    2021-03-13       7507        100.0       1\n",
              "2   889459    11460    2021-03-13         60          0.0       0\n",
              "3   854016    11237    2021-03-13       5381         98.0       1\n",
              "4   307257     9132    2021-03-13       5814        100.0       1"
            ],
            "text/html": [
              "\n",
              "  <div id=\"df-a8fdfb18-7031-48d7-b427-5ad976535cb4\" class=\"colab-df-container\">\n",
              "    <div>\n",
              "<style scoped>\n",
              "    .dataframe tbody tr th:only-of-type {\n",
              "        vertical-align: middle;\n",
              "    }\n",
              "\n",
              "    .dataframe tbody tr th {\n",
              "        vertical-align: top;\n",
              "    }\n",
              "\n",
              "    .dataframe thead th {\n",
              "        text-align: right;\n",
              "    }\n",
              "</style>\n",
              "<table border=\"1\" class=\"dataframe\">\n",
              "  <thead>\n",
              "    <tr style=\"text-align: right;\">\n",
              "      <th></th>\n",
              "      <th>user_id</th>\n",
              "      <th>item_id</th>\n",
              "      <th>last_watch_dt</th>\n",
              "      <th>total_dur</th>\n",
              "      <th>watched_pct</th>\n",
              "      <th>target</th>\n",
              "    </tr>\n",
              "  </thead>\n",
              "  <tbody>\n",
              "    <tr>\n",
              "      <th>0</th>\n",
              "      <td>310745</td>\n",
              "      <td>13373</td>\n",
              "      <td>2021-03-13</td>\n",
              "      <td>4485</td>\n",
              "      <td>98.0</td>\n",
              "      <td>1</td>\n",
              "    </tr>\n",
              "    <tr>\n",
              "      <th>1</th>\n",
              "      <td>952323</td>\n",
              "      <td>15997</td>\n",
              "      <td>2021-03-13</td>\n",
              "      <td>7507</td>\n",
              "      <td>100.0</td>\n",
              "      <td>1</td>\n",
              "    </tr>\n",
              "    <tr>\n",
              "      <th>2</th>\n",
              "      <td>889459</td>\n",
              "      <td>11460</td>\n",
              "      <td>2021-03-13</td>\n",
              "      <td>60</td>\n",
              "      <td>0.0</td>\n",
              "      <td>0</td>\n",
              "    </tr>\n",
              "    <tr>\n",
              "      <th>3</th>\n",
              "      <td>854016</td>\n",
              "      <td>11237</td>\n",
              "      <td>2021-03-13</td>\n",
              "      <td>5381</td>\n",
              "      <td>98.0</td>\n",
              "      <td>1</td>\n",
              "    </tr>\n",
              "    <tr>\n",
              "      <th>4</th>\n",
              "      <td>307257</td>\n",
              "      <td>9132</td>\n",
              "      <td>2021-03-13</td>\n",
              "      <td>5814</td>\n",
              "      <td>100.0</td>\n",
              "      <td>1</td>\n",
              "    </tr>\n",
              "  </tbody>\n",
              "</table>\n",
              "</div>\n",
              "    <div class=\"colab-df-buttons\">\n",
              "\n",
              "  <div class=\"colab-df-container\">\n",
              "    <button class=\"colab-df-convert\" onclick=\"convertToInteractive('df-a8fdfb18-7031-48d7-b427-5ad976535cb4')\"\n",
              "            title=\"Convert this dataframe to an interactive table.\"\n",
              "            style=\"display:none;\">\n",
              "\n",
              "  <svg xmlns=\"http://www.w3.org/2000/svg\" height=\"24px\" viewBox=\"0 -960 960 960\">\n",
              "    <path d=\"M120-120v-720h720v720H120Zm60-500h600v-160H180v160Zm220 220h160v-160H400v160Zm0 220h160v-160H400v160ZM180-400h160v-160H180v160Zm440 0h160v-160H620v160ZM180-180h160v-160H180v160Zm440 0h160v-160H620v160Z\"/>\n",
              "  </svg>\n",
              "    </button>\n",
              "\n",
              "  <style>\n",
              "    .colab-df-container {\n",
              "      display:flex;\n",
              "      gap: 12px;\n",
              "    }\n",
              "\n",
              "    .colab-df-convert {\n",
              "      background-color: #E8F0FE;\n",
              "      border: none;\n",
              "      border-radius: 50%;\n",
              "      cursor: pointer;\n",
              "      display: none;\n",
              "      fill: #1967D2;\n",
              "      height: 32px;\n",
              "      padding: 0 0 0 0;\n",
              "      width: 32px;\n",
              "    }\n",
              "\n",
              "    .colab-df-convert:hover {\n",
              "      background-color: #E2EBFA;\n",
              "      box-shadow: 0px 1px 2px rgba(60, 64, 67, 0.3), 0px 1px 3px 1px rgba(60, 64, 67, 0.15);\n",
              "      fill: #174EA6;\n",
              "    }\n",
              "\n",
              "    .colab-df-buttons div {\n",
              "      margin-bottom: 4px;\n",
              "    }\n",
              "\n",
              "    [theme=dark] .colab-df-convert {\n",
              "      background-color: #3B4455;\n",
              "      fill: #D2E3FC;\n",
              "    }\n",
              "\n",
              "    [theme=dark] .colab-df-convert:hover {\n",
              "      background-color: #434B5C;\n",
              "      box-shadow: 0px 1px 3px 1px rgba(0, 0, 0, 0.15);\n",
              "      filter: drop-shadow(0px 1px 2px rgba(0, 0, 0, 0.3));\n",
              "      fill: #FFFFFF;\n",
              "    }\n",
              "  </style>\n",
              "\n",
              "    <script>\n",
              "      const buttonEl =\n",
              "        document.querySelector('#df-a8fdfb18-7031-48d7-b427-5ad976535cb4 button.colab-df-convert');\n",
              "      buttonEl.style.display =\n",
              "        google.colab.kernel.accessAllowed ? 'block' : 'none';\n",
              "\n",
              "      async function convertToInteractive(key) {\n",
              "        const element = document.querySelector('#df-a8fdfb18-7031-48d7-b427-5ad976535cb4');\n",
              "        const dataTable =\n",
              "          await google.colab.kernel.invokeFunction('convertToInteractive',\n",
              "                                                    [key], {});\n",
              "        if (!dataTable) return;\n",
              "\n",
              "        const docLinkHtml = 'Like what you see? Visit the ' +\n",
              "          '<a target=\"_blank\" href=https://colab.research.google.com/notebooks/data_table.ipynb>data table notebook</a>'\n",
              "          + ' to learn more about interactive tables.';\n",
              "        element.innerHTML = '';\n",
              "        dataTable['output_type'] = 'display_data';\n",
              "        await google.colab.output.renderOutput(dataTable, element);\n",
              "        const docLink = document.createElement('div');\n",
              "        docLink.innerHTML = docLinkHtml;\n",
              "        element.appendChild(docLink);\n",
              "      }\n",
              "    </script>\n",
              "  </div>\n",
              "\n",
              "\n",
              "<div id=\"df-103d7653-0e44-4c7b-8d62-e497ec3b26fa\">\n",
              "  <button class=\"colab-df-quickchart\" onclick=\"quickchart('df-103d7653-0e44-4c7b-8d62-e497ec3b26fa')\"\n",
              "            title=\"Suggest charts\"\n",
              "            style=\"display:none;\">\n",
              "\n",
              "<svg xmlns=\"http://www.w3.org/2000/svg\" height=\"24px\"viewBox=\"0 0 24 24\"\n",
              "     width=\"24px\">\n",
              "    <g>\n",
              "        <path d=\"M19 3H5c-1.1 0-2 .9-2 2v14c0 1.1.9 2 2 2h14c1.1 0 2-.9 2-2V5c0-1.1-.9-2-2-2zM9 17H7v-7h2v7zm4 0h-2V7h2v10zm4 0h-2v-4h2v4z\"/>\n",
              "    </g>\n",
              "</svg>\n",
              "  </button>\n",
              "\n",
              "<style>\n",
              "  .colab-df-quickchart {\n",
              "      --bg-color: #E8F0FE;\n",
              "      --fill-color: #1967D2;\n",
              "      --hover-bg-color: #E2EBFA;\n",
              "      --hover-fill-color: #174EA6;\n",
              "      --disabled-fill-color: #AAA;\n",
              "      --disabled-bg-color: #DDD;\n",
              "  }\n",
              "\n",
              "  [theme=dark] .colab-df-quickchart {\n",
              "      --bg-color: #3B4455;\n",
              "      --fill-color: #D2E3FC;\n",
              "      --hover-bg-color: #434B5C;\n",
              "      --hover-fill-color: #FFFFFF;\n",
              "      --disabled-bg-color: #3B4455;\n",
              "      --disabled-fill-color: #666;\n",
              "  }\n",
              "\n",
              "  .colab-df-quickchart {\n",
              "    background-color: var(--bg-color);\n",
              "    border: none;\n",
              "    border-radius: 50%;\n",
              "    cursor: pointer;\n",
              "    display: none;\n",
              "    fill: var(--fill-color);\n",
              "    height: 32px;\n",
              "    padding: 0;\n",
              "    width: 32px;\n",
              "  }\n",
              "\n",
              "  .colab-df-quickchart:hover {\n",
              "    background-color: var(--hover-bg-color);\n",
              "    box-shadow: 0 1px 2px rgba(60, 64, 67, 0.3), 0 1px 3px 1px rgba(60, 64, 67, 0.15);\n",
              "    fill: var(--button-hover-fill-color);\n",
              "  }\n",
              "\n",
              "  .colab-df-quickchart-complete:disabled,\n",
              "  .colab-df-quickchart-complete:disabled:hover {\n",
              "    background-color: var(--disabled-bg-color);\n",
              "    fill: var(--disabled-fill-color);\n",
              "    box-shadow: none;\n",
              "  }\n",
              "\n",
              "  .colab-df-spinner {\n",
              "    border: 2px solid var(--fill-color);\n",
              "    border-color: transparent;\n",
              "    border-bottom-color: var(--fill-color);\n",
              "    animation:\n",
              "      spin 1s steps(1) infinite;\n",
              "  }\n",
              "\n",
              "  @keyframes spin {\n",
              "    0% {\n",
              "      border-color: transparent;\n",
              "      border-bottom-color: var(--fill-color);\n",
              "      border-left-color: var(--fill-color);\n",
              "    }\n",
              "    20% {\n",
              "      border-color: transparent;\n",
              "      border-left-color: var(--fill-color);\n",
              "      border-top-color: var(--fill-color);\n",
              "    }\n",
              "    30% {\n",
              "      border-color: transparent;\n",
              "      border-left-color: var(--fill-color);\n",
              "      border-top-color: var(--fill-color);\n",
              "      border-right-color: var(--fill-color);\n",
              "    }\n",
              "    40% {\n",
              "      border-color: transparent;\n",
              "      border-right-color: var(--fill-color);\n",
              "      border-top-color: var(--fill-color);\n",
              "    }\n",
              "    60% {\n",
              "      border-color: transparent;\n",
              "      border-right-color: var(--fill-color);\n",
              "    }\n",
              "    80% {\n",
              "      border-color: transparent;\n",
              "      border-right-color: var(--fill-color);\n",
              "      border-bottom-color: var(--fill-color);\n",
              "    }\n",
              "    90% {\n",
              "      border-color: transparent;\n",
              "      border-bottom-color: var(--fill-color);\n",
              "    }\n",
              "  }\n",
              "</style>\n",
              "\n",
              "  <script>\n",
              "    async function quickchart(key) {\n",
              "      const quickchartButtonEl =\n",
              "        document.querySelector('#' + key + ' button');\n",
              "      quickchartButtonEl.disabled = true;  // To prevent multiple clicks.\n",
              "      quickchartButtonEl.classList.add('colab-df-spinner');\n",
              "      try {\n",
              "        const charts = await google.colab.kernel.invokeFunction(\n",
              "            'suggestCharts', [key], {});\n",
              "      } catch (error) {\n",
              "        console.error('Error during call to suggestCharts:', error);\n",
              "      }\n",
              "      quickchartButtonEl.classList.remove('colab-df-spinner');\n",
              "      quickchartButtonEl.classList.add('colab-df-quickchart-complete');\n",
              "    }\n",
              "    (() => {\n",
              "      let quickchartButtonEl =\n",
              "        document.querySelector('#df-103d7653-0e44-4c7b-8d62-e497ec3b26fa button');\n",
              "      quickchartButtonEl.style.display =\n",
              "        google.colab.kernel.accessAllowed ? 'block' : 'none';\n",
              "    })();\n",
              "  </script>\n",
              "</div>\n",
              "    </div>\n",
              "  </div>\n"
            ],
            "application/vnd.google.colaboratory.intrinsic+json": {
              "type": "dataframe",
              "variable_name": "train"
            }
          },
          "metadata": {},
          "execution_count": 7
        }
      ]
    },
    {
      "cell_type": "code",
      "source": [
        "train.last_watch_dt = train.last_watch_dt.apply(date.fromisoformat)"
      ],
      "metadata": {
        "id": "d3I0s8aPiKDt"
      },
      "execution_count": null,
      "outputs": []
    },
    {
      "cell_type": "code",
      "source": [
        "threshold = train.last_watch_dt.quantile(q=0.75, interpolation='nearest')\n",
        "train.last_watch_dt.min(), threshold, train.last_watch_dt.max()"
      ],
      "metadata": {
        "id": "3SSr-QIHWGvy",
        "outputId": "b840c3ca-fc12-45d1-cc58-8e6efc964949",
        "colab": {
          "base_uri": "https://localhost:8080/"
        }
      },
      "execution_count": null,
      "outputs": [
        {
          "output_type": "execute_result",
          "data": {
            "text/plain": [
              "(datetime.date(2021, 3, 13),\n",
              " datetime.date(2021, 7, 21),\n",
              " datetime.date(2021, 8, 12))"
            ]
          },
          "metadata": {},
          "execution_count": 9
        }
      ]
    },
    {
      "cell_type": "code",
      "source": [
        "train_stage_1, valid_stage_1 = train[train.last_watch_dt <= threshold], train[train.last_watch_dt > threshold]"
      ],
      "metadata": {
        "id": "7__G_sFMXFiM"
      },
      "execution_count": null,
      "outputs": []
    },
    {
      "cell_type": "markdown",
      "source": [
        "#### 2. Эвристическая модель\n",
        "Будем за скор считать количество интеракций, причем будем брать сглаживание по месяцам и target=0 считать с отрицательным весом"
      ],
      "metadata": {
        "id": "kkm-5QEqghZ5"
      }
    },
    {
      "cell_type": "code",
      "source": [
        "class TopPopular:\n",
        "  def fit(self, df):\n",
        "    df = df.copy()\n",
        "    last = df.last_watch_dt.max()\n",
        "    coef = df.last_watch_dt.apply(lambda x: (last - x).days // 30 + 1)\n",
        "    df['value'] = df.target.map({1: 1, 0: -1}) / coef\n",
        "    self.preds = df.groupby('item_id').agg({'value': 'sum'})\\\n",
        "      .sort_values(by='value', ascending=False)\n",
        "\n",
        "  def score(self, item_id):\n",
        "    return self.preds.loc[item_id].value\n",
        "\n",
        "  def top_n(self, n):\n",
        "    return self.preds.index[:n]"
      ],
      "metadata": {
        "id": "YDKGR7jekVJY"
      },
      "execution_count": null,
      "outputs": []
    },
    {
      "cell_type": "code",
      "source": [
        "heuristic = TopPopular()\n",
        "heuristic.fit(train_stage_1)\n",
        "heuristic.top_n(10)"
      ],
      "metadata": {
        "id": "32IwVr_mm-oU",
        "outputId": "4cd87196-d625-44d0-be13-ae0271608af8",
        "colab": {
          "base_uri": "https://localhost:8080/"
        }
      },
      "execution_count": null,
      "outputs": [
        {
          "output_type": "execute_result",
          "data": {
            "text/plain": [
              "Index([13865, 15297, 3734, 9728, 142, 8636, 11237, 7417, 1844, 14431], dtype='int64', name='item_id')"
            ]
          },
          "metadata": {},
          "execution_count": 12
        }
      ]
    },
    {
      "cell_type": "markdown",
      "source": [
        "#### 3. Модель матричного разложения\n",
        "Возьму iALS"
      ],
      "metadata": {
        "id": "A-V85fFaniRj"
      }
    },
    {
      "cell_type": "code",
      "source": [
        "from implicit.cpu.als import AlternatingLeastSquares\n",
        "from scipy.sparse import csr_matrix"
      ],
      "metadata": {
        "id": "7NqIy3edm-wH"
      },
      "execution_count": null,
      "outputs": []
    },
    {
      "cell_type": "code",
      "source": [
        "shape = (\n",
        "    train_stage_1.user_id.max() + 1,\n",
        "    train_stage_1.item_id.max() + 1\n",
        ")\n",
        "smoothing_coef = train_stage_1.last_watch_dt.apply(\n",
        "    lambda x: (threshold - x).days // 30 + 1\n",
        ")\n",
        "\n",
        "user_item_matrix = csr_matrix(\n",
        "    (\n",
        "        train_stage_1.target.map({1: 1, 0: -1}) / smoothing_coef,\n",
        "        train_stage_1[['user_id', 'item_id']].T.values\n",
        "    ),\n",
        "    shape=shape\n",
        ")"
      ],
      "metadata": {
        "id": "4EbUY7BEnoRv"
      },
      "execution_count": null,
      "outputs": []
    },
    {
      "cell_type": "code",
      "source": [
        "ials = AlternatingLeastSquares(factors=15, calculate_training_loss=True)\n",
        "ials.fit(user_item_matrix)"
      ],
      "metadata": {
        "colab": {
          "base_uri": "https://localhost:8080/",
          "height": 104,
          "referenced_widgets": [
            "25ea8297079f434eaaf178b9f0aea72d",
            "32daed19a2354cb0b03b106562bd54cc",
            "c9e25f61b3ad442390a8f8ea9310c2e4",
            "f67e9f09d09f4223a9d9c9377dfaf63a",
            "b0b11aa66420450fb934dc5fdc87c60c",
            "63a5be4a6e5d427f8b07001bbeaeee63",
            "6db95c5239dd426da5a0bb728dd8ffee",
            "1f939cb74e0441d88a73faf73d9ada1e",
            "1d62aa57633d4057af7b537fc8102602",
            "34b92bea591249498f56fb8d2be7dd06",
            "022ea9c661d54ccabff9ce26893496e6"
          ]
        },
        "id": "LxQ1_R64pdO5",
        "outputId": "ceb2c88d-8851-434c-c159-29851a533a21"
      },
      "execution_count": null,
      "outputs": [
        {
          "output_type": "stream",
          "name": "stderr",
          "text": [
            "/usr/local/lib/python3.11/dist-packages/implicit/cpu/als.py:95: RuntimeWarning: OpenBLAS is configured to use 2 threads. It is highly recommended to disable its internal threadpool by setting the environment variable 'OPENBLAS_NUM_THREADS=1' or by calling 'threadpoolctl.threadpool_limits(1, \"blas\")'. Having OpenBLAS use a threadpool can lead to severe performance issues here.\n",
            "  check_blas_config()\n"
          ]
        },
        {
          "output_type": "display_data",
          "data": {
            "text/plain": [
              "  0%|          | 0/15 [00:00<?, ?it/s]"
            ],
            "application/vnd.jupyter.widget-view+json": {
              "version_major": 2,
              "version_minor": 0,
              "model_id": "25ea8297079f434eaaf178b9f0aea72d"
            }
          },
          "metadata": {}
        }
      ]
    },
    {
      "cell_type": "code",
      "source": [
        "ials.save('/content/drive/MyDrive/AI/recsys/ials_model')"
      ],
      "metadata": {
        "id": "DvVlRWHhwyHk"
      },
      "execution_count": null,
      "outputs": []
    },
    {
      "cell_type": "code",
      "source": [
        "ials.recommend(5, user_item_matrix[5])"
      ],
      "metadata": {
        "colab": {
          "base_uri": "https://localhost:8080/"
        },
        "id": "rxewmBQ-uCUq",
        "outputId": "ebdda87a-f6e9-41c0-8ebe-6af14841bdce"
      },
      "execution_count": null,
      "outputs": [
        {
          "output_type": "execute_result",
          "data": {
            "text/plain": [
              "(array([ 4495,  9728,  3734, 16166,  3182,  7626, 16270, 12173,  5411,\n",
              "        10440], dtype=int32),\n",
              " array([3.8692617e-12, 3.7411359e-12, 3.6468276e-12, 1.0599452e-12,\n",
              "        8.7241092e-13, 6.5465938e-13, 5.5338904e-13, 5.4478888e-13,\n",
              "        4.8884377e-13, 4.8013091e-13], dtype=float32))"
            ]
          },
          "metadata": {},
          "execution_count": 16
        }
      ]
    },
    {
      "cell_type": "markdown",
      "source": [
        "#### 4. Нейросетевая модель\n",
        "Возьму BERT4Rec"
      ],
      "metadata": {
        "id": "rc_7LYP0wnTL"
      }
    },
    {
      "cell_type": "code",
      "source": [
        "from rectools.models.nn.transformers.bert4rec import BERT4RecModel\n",
        "from rectools.dataset import Dataset"
      ],
      "metadata": {
        "id": "XZX7vD10nCO_"
      },
      "execution_count": null,
      "outputs": []
    },
    {
      "cell_type": "code",
      "source": [
        "%%capture\n",
        "interactions_df = train_stage_1[['user_id', 'item_id']]\n",
        "interactions_df['datetime'] = train_stage_1['last_watch_dt']\n",
        "interactions_df['weight'] = train_stage_1.target\n",
        "dataset = Dataset.construct(interactions_df)"
      ],
      "metadata": {
        "id": "60VnOps8vyE8"
      },
      "execution_count": null,
      "outputs": []
    },
    {
      "cell_type": "code",
      "source": [
        "bert4rec = BERT4RecModel(n_heads=2, n_factors=64, epochs=1, batch_size=256)"
      ],
      "metadata": {
        "colab": {
          "base_uri": "https://localhost:8080/"
        },
        "id": "HksJPCFQxyKY",
        "outputId": "6b270b09-dad0-41c8-ecf8-390a4791cb2f"
      },
      "execution_count": null,
      "outputs": [
        {
          "output_type": "stream",
          "name": "stderr",
          "text": [
            "INFO:pytorch_lightning.utilities.rank_zero:GPU available: True (cuda), used: True\n",
            "INFO:pytorch_lightning.utilities.rank_zero:TPU available: False, using: 0 TPU cores\n",
            "INFO:pytorch_lightning.utilities.rank_zero:HPU available: False, using: 0 HPUs\n"
          ]
        }
      ]
    },
    {
      "cell_type": "code",
      "source": [
        "bert4rec.fit(dataset)"
      ],
      "metadata": {
        "colab": {
          "base_uri": "https://localhost:8080/"
        },
        "id": "KTHUimGeu5k1",
        "outputId": "39926730-7d52-4607-b315-5244dc48f834"
      },
      "execution_count": null,
      "outputs": [
        {
          "output_type": "stream",
          "name": "stderr",
          "text": [
            "/usr/local/lib/python3.11/dist-packages/rectools/dataset/identifiers.py:60: FutureWarning: unique with argument that is not not a Series, Index, ExtensionArray, or np.ndarray is deprecated and will raise in a future version.\n",
            "  unq_values = pd.unique(values)\n",
            "/usr/local/lib/python3.11/dist-packages/rectools/models/nn/item_net.py:129: UserWarning: Ignoring `CatFeaturesItemNet` block because dataset doesn't contain item features.\n",
            "  warnings.warn(explanation)\n",
            "/usr/local/lib/python3.11/dist-packages/pydantic/main.py:453: UserWarning: Pydantic serializer warnings:\n",
            "  PydanticSerializationUnexpectedValue(Expected `str` - serialized value may not be as expected [input_value=('rectools.models.nn.item...net.CatFeaturesItemNet'), input_type=tuple])\n",
            "  return self.__pydantic_serializer__.to_python(\n",
            "/usr/local/lib/python3.11/dist-packages/pytorch_lightning/trainer/configuration_validator.py:70: You defined a `validation_step` but have no `val_dataloader`. Skipping val loop.\n",
            "INFO:pytorch_lightning.accelerators.cuda:LOCAL_RANK: 0 - CUDA_VISIBLE_DEVICES: [0]\n",
            "INFO:pytorch_lightning.utilities.rank_zero:`Trainer.fit` stopped: `max_epochs=1` reached.\n"
          ]
        },
        {
          "output_type": "execute_result",
          "data": {
            "text/plain": [
              "<rectools.models.nn.transformers.bert4rec.BERT4RecModel at 0x7facd03191d0>"
            ]
          },
          "metadata": {},
          "execution_count": 13
        }
      ]
    },
    {
      "cell_type": "code",
      "source": [
        "bert4rec.save('/content/drive/MyDrive/AI/recsys/nn_model')"
      ],
      "metadata": {
        "colab": {
          "base_uri": "https://localhost:8080/"
        },
        "id": "Vja21UfYo4t0",
        "outputId": "5f860305-e007-4281-a382-ed1c0ed1d02e"
      },
      "execution_count": null,
      "outputs": [
        {
          "output_type": "execute_result",
          "data": {
            "text/plain": [
              "12476053"
            ]
          },
          "metadata": {},
          "execution_count": 14
        }
      ]
    },
    {
      "cell_type": "markdown",
      "source": [
        "#### 5. Объединение и анализ"
      ],
      "metadata": {
        "id": "N67SffjjPrZS"
      }
    },
    {
      "cell_type": "code",
      "execution_count": null,
      "metadata": {
        "id": "8VCKt9vfP6jy",
        "colab": {
          "base_uri": "https://localhost:8080/"
        },
        "outputId": "fa377d27-af92-42d5-cbd4-9d3f49b98f84"
      },
      "outputs": [
        {
          "output_type": "stream",
          "name": "stderr",
          "text": [
            "/usr/local/lib/python3.11/dist-packages/implicit/cpu/als.py:95: RuntimeWarning: OpenBLAS is configured to use 2 threads. It is highly recommended to disable its internal threadpool by setting the environment variable 'OPENBLAS_NUM_THREADS=1' or by calling 'threadpoolctl.threadpool_limits(1, \"blas\")'. Having OpenBLAS use a threadpool can lead to severe performance issues here.\n",
            "  check_blas_config()\n",
            "INFO:pytorch_lightning.utilities.rank_zero:GPU available: True (cuda), used: True\n",
            "INFO:pytorch_lightning.utilities.rank_zero:TPU available: False, using: 0 TPU cores\n",
            "INFO:pytorch_lightning.utilities.rank_zero:HPU available: False, using: 0 HPUs\n",
            "/usr/local/lib/python3.11/dist-packages/rectools/models/nn/item_net.py:129: UserWarning: Ignoring `CatFeaturesItemNet` block because dataset doesn't contain item features.\n",
            "  warnings.warn(explanation)\n"
          ]
        }
      ],
      "source": [
        "my_heuristic_model = heuristic\n",
        "my_matrix_factorization = AlternatingLeastSquares.load('/content/drive/MyDrive/AI/recsys/ials_model')\n",
        "my_neural_network = BERT4RecModel.load('/content/drive/MyDrive/AI/recsys/nn_model')"
      ]
    },
    {
      "cell_type": "code",
      "source": [
        "top_n = 10\n",
        "val_users = valid_stage_1.user_id.unique()\n",
        "train_users = train_stage_1.user_id.value_counts()\n",
        "\n",
        "warmer_users = val_users[\n",
        "    np.in1d(\n",
        "        val_users,\n",
        "        train_users[train_users>1].index\n",
        "    )\n",
        "]\n",
        "\n",
        "warm_users = val_users[\n",
        "    np.in1d(\n",
        "        val_users,\n",
        "        train_users.index\n",
        "    )\n",
        "]\n",
        "\n",
        "cold_users = val_users[\n",
        "      ~np.in1d(\n",
        "        val_users,\n",
        "        train_users.index\n",
        "    )\n",
        "]"
      ],
      "metadata": {
        "id": "W-1domyLx8hl"
      },
      "execution_count": null,
      "outputs": []
    },
    {
      "cell_type": "code",
      "source": [
        "warmer_users_df = pd.DataFrame(index=warmer_users)\n",
        "\n",
        "bert_preds = my_neural_network.recommend(warmer_users, dataset, top_n, filter_viewed=True)\n",
        "bert_preds_grouped = bert_preds.groupby('user_id').agg({'item_id': list}).loc[warmer_users]\n",
        "warmer_users_df['nn_items'] = bert_preds_grouped.item_id"
      ],
      "metadata": {
        "id": "mWwT0cWlbGAH"
      },
      "execution_count": null,
      "outputs": []
    },
    {
      "cell_type": "code",
      "source": [
        "warm_users_df = pd.DataFrame(index=warm_users)\n",
        "\n",
        "mf_items, mf_scores = my_matrix_factorization.recommend(warm_users, user_item_matrix[warm_users], N=top_n)\n",
        "warm_users_df['mf_items'] = mf_items.tolist()"
      ],
      "metadata": {
        "id": "eB2lTxFvc0fs"
      },
      "execution_count": null,
      "outputs": []
    },
    {
      "cell_type": "code",
      "source": [
        "val_users_df = pd.DataFrame(index=val_users)\n",
        "\n",
        "topp_preds = my_heuristic_model.preds[:top_n]\n",
        "val_users_df['pop_items'] = [topp_preds.index.tolist()] * len(val_users)"
      ],
      "metadata": {
        "id": "Ld10sC_udY1b"
      },
      "execution_count": null,
      "outputs": []
    },
    {
      "cell_type": "code",
      "source": [
        "light_recs = pd.concat(\n",
        "    (\n",
        "        val_users_df,\n",
        "        warm_users_df,\n",
        "        warmer_users_df\n",
        "    ),\n",
        "    axis=1\n",
        ")"
      ],
      "metadata": {
        "id": "qO6o052cjTuE"
      },
      "execution_count": null,
      "outputs": []
    },
    {
      "cell_type": "code",
      "source": [
        "light_recs.to_json('/content/drive/MyDrive/AI/recsys/light_models.recs')"
      ],
      "metadata": {
        "id": "cl1S_kvckYAx"
      },
      "execution_count": null,
      "outputs": []
    },
    {
      "cell_type": "markdown",
      "metadata": {
        "id": "ldnJ3kUJP6jy"
      },
      "source": [
        "Каждая модель должна уметь:\n",
        "1) для пары user_item предсказывать скор релевантности (масштаб скора не важен), важно обработать случаи, когда модель не можеn проскорить пользователя или айтем, вместо этого вернуть какое-то дефолтное значение\n",
        "2) для всех пользователей вернуть top-k самых релевантных айтемов (тут вам скоры не нужны)\n",
        "\n",
        "\n",
        "Дополнительно можно провести анализ кандидат генератов, измерить насколько различные айтемы они рекомендуют, например с помощью таких метрик как: [Ranked based overlap](https://github.com/changyaochen/rbo) или различные вариации [Diversity](https://github.com/MaurizioFD/RecSys2019_DeepLearning_Evaluation/blob/master/Base/Evaluation/metrics.py#L289). **(1 балл)**"
      ]
    },
    {
      "cell_type": "code",
      "source": [
        "!pip install rbo -q"
      ],
      "metadata": {
        "id": "muRLvX4xxhGh"
      },
      "execution_count": null,
      "outputs": []
    },
    {
      "cell_type": "code",
      "source": [
        "import rbo\n",
        "\n",
        "light_recs = pd.read_json('/content/drive/MyDrive/AI/recsys/light_models.recs')"
      ],
      "metadata": {
        "id": "6_N9dgyoxiJf"
      },
      "execution_count": null,
      "outputs": []
    },
    {
      "cell_type": "code",
      "source": [
        "def get_score(a, b):\n",
        "  return rbo.RankingSimilarity(a, b).rbo()"
      ],
      "metadata": {
        "id": "PJAUbwhQl2_C"
      },
      "execution_count": null,
      "outputs": []
    },
    {
      "cell_type": "code",
      "source": [
        "light_recs.head(3)"
      ],
      "metadata": {
        "colab": {
          "base_uri": "https://localhost:8080/",
          "height": 143
        },
        "id": "q8zkFuKAl_So",
        "outputId": "397d7473-5690-459d-a2ef-cca6fbb8c918"
      },
      "execution_count": null,
      "outputs": [
        {
          "output_type": "execute_result",
          "data": {
            "text/plain": [
              "                                                 pop_items  \\\n",
              "363436   [13865, 15297, 3734, 9728, 142, 8636, 11237, 7...   \n",
              "1055286  [13865, 15297, 3734, 9728, 142, 8636, 11237, 7...   \n",
              "328281   [13865, 15297, 3734, 9728, 142, 8636, 11237, 7...   \n",
              "\n",
              "                                                  mf_items  \\\n",
              "363436   [12995, 7626, 12173, 4457, 16166, 10942, 3182,...   \n",
              "1055286  [7102, 1844, 4457, 7626, 12173, 12995, 7417, 4...   \n",
              "328281   [4495, 7626, 16166, 12173, 3182, 13865, 4151, ...   \n",
              "\n",
              "                                                  nn_items  \n",
              "363436   [9728, 10440, 3734, 15297, 8636, 11237, 1844, ...  \n",
              "1055286  [15297, 10440, 13865, 3734, 142, 1844, 8636, 6...  \n",
              "328281   [9728, 13865, 10440, 3734, 11237, 15297, 8636,...  "
            ],
            "text/html": [
              "\n",
              "  <div id=\"df-c08296aa-d374-4269-9afc-b3737c817920\" class=\"colab-df-container\">\n",
              "    <div>\n",
              "<style scoped>\n",
              "    .dataframe tbody tr th:only-of-type {\n",
              "        vertical-align: middle;\n",
              "    }\n",
              "\n",
              "    .dataframe tbody tr th {\n",
              "        vertical-align: top;\n",
              "    }\n",
              "\n",
              "    .dataframe thead th {\n",
              "        text-align: right;\n",
              "    }\n",
              "</style>\n",
              "<table border=\"1\" class=\"dataframe\">\n",
              "  <thead>\n",
              "    <tr style=\"text-align: right;\">\n",
              "      <th></th>\n",
              "      <th>pop_items</th>\n",
              "      <th>mf_items</th>\n",
              "      <th>nn_items</th>\n",
              "    </tr>\n",
              "  </thead>\n",
              "  <tbody>\n",
              "    <tr>\n",
              "      <th>363436</th>\n",
              "      <td>[13865, 15297, 3734, 9728, 142, 8636, 11237, 7...</td>\n",
              "      <td>[12995, 7626, 12173, 4457, 16166, 10942, 3182,...</td>\n",
              "      <td>[9728, 10440, 3734, 15297, 8636, 11237, 1844, ...</td>\n",
              "    </tr>\n",
              "    <tr>\n",
              "      <th>1055286</th>\n",
              "      <td>[13865, 15297, 3734, 9728, 142, 8636, 11237, 7...</td>\n",
              "      <td>[7102, 1844, 4457, 7626, 12173, 12995, 7417, 4...</td>\n",
              "      <td>[15297, 10440, 13865, 3734, 142, 1844, 8636, 6...</td>\n",
              "    </tr>\n",
              "    <tr>\n",
              "      <th>328281</th>\n",
              "      <td>[13865, 15297, 3734, 9728, 142, 8636, 11237, 7...</td>\n",
              "      <td>[4495, 7626, 16166, 12173, 3182, 13865, 4151, ...</td>\n",
              "      <td>[9728, 13865, 10440, 3734, 11237, 15297, 8636,...</td>\n",
              "    </tr>\n",
              "  </tbody>\n",
              "</table>\n",
              "</div>\n",
              "    <div class=\"colab-df-buttons\">\n",
              "\n",
              "  <div class=\"colab-df-container\">\n",
              "    <button class=\"colab-df-convert\" onclick=\"convertToInteractive('df-c08296aa-d374-4269-9afc-b3737c817920')\"\n",
              "            title=\"Convert this dataframe to an interactive table.\"\n",
              "            style=\"display:none;\">\n",
              "\n",
              "  <svg xmlns=\"http://www.w3.org/2000/svg\" height=\"24px\" viewBox=\"0 -960 960 960\">\n",
              "    <path d=\"M120-120v-720h720v720H120Zm60-500h600v-160H180v160Zm220 220h160v-160H400v160Zm0 220h160v-160H400v160ZM180-400h160v-160H180v160Zm440 0h160v-160H620v160ZM180-180h160v-160H180v160Zm440 0h160v-160H620v160Z\"/>\n",
              "  </svg>\n",
              "    </button>\n",
              "\n",
              "  <style>\n",
              "    .colab-df-container {\n",
              "      display:flex;\n",
              "      gap: 12px;\n",
              "    }\n",
              "\n",
              "    .colab-df-convert {\n",
              "      background-color: #E8F0FE;\n",
              "      border: none;\n",
              "      border-radius: 50%;\n",
              "      cursor: pointer;\n",
              "      display: none;\n",
              "      fill: #1967D2;\n",
              "      height: 32px;\n",
              "      padding: 0 0 0 0;\n",
              "      width: 32px;\n",
              "    }\n",
              "\n",
              "    .colab-df-convert:hover {\n",
              "      background-color: #E2EBFA;\n",
              "      box-shadow: 0px 1px 2px rgba(60, 64, 67, 0.3), 0px 1px 3px 1px rgba(60, 64, 67, 0.15);\n",
              "      fill: #174EA6;\n",
              "    }\n",
              "\n",
              "    .colab-df-buttons div {\n",
              "      margin-bottom: 4px;\n",
              "    }\n",
              "\n",
              "    [theme=dark] .colab-df-convert {\n",
              "      background-color: #3B4455;\n",
              "      fill: #D2E3FC;\n",
              "    }\n",
              "\n",
              "    [theme=dark] .colab-df-convert:hover {\n",
              "      background-color: #434B5C;\n",
              "      box-shadow: 0px 1px 3px 1px rgba(0, 0, 0, 0.15);\n",
              "      filter: drop-shadow(0px 1px 2px rgba(0, 0, 0, 0.3));\n",
              "      fill: #FFFFFF;\n",
              "    }\n",
              "  </style>\n",
              "\n",
              "    <script>\n",
              "      const buttonEl =\n",
              "        document.querySelector('#df-c08296aa-d374-4269-9afc-b3737c817920 button.colab-df-convert');\n",
              "      buttonEl.style.display =\n",
              "        google.colab.kernel.accessAllowed ? 'block' : 'none';\n",
              "\n",
              "      async function convertToInteractive(key) {\n",
              "        const element = document.querySelector('#df-c08296aa-d374-4269-9afc-b3737c817920');\n",
              "        const dataTable =\n",
              "          await google.colab.kernel.invokeFunction('convertToInteractive',\n",
              "                                                    [key], {});\n",
              "        if (!dataTable) return;\n",
              "\n",
              "        const docLinkHtml = 'Like what you see? Visit the ' +\n",
              "          '<a target=\"_blank\" href=https://colab.research.google.com/notebooks/data_table.ipynb>data table notebook</a>'\n",
              "          + ' to learn more about interactive tables.';\n",
              "        element.innerHTML = '';\n",
              "        dataTable['output_type'] = 'display_data';\n",
              "        await google.colab.output.renderOutput(dataTable, element);\n",
              "        const docLink = document.createElement('div');\n",
              "        docLink.innerHTML = docLinkHtml;\n",
              "        element.appendChild(docLink);\n",
              "      }\n",
              "    </script>\n",
              "  </div>\n",
              "\n",
              "\n",
              "<div id=\"df-5420be99-825e-4b14-a22b-ec6f0f2a67e0\">\n",
              "  <button class=\"colab-df-quickchart\" onclick=\"quickchart('df-5420be99-825e-4b14-a22b-ec6f0f2a67e0')\"\n",
              "            title=\"Suggest charts\"\n",
              "            style=\"display:none;\">\n",
              "\n",
              "<svg xmlns=\"http://www.w3.org/2000/svg\" height=\"24px\"viewBox=\"0 0 24 24\"\n",
              "     width=\"24px\">\n",
              "    <g>\n",
              "        <path d=\"M19 3H5c-1.1 0-2 .9-2 2v14c0 1.1.9 2 2 2h14c1.1 0 2-.9 2-2V5c0-1.1-.9-2-2-2zM9 17H7v-7h2v7zm4 0h-2V7h2v10zm4 0h-2v-4h2v4z\"/>\n",
              "    </g>\n",
              "</svg>\n",
              "  </button>\n",
              "\n",
              "<style>\n",
              "  .colab-df-quickchart {\n",
              "      --bg-color: #E8F0FE;\n",
              "      --fill-color: #1967D2;\n",
              "      --hover-bg-color: #E2EBFA;\n",
              "      --hover-fill-color: #174EA6;\n",
              "      --disabled-fill-color: #AAA;\n",
              "      --disabled-bg-color: #DDD;\n",
              "  }\n",
              "\n",
              "  [theme=dark] .colab-df-quickchart {\n",
              "      --bg-color: #3B4455;\n",
              "      --fill-color: #D2E3FC;\n",
              "      --hover-bg-color: #434B5C;\n",
              "      --hover-fill-color: #FFFFFF;\n",
              "      --disabled-bg-color: #3B4455;\n",
              "      --disabled-fill-color: #666;\n",
              "  }\n",
              "\n",
              "  .colab-df-quickchart {\n",
              "    background-color: var(--bg-color);\n",
              "    border: none;\n",
              "    border-radius: 50%;\n",
              "    cursor: pointer;\n",
              "    display: none;\n",
              "    fill: var(--fill-color);\n",
              "    height: 32px;\n",
              "    padding: 0;\n",
              "    width: 32px;\n",
              "  }\n",
              "\n",
              "  .colab-df-quickchart:hover {\n",
              "    background-color: var(--hover-bg-color);\n",
              "    box-shadow: 0 1px 2px rgba(60, 64, 67, 0.3), 0 1px 3px 1px rgba(60, 64, 67, 0.15);\n",
              "    fill: var(--button-hover-fill-color);\n",
              "  }\n",
              "\n",
              "  .colab-df-quickchart-complete:disabled,\n",
              "  .colab-df-quickchart-complete:disabled:hover {\n",
              "    background-color: var(--disabled-bg-color);\n",
              "    fill: var(--disabled-fill-color);\n",
              "    box-shadow: none;\n",
              "  }\n",
              "\n",
              "  .colab-df-spinner {\n",
              "    border: 2px solid var(--fill-color);\n",
              "    border-color: transparent;\n",
              "    border-bottom-color: var(--fill-color);\n",
              "    animation:\n",
              "      spin 1s steps(1) infinite;\n",
              "  }\n",
              "\n",
              "  @keyframes spin {\n",
              "    0% {\n",
              "      border-color: transparent;\n",
              "      border-bottom-color: var(--fill-color);\n",
              "      border-left-color: var(--fill-color);\n",
              "    }\n",
              "    20% {\n",
              "      border-color: transparent;\n",
              "      border-left-color: var(--fill-color);\n",
              "      border-top-color: var(--fill-color);\n",
              "    }\n",
              "    30% {\n",
              "      border-color: transparent;\n",
              "      border-left-color: var(--fill-color);\n",
              "      border-top-color: var(--fill-color);\n",
              "      border-right-color: var(--fill-color);\n",
              "    }\n",
              "    40% {\n",
              "      border-color: transparent;\n",
              "      border-right-color: var(--fill-color);\n",
              "      border-top-color: var(--fill-color);\n",
              "    }\n",
              "    60% {\n",
              "      border-color: transparent;\n",
              "      border-right-color: var(--fill-color);\n",
              "    }\n",
              "    80% {\n",
              "      border-color: transparent;\n",
              "      border-right-color: var(--fill-color);\n",
              "      border-bottom-color: var(--fill-color);\n",
              "    }\n",
              "    90% {\n",
              "      border-color: transparent;\n",
              "      border-bottom-color: var(--fill-color);\n",
              "    }\n",
              "  }\n",
              "</style>\n",
              "\n",
              "  <script>\n",
              "    async function quickchart(key) {\n",
              "      const quickchartButtonEl =\n",
              "        document.querySelector('#' + key + ' button');\n",
              "      quickchartButtonEl.disabled = true;  // To prevent multiple clicks.\n",
              "      quickchartButtonEl.classList.add('colab-df-spinner');\n",
              "      try {\n",
              "        const charts = await google.colab.kernel.invokeFunction(\n",
              "            'suggestCharts', [key], {});\n",
              "      } catch (error) {\n",
              "        console.error('Error during call to suggestCharts:', error);\n",
              "      }\n",
              "      quickchartButtonEl.classList.remove('colab-df-spinner');\n",
              "      quickchartButtonEl.classList.add('colab-df-quickchart-complete');\n",
              "    }\n",
              "    (() => {\n",
              "      let quickchartButtonEl =\n",
              "        document.querySelector('#df-5420be99-825e-4b14-a22b-ec6f0f2a67e0 button');\n",
              "      quickchartButtonEl.style.display =\n",
              "        google.colab.kernel.accessAllowed ? 'block' : 'none';\n",
              "    })();\n",
              "  </script>\n",
              "</div>\n",
              "    </div>\n",
              "  </div>\n"
            ],
            "application/vnd.google.colaboratory.intrinsic+json": {
              "type": "dataframe",
              "variable_name": "light_recs"
            }
          },
          "metadata": {},
          "execution_count": 94
        }
      ]
    },
    {
      "cell_type": "code",
      "source": [
        "topp_mf_scores = []\n",
        "topp_nn_scores = []\n",
        "nn_mf_scores = []\n",
        "\n",
        "for _, row in light_recs.iterrows():\n",
        "  if row.pop_items is not None and row.mf_items is not None:\n",
        "    topp_mf_scores.append(get_score(row.pop_items, row.mf_items))\n",
        "  if row.pop_items is not None and row.nn_items is not None:\n",
        "      topp_nn_scores.append(get_score(row.pop_items, row.nn_items))\n",
        "  if row.mf_items is not None and row.nn_items is not None:\n",
        "      nn_mf_scores.append(get_score(row.nn_items, row.mf_items))"
      ],
      "metadata": {
        "id": "dWm5TRq3xjkx"
      },
      "execution_count": null,
      "outputs": []
    },
    {
      "cell_type": "code",
      "source": [
        "pd.DataFrame(\n",
        "    [\n",
        "        {'approaches': 'heuristic x mf', 'mean_score': np.mean(topp_mf_scores), 'median_score': np.median(topp_mf_scores)},\n",
        "        {'approaches': 'heuristic x nn', 'mean_score': np.mean(topp_nn_scores), 'median_score': np.median(topp_nn_scores)},\n",
        "        {'approaches': 'nn x mf', 'mean_score': np.mean(nn_mf_scores), 'median_score': np.median(nn_mf_scores)}\n",
        "    ]\n",
        ")"
      ],
      "metadata": {
        "colab": {
          "base_uri": "https://localhost:8080/",
          "height": 143
        },
        "id": "po93nzAVmenX",
        "outputId": "002ddbf1-dd3a-4365-ea00-ca01e8c6922e"
      },
      "execution_count": null,
      "outputs": [
        {
          "output_type": "execute_result",
          "data": {
            "text/plain": [
              "       approaches  mean_score  median_score\n",
              "0  heuristic x mf    0.083076      0.047897\n",
              "1  heuristic x nn    0.518648      0.557976\n",
              "2         nn x mf    0.117060      0.057897"
            ],
            "text/html": [
              "\n",
              "  <div id=\"df-37718c58-c65c-4726-9fc4-fc653eecb347\" class=\"colab-df-container\">\n",
              "    <div>\n",
              "<style scoped>\n",
              "    .dataframe tbody tr th:only-of-type {\n",
              "        vertical-align: middle;\n",
              "    }\n",
              "\n",
              "    .dataframe tbody tr th {\n",
              "        vertical-align: top;\n",
              "    }\n",
              "\n",
              "    .dataframe thead th {\n",
              "        text-align: right;\n",
              "    }\n",
              "</style>\n",
              "<table border=\"1\" class=\"dataframe\">\n",
              "  <thead>\n",
              "    <tr style=\"text-align: right;\">\n",
              "      <th></th>\n",
              "      <th>approaches</th>\n",
              "      <th>mean_score</th>\n",
              "      <th>median_score</th>\n",
              "    </tr>\n",
              "  </thead>\n",
              "  <tbody>\n",
              "    <tr>\n",
              "      <th>0</th>\n",
              "      <td>heuristic x mf</td>\n",
              "      <td>0.083076</td>\n",
              "      <td>0.047897</td>\n",
              "    </tr>\n",
              "    <tr>\n",
              "      <th>1</th>\n",
              "      <td>heuristic x nn</td>\n",
              "      <td>0.518648</td>\n",
              "      <td>0.557976</td>\n",
              "    </tr>\n",
              "    <tr>\n",
              "      <th>2</th>\n",
              "      <td>nn x mf</td>\n",
              "      <td>0.117060</td>\n",
              "      <td>0.057897</td>\n",
              "    </tr>\n",
              "  </tbody>\n",
              "</table>\n",
              "</div>\n",
              "    <div class=\"colab-df-buttons\">\n",
              "\n",
              "  <div class=\"colab-df-container\">\n",
              "    <button class=\"colab-df-convert\" onclick=\"convertToInteractive('df-37718c58-c65c-4726-9fc4-fc653eecb347')\"\n",
              "            title=\"Convert this dataframe to an interactive table.\"\n",
              "            style=\"display:none;\">\n",
              "\n",
              "  <svg xmlns=\"http://www.w3.org/2000/svg\" height=\"24px\" viewBox=\"0 -960 960 960\">\n",
              "    <path d=\"M120-120v-720h720v720H120Zm60-500h600v-160H180v160Zm220 220h160v-160H400v160Zm0 220h160v-160H400v160ZM180-400h160v-160H180v160Zm440 0h160v-160H620v160ZM180-180h160v-160H180v160Zm440 0h160v-160H620v160Z\"/>\n",
              "  </svg>\n",
              "    </button>\n",
              "\n",
              "  <style>\n",
              "    .colab-df-container {\n",
              "      display:flex;\n",
              "      gap: 12px;\n",
              "    }\n",
              "\n",
              "    .colab-df-convert {\n",
              "      background-color: #E8F0FE;\n",
              "      border: none;\n",
              "      border-radius: 50%;\n",
              "      cursor: pointer;\n",
              "      display: none;\n",
              "      fill: #1967D2;\n",
              "      height: 32px;\n",
              "      padding: 0 0 0 0;\n",
              "      width: 32px;\n",
              "    }\n",
              "\n",
              "    .colab-df-convert:hover {\n",
              "      background-color: #E2EBFA;\n",
              "      box-shadow: 0px 1px 2px rgba(60, 64, 67, 0.3), 0px 1px 3px 1px rgba(60, 64, 67, 0.15);\n",
              "      fill: #174EA6;\n",
              "    }\n",
              "\n",
              "    .colab-df-buttons div {\n",
              "      margin-bottom: 4px;\n",
              "    }\n",
              "\n",
              "    [theme=dark] .colab-df-convert {\n",
              "      background-color: #3B4455;\n",
              "      fill: #D2E3FC;\n",
              "    }\n",
              "\n",
              "    [theme=dark] .colab-df-convert:hover {\n",
              "      background-color: #434B5C;\n",
              "      box-shadow: 0px 1px 3px 1px rgba(0, 0, 0, 0.15);\n",
              "      filter: drop-shadow(0px 1px 2px rgba(0, 0, 0, 0.3));\n",
              "      fill: #FFFFFF;\n",
              "    }\n",
              "  </style>\n",
              "\n",
              "    <script>\n",
              "      const buttonEl =\n",
              "        document.querySelector('#df-37718c58-c65c-4726-9fc4-fc653eecb347 button.colab-df-convert');\n",
              "      buttonEl.style.display =\n",
              "        google.colab.kernel.accessAllowed ? 'block' : 'none';\n",
              "\n",
              "      async function convertToInteractive(key) {\n",
              "        const element = document.querySelector('#df-37718c58-c65c-4726-9fc4-fc653eecb347');\n",
              "        const dataTable =\n",
              "          await google.colab.kernel.invokeFunction('convertToInteractive',\n",
              "                                                    [key], {});\n",
              "        if (!dataTable) return;\n",
              "\n",
              "        const docLinkHtml = 'Like what you see? Visit the ' +\n",
              "          '<a target=\"_blank\" href=https://colab.research.google.com/notebooks/data_table.ipynb>data table notebook</a>'\n",
              "          + ' to learn more about interactive tables.';\n",
              "        element.innerHTML = '';\n",
              "        dataTable['output_type'] = 'display_data';\n",
              "        await google.colab.output.renderOutput(dataTable, element);\n",
              "        const docLink = document.createElement('div');\n",
              "        docLink.innerHTML = docLinkHtml;\n",
              "        element.appendChild(docLink);\n",
              "      }\n",
              "    </script>\n",
              "  </div>\n",
              "\n",
              "\n",
              "<div id=\"df-23b812f3-f388-480e-a118-708b4ec3aeb3\">\n",
              "  <button class=\"colab-df-quickchart\" onclick=\"quickchart('df-23b812f3-f388-480e-a118-708b4ec3aeb3')\"\n",
              "            title=\"Suggest charts\"\n",
              "            style=\"display:none;\">\n",
              "\n",
              "<svg xmlns=\"http://www.w3.org/2000/svg\" height=\"24px\"viewBox=\"0 0 24 24\"\n",
              "     width=\"24px\">\n",
              "    <g>\n",
              "        <path d=\"M19 3H5c-1.1 0-2 .9-2 2v14c0 1.1.9 2 2 2h14c1.1 0 2-.9 2-2V5c0-1.1-.9-2-2-2zM9 17H7v-7h2v7zm4 0h-2V7h2v10zm4 0h-2v-4h2v4z\"/>\n",
              "    </g>\n",
              "</svg>\n",
              "  </button>\n",
              "\n",
              "<style>\n",
              "  .colab-df-quickchart {\n",
              "      --bg-color: #E8F0FE;\n",
              "      --fill-color: #1967D2;\n",
              "      --hover-bg-color: #E2EBFA;\n",
              "      --hover-fill-color: #174EA6;\n",
              "      --disabled-fill-color: #AAA;\n",
              "      --disabled-bg-color: #DDD;\n",
              "  }\n",
              "\n",
              "  [theme=dark] .colab-df-quickchart {\n",
              "      --bg-color: #3B4455;\n",
              "      --fill-color: #D2E3FC;\n",
              "      --hover-bg-color: #434B5C;\n",
              "      --hover-fill-color: #FFFFFF;\n",
              "      --disabled-bg-color: #3B4455;\n",
              "      --disabled-fill-color: #666;\n",
              "  }\n",
              "\n",
              "  .colab-df-quickchart {\n",
              "    background-color: var(--bg-color);\n",
              "    border: none;\n",
              "    border-radius: 50%;\n",
              "    cursor: pointer;\n",
              "    display: none;\n",
              "    fill: var(--fill-color);\n",
              "    height: 32px;\n",
              "    padding: 0;\n",
              "    width: 32px;\n",
              "  }\n",
              "\n",
              "  .colab-df-quickchart:hover {\n",
              "    background-color: var(--hover-bg-color);\n",
              "    box-shadow: 0 1px 2px rgba(60, 64, 67, 0.3), 0 1px 3px 1px rgba(60, 64, 67, 0.15);\n",
              "    fill: var(--button-hover-fill-color);\n",
              "  }\n",
              "\n",
              "  .colab-df-quickchart-complete:disabled,\n",
              "  .colab-df-quickchart-complete:disabled:hover {\n",
              "    background-color: var(--disabled-bg-color);\n",
              "    fill: var(--disabled-fill-color);\n",
              "    box-shadow: none;\n",
              "  }\n",
              "\n",
              "  .colab-df-spinner {\n",
              "    border: 2px solid var(--fill-color);\n",
              "    border-color: transparent;\n",
              "    border-bottom-color: var(--fill-color);\n",
              "    animation:\n",
              "      spin 1s steps(1) infinite;\n",
              "  }\n",
              "\n",
              "  @keyframes spin {\n",
              "    0% {\n",
              "      border-color: transparent;\n",
              "      border-bottom-color: var(--fill-color);\n",
              "      border-left-color: var(--fill-color);\n",
              "    }\n",
              "    20% {\n",
              "      border-color: transparent;\n",
              "      border-left-color: var(--fill-color);\n",
              "      border-top-color: var(--fill-color);\n",
              "    }\n",
              "    30% {\n",
              "      border-color: transparent;\n",
              "      border-left-color: var(--fill-color);\n",
              "      border-top-color: var(--fill-color);\n",
              "      border-right-color: var(--fill-color);\n",
              "    }\n",
              "    40% {\n",
              "      border-color: transparent;\n",
              "      border-right-color: var(--fill-color);\n",
              "      border-top-color: var(--fill-color);\n",
              "    }\n",
              "    60% {\n",
              "      border-color: transparent;\n",
              "      border-right-color: var(--fill-color);\n",
              "    }\n",
              "    80% {\n",
              "      border-color: transparent;\n",
              "      border-right-color: var(--fill-color);\n",
              "      border-bottom-color: var(--fill-color);\n",
              "    }\n",
              "    90% {\n",
              "      border-color: transparent;\n",
              "      border-bottom-color: var(--fill-color);\n",
              "    }\n",
              "  }\n",
              "</style>\n",
              "\n",
              "  <script>\n",
              "    async function quickchart(key) {\n",
              "      const quickchartButtonEl =\n",
              "        document.querySelector('#' + key + ' button');\n",
              "      quickchartButtonEl.disabled = true;  // To prevent multiple clicks.\n",
              "      quickchartButtonEl.classList.add('colab-df-spinner');\n",
              "      try {\n",
              "        const charts = await google.colab.kernel.invokeFunction(\n",
              "            'suggestCharts', [key], {});\n",
              "      } catch (error) {\n",
              "        console.error('Error during call to suggestCharts:', error);\n",
              "      }\n",
              "      quickchartButtonEl.classList.remove('colab-df-spinner');\n",
              "      quickchartButtonEl.classList.add('colab-df-quickchart-complete');\n",
              "    }\n",
              "    (() => {\n",
              "      let quickchartButtonEl =\n",
              "        document.querySelector('#df-23b812f3-f388-480e-a118-708b4ec3aeb3 button');\n",
              "      quickchartButtonEl.style.display =\n",
              "        google.colab.kernel.accessAllowed ? 'block' : 'none';\n",
              "    })();\n",
              "  </script>\n",
              "</div>\n",
              "    </div>\n",
              "  </div>\n"
            ],
            "application/vnd.google.colaboratory.intrinsic+json": {
              "type": "dataframe",
              "summary": "{\n  \"name\": \")\",\n  \"rows\": 3,\n  \"fields\": [\n    {\n      \"column\": \"approaches\",\n      \"properties\": {\n        \"dtype\": \"string\",\n        \"num_unique_values\": 3,\n        \"samples\": [\n          \"heuristic x mf\",\n          \"heuristic x nn\",\n          \"nn x mf\"\n        ],\n        \"semantic_type\": \"\",\n        \"description\": \"\"\n      }\n    },\n    {\n      \"column\": \"mean_score\",\n      \"properties\": {\n        \"dtype\": \"number\",\n        \"std\": 0.2422639129367069,\n        \"min\": 0.08307568168953208,\n        \"max\": 0.51864771266769,\n        \"num_unique_values\": 3,\n        \"samples\": [\n          0.08307568168953208,\n          0.51864771266769,\n          0.11705972519140717\n        ],\n        \"semantic_type\": \"\",\n        \"description\": \"\"\n      }\n    },\n    {\n      \"column\": \"median_score\",\n      \"properties\": {\n        \"dtype\": \"number\",\n        \"std\": 0.29165057004857414,\n        \"min\": 0.047896825396825396,\n        \"max\": 0.5579761904761906,\n        \"num_unique_values\": 3,\n        \"samples\": [\n          0.047896825396825396,\n          0.5579761904761906,\n          0.05789682539682539\n        ],\n        \"semantic_type\": \"\",\n        \"description\": \"\"\n      }\n    }\n  ]\n}"
            }
          },
          "metadata": {},
          "execution_count": 97
        }
      ]
    },
    {
      "cell_type": "markdown",
      "source": [
        "Что интересно, BERT и toppopular показали самые близкие результаты"
      ],
      "metadata": {
        "id": "V1LVhaVLnI5y"
      }
    },
    {
      "cell_type": "markdown",
      "metadata": {
        "id": "HcDoTkYTP6jz"
      },
      "source": [
        "\n",
        "### 2 Этап. Генерация и сборка признаков. (max 2 балла)\n",
        "Необходимо собрать минимум 10 осмысленных (`np.radndom.rand()` не подойдет) признаков, при этом:\n",
        "1. 2 должны относиться только к сущности \"пользователь\" (например средний % просмотра фильмов у этой возрастной категории)\n",
        "2. 2 должны относиться только к сущности \"айтем\" (например средний средний % просмотра данного фильма)\n",
        "3. 6 признаков, которые показывают связь пользователя и айтема (например средний % просмотра фильмов с данным актером (айтем) у пользователей с таким же полом (пользователь)).\n",
        "\n",
        "### ВАЖНО!  \n",
        "\n",
        "1. **В датасете есть колонка `watched_prct`. Ее можно использовать для генерации признаков (например сколько пользователь в среднем смотрит фильмы), но нельзя подавать в модель, как отдельную фичу, потому что она напрямую связана с target.**\n",
        "2. **Все признаки должны быть собраны без дата лика, то есть если пользователь посмотрел фильм 10 августа, то признаки мы можем считать только на данных до 9 августа включительно.**\n",
        "\n",
        "\n",
        "### Разбалловка\n",
        "Обучение ранкера будет проходить на `valid_stage_1`, как  раз на которой мы валидировали модели, а тестировать на `test`. Поэтому есть 2 варианта сборки признаков, **реализовать нужно только 1 из них:**\n",
        "1. Для обучения собираем признаки на первый день `valid_stage_1`, а для теста на первый день `test`. Например, если `valid_stage_1` начинается 5 сентября, то все признаки мы можем собирать только по 4 сентября включительно. **(1 балл)**\n",
        "2. Признаки будем собирать честно на каждый день, то есть на 5 сентября собираем с начала до 4, на 6 сентября с начала до 5 и т.д. **(2 балла)**"
      ]
    },
    {
      "cell_type": "code",
      "source": [
        "users = pd.read_csv('/content/drive/MyDrive/AI/recsys/users.csv')\n",
        "items = pd.read_csv('/content/drive/MyDrive/AI/recsys/items.csv')[\n",
        "    ['item_id', 'content_type', 'release_year', 'genres', 'countries', 'age_rating', 'directors', 'actors']\n",
        "]"
      ],
      "metadata": {
        "id": "wA0ks8rVqITi"
      },
      "execution_count": null,
      "outputs": []
    },
    {
      "cell_type": "markdown",
      "source": [
        "#### train"
      ],
      "metadata": {
        "id": "Vh-pbyt5yXF9"
      }
    },
    {
      "cell_type": "code",
      "source": [
        "train_feartures_users = train_stage_1\\\n",
        "  .groupby('user_id')\\\n",
        "  .agg({'watched_pct': 'mean'})\\\n",
        "  .reset_index()\\\n",
        "  .merge(users, 'left', on='user_id')\n",
        "\n",
        "age = train_feartures_users.groupby('age').agg({'watched_pct': 'mean'}).watched_pct.to_dict()\n",
        "income = train_feartures_users.groupby('income').agg({'watched_pct': 'mean'}).watched_pct.to_dict()"
      ],
      "metadata": {
        "id": "_cGVvHUduDSV"
      },
      "execution_count": null,
      "outputs": []
    },
    {
      "cell_type": "code",
      "source": [
        "train_feartures_items = train_stage_1\\\n",
        "  .groupby('item_id')\\\n",
        "  .agg({'watched_pct': 'mean'})\\\n",
        "  .reset_index()\\\n",
        "  .merge(items, 'left', on='item_id')\n",
        "\n",
        "content_type = train_feartures_items.groupby('content_type').agg({'watched_pct': 'mean'}).watched_pct.to_dict()\n",
        "age_rating = train_feartures_items.groupby('age_rating').agg({'watched_pct': 'mean'}).watched_pct.to_dict()"
      ],
      "metadata": {
        "id": "HSDRQc_DvRhP"
      },
      "execution_count": null,
      "outputs": []
    },
    {
      "cell_type": "code",
      "source": [
        "train_feartures_combined = train_stage_1\\\n",
        "  .merge(items, 'left', on='item_id')\\\n",
        "  .merge(users, 'left', on='user_id')\n",
        "\n",
        "train_feartures_combined['decade'] = train_feartures_combined.release_year // 10\n",
        "train_feartures_combined['director'] = train_feartures_combined.directors.apply(lambda x: x.split(', ')[0] if isinstance(x, str) else x)\n",
        "train_feartures_combined['country'] = train_feartures_combined.countries.apply(lambda x: x.split(', ')[0] if isinstance(x, str) else x)\n",
        "train_feartures_combined['genre'] = train_feartures_combined.genres.apply(lambda x: x.split(', ')[0] if isinstance(x, str) else x)\n",
        "train_feartures_combined['actor'] = train_feartures_combined.actors.apply(lambda x: x.split(', ')[0] if isinstance(x, str) else x)\n",
        "\n",
        "age_decade = train_feartures_combined.groupby(['age', 'decade']).agg({'watched_pct': 'mean'}).watched_pct.to_dict()\n",
        "kids_age_rating = train_feartures_combined.groupby(['kids_flg', 'age_rating']).agg({'watched_pct': 'mean'}).watched_pct.to_dict()\n",
        "income_country = train_feartures_combined.groupby(['income', 'country']).agg({'watched_pct': 'mean'}).watched_pct.to_dict()\n",
        "sex_director = train_feartures_combined.groupby(['sex', 'director']).agg({'watched_pct': 'mean'}).watched_pct.to_dict()\n",
        "age_genre = train_feartures_combined.groupby(['age', 'genre']).agg({'watched_pct': 'mean'}).watched_pct.to_dict()\n",
        "sex_actor = train_feartures_combined.groupby(['sex', 'actor']).agg({'watched_pct': 'mean'}).watched_pct.to_dict()"
      ],
      "metadata": {
        "id": "xCw1APoGvsq3"
      },
      "execution_count": null,
      "outputs": []
    },
    {
      "cell_type": "code",
      "source": [
        "val_feartures_combined = valid_stage_1\\\n",
        "  .merge(items, 'left', on='item_id')\\\n",
        "  .merge(users, 'left', on='user_id')"
      ],
      "metadata": {
        "id": "MADOeNhAxdVO"
      },
      "execution_count": null,
      "outputs": []
    },
    {
      "cell_type": "code",
      "source": [
        "%%capture\n",
        "valid_stage_1['age'] = val_feartures_combined.age.map(age).values\n",
        "valid_stage_1['income'] = val_feartures_combined.income.map(income).values\n",
        "valid_stage_1['content_type'] = val_feartures_combined.content_type.map(content_type).values\n",
        "valid_stage_1['age_rating'] = val_feartures_combined.age_rating.map(age_rating).values\n",
        "\n",
        "valid_stage_1['age_decade'] = val_feartures_combined.apply(\n",
        "    lambda x: age_decade.get((x.age, x.release_year // 10)),\n",
        "    axis=1\n",
        ").values\n",
        "valid_stage_1['kids_age_rating'] = val_feartures_combined.apply(\n",
        "    lambda x: kids_age_rating.get((x.kids_flg, x.age_rating)),\n",
        "    axis=1\n",
        ").values\n",
        "valid_stage_1['income_country'] = val_feartures_combined.apply(\n",
        "    lambda x: income_country.get((x.income, (x.countries if isinstance(x.countries, str) else '').split(', ')[0])),\n",
        "    axis=1\n",
        ").values\n",
        "valid_stage_1['sex_director'] = val_feartures_combined.apply(\n",
        "    lambda x: sex_director.get((x.sex, (x.directors if isinstance(x.directors, str) else '').split(', ')[0])),\n",
        "    axis=1\n",
        ").values\n",
        "valid_stage_1['age_genre'] = val_feartures_combined.apply(\n",
        "    lambda x: age_genre.get((x.age, (x.genres if isinstance(x.genres, str) else '').split(', ')[0])),\n",
        "    axis=1\n",
        ").values\n",
        "valid_stage_1['sex_actor'] = val_feartures_combined.apply(\n",
        "    lambda x: sex_actor.get((x.sex, (x.actors if isinstance(x.actors, str) else '').split(', ')[0])),\n",
        "    axis=1\n",
        ").values"
      ],
      "metadata": {
        "id": "0Rj1Lz9Sv7I8"
      },
      "execution_count": null,
      "outputs": []
    },
    {
      "cell_type": "code",
      "source": [
        "def get_mf_score(row):\n",
        "    if row.user_id not in warm_users:\n",
        "      return 0\n",
        "    items, scores = my_matrix_factorization.recommend(\n",
        "          row.user_id,\n",
        "          user_item_matrix[row.user_id],\n",
        "          N=user_item_matrix.shape[1]\n",
        "    )\n",
        "    if row.item_id not in items:\n",
        "      return 0\n",
        "    item_score_idx = np.where(items == row.item_id)[0].item()\n",
        "    return scores[item_score_idx]\n",
        "\n",
        "def get_nn_score(row):\n",
        "    if row.user_id not in warmer_users:\n",
        "      return 0\n",
        "    df = my_neural_network.recommend(\n",
        "          [row.user_id],\n",
        "          dataset,\n",
        "          k=len(dataset.item_id_map.external_ids),\n",
        "          filter_viewed=False\n",
        "    )\n",
        "\n",
        "    item_row = df[df.item_id == row.item_id]\n",
        "    if len(item_row) != 1:\n",
        "      return 0\n",
        "    return item_row.score.item()"
      ],
      "metadata": {
        "id": "mrg8TSSrTELQ"
      },
      "execution_count": null,
      "outputs": []
    },
    {
      "cell_type": "code",
      "source": [
        "nn_recs = my_neural_network.recommend(\n",
        "      warmer_users,\n",
        "      dataset,\n",
        "      k=len(dataset.item_id_map.external_ids),\n",
        "      filter_viewed=False\n",
        ")"
      ],
      "metadata": {
        "id": "oJlw_nEIQp4J"
      },
      "execution_count": null,
      "outputs": []
    },
    {
      "cell_type": "code",
      "source": [
        "valid_stage_1['heuristic_score'] = valid_stage_1.item_id.apply(lambda x: heuristic.score(x) if x in heuristic.preds.index else 0)\n",
        "valid_stage_1['mf_score'] = valid_stage_1.apply(get_mf_score, axis=1)\n",
        "valid_stage_1['nn_score'] = valid_stage_1.apply(get_nn_score, axis=1)"
      ],
      "metadata": {
        "id": "x_v8ZdzRn95P"
      },
      "execution_count": null,
      "outputs": []
    },
    {
      "cell_type": "code",
      "source": [
        "valid_stage_1.to_json('/content/drive/MyDrive/AI/recsys/train_df_with_features.recs')"
      ],
      "metadata": {
        "id": "IPxtwqYzWHpS"
      },
      "execution_count": null,
      "outputs": []
    },
    {
      "cell_type": "markdown",
      "source": [
        "#### test"
      ],
      "metadata": {
        "id": "NWPP--V3WhYp"
      }
    },
    {
      "cell_type": "code",
      "source": [
        "test = pd.read_csv('/content/drive/MyDrive/AI/recsys/test_part.csv')"
      ],
      "metadata": {
        "id": "Enem04JjXcfR"
      },
      "execution_count": null,
      "outputs": []
    },
    {
      "cell_type": "code",
      "source": [
        "test_feartures_users = train\\\n",
        "  .groupby('user_id')\\\n",
        "  .agg({'watched_pct': 'mean'})\\\n",
        "  .reset_index()\\\n",
        "  .merge(users, 'left', on='user_id')\n",
        "\n",
        "age = test_feartures_users.groupby('age').agg({'watched_pct': 'mean'}).watched_pct.to_dict()\n",
        "income = test_feartures_users.groupby('income').agg({'watched_pct': 'mean'}).watched_pct.to_dict()"
      ],
      "metadata": {
        "id": "wwtn-R5rWw51"
      },
      "execution_count": null,
      "outputs": []
    },
    {
      "cell_type": "code",
      "source": [
        "test_feartures_items = train\\\n",
        "  .groupby('item_id')\\\n",
        "  .agg({'watched_pct': 'mean'})\\\n",
        "  .reset_index()\\\n",
        "  .merge(items, 'left', on='item_id')\n",
        "\n",
        "content_type = test_feartures_items.groupby('content_type').agg({'watched_pct': 'mean'}).watched_pct.to_dict()\n",
        "age_rating = test_feartures_items.groupby('age_rating').agg({'watched_pct': 'mean'}).watched_pct.to_dict()"
      ],
      "metadata": {
        "id": "HioQuJamWw52"
      },
      "execution_count": null,
      "outputs": []
    },
    {
      "cell_type": "code",
      "source": [
        "test_feartures_combined = train\\\n",
        "  .merge(items, 'left', on='item_id')\\\n",
        "  .merge(users, 'left', on='user_id')\n",
        "\n",
        "test_feartures_combined['decade'] = test_feartures_combined.release_year // 10\n",
        "test_feartures_combined['director'] = test_feartures_combined.directors.apply(lambda x: x.split(', ')[0] if isinstance(x, str) else x)\n",
        "test_feartures_combined['country'] = test_feartures_combined.countries.apply(lambda x: x.split(', ')[0] if isinstance(x, str) else x)\n",
        "test_feartures_combined['genre'] = test_feartures_combined.genres.apply(lambda x: x.split(', ')[0] if isinstance(x, str) else x)\n",
        "test_feartures_combined['actor'] = test_feartures_combined.actors.apply(lambda x: x.split(', ')[0] if isinstance(x, str) else x)\n",
        "\n",
        "age_decade = test_feartures_combined.groupby(['age', 'decade']).agg({'watched_pct': 'mean'}).watched_pct.to_dict()\n",
        "kids_age_rating = test_feartures_combined.groupby(['kids_flg', 'age_rating']).agg({'watched_pct': 'mean'}).watched_pct.to_dict()\n",
        "income_country = test_feartures_combined.groupby(['income', 'country']).agg({'watched_pct': 'mean'}).watched_pct.to_dict()\n",
        "sex_director = test_feartures_combined.groupby(['sex', 'director']).agg({'watched_pct': 'mean'}).watched_pct.to_dict()\n",
        "age_genre = test_feartures_combined.groupby(['age', 'genre']).agg({'watched_pct': 'mean'}).watched_pct.to_dict()\n",
        "sex_actor = test_feartures_combined.groupby(['sex', 'actor']).agg({'watched_pct': 'mean'}).watched_pct.to_dict()"
      ],
      "metadata": {
        "id": "Q4rUrVbSWw53"
      },
      "execution_count": null,
      "outputs": []
    },
    {
      "cell_type": "code",
      "source": [
        "train_feartures_combined = train\\\n",
        "  .merge(items, 'left', on='item_id')\\\n",
        "  .merge(users, 'left', on='user_id')"
      ],
      "metadata": {
        "id": "ww6hw8PNWw53"
      },
      "execution_count": null,
      "outputs": []
    },
    {
      "cell_type": "code",
      "source": [
        "%%capture\n",
        "test['age'] = train_feartures_combined.age.map(age).values\n",
        "test['income'] = train_feartures_combined.income.map(income).values\n",
        "test['content_type'] = train_feartures_combined.content_type.map(content_type).values\n",
        "test['age_rating'] = train_feartures_combined.age_rating.map(age_rating).values\n",
        "\n",
        "test['age_decade'] = train_feartures_combined.apply(\n",
        "    lambda x: age_decade.get((x.age, x.release_year // 10)),\n",
        "    axis=1\n",
        ").values\n",
        "test['kids_age_rating'] = train_feartures_combined.apply(\n",
        "    lambda x: kids_age_rating.get((x.kids_flg, x.age_rating)),\n",
        "    axis=1\n",
        ").values\n",
        "test['income_country'] = train_feartures_combined.apply(\n",
        "    lambda x: income_country.get((x.income, (x.countries if isinstance(x.countries, str) else '').split(', ')[0])),\n",
        "    axis=1\n",
        ").values\n",
        "test['sex_director'] = train_feartures_combined.apply(\n",
        "    lambda x: sex_director.get((x.sex, (x.directors if isinstance(x.directors, str) else '').split(', ')[0])),\n",
        "    axis=1\n",
        ").values\n",
        "test['age_genre'] = train_feartures_combined.apply(\n",
        "    lambda x: age_genre.get((x.age, (x.genres if isinstance(x.genres, str) else '').split(', ')[0])),\n",
        "    axis=1\n",
        ").values\n",
        "test['sex_actor'] = train_feartures_combined.apply(\n",
        "    lambda x: sex_actor.get((x.sex, (x.actors if isinstance(x.actors, str) else '').split(', ')[0])),\n",
        "    axis=1\n",
        ").values"
      ],
      "metadata": {
        "id": "hvmGvV-gWw53"
      },
      "execution_count": null,
      "outputs": []
    },
    {
      "cell_type": "code",
      "source": [
        "test['heuristic_score'] = test.item_id.apply(lambda x: heuristic.score(x) if x in heuristic.preds.index else 0)\n",
        "test['mf_score'] = test.apply(get_mf_score, axis=1)\n",
        "test['nn_score'] = test.apply(get_nn_score, axis=1)"
      ],
      "metadata": {
        "id": "avljnxghWw53"
      },
      "execution_count": null,
      "outputs": []
    },
    {
      "cell_type": "code",
      "source": [
        "test.to_json('/content/drive/MyDrive/AI/recsys/test_df_with_features.recs')"
      ],
      "metadata": {
        "id": "WDHKxzQsWw53"
      },
      "execution_count": null,
      "outputs": []
    },
    {
      "cell_type": "markdown",
      "source": [
        "#### load dfs"
      ],
      "metadata": {
        "id": "-HRcUUpcYL7j"
      }
    },
    {
      "cell_type": "code",
      "execution_count": null,
      "metadata": {
        "id": "ugFcf6s_P6jz"
      },
      "outputs": [],
      "source": [
        "train_df_with_features = pd.read_json('/content/drive/MyDrive/AI/recsys/train_df_with_features.recs')\n",
        "test_df_with_features = pd.read_json('/content/drive/MyDrive/AI/recsys/test_df_with_features.recs')"
      ]
    },
    {
      "cell_type": "markdown",
      "metadata": {
        "id": "wdHFAPQYP6j0"
      },
      "source": [
        "\n",
        "### 3 Этап. Обучение финального ранкера (max 2 балла)\n",
        "Собрав все признаки из этапа 2, добавив скоры моделей из этапа 1 для каждой пары пользователь-айтем (где это возможно), пришло время обучать ранкер. В качестве ранкера можно использовать либо [xgboost](https://xgboost.readthedocs.io/en/stable/) или [catboost](https://catboost.ai/). Обучать можно как `Classfier`, так и `Ranker`, выбираем то, что лучше сработает. Обучение ранкера будет проходить на `valid_stage_1`, как  раз на которой мы валидировали модели, а тестировать на `test`, которую мы до сих пор не трогали.  Заметьте, что у нас в тесте есть холодные пользователи – те, кого не было в train и активные – те, кто был в train. Возможно их стоит обработать по отдельности (а может и нет).  \n",
        "(1 балл)\n",
        "\n",
        "После получения лучшей модели надо посмотреть на важность признаков и [shap values](https://shap.readthedocs.io/en/latest/index.html), чтобы:\n",
        "1. Интерпритировать признаки, которые вы собрали, насколько они полезные\n",
        "2. Проверить наличие ликов – если важность фичи в 100 раз больше, чем у всех остальных, то явно что-то не то  \n",
        "\n",
        "(1 балл)\n",
        "\n",
        "\n",
        "\n",
        "\n"
      ]
    },
    {
      "cell_type": "code",
      "source": [
        "!pip install catboost -q"
      ],
      "metadata": {
        "colab": {
          "base_uri": "https://localhost:8080/"
        },
        "id": "thoPzugxcLnX",
        "outputId": "9d3901a6-d5c2-464b-c5a4-295265fc549c"
      },
      "execution_count": null,
      "outputs": [
        {
          "output_type": "stream",
          "name": "stdout",
          "text": [
            "\u001b[2K     \u001b[90m━━━━━━━━━━━━━━━━━━━━━━━━━━━━━━━━━━━━━━━━\u001b[0m \u001b[32m61.0/61.0 kB\u001b[0m \u001b[31m1.2 MB/s\u001b[0m eta \u001b[36m0:00:00\u001b[0m\n",
            "\u001b[2K   \u001b[90m━━━━━━━━━━━━━━━━━━━━━━━━━━━━━━━━━━━━━━━━\u001b[0m \u001b[32m98.7/98.7 MB\u001b[0m \u001b[31m8.3 MB/s\u001b[0m eta \u001b[36m0:00:00\u001b[0m\n",
            "\u001b[2K   \u001b[90m━━━━━━━━━━━━━━━━━━━━━━━━━━━━━━━━━━━━━━━━\u001b[0m \u001b[32m18.3/18.3 MB\u001b[0m \u001b[31m50.1 MB/s\u001b[0m eta \u001b[36m0:00:00\u001b[0m\n",
            "\u001b[?25h"
          ]
        }
      ]
    },
    {
      "cell_type": "code",
      "source": [
        "from catboost import CatBoostClassifier\n",
        "\n",
        "model = CatBoostClassifier()"
      ],
      "metadata": {
        "id": "mvmzPiOlcYrU"
      },
      "execution_count": null,
      "outputs": []
    },
    {
      "cell_type": "code",
      "execution_count": null,
      "metadata": {
        "id": "a6t1o5kwP6j0"
      },
      "outputs": [],
      "source": [
        "model.fit(train_df_with_features.drop(columns='target'), train_df_with_features.target)\n",
        "pred = model.predict(test_df_with_features.drop(columns='target'))"
      ]
    },
    {
      "cell_type": "markdown",
      "metadata": {
        "id": "WUyfBDxhP6j0"
      },
      "source": [
        "\n",
        "### 4 Этап. Инференс лучшего ранкера (max 3 балла)\n",
        "\n",
        "Теперь мы хотим построить рекомендации \"на завтра\", для этого нам нужно:\n",
        "\n",
        "1. Обучить модели первого уровня на всех (train+test) данных (0.5 балла)\n",
        "2. Для каждой модели первого уровня для каждого пользователя сгененировать N кандидатов (0.5 балла)\n",
        "3. \"Склеить\" всех кандидатов для каждого пользователя (дубли выкинуть), посчитать скоры от всех моделей (0.5 балла)\n",
        "4. Собрать фичи для ваших кандидатов (теперь можем считать признаки на всех данных) (0.5 балла)\n",
        "5. Проскорить всех кандидатов бустингом и оставить k лучших (0.5 балла)\n",
        "6. Посчитать разнообразие(Diversity) и построить график от Diversity(k) (0.5 балла)\n",
        "\n",
        "\n",
        "Все гиперпараметры (N, k) определяете только Вы!"
      ]
    },
    {
      "cell_type": "code",
      "execution_count": null,
      "metadata": {
        "id": "v75FoxifP6j1"
      },
      "outputs": [],
      "source": [
        "# YOUR CODE HERE"
      ]
    }
  ],
  "metadata": {
    "kernelspec": {
      "display_name": "Python 3",
      "name": "python3"
    },
    "language_info": {
      "codemirror_mode": {
        "name": "ipython",
        "version": 3
      },
      "file_extension": ".py",
      "mimetype": "text/x-python",
      "name": "python",
      "nbconvert_exporter": "python",
      "pygments_lexer": "ipython3",
      "version": "3.12.3"
    },
    "colab": {
      "provenance": [],
      "include_colab_link": true
    },
    "widgets": {
      "application/vnd.jupyter.widget-state+json": {
        "25ea8297079f434eaaf178b9f0aea72d": {
          "model_module": "@jupyter-widgets/controls",
          "model_name": "HBoxModel",
          "model_module_version": "1.5.0",
          "state": {
            "_dom_classes": [],
            "_model_module": "@jupyter-widgets/controls",
            "_model_module_version": "1.5.0",
            "_model_name": "HBoxModel",
            "_view_count": null,
            "_view_module": "@jupyter-widgets/controls",
            "_view_module_version": "1.5.0",
            "_view_name": "HBoxView",
            "box_style": "",
            "children": [
              "IPY_MODEL_32daed19a2354cb0b03b106562bd54cc",
              "IPY_MODEL_c9e25f61b3ad442390a8f8ea9310c2e4",
              "IPY_MODEL_f67e9f09d09f4223a9d9c9377dfaf63a"
            ],
            "layout": "IPY_MODEL_b0b11aa66420450fb934dc5fdc87c60c"
          }
        },
        "32daed19a2354cb0b03b106562bd54cc": {
          "model_module": "@jupyter-widgets/controls",
          "model_name": "HTMLModel",
          "model_module_version": "1.5.0",
          "state": {
            "_dom_classes": [],
            "_model_module": "@jupyter-widgets/controls",
            "_model_module_version": "1.5.0",
            "_model_name": "HTMLModel",
            "_view_count": null,
            "_view_module": "@jupyter-widgets/controls",
            "_view_module_version": "1.5.0",
            "_view_name": "HTMLView",
            "description": "",
            "description_tooltip": null,
            "layout": "IPY_MODEL_63a5be4a6e5d427f8b07001bbeaeee63",
            "placeholder": "​",
            "style": "IPY_MODEL_6db95c5239dd426da5a0bb728dd8ffee",
            "value": "100%"
          }
        },
        "c9e25f61b3ad442390a8f8ea9310c2e4": {
          "model_module": "@jupyter-widgets/controls",
          "model_name": "FloatProgressModel",
          "model_module_version": "1.5.0",
          "state": {
            "_dom_classes": [],
            "_model_module": "@jupyter-widgets/controls",
            "_model_module_version": "1.5.0",
            "_model_name": "FloatProgressModel",
            "_view_count": null,
            "_view_module": "@jupyter-widgets/controls",
            "_view_module_version": "1.5.0",
            "_view_name": "ProgressView",
            "bar_style": "success",
            "description": "",
            "description_tooltip": null,
            "layout": "IPY_MODEL_1f939cb74e0441d88a73faf73d9ada1e",
            "max": 15,
            "min": 0,
            "orientation": "horizontal",
            "style": "IPY_MODEL_1d62aa57633d4057af7b537fc8102602",
            "value": 15
          }
        },
        "f67e9f09d09f4223a9d9c9377dfaf63a": {
          "model_module": "@jupyter-widgets/controls",
          "model_name": "HTMLModel",
          "model_module_version": "1.5.0",
          "state": {
            "_dom_classes": [],
            "_model_module": "@jupyter-widgets/controls",
            "_model_module_version": "1.5.0",
            "_model_name": "HTMLModel",
            "_view_count": null,
            "_view_module": "@jupyter-widgets/controls",
            "_view_module_version": "1.5.0",
            "_view_name": "HTMLView",
            "description": "",
            "description_tooltip": null,
            "layout": "IPY_MODEL_34b92bea591249498f56fb8d2be7dd06",
            "placeholder": "​",
            "style": "IPY_MODEL_022ea9c661d54ccabff9ce26893496e6",
            "value": " 15/15 [09:54&lt;00:00, 35.66s/it, loss=0.000106]"
          }
        },
        "b0b11aa66420450fb934dc5fdc87c60c": {
          "model_module": "@jupyter-widgets/base",
          "model_name": "LayoutModel",
          "model_module_version": "1.2.0",
          "state": {
            "_model_module": "@jupyter-widgets/base",
            "_model_module_version": "1.2.0",
            "_model_name": "LayoutModel",
            "_view_count": null,
            "_view_module": "@jupyter-widgets/base",
            "_view_module_version": "1.2.0",
            "_view_name": "LayoutView",
            "align_content": null,
            "align_items": null,
            "align_self": null,
            "border": null,
            "bottom": null,
            "display": null,
            "flex": null,
            "flex_flow": null,
            "grid_area": null,
            "grid_auto_columns": null,
            "grid_auto_flow": null,
            "grid_auto_rows": null,
            "grid_column": null,
            "grid_gap": null,
            "grid_row": null,
            "grid_template_areas": null,
            "grid_template_columns": null,
            "grid_template_rows": null,
            "height": null,
            "justify_content": null,
            "justify_items": null,
            "left": null,
            "margin": null,
            "max_height": null,
            "max_width": null,
            "min_height": null,
            "min_width": null,
            "object_fit": null,
            "object_position": null,
            "order": null,
            "overflow": null,
            "overflow_x": null,
            "overflow_y": null,
            "padding": null,
            "right": null,
            "top": null,
            "visibility": null,
            "width": null
          }
        },
        "63a5be4a6e5d427f8b07001bbeaeee63": {
          "model_module": "@jupyter-widgets/base",
          "model_name": "LayoutModel",
          "model_module_version": "1.2.0",
          "state": {
            "_model_module": "@jupyter-widgets/base",
            "_model_module_version": "1.2.0",
            "_model_name": "LayoutModel",
            "_view_count": null,
            "_view_module": "@jupyter-widgets/base",
            "_view_module_version": "1.2.0",
            "_view_name": "LayoutView",
            "align_content": null,
            "align_items": null,
            "align_self": null,
            "border": null,
            "bottom": null,
            "display": null,
            "flex": null,
            "flex_flow": null,
            "grid_area": null,
            "grid_auto_columns": null,
            "grid_auto_flow": null,
            "grid_auto_rows": null,
            "grid_column": null,
            "grid_gap": null,
            "grid_row": null,
            "grid_template_areas": null,
            "grid_template_columns": null,
            "grid_template_rows": null,
            "height": null,
            "justify_content": null,
            "justify_items": null,
            "left": null,
            "margin": null,
            "max_height": null,
            "max_width": null,
            "min_height": null,
            "min_width": null,
            "object_fit": null,
            "object_position": null,
            "order": null,
            "overflow": null,
            "overflow_x": null,
            "overflow_y": null,
            "padding": null,
            "right": null,
            "top": null,
            "visibility": null,
            "width": null
          }
        },
        "6db95c5239dd426da5a0bb728dd8ffee": {
          "model_module": "@jupyter-widgets/controls",
          "model_name": "DescriptionStyleModel",
          "model_module_version": "1.5.0",
          "state": {
            "_model_module": "@jupyter-widgets/controls",
            "_model_module_version": "1.5.0",
            "_model_name": "DescriptionStyleModel",
            "_view_count": null,
            "_view_module": "@jupyter-widgets/base",
            "_view_module_version": "1.2.0",
            "_view_name": "StyleView",
            "description_width": ""
          }
        },
        "1f939cb74e0441d88a73faf73d9ada1e": {
          "model_module": "@jupyter-widgets/base",
          "model_name": "LayoutModel",
          "model_module_version": "1.2.0",
          "state": {
            "_model_module": "@jupyter-widgets/base",
            "_model_module_version": "1.2.0",
            "_model_name": "LayoutModel",
            "_view_count": null,
            "_view_module": "@jupyter-widgets/base",
            "_view_module_version": "1.2.0",
            "_view_name": "LayoutView",
            "align_content": null,
            "align_items": null,
            "align_self": null,
            "border": null,
            "bottom": null,
            "display": null,
            "flex": null,
            "flex_flow": null,
            "grid_area": null,
            "grid_auto_columns": null,
            "grid_auto_flow": null,
            "grid_auto_rows": null,
            "grid_column": null,
            "grid_gap": null,
            "grid_row": null,
            "grid_template_areas": null,
            "grid_template_columns": null,
            "grid_template_rows": null,
            "height": null,
            "justify_content": null,
            "justify_items": null,
            "left": null,
            "margin": null,
            "max_height": null,
            "max_width": null,
            "min_height": null,
            "min_width": null,
            "object_fit": null,
            "object_position": null,
            "order": null,
            "overflow": null,
            "overflow_x": null,
            "overflow_y": null,
            "padding": null,
            "right": null,
            "top": null,
            "visibility": null,
            "width": null
          }
        },
        "1d62aa57633d4057af7b537fc8102602": {
          "model_module": "@jupyter-widgets/controls",
          "model_name": "ProgressStyleModel",
          "model_module_version": "1.5.0",
          "state": {
            "_model_module": "@jupyter-widgets/controls",
            "_model_module_version": "1.5.0",
            "_model_name": "ProgressStyleModel",
            "_view_count": null,
            "_view_module": "@jupyter-widgets/base",
            "_view_module_version": "1.2.0",
            "_view_name": "StyleView",
            "bar_color": null,
            "description_width": ""
          }
        },
        "34b92bea591249498f56fb8d2be7dd06": {
          "model_module": "@jupyter-widgets/base",
          "model_name": "LayoutModel",
          "model_module_version": "1.2.0",
          "state": {
            "_model_module": "@jupyter-widgets/base",
            "_model_module_version": "1.2.0",
            "_model_name": "LayoutModel",
            "_view_count": null,
            "_view_module": "@jupyter-widgets/base",
            "_view_module_version": "1.2.0",
            "_view_name": "LayoutView",
            "align_content": null,
            "align_items": null,
            "align_self": null,
            "border": null,
            "bottom": null,
            "display": null,
            "flex": null,
            "flex_flow": null,
            "grid_area": null,
            "grid_auto_columns": null,
            "grid_auto_flow": null,
            "grid_auto_rows": null,
            "grid_column": null,
            "grid_gap": null,
            "grid_row": null,
            "grid_template_areas": null,
            "grid_template_columns": null,
            "grid_template_rows": null,
            "height": null,
            "justify_content": null,
            "justify_items": null,
            "left": null,
            "margin": null,
            "max_height": null,
            "max_width": null,
            "min_height": null,
            "min_width": null,
            "object_fit": null,
            "object_position": null,
            "order": null,
            "overflow": null,
            "overflow_x": null,
            "overflow_y": null,
            "padding": null,
            "right": null,
            "top": null,
            "visibility": null,
            "width": null
          }
        },
        "022ea9c661d54ccabff9ce26893496e6": {
          "model_module": "@jupyter-widgets/controls",
          "model_name": "DescriptionStyleModel",
          "model_module_version": "1.5.0",
          "state": {
            "_model_module": "@jupyter-widgets/controls",
            "_model_module_version": "1.5.0",
            "_model_name": "DescriptionStyleModel",
            "_view_count": null,
            "_view_module": "@jupyter-widgets/base",
            "_view_module_version": "1.2.0",
            "_view_name": "StyleView",
            "description_width": ""
          }
        }
      }
    }
  },
  "nbformat": 4,
  "nbformat_minor": 0
}