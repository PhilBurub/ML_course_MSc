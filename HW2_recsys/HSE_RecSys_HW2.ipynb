{
  "cells": [
    {
      "cell_type": "markdown",
      "metadata": {
        "id": "view-in-github",
        "colab_type": "text"
      },
      "source": [
        "<a href=\"https://colab.research.google.com/github/PhilBurub/ML_course_MSc/blob/main/HW2_recsys/HSE_RecSys_HW2.ipynb\" target=\"_parent\"><img src=\"https://colab.research.google.com/assets/colab-badge.svg\" alt=\"Open In Colab\"/></a>"
      ]
    },
    {
      "cell_type": "markdown",
      "id": "93831896-683d-4946-8cae-7aff56608a65",
      "metadata": {
        "id": "93831896-683d-4946-8cae-7aff56608a65"
      },
      "source": [
        "## ДЗ №2. Матричные факторизации"
      ]
    },
    {
      "cell_type": "markdown",
      "id": "03b424ec-3791-4113-a672-25ef7cfa704d",
      "metadata": {
        "id": "03b424ec-3791-4113-a672-25ef7cfa704d"
      },
      "source": [
        "#### В этой домашке вам предстоит реализовать некоторые базовые модели матричной факторизации\n",
        "\n",
        "#### Дата выдачи: 17.02.25\n",
        "\n",
        "#### Мягкий дедлайн: 02.03.25 23:59 MSK\n",
        "\n",
        "#### Жесткий дедлайн: 09.03.25 23:59 MSK"
      ]
    },
    {
      "cell_type": "markdown",
      "id": "d8f4b315-75b8-4225-953c-5510c584ff2b",
      "metadata": {
        "id": "d8f4b315-75b8-4225-953c-5510c584ff2b"
      },
      "source": [
        "В этом задании мы будем работать с классическим для рекоендательных систем датасетом [MovieLens 1M](https://grouplens.org/datasets/movielens/1m/). Датасет содержит рейтинги оценки для 4000 фильмов от 6000 пользователей. Более подробное описание можете найти на странице с датасетом и в README файле"
      ]
    },
    {
      "cell_type": "code",
      "execution_count": 108,
      "id": "f5a85f84-4854-4249-963d-143d08bb7e36",
      "metadata": {
        "id": "f5a85f84-4854-4249-963d-143d08bb7e36",
        "colab": {
          "base_uri": "https://localhost:8080/"
        },
        "outputId": "66c4b723-7459-4cbc-f6de-4066e06d79ba"
      },
      "outputs": [
        {
          "output_type": "stream",
          "name": "stdout",
          "text": [
            "--2025-03-01 12:05:09--  https://files.grouplens.org/datasets/movielens/ml-1m.zip\n",
            "Resolving files.grouplens.org (files.grouplens.org)... 128.101.65.152\n",
            "Connecting to files.grouplens.org (files.grouplens.org)|128.101.65.152|:443... connected.\n",
            "HTTP request sent, awaiting response... 200 OK\n",
            "Length: 5917549 (5.6M) [application/zip]\n",
            "Saving to: ‘ml-1m.zip.1’\n",
            "\n",
            "ml-1m.zip.1         100%[===================>]   5.64M  25.1MB/s    in 0.2s    \n",
            "\n",
            "2025-03-01 12:05:09 (25.1 MB/s) - ‘ml-1m.zip.1’ saved [5917549/5917549]\n",
            "\n",
            "Archive:  ml-1m.zip\n",
            "replace ml-1m/movies.dat? [y]es, [n]o, [A]ll, [N]one, [r]ename: SUMMARY\n",
            "================================================================================\n",
            "\n",
            "These files contain 1,000,209 anonymous ratings of approximately 3,900 movies \n",
            "made by 6,040 MovieLens users who joined MovieLens in 2000.\n",
            "\n",
            "USAGE LICENSE\n",
            "================================================================================\n",
            "\n",
            "Neither the University of Minnesota nor any of the researchers\n",
            "involved can guarantee the correctness of the data, its suitability\n",
            "for any particular purpose, or the validity of results based on the\n",
            "use of the data set.  The data set may be used for any research\n",
            "purposes under the following conditions:\n",
            "\n",
            "     * The user may not state or imply any endorsement from the\n",
            "       University of Minnesota or the GroupLens Research Group.\n",
            "\n",
            "     * The user must acknowledge the use of the data set in\n",
            "       publications resulting from the use of the data set\n",
            "       (see below for citation information).\n",
            "\n",
            "     * The user may not redistribute the data without separate\n",
            "       permission.\n",
            "\n",
            "     * The user may not use this information for any commercial or\n",
            "       revenue-bearing purposes without first obtaining permission\n",
            "       from a faculty member of the GroupLens Research Project at the\n",
            "       University of Minnesota.\n",
            "\n",
            "If you have any further questions or comments, please contact GroupLens\n",
            "<grouplens-info@cs.umn.edu>. \n",
            "\n",
            "CITATION\n",
            "================================================================================\n",
            "\n",
            "To acknowledge use of the dataset in publications, please cite the following\n",
            "paper:\n",
            "\n",
            "F. Maxwell Harper and Joseph A. Konstan. 2015. The MovieLens Datasets: History\n",
            "and Context. ACM Transactions on Interactive Intelligent Systems (TiiS) 5, 4,\n",
            "Article 19 (December 2015), 19 pages. DOI=http://dx.doi.org/10.1145/2827872\n",
            "\n",
            "\n",
            "ACKNOWLEDGEMENTS\n",
            "================================================================================\n",
            "\n",
            "Thanks to Shyong Lam and Jon Herlocker for cleaning up and generating the data\n",
            "set.\n",
            "\n",
            "FURTHER INFORMATION ABOUT THE GROUPLENS RESEARCH PROJECT\n",
            "================================================================================\n",
            "\n",
            "The GroupLens Research Project is a research group in the Department of \n",
            "Computer Science and Engineering at the University of Minnesota. Members of \n",
            "the GroupLens Research Project are involved in many research projects related \n",
            "to the fields of information filtering, collaborative filtering, and \n",
            "recommender systems. The project is lead by professors John Riedl and Joseph \n",
            "Konstan. The project began to explore automated collaborative filtering in \n",
            "1992, but is most well known for its world wide trial of an automated \n",
            "collaborative filtering system for Usenet news in 1996. Since then the project \n",
            "has expanded its scope to research overall information filtering solutions, \n",
            "integrating in content-based methods as well as improving current collaborative \n",
            "filtering technology.\n",
            "\n",
            "Further information on the GroupLens Research project, including research \n",
            "publications, can be found at the following web site:\n",
            "        \n",
            "        http://www.grouplens.org/\n",
            "\n",
            "GroupLens Research currently operates a movie recommender based on \n",
            "collaborative filtering:\n",
            "\n",
            "        http://www.movielens.org/\n",
            "\n",
            "RATINGS FILE DESCRIPTION\n",
            "================================================================================\n",
            "\n",
            "All ratings are contained in the file \"ratings.dat\" and are in the\n",
            "following format:\n",
            "\n",
            "UserID::MovieID::Rating::Timestamp\n",
            "\n",
            "- UserIDs range between 1 and 6040 \n",
            "- MovieIDs range between 1 and 3952\n",
            "- Ratings are made on a 5-star scale (whole-star ratings only)\n",
            "- Timestamp is represented in seconds since the epoch as returned by time(2)\n",
            "- Each user has at least 20 ratings\n",
            "\n",
            "USERS FILE DESCRIPTION\n",
            "================================================================================\n",
            "\n",
            "User information is in the file \"users.dat\" and is in the following\n",
            "format:\n",
            "\n",
            "UserID::Gender::Age::Occupation::Zip-code\n",
            "\n",
            "All demographic information is provided voluntarily by the users and is\n",
            "not checked for accuracy.  Only users who have provided some demographic\n",
            "information are included in this data set.\n",
            "\n",
            "- Gender is denoted by a \"M\" for male and \"F\" for female\n",
            "- Age is chosen from the following ranges:\n",
            "\n",
            "\t*  1:  \"Under 18\"\n",
            "\t* 18:  \"18-24\"\n",
            "\t* 25:  \"25-34\"\n",
            "\t* 35:  \"35-44\"\n",
            "\t* 45:  \"45-49\"\n",
            "\t* 50:  \"50-55\"\n",
            "\t* 56:  \"56+\"\n",
            "\n",
            "- Occupation is chosen from the following choices:\n",
            "\n",
            "\t*  0:  \"other\" or not specified\n",
            "\t*  1:  \"academic/educator\"\n",
            "\t*  2:  \"artist\"\n",
            "\t*  3:  \"clerical/admin\"\n",
            "\t*  4:  \"college/grad student\"\n",
            "\t*  5:  \"customer service\"\n",
            "\t*  6:  \"doctor/health care\"\n",
            "\t*  7:  \"executive/managerial\"\n",
            "\t*  8:  \"farmer\"\n",
            "\t*  9:  \"homemaker\"\n",
            "\t* 10:  \"K-12 student\"\n",
            "\t* 11:  \"lawyer\"\n",
            "\t* 12:  \"programmer\"\n",
            "\t* 13:  \"retired\"\n",
            "\t* 14:  \"sales/marketing\"\n",
            "\t* 15:  \"scientist\"\n",
            "\t* 16:  \"self-employed\"\n",
            "\t* 17:  \"technician/engineer\"\n",
            "\t* 18:  \"tradesman/craftsman\"\n",
            "\t* 19:  \"unemployed\"\n",
            "\t* 20:  \"writer\"\n",
            "\n",
            "MOVIES FILE DESCRIPTION\n",
            "================================================================================\n",
            "\n",
            "Movie information is in the file \"movies.dat\" and is in the following\n",
            "format:\n",
            "\n",
            "MovieID::Title::Genres\n",
            "\n",
            "- Titles are identical to titles provided by the IMDB (including\n",
            "year of release)\n",
            "- Genres are pipe-separated and are selected from the following genres:\n",
            "\n",
            "\t* Action\n",
            "\t* Adventure\n",
            "\t* Animation\n",
            "\t* Children's\n",
            "\t* Comedy\n",
            "\t* Crime\n",
            "\t* Documentary\n",
            "\t* Drama\n",
            "\t* Fantasy\n",
            "\t* Film-Noir\n",
            "\t* Horror\n",
            "\t* Musical\n",
            "\t* Mystery\n",
            "\t* Romance\n",
            "\t* Sci-Fi\n",
            "\t* Thriller\n",
            "\t* War\n",
            "\t* Western\n",
            "\n",
            "- Some MovieIDs do not correspond to a movie due to accidental duplicate\n",
            "entries and/or test entries\n",
            "- Movies are mostly entered by hand, so errors and inconsistencies may exist\n"
          ]
        }
      ],
      "source": [
        "!wget https://files.grouplens.org/datasets/movielens/ml-1m.zip\n",
        "!unzip ml-1m.zip\n",
        "!cat ml-1m/README"
      ]
    },
    {
      "cell_type": "code",
      "execution_count": 109,
      "id": "669137ca-f0f9-48d4-ae04-e42a4b0f8d14",
      "metadata": {
        "id": "669137ca-f0f9-48d4-ae04-e42a4b0f8d14"
      },
      "outputs": [],
      "source": [
        "import pandas as pd\n",
        "import numpy as np\n",
        "from typing import Union"
      ]
    },
    {
      "cell_type": "code",
      "execution_count": 110,
      "id": "ed65b0ae-ce2d-437a-9739-e7981011089f",
      "metadata": {
        "id": "ed65b0ae-ce2d-437a-9739-e7981011089f",
        "colab": {
          "base_uri": "https://localhost:8080/",
          "height": 206
        },
        "outputId": "289f7700-9426-4037-f5b6-4fa47d455d87"
      },
      "outputs": [
        {
          "output_type": "execute_result",
          "data": {
            "text/plain": [
              "   user_id  item_id  rating            datetime\n",
              "0        1     1193       5 2000-12-31 22:12:40\n",
              "1        1      661       3 2000-12-31 22:35:09\n",
              "2        1      914       3 2000-12-31 22:32:48\n",
              "3        1     3408       4 2000-12-31 22:04:35\n",
              "4        1     2355       5 2001-01-06 23:38:11"
            ],
            "text/html": [
              "\n",
              "  <div id=\"df-cef17437-0a23-47de-8a30-637c3520142b\" class=\"colab-df-container\">\n",
              "    <div>\n",
              "<style scoped>\n",
              "    .dataframe tbody tr th:only-of-type {\n",
              "        vertical-align: middle;\n",
              "    }\n",
              "\n",
              "    .dataframe tbody tr th {\n",
              "        vertical-align: top;\n",
              "    }\n",
              "\n",
              "    .dataframe thead th {\n",
              "        text-align: right;\n",
              "    }\n",
              "</style>\n",
              "<table border=\"1\" class=\"dataframe\">\n",
              "  <thead>\n",
              "    <tr style=\"text-align: right;\">\n",
              "      <th></th>\n",
              "      <th>user_id</th>\n",
              "      <th>item_id</th>\n",
              "      <th>rating</th>\n",
              "      <th>datetime</th>\n",
              "    </tr>\n",
              "  </thead>\n",
              "  <tbody>\n",
              "    <tr>\n",
              "      <th>0</th>\n",
              "      <td>1</td>\n",
              "      <td>1193</td>\n",
              "      <td>5</td>\n",
              "      <td>2000-12-31 22:12:40</td>\n",
              "    </tr>\n",
              "    <tr>\n",
              "      <th>1</th>\n",
              "      <td>1</td>\n",
              "      <td>661</td>\n",
              "      <td>3</td>\n",
              "      <td>2000-12-31 22:35:09</td>\n",
              "    </tr>\n",
              "    <tr>\n",
              "      <th>2</th>\n",
              "      <td>1</td>\n",
              "      <td>914</td>\n",
              "      <td>3</td>\n",
              "      <td>2000-12-31 22:32:48</td>\n",
              "    </tr>\n",
              "    <tr>\n",
              "      <th>3</th>\n",
              "      <td>1</td>\n",
              "      <td>3408</td>\n",
              "      <td>4</td>\n",
              "      <td>2000-12-31 22:04:35</td>\n",
              "    </tr>\n",
              "    <tr>\n",
              "      <th>4</th>\n",
              "      <td>1</td>\n",
              "      <td>2355</td>\n",
              "      <td>5</td>\n",
              "      <td>2001-01-06 23:38:11</td>\n",
              "    </tr>\n",
              "  </tbody>\n",
              "</table>\n",
              "</div>\n",
              "    <div class=\"colab-df-buttons\">\n",
              "\n",
              "  <div class=\"colab-df-container\">\n",
              "    <button class=\"colab-df-convert\" onclick=\"convertToInteractive('df-cef17437-0a23-47de-8a30-637c3520142b')\"\n",
              "            title=\"Convert this dataframe to an interactive table.\"\n",
              "            style=\"display:none;\">\n",
              "\n",
              "  <svg xmlns=\"http://www.w3.org/2000/svg\" height=\"24px\" viewBox=\"0 -960 960 960\">\n",
              "    <path d=\"M120-120v-720h720v720H120Zm60-500h600v-160H180v160Zm220 220h160v-160H400v160Zm0 220h160v-160H400v160ZM180-400h160v-160H180v160Zm440 0h160v-160H620v160ZM180-180h160v-160H180v160Zm440 0h160v-160H620v160Z\"/>\n",
              "  </svg>\n",
              "    </button>\n",
              "\n",
              "  <style>\n",
              "    .colab-df-container {\n",
              "      display:flex;\n",
              "      gap: 12px;\n",
              "    }\n",
              "\n",
              "    .colab-df-convert {\n",
              "      background-color: #E8F0FE;\n",
              "      border: none;\n",
              "      border-radius: 50%;\n",
              "      cursor: pointer;\n",
              "      display: none;\n",
              "      fill: #1967D2;\n",
              "      height: 32px;\n",
              "      padding: 0 0 0 0;\n",
              "      width: 32px;\n",
              "    }\n",
              "\n",
              "    .colab-df-convert:hover {\n",
              "      background-color: #E2EBFA;\n",
              "      box-shadow: 0px 1px 2px rgba(60, 64, 67, 0.3), 0px 1px 3px 1px rgba(60, 64, 67, 0.15);\n",
              "      fill: #174EA6;\n",
              "    }\n",
              "\n",
              "    .colab-df-buttons div {\n",
              "      margin-bottom: 4px;\n",
              "    }\n",
              "\n",
              "    [theme=dark] .colab-df-convert {\n",
              "      background-color: #3B4455;\n",
              "      fill: #D2E3FC;\n",
              "    }\n",
              "\n",
              "    [theme=dark] .colab-df-convert:hover {\n",
              "      background-color: #434B5C;\n",
              "      box-shadow: 0px 1px 3px 1px rgba(0, 0, 0, 0.15);\n",
              "      filter: drop-shadow(0px 1px 2px rgba(0, 0, 0, 0.3));\n",
              "      fill: #FFFFFF;\n",
              "    }\n",
              "  </style>\n",
              "\n",
              "    <script>\n",
              "      const buttonEl =\n",
              "        document.querySelector('#df-cef17437-0a23-47de-8a30-637c3520142b button.colab-df-convert');\n",
              "      buttonEl.style.display =\n",
              "        google.colab.kernel.accessAllowed ? 'block' : 'none';\n",
              "\n",
              "      async function convertToInteractive(key) {\n",
              "        const element = document.querySelector('#df-cef17437-0a23-47de-8a30-637c3520142b');\n",
              "        const dataTable =\n",
              "          await google.colab.kernel.invokeFunction('convertToInteractive',\n",
              "                                                    [key], {});\n",
              "        if (!dataTable) return;\n",
              "\n",
              "        const docLinkHtml = 'Like what you see? Visit the ' +\n",
              "          '<a target=\"_blank\" href=https://colab.research.google.com/notebooks/data_table.ipynb>data table notebook</a>'\n",
              "          + ' to learn more about interactive tables.';\n",
              "        element.innerHTML = '';\n",
              "        dataTable['output_type'] = 'display_data';\n",
              "        await google.colab.output.renderOutput(dataTable, element);\n",
              "        const docLink = document.createElement('div');\n",
              "        docLink.innerHTML = docLinkHtml;\n",
              "        element.appendChild(docLink);\n",
              "      }\n",
              "    </script>\n",
              "  </div>\n",
              "\n",
              "\n",
              "<div id=\"df-e9e43f42-0297-459f-a2f2-7efcea469f03\">\n",
              "  <button class=\"colab-df-quickchart\" onclick=\"quickchart('df-e9e43f42-0297-459f-a2f2-7efcea469f03')\"\n",
              "            title=\"Suggest charts\"\n",
              "            style=\"display:none;\">\n",
              "\n",
              "<svg xmlns=\"http://www.w3.org/2000/svg\" height=\"24px\"viewBox=\"0 0 24 24\"\n",
              "     width=\"24px\">\n",
              "    <g>\n",
              "        <path d=\"M19 3H5c-1.1 0-2 .9-2 2v14c0 1.1.9 2 2 2h14c1.1 0 2-.9 2-2V5c0-1.1-.9-2-2-2zM9 17H7v-7h2v7zm4 0h-2V7h2v10zm4 0h-2v-4h2v4z\"/>\n",
              "    </g>\n",
              "</svg>\n",
              "  </button>\n",
              "\n",
              "<style>\n",
              "  .colab-df-quickchart {\n",
              "      --bg-color: #E8F0FE;\n",
              "      --fill-color: #1967D2;\n",
              "      --hover-bg-color: #E2EBFA;\n",
              "      --hover-fill-color: #174EA6;\n",
              "      --disabled-fill-color: #AAA;\n",
              "      --disabled-bg-color: #DDD;\n",
              "  }\n",
              "\n",
              "  [theme=dark] .colab-df-quickchart {\n",
              "      --bg-color: #3B4455;\n",
              "      --fill-color: #D2E3FC;\n",
              "      --hover-bg-color: #434B5C;\n",
              "      --hover-fill-color: #FFFFFF;\n",
              "      --disabled-bg-color: #3B4455;\n",
              "      --disabled-fill-color: #666;\n",
              "  }\n",
              "\n",
              "  .colab-df-quickchart {\n",
              "    background-color: var(--bg-color);\n",
              "    border: none;\n",
              "    border-radius: 50%;\n",
              "    cursor: pointer;\n",
              "    display: none;\n",
              "    fill: var(--fill-color);\n",
              "    height: 32px;\n",
              "    padding: 0;\n",
              "    width: 32px;\n",
              "  }\n",
              "\n",
              "  .colab-df-quickchart:hover {\n",
              "    background-color: var(--hover-bg-color);\n",
              "    box-shadow: 0 1px 2px rgba(60, 64, 67, 0.3), 0 1px 3px 1px rgba(60, 64, 67, 0.15);\n",
              "    fill: var(--button-hover-fill-color);\n",
              "  }\n",
              "\n",
              "  .colab-df-quickchart-complete:disabled,\n",
              "  .colab-df-quickchart-complete:disabled:hover {\n",
              "    background-color: var(--disabled-bg-color);\n",
              "    fill: var(--disabled-fill-color);\n",
              "    box-shadow: none;\n",
              "  }\n",
              "\n",
              "  .colab-df-spinner {\n",
              "    border: 2px solid var(--fill-color);\n",
              "    border-color: transparent;\n",
              "    border-bottom-color: var(--fill-color);\n",
              "    animation:\n",
              "      spin 1s steps(1) infinite;\n",
              "  }\n",
              "\n",
              "  @keyframes spin {\n",
              "    0% {\n",
              "      border-color: transparent;\n",
              "      border-bottom-color: var(--fill-color);\n",
              "      border-left-color: var(--fill-color);\n",
              "    }\n",
              "    20% {\n",
              "      border-color: transparent;\n",
              "      border-left-color: var(--fill-color);\n",
              "      border-top-color: var(--fill-color);\n",
              "    }\n",
              "    30% {\n",
              "      border-color: transparent;\n",
              "      border-left-color: var(--fill-color);\n",
              "      border-top-color: var(--fill-color);\n",
              "      border-right-color: var(--fill-color);\n",
              "    }\n",
              "    40% {\n",
              "      border-color: transparent;\n",
              "      border-right-color: var(--fill-color);\n",
              "      border-top-color: var(--fill-color);\n",
              "    }\n",
              "    60% {\n",
              "      border-color: transparent;\n",
              "      border-right-color: var(--fill-color);\n",
              "    }\n",
              "    80% {\n",
              "      border-color: transparent;\n",
              "      border-right-color: var(--fill-color);\n",
              "      border-bottom-color: var(--fill-color);\n",
              "    }\n",
              "    90% {\n",
              "      border-color: transparent;\n",
              "      border-bottom-color: var(--fill-color);\n",
              "    }\n",
              "  }\n",
              "</style>\n",
              "\n",
              "  <script>\n",
              "    async function quickchart(key) {\n",
              "      const quickchartButtonEl =\n",
              "        document.querySelector('#' + key + ' button');\n",
              "      quickchartButtonEl.disabled = true;  // To prevent multiple clicks.\n",
              "      quickchartButtonEl.classList.add('colab-df-spinner');\n",
              "      try {\n",
              "        const charts = await google.colab.kernel.invokeFunction(\n",
              "            'suggestCharts', [key], {});\n",
              "      } catch (error) {\n",
              "        console.error('Error during call to suggestCharts:', error);\n",
              "      }\n",
              "      quickchartButtonEl.classList.remove('colab-df-spinner');\n",
              "      quickchartButtonEl.classList.add('colab-df-quickchart-complete');\n",
              "    }\n",
              "    (() => {\n",
              "      let quickchartButtonEl =\n",
              "        document.querySelector('#df-e9e43f42-0297-459f-a2f2-7efcea469f03 button');\n",
              "      quickchartButtonEl.style.display =\n",
              "        google.colab.kernel.accessAllowed ? 'block' : 'none';\n",
              "    })();\n",
              "  </script>\n",
              "</div>\n",
              "    </div>\n",
              "  </div>\n"
            ],
            "application/vnd.google.colaboratory.intrinsic+json": {
              "type": "dataframe",
              "variable_name": "df"
            }
          },
          "metadata": {},
          "execution_count": 110
        }
      ],
      "source": [
        "df = pd.read_csv(\"ml-1m/ratings.dat\", sep='::', names=['user_id', 'item_id', 'rating', 'timestamp'], engine='python')\n",
        "df['datetime'] = pd.to_datetime(df['timestamp'], unit='s')\n",
        "df.drop('timestamp', axis=1, inplace=True)\n",
        "df.head()"
      ]
    },
    {
      "cell_type": "code",
      "execution_count": 111,
      "id": "4988d476-542e-4a32-9c45-7a16bc2a5db5",
      "metadata": {
        "id": "4988d476-542e-4a32-9c45-7a16bc2a5db5"
      },
      "outputs": [],
      "source": [
        "value_counts = df['item_id'].value_counts()\n",
        "filtered_values = value_counts[value_counts > 20].index\n",
        "df = df[df['item_id'].isin(filtered_values)].copy()"
      ]
    },
    {
      "cell_type": "code",
      "execution_count": 112,
      "id": "1e05bd3b-ab2f-4c02-9a97-a4153e9550bc",
      "metadata": {
        "id": "1e05bd3b-ab2f-4c02-9a97-a4153e9550bc",
        "colab": {
          "base_uri": "https://localhost:8080/"
        },
        "outputId": "83322aee-235d-4920-9a39-34c8bc9079ad"
      },
      "outputs": [
        {
          "output_type": "execute_result",
          "data": {
            "text/plain": [
              "((787420, 4), (207432, 4))"
            ]
          },
          "metadata": {},
          "execution_count": 112
        }
      ],
      "source": [
        "train_end = '2000-12-01'\n",
        "df_train = df[df['datetime'] < train_end].copy()\n",
        "df_test = df[df['datetime'] >= train_end].copy()\n",
        "df_train.shape, df_test.shape"
      ]
    },
    {
      "cell_type": "code",
      "execution_count": 113,
      "id": "414b8ed7-20d6-4778-9d60-f9c8ccbfa7e3",
      "metadata": {
        "id": "414b8ed7-20d6-4778-9d60-f9c8ccbfa7e3",
        "colab": {
          "base_uri": "https://localhost:8080/"
        },
        "outputId": "1997ce1f-03d7-4c38-c277-1b4b8631128c"
      },
      "outputs": [
        {
          "output_type": "execute_result",
          "data": {
            "text/plain": [
              "(106471, 4)"
            ]
          },
          "metadata": {},
          "execution_count": 113
        }
      ],
      "source": [
        "train_users = df_train['user_id'].unique()\n",
        "train_items = df_train['item_id'].unique()\n",
        "\n",
        "df_test = df_test[df_test['user_id'].isin(train_users)]\n",
        "df_test = df_test[df_test['item_id'].isin(train_items)]\n",
        "df_test.shape"
      ]
    },
    {
      "cell_type": "code",
      "execution_count": 114,
      "id": "19f53d61-990c-4626-a470-7eefd06d2ec7",
      "metadata": {
        "id": "19f53d61-990c-4626-a470-7eefd06d2ec7"
      },
      "outputs": [],
      "source": [
        "from sklearn.preprocessing import LabelEncoder\n",
        "\n",
        "user_le = LabelEncoder()\n",
        "item_le = LabelEncoder()\n",
        "\n",
        "df_train['user_id'] = user_le.fit_transform(df_train['user_id'])\n",
        "df_train['item_id'] = item_le.fit_transform(df_train['item_id'])\n",
        "\n",
        "df_test['user_id'] = user_le.transform(df_test['user_id'])\n",
        "df_test['item_id'] = item_le.transform(df_test['item_id'])"
      ]
    },
    {
      "cell_type": "code",
      "execution_count": 115,
      "id": "f4ef3e2f-792d-4511-b4d0-74495d9cb30b",
      "metadata": {
        "id": "f4ef3e2f-792d-4511-b4d0-74495d9cb30b",
        "colab": {
          "base_uri": "https://localhost:8080/"
        },
        "outputId": "5ff97376-c2ca-40e4-bf10-db7e1f2ac6cf"
      },
      "outputs": [
        {
          "output_type": "execute_result",
          "data": {
            "text/plain": [
              "(3010, 3009)"
            ]
          },
          "metadata": {},
          "execution_count": 115
        }
      ],
      "source": [
        "df_train['user_id'].nunique(), df_train['user_id'].max()\n",
        "df_train['item_id'].nunique(), df_train['item_id'].max()"
      ]
    },
    {
      "cell_type": "markdown",
      "id": "3d356df8-9157-4752-b30d-dc80aba5e53c",
      "metadata": {
        "id": "3d356df8-9157-4752-b30d-dc80aba5e53c"
      },
      "source": [
        "##### Задание 1. Напишем функцию, которая превратит датафрейм в матрицу интеракций. В функции df_to_matrix реализуйте функцию, которая принимает датафрейм и возвращает np.array матрицу интеракций. В функции df_to_coo реализуйте функцию, которая принимает датафрейм и возвращает разреженную матрицу интеракций в coo_array формате"
      ]
    },
    {
      "cell_type": "code",
      "execution_count": 116,
      "id": "d38a7bb7-7f2d-4957-8dac-6397af9b1645",
      "metadata": {
        "id": "d38a7bb7-7f2d-4957-8dac-6397af9b1645"
      },
      "outputs": [],
      "source": [
        "def df_to_matrix(df: pd.DataFrame) -> np.ndarray:\n",
        "    result = np.zeros((\n",
        "        df.user_id.nunique(),\n",
        "        df.item_id.nunique()\n",
        "    ))\n",
        "    result[\n",
        "        df.user_id.values,\n",
        "        df.item_id.values\n",
        "    ] = df.rating.values\n",
        "    return result #shape ~ [n_users, n_items]"
      ]
    },
    {
      "cell_type": "code",
      "execution_count": 117,
      "id": "55362cbb-5e2d-455b-afd1-8507f1dd51ba",
      "metadata": {
        "id": "55362cbb-5e2d-455b-afd1-8507f1dd51ba"
      },
      "outputs": [],
      "source": [
        "interactions = df_to_matrix(df_train)"
      ]
    },
    {
      "cell_type": "code",
      "execution_count": 118,
      "id": "794b646d-a560-42dd-a466-87cad2589271",
      "metadata": {
        "id": "794b646d-a560-42dd-a466-87cad2589271"
      },
      "outputs": [],
      "source": [
        "from scipy.sparse import coo_array\n",
        "\n",
        "def df_to_coo(df: pd.DataFrame) -> coo_array:\n",
        "    shape = (\n",
        "        df_train.user_id.nunique(),\n",
        "        df_train.item_id.nunique()\n",
        "    )\n",
        "    coords = df_train[['user_id', 'item_id']].T.values\n",
        "\n",
        "    result = coo_array((df_train.rating.values, coords), shape=shape, dtype=float)\n",
        "    return result # coo_array"
      ]
    },
    {
      "cell_type": "code",
      "execution_count": 119,
      "id": "30f9c218-0419-41b2-a112-c2214fad1d99",
      "metadata": {
        "id": "30f9c218-0419-41b2-a112-c2214fad1d99"
      },
      "outputs": [],
      "source": [
        "coo_interactions = df_to_coo(df_train)"
      ]
    },
    {
      "cell_type": "code",
      "execution_count": 120,
      "id": "96b57a7a-0551-4f75-8047-fb9904ac93df",
      "metadata": {
        "id": "96b57a7a-0551-4f75-8047-fb9904ac93df"
      },
      "outputs": [],
      "source": [
        "assert (interactions != 0).sum() == df_train.shape[0]\n",
        "assert interactions[0, 2994] == 3\n",
        "assert interactions[2369, 1203] == 5\n",
        "assert interactions[1557, 459] == 3\n",
        "assert np.allclose(coo_interactions.toarray(), interactions)"
      ]
    },
    {
      "cell_type": "markdown",
      "id": "93b3862a-e62a-4ebe-a70c-29102e9f99fd",
      "metadata": {
        "id": "93b3862a-e62a-4ebe-a70c-29102e9f99fd"
      },
      "source": [
        "##### Задание 2.1. Рассмотрим [SVD](https://en.wikipedia.org/wiki/Singular_value_decomposition). Возьмите готовую реализуцию алгоритма из numpy.linalg или из scipy.linalg и примените алгоритм к матрицам интеракций, полученным в первом задании. Для работы со sparse матрицей обычная реализация svd не подойдет и нужно будет воспользоваться scipy.sparse.linalg.svds. Вам нужно разложить матрицу интеракций на 3 матрицы U, S, V, а затем перемножить их и восстановить изначальную матрицу. При полном разложении исходная матрица должна восстанавливаться максимально хорошо"
      ]
    },
    {
      "cell_type": "code",
      "source": [
        "from scipy.linalg import svd\n",
        "from scipy.sparse.linalg import svds"
      ],
      "metadata": {
        "id": "gwBG0hVa4vnO"
      },
      "id": "gwBG0hVa4vnO",
      "execution_count": 121,
      "outputs": []
    },
    {
      "cell_type": "code",
      "execution_count": 122,
      "id": "eead134a-9aac-4027-b0b8-592de614c3d0",
      "metadata": {
        "id": "eead134a-9aac-4027-b0b8-592de614c3d0"
      },
      "outputs": [],
      "source": [
        "def make_svd(interractions: Union[np.ndarray, coo_array], n_singular_values: int = -1):\n",
        "    # функция должна работать и для полной матрицы и для sparse матрицы(вам поможет isinstance).\n",
        "    # если n_singular_values = -1, то берем все сингулярные числа для полной матрицы\n",
        "    # и все кроме одного сингулярного числа для coo-матрицы(иначе scipy.sparse.linalg.svds не будет работать)\n",
        "    if isinstance(interractions, np.ndarray):\n",
        "        U, S_flat, V = svd(interactions)\n",
        "        if n_singular_values != -1:\n",
        "            idxs = S_flat.argsort()[-n_singular_values:]\n",
        "            U = U[:, idxs]\n",
        "            S_flat = S_flat[idxs]\n",
        "            V = V[idxs, :]\n",
        "\n",
        "    elif isinstance(interractions, coo_array):\n",
        "        U, S_flat, V = svds(\n",
        "            interractions,\n",
        "            k=min(*interractions.shape)-1 if n_singular_values==-1 else n_singular_values\n",
        "        )\n",
        "\n",
        "    S = np.zeros((U.shape[1], V.shape[0]))\n",
        "    filled_idxs = np.arange(S_flat.shape[0])\n",
        "    S[filled_idxs, filled_idxs] = S_flat\n",
        "\n",
        "    return U, S, V"
      ]
    },
    {
      "cell_type": "code",
      "execution_count": 123,
      "id": "5c5fecd4-4739-4f6b-9c9c-44bde8b66a34",
      "metadata": {
        "id": "5c5fecd4-4739-4f6b-9c9c-44bde8b66a34"
      },
      "outputs": [],
      "source": [
        "U, S, V = make_svd(interactions)\n",
        "assert np.allclose(U @ S @ V, interactions)"
      ]
    },
    {
      "cell_type": "code",
      "execution_count": 124,
      "id": "c5a5f59e-3832-4a7d-95b4-856531582bbd",
      "metadata": {
        "id": "c5a5f59e-3832-4a7d-95b4-856531582bbd"
      },
      "outputs": [],
      "source": [
        "U1, S1, V1 = make_svd(interactions, 10)\n",
        "U, S, V = make_svd(coo_interactions, 10)\n",
        "assert np.allclose(U1 @ S1 @ V1, U @ S @ V)"
      ]
    },
    {
      "cell_type": "markdown",
      "id": "9443daa6-e9f1-414a-8107-5a3016452929",
      "metadata": {
        "id": "9443daa6-e9f1-414a-8107-5a3016452929"
      },
      "source": [
        "##### Задание 2.2. Теперь попробуем сделать рекомендации с помощью SVD. Мы научились восстанавливать исходную матрицу с помощью разложения, теперь же мы хотим порекомендовать пользователю айтемы, которые будут для него максимально релевантны(в восстановленной матрице у них будет самый высокий скор). Для каждого пользователя нужно будет найти индексы айтемов, которые имеют максимальный скор. При этом стоит обратить внимание, что мы не хотим рекомендовать пользователю айтемы, с которыми он уже взаимодействовал"
      ]
    },
    {
      "cell_type": "code",
      "execution_count": 125,
      "id": "787da18f-48d0-4dfa-b18f-b7e97cc98a4f",
      "metadata": {
        "id": "787da18f-48d0-4dfa-b18f-b7e97cc98a4f"
      },
      "outputs": [],
      "source": [
        "def make_svd_recommendations(interractions: Union[np.ndarray, coo_array], n_singular_values: int = -1, top_k: int = 100):\n",
        "    # Возвращает матрицу вида n_users, top_k, то есть для каждого пользователя возвращаем индексы\n",
        "    # top_k самых релевантный айтемов среди тех с которыми он еще не взаимодействовал\n",
        "\n",
        "    U, S, V = make_svd(interractions, n_singular_values)\n",
        "    new_matrix = U @ S @ V\n",
        "    recommendations_matrix = np.where(\n",
        "        interractions==0 if isinstance(interractions, np.ndarray) else interractions.toarray()==0,\n",
        "        new_matrix,\n",
        "        -float('inf')\n",
        "    )\n",
        "\n",
        "    num_items = interractions.shape[1]\n",
        "    recommendations = recommendations_matrix.argsort()[:, :num_items-top_k-1:-1]\n",
        "\n",
        "    return recommendations #shape ~ [n_users, top_k]"
      ]
    },
    {
      "cell_type": "code",
      "execution_count": 126,
      "id": "ec72f3dd-c8f2-4434-b84e-ef016c4773a1",
      "metadata": {
        "id": "ec72f3dd-c8f2-4434-b84e-ef016c4773a1"
      },
      "outputs": [],
      "source": [
        "recs = make_svd_recommendations(interactions, -1, 100)\n",
        "assert recs.shape == (interactions.shape[0], 100)"
      ]
    },
    {
      "cell_type": "markdown",
      "id": "f5d0b788-855a-4fd9-8cbb-38c0dd289ef5",
      "metadata": {
        "id": "f5d0b788-855a-4fd9-8cbb-38c0dd289ef5"
      },
      "source": [
        "##### Задание 2.3. Теперь давайте посмотрим как будет зависеть качетво рекомендаций, от количества сингулярных чисел, которые мы возьмем в SVD разложении. Переберите n_singular_values из списка [1, 10, 50, 200, 1000] и посмотрите как будет изменяться метрика NDCG на тестовом датасете для таких рекомендаций и как будет меняться время вычисления. Для каждого графики зависимости метрики NDCG от n_singular_values и времени работы алгоритма от n_singular_values(Время работы будет меняться только для sparse-матрицы, стоит запускать алгоритм именно для нее)"
      ]
    },
    {
      "cell_type": "code",
      "source": [
        "import time\n",
        "from sklearn.metrics import ndcg_score\n",
        "from matplotlib import pyplot as plt"
      ],
      "metadata": {
        "id": "3mAy8Td9Wvw5"
      },
      "id": "3mAy8Td9Wvw5",
      "execution_count": 127,
      "outputs": []
    },
    {
      "cell_type": "code",
      "source": [
        "def ndcg(gt_scores, pred_items):\n",
        "    num_users = gt_scores.shape[0]\n",
        "    num_items = gt_scores.shape[1]\n",
        "    top_k = pred_items.shape[1]\n",
        "\n",
        "    k_rel_scores = gt_scores[\n",
        "        np.expand_dims(np.arange(num_users), axis=-1),\n",
        "        pred_items\n",
        "    ]\n",
        "    penalty = np.log2(np.arange(top_k) + 2)\n",
        "    dcg = (k_rel_scores / penalty).sum(axis=1)\n",
        "\n",
        "\n",
        "    best_pred = gt_scores.argsort()[:, :num_items-top_k-1:-1]\n",
        "    max_rel_scores = gt_scores[\n",
        "        np.expand_dims(np.arange(num_users), axis=-1),\n",
        "        best_pred\n",
        "    ]\n",
        "    idcg = (max_rel_scores / penalty).sum(axis=1)\n",
        "\n",
        "    return np.where(idcg>0, np.divide(dcg, idcg, where=idcg>0), 0)"
      ],
      "metadata": {
        "id": "VYCgxrzbYumt"
      },
      "id": "VYCgxrzbYumt",
      "execution_count": 128,
      "outputs": []
    },
    {
      "cell_type": "code",
      "source": [
        "gt_scores = np.zeros(interactions.shape)\n",
        "gt_scores[\n",
        "    df_test.user_id.values,\n",
        "    df_test.item_id.values\n",
        "] = df_test.rating.values"
      ],
      "metadata": {
        "id": "N9z52duuhgxU"
      },
      "id": "N9z52duuhgxU",
      "execution_count": 129,
      "outputs": []
    },
    {
      "cell_type": "code",
      "execution_count": 130,
      "id": "06f931fd-0eb0-4965-9e02-e005ed545c71",
      "metadata": {
        "id": "06f931fd-0eb0-4965-9e02-e005ed545c71"
      },
      "outputs": [],
      "source": [
        "def plot_graphs(interractions: Union[np.ndarray, coo_array], top_k: int = 100):\n",
        "    values = []\n",
        "    time_s = []\n",
        "    metric = []\n",
        "    for n_singular_values in [1, 10, 50, 200, 1000]:\n",
        "        values.append(n_singular_values)\n",
        "\n",
        "        start = time.time()\n",
        "        recs = make_svd_recommendations(interractions, n_singular_values=n_singular_values, top_k=top_k)\n",
        "        time_s.append(time.time() - start)\n",
        "\n",
        "        metric.append(ndcg(gt_scores, recs).mean())\n",
        "\n",
        "    fig, (timeplot, metric_plot) = plt.subplots(2, 1, sharex=True)\n",
        "    timeplot.plot(values, time_s)\n",
        "    timeplot.set_ylabel('duration, s')\n",
        "    timeplot.set_title('Learn and Prediction Duration by n_singular_values')\n",
        "\n",
        "    metric_plot.plot(values, metric)\n",
        "    metric_plot.set_ylabel('metric value')\n",
        "    metric_plot.set_title('NDCG Value by n_singular_values')\n",
        "    metric_plot.set_xlabel('n_singular_values')\n",
        "    fig.show()"
      ]
    },
    {
      "cell_type": "code",
      "source": [
        "plot_graphs(coo_interactions)"
      ],
      "metadata": {
        "id": "JemxV_gVjCRk",
        "colab": {
          "base_uri": "https://localhost:8080/",
          "height": 472
        },
        "outputId": "3bc7e87c-08f9-4f51-c75e-a51c2e869e28"
      },
      "id": "JemxV_gVjCRk",
      "execution_count": 131,
      "outputs": [
        {
          "output_type": "display_data",
          "data": {
            "text/plain": [
              "<Figure size 640x480 with 2 Axes>"
            ],
            "image/png": "[encoded data removed]"
          },
          "metadata": {}
        }
      ]
    },
    {
      "cell_type": "markdown",
      "id": "a8612d96-c694-42d6-9525-58808f642577",
      "metadata": {
        "id": "a8612d96-c694-42d6-9525-58808f642577"
      },
      "source": [
        "##### Задание 3.1. Перейдем к [ALS](http://yifanhu.net/PUB/cf.pdf). Возьмем реализацию iALS из библиотеки [implicit](https://benfred.github.io/implicit/api/models/cpu/als.html). Обучите ALS на нашем датасете, сделайте top_k рекомендации для юзеров из тестового датасета, и сравните метрики ALS с метриками, которые получились в SVD. Попробуйте перебрать гиперпараметры и найдите оптимальное число факторов, коэффициент alpha и коэффициент регуляризации."
      ]
    },
    {
      "cell_type": "code",
      "source": [
        "%%capture\n",
        "!pip install implicit\n",
        "!export OPENBLAS_NUM_THREADS=1"
      ],
      "metadata": {
        "id": "mLcTMkINNb8w"
      },
      "id": "mLcTMkINNb8w",
      "execution_count": 132,
      "outputs": []
    },
    {
      "cell_type": "code",
      "source": [
        "from implicit.cpu.als import AlternatingLeastSquares\n",
        "from scipy.sparse import csr_matrix"
      ],
      "metadata": {
        "id": "WQXoveoRL3h0"
      },
      "id": "WQXoveoRL3h0",
      "execution_count": 133,
      "outputs": []
    },
    {
      "cell_type": "code",
      "execution_count": 134,
      "id": "b5fb16e9-49d1-4d7e-a384-ccbdad4f1cdf",
      "metadata": {
        "id": "b5fb16e9-49d1-4d7e-a384-ccbdad4f1cdf"
      },
      "outputs": [],
      "source": [
        "def make_als_recommendations(\n",
        "    interractions: Union[np.ndarray, coo_array],\n",
        "    top_k: int = 100,\n",
        "    n_factors: int = 100,\n",
        "    alpha: float = 1.0,\n",
        "    regularization: float = 0.01,\n",
        "):\n",
        "    csr_interations = csr_matrix(interactions)\n",
        "\n",
        "    als = AlternatingLeastSquares(\n",
        "        factors=n_factors,\n",
        "        regularization=regularization,\n",
        "        alpha=alpha\n",
        "    )\n",
        "\n",
        "    als.fit(\n",
        "        csr_interations,\n",
        "        show_progress=False\n",
        "    )\n",
        "    recommendations = als.recommend(\n",
        "        np.arange(csr_interations.shape[0]),\n",
        "        csr_interations,\n",
        "        N=top_k\n",
        "    )[0]\n",
        "    return recommendations, als #shape ~ [n_users, top_k]"
      ]
    },
    {
      "cell_type": "code",
      "execution_count": 135,
      "id": "b5573d01-8512-450f-9260-03928ee9b367",
      "metadata": {
        "id": "b5573d01-8512-450f-9260-03928ee9b367"
      },
      "outputs": [],
      "source": [
        "recs, als = make_als_recommendations(interactions)\n",
        "assert recs.shape == (interactions.shape[0], 100)"
      ]
    },
    {
      "cell_type": "code",
      "source": [
        "%%capture\n",
        "!pip install optuna"
      ],
      "metadata": {
        "id": "WOLpuWJtQP-F"
      },
      "id": "WOLpuWJtQP-F",
      "execution_count": 136,
      "outputs": []
    },
    {
      "cell_type": "code",
      "source": [
        "import optuna\n",
        "\n",
        "def als_study(trial):\n",
        "    n_factors = trial.suggest_int('n_factors', low=1, high=200, step=5)\n",
        "    alpha = trial.suggest_float('alpha', low=1, high=100, log=True)\n",
        "    regularization = trial.suggest_float('regularization', low=1e-5, high=2, log=True)\n",
        "    recs, _ = make_als_recommendations(\n",
        "        interactions,\n",
        "        n_factors=n_factors,\n",
        "        alpha=alpha,\n",
        "        regularization=regularization\n",
        "    )\n",
        "    return ndcg(gt_scores, recs).mean()\n",
        "\n",
        "study = optuna.create_study(direction='maximize')\n",
        "study.optimize(als_study, n_trials=40)"
      ],
      "metadata": {
        "colab": {
          "base_uri": "https://localhost:8080/"
        },
        "id": "Kcsg6twxQyQZ",
        "outputId": "2bf0d4e6-b80f-49fc-c3fd-f49cbfa3ffad"
      },
      "id": "Kcsg6twxQyQZ",
      "execution_count": 137,
      "outputs": [
        {
          "output_type": "stream",
          "name": "stderr",
          "text": [
            "[I 2025-03-01 12:16:28,166] A new study created in memory with name: no-name-0aa1935f-7ea7-46cf-a80b-2ed44541f2b2\n",
            "/usr/local/lib/python3.11/dist-packages/optuna/distributions.py:699: UserWarning: The distribution is specified by [1, 200] and step=5, but the range is not divisible by `step`. It will be replaced by [1, 196].\n",
            "  warnings.warn(\n",
            "[I 2025-03-01 12:16:51,487] Trial 0 finished with value: 0.04134530129722354 and parameters: {'n_factors': 141, 'alpha': 4.9948426555796335, 'regularization': 0.11009257047576312}. Best is trial 0 with value: 0.04134530129722354.\n",
            "[I 2025-03-01 12:17:07,062] Trial 1 finished with value: 0.04053427264816247 and parameters: {'n_factors': 136, 'alpha': 7.096680418900916, 'regularization': 0.010802250904201895}. Best is trial 0 with value: 0.04134530129722354.\n",
            "[I 2025-03-01 12:17:17,029] Trial 2 finished with value: 0.040377844606108736 and parameters: {'n_factors': 21, 'alpha': 27.329292026688947, 'regularization': 0.03646840637530685}. Best is trial 0 with value: 0.04134530129722354.\n",
            "[I 2025-03-01 12:17:27,761] Trial 3 finished with value: 0.034058948900549876 and parameters: {'n_factors': 81, 'alpha': 93.17591448451795, 'regularization': 0.0005212768084570851}. Best is trial 0 with value: 0.04134530129722354.\n",
            "[I 2025-03-01 12:17:36,183] Trial 4 finished with value: 0.04802607880133044 and parameters: {'n_factors': 66, 'alpha': 1.6123333598255494, 'regularization': 0.016567100643800788}. Best is trial 4 with value: 0.04802607880133044.\n",
            "[I 2025-03-01 12:17:53,724] Trial 5 finished with value: 0.03826787892591689 and parameters: {'n_factors': 191, 'alpha': 3.566415138938072, 'regularization': 0.0028546615548905234}. Best is trial 4 with value: 0.04802607880133044.\n",
            "[I 2025-03-01 12:18:05,147] Trial 6 finished with value: 0.03601954016927738 and parameters: {'n_factors': 81, 'alpha': 46.36976285674501, 'regularization': 6.732384489336574e-05}. Best is trial 4 with value: 0.04802607880133044.\n",
            "[I 2025-03-01 12:18:15,663] Trial 7 finished with value: 0.040219727359771425 and parameters: {'n_factors': 46, 'alpha': 20.503277840879765, 'regularization': 0.2992101789205458}. Best is trial 4 with value: 0.04802607880133044.\n",
            "[I 2025-03-01 12:18:26,764] Trial 8 finished with value: 0.04171934354826114 and parameters: {'n_factors': 26, 'alpha': 19.731379327427977, 'regularization': 3.4376091230153814e-05}. Best is trial 4 with value: 0.04802607880133044.\n",
            "[I 2025-03-01 12:18:38,318] Trial 9 finished with value: 0.036644253037708956 and parameters: {'n_factors': 131, 'alpha': 22.12001483568067, 'regularization': 0.00015972192609685473}. Best is trial 4 with value: 0.04802607880133044.\n",
            "[I 2025-03-01 12:18:47,316] Trial 10 finished with value: 0.04607233823424789 and parameters: {'n_factors': 101, 'alpha': 1.1589847686980934, 'regularization': 1.7770212062155895}. Best is trial 4 with value: 0.04802607880133044.\n",
            "[I 2025-03-01 12:19:00,512] Trial 11 finished with value: 0.04886191973143401 and parameters: {'n_factors': 61, 'alpha': 1.2183684347622836, 'regularization': 1.3609177247229896}. Best is trial 11 with value: 0.04886191973143401.\n",
            "[I 2025-03-01 12:19:12,472] Trial 12 finished with value: 0.04942598913938821 and parameters: {'n_factors': 56, 'alpha': 1.1052791799552915, 'regularization': 1.8004335065176924}. Best is trial 12 with value: 0.04942598913938821.\n",
            "[I 2025-03-01 12:19:24,956] Trial 13 finished with value: 0.04863671918240202 and parameters: {'n_factors': 51, 'alpha': 2.3674739506512186, 'regularization': 1.2111081122785086}. Best is trial 12 with value: 0.04942598913938821.\n",
            "[I 2025-03-01 12:19:31,038] Trial 14 finished with value: 0.05567653218007221 and parameters: {'n_factors': 6, 'alpha': 1.1272085232152687, 'regularization': 0.343136613757127}. Best is trial 14 with value: 0.05567653218007221.\n",
            "[I 2025-03-01 12:19:33,988] Trial 15 finished with value: 0.0514138452230475 and parameters: {'n_factors': 1, 'alpha': 2.8848694116263314, 'regularization': 0.22776504166773703}. Best is trial 14 with value: 0.05567653218007221.\n",
            "[I 2025-03-01 12:19:38,833] Trial 16 finished with value: 0.05410361318960629 and parameters: {'n_factors': 6, 'alpha': 2.659082026769271, 'regularization': 0.17081650990912153}. Best is trial 14 with value: 0.05567653218007221.\n",
            "[I 2025-03-01 12:19:42,797] Trial 17 finished with value: 0.051017033325447964 and parameters: {'n_factors': 1, 'alpha': 2.0572692459532824, 'regularization': 0.002112827243566273}. Best is trial 14 with value: 0.05567653218007221.\n",
            "[I 2025-03-01 12:19:52,697] Trial 18 finished with value: 0.04571834931542732 and parameters: {'n_factors': 26, 'alpha': 10.134745995587995, 'regularization': 0.058812536371111925}. Best is trial 14 with value: 0.05567653218007221.\n",
            "[I 2025-03-01 12:20:11,501] Trial 19 finished with value: 0.03909455659005544 and parameters: {'n_factors': 191, 'alpha': 4.451185469974558, 'regularization': 0.3390436757446679}. Best is trial 14 with value: 0.05567653218007221.\n",
            "[I 2025-03-01 12:20:23,559] Trial 20 finished with value: 0.04075188283568998 and parameters: {'n_factors': 111, 'alpha': 9.92631879983107, 'regularization': 0.015541944233832062}. Best is trial 14 with value: 0.05567653218007221.\n",
            "[I 2025-03-01 12:20:26,562] Trial 21 finished with value: 0.051400454670353826 and parameters: {'n_factors': 1, 'alpha': 2.8555428317754488, 'regularization': 0.22529873479237658}. Best is trial 14 with value: 0.05567653218007221.\n",
            "[I 2025-03-01 12:20:33,642] Trial 22 finished with value: 0.0521443076152784 and parameters: {'n_factors': 16, 'alpha': 1.779540661172557, 'regularization': 0.4502572847252998}. Best is trial 14 with value: 0.05567653218007221.\n",
            "[I 2025-03-01 12:20:43,454] Trial 23 finished with value: 0.05183473211537642 and parameters: {'n_factors': 21, 'alpha': 1.64773262029087, 'regularization': 0.08673778872725521}. Best is trial 14 with value: 0.05567653218007221.\n",
            "[I 2025-03-01 12:20:52,163] Trial 24 finished with value: 0.04994140663923817 and parameters: {'n_factors': 36, 'alpha': 1.7513438600301692, 'regularization': 0.535056740727371}. Best is trial 14 with value: 0.05567653218007221.\n",
            "[I 2025-03-01 12:20:57,785] Trial 25 finished with value: 0.05485736018281026 and parameters: {'n_factors': 11, 'alpha': 1.0018806199296406, 'regularization': 0.035428340656575866}. Best is trial 14 with value: 0.05567653218007221.\n",
            "[I 2025-03-01 12:21:07,416] Trial 26 finished with value: 0.05065292386201913 and parameters: {'n_factors': 41, 'alpha': 1.0081759262824388, 'regularization': 0.005623458759376913}. Best is trial 14 with value: 0.05567653218007221.\n",
            "[I 2025-03-01 12:21:13,001] Trial 27 finished with value: 0.051245524024440145 and parameters: {'n_factors': 11, 'alpha': 5.974455915668138, 'regularization': 0.12892242150839034}. Best is trial 14 with value: 0.05567653218007221.\n",
            "[I 2025-03-01 12:21:21,748] Trial 28 finished with value: 0.04829392638434785 and parameters: {'n_factors': 36, 'alpha': 3.4500346742160537, 'regularization': 0.03527124247758672}. Best is trial 14 with value: 0.05567653218007221.\n",
            "[I 2025-03-01 12:21:31,647] Trial 29 finished with value: 0.0480231213335614 and parameters: {'n_factors': 71, 'alpha': 1.2830885945520818, 'regularization': 0.12420756231297442}. Best is trial 14 with value: 0.05567653218007221.\n",
            "[I 2025-03-01 12:21:44,923] Trial 30 finished with value: 0.039586071914290304 and parameters: {'n_factors': 171, 'alpha': 2.4481498032264346, 'regularization': 0.0012961267643956495}. Best is trial 14 with value: 0.05567653218007221.\n",
            "[I 2025-03-01 12:21:51,806] Trial 31 finished with value: 0.05235774792826664 and parameters: {'n_factors': 16, 'alpha': 1.6266535233619255, 'regularization': 0.6350979901658325}. Best is trial 14 with value: 0.05567653218007221.\n",
            "[I 2025-03-01 12:21:58,721] Trial 32 finished with value: 0.054850411049353946 and parameters: {'n_factors': 11, 'alpha': 1.4698908367375483, 'regularization': 0.5817740205065546}. Best is trial 14 with value: 0.05567653218007221.\n",
            "[I 2025-03-01 12:22:10,637] Trial 33 finished with value: 0.05140238189590262 and parameters: {'n_factors': 31, 'alpha': 1.002609710982286, 'regularization': 0.03168737744645179}. Best is trial 14 with value: 0.05567653218007221.\n",
            "[I 2025-03-01 12:22:16,237] Trial 34 finished with value: 0.05470323691454818 and parameters: {'n_factors': 11, 'alpha': 1.3567338753870808, 'regularization': 0.0073125281498555616}. Best is trial 14 with value: 0.05567653218007221.\n",
            "[I 2025-03-01 12:22:24,322] Trial 35 finished with value: 0.052464342979360035 and parameters: {'n_factors': 16, 'alpha': 1.4003833578289488, 'regularization': 0.006280491591446282}. Best is trial 14 with value: 0.05567653218007221.\n",
            "[I 2025-03-01 12:22:33,555] Trial 36 finished with value: 0.04698037902904382 and parameters: {'n_factors': 46, 'alpha': 3.9656580315159857, 'regularization': 0.00046333595571925704}. Best is trial 14 with value: 0.05567653218007221.\n",
            "[I 2025-03-01 12:22:45,241] Trial 37 finished with value: 0.04636713304207659 and parameters: {'n_factors': 81, 'alpha': 2.0579761848082136, 'regularization': 0.009292535658685642}. Best is trial 14 with value: 0.05567653218007221.\n",
            "[I 2025-03-01 12:22:52,048] Trial 38 finished with value: 0.05434462840472064 and parameters: {'n_factors': 11, 'alpha': 1.4491501240623461, 'regularization': 0.018332451317536795}. Best is trial 14 with value: 0.05567653218007221.\n",
            "[I 2025-03-01 12:23:02,463] Trial 39 finished with value: 0.0357403566231928 and parameters: {'n_factors': 26, 'alpha': 42.78694268175919, 'regularization': 0.05712914645345845}. Best is trial 14 with value: 0.05567653218007221.\n"
          ]
        }
      ]
    },
    {
      "cell_type": "code",
      "source": [
        "study.best_params"
      ],
      "metadata": {
        "colab": {
          "base_uri": "https://localhost:8080/"
        },
        "id": "AOmdcRODbpVa",
        "outputId": "9fc9e67e-ffd6-43f4-cef2-717d43aaa5d0"
      },
      "id": "AOmdcRODbpVa",
      "execution_count": 138,
      "outputs": [
        {
          "output_type": "execute_result",
          "data": {
            "text/plain": [
              "{'n_factors': 6,\n",
              " 'alpha': 1.1272085232152687,\n",
              " 'regularization': 0.343136613757127}"
            ]
          },
          "metadata": {},
          "execution_count": 138
        }
      ]
    },
    {
      "cell_type": "markdown",
      "id": "81f3b1cc-760b-4d6a-ab8a-aca57b7b6dfe",
      "metadata": {
        "id": "81f3b1cc-760b-4d6a-ab8a-aca57b7b6dfe"
      },
      "source": [
        "##### Задание 3.2. Сделайте объяснение рекомендаций для нескольких юзеров(als.explain). Воспользуйтесь файлом movies.dat чтобы перейти от индексов фильмов к их названием"
      ]
    },
    {
      "cell_type": "code",
      "execution_count": 139,
      "id": "ddd9a956-d2f5-4560-8d0c-c72164ebdfa8",
      "metadata": {
        "id": "ddd9a956-d2f5-4560-8d0c-c72164ebdfa8"
      },
      "outputs": [],
      "source": [
        "movies = pd.read_csv(\"ml-1m/movies.dat\", sep='::', names=['id', 'name', 'genre'], engine='python', encoding='Windows-1250', index_col=0)\n",
        "id2movie = movies.name.to_dict()"
      ]
    },
    {
      "cell_type": "code",
      "source": [
        "best_params = study.best_params\n",
        "best_params['factors'] = best_params.pop('n_factors')"
      ],
      "metadata": {
        "id": "mwfAp7U7cXFj"
      },
      "id": "mwfAp7U7cXFj",
      "execution_count": 140,
      "outputs": []
    },
    {
      "cell_type": "code",
      "source": [
        "als = AlternatingLeastSquares(**best_params)\n",
        "\n",
        "als.fit(\n",
        "    csr_matrix(interactions),\n",
        "    show_progress=False\n",
        ")"
      ],
      "metadata": {
        "id": "uGkkEb2BcA21"
      },
      "id": "uGkkEb2BcA21",
      "execution_count": 141,
      "outputs": []
    },
    {
      "cell_type": "code",
      "source": [
        "np.random.seed(42)\n",
        "csr_interations = csr_matrix(interactions)\n",
        "recommendations = {}\n",
        "\n",
        "for uid in np.random.choice(csr_interations.shape[0], 3):\n",
        "    recommendations[uid] = {}\n",
        "    for item in recs[uid][:3]:\n",
        "        explained_by = [\n",
        "            movie[0] for movie in\n",
        "            als.explain(\n",
        "                uid,\n",
        "                csr_interations,\n",
        "                item,\n",
        "                N=3\n",
        "            )[1]\n",
        "        ]\n",
        "\n",
        "        item_name = id2movie[item_le.inverse_transform([item])[0]]\n",
        "        recommendations[uid][item_name] = [id2movie[movie] for movie in item_le.inverse_transform(explained_by)]"
      ],
      "metadata": {
        "id": "ljZw22Y6O8zf"
      },
      "id": "ljZw22Y6O8zf",
      "execution_count": 142,
      "outputs": []
    },
    {
      "cell_type": "code",
      "source": [
        "import json\n",
        "\n",
        "print(\n",
        "    json.dumps(\n",
        "        list(recommendations.values()),\n",
        "        indent='\\t',\n",
        "        ensure_ascii=False\n",
        "    )\n",
        ")"
      ],
      "metadata": {
        "colab": {
          "base_uri": "https://localhost:8080/"
        },
        "id": "8bRRg8GySAtl",
        "outputId": "6d050eda-aa68-43d2-842b-c9541971a07a"
      },
      "id": "8bRRg8GySAtl",
      "execution_count": 143,
      "outputs": [
        {
          "output_type": "stream",
          "name": "stdout",
          "text": [
            "[\n",
            "\t{\n",
            "\t\t\"Wag the Dog (1997)\": [\n",
            "\t\t\t\"League of Their Own, A (1992)\",\n",
            "\t\t\t\"Dave (1993)\",\n",
            "\t\t\t\"Full Monty, The (1997)\"\n",
            "\t\t],\n",
            "\t\t\"Babe (1995)\": [\n",
            "\t\t\t\"American Beauty (1999)\",\n",
            "\t\t\t\"Groundhog Day (1993)\",\n",
            "\t\t\t\"Toy Story (1995)\"\n",
            "\t\t],\n",
            "\t\t\"Grosse Pointe Blank (1997)\": [\n",
            "\t\t\t\"American Beauty (1999)\",\n",
            "\t\t\t\"Groundhog Day (1993)\",\n",
            "\t\t\t\"Bug's Life, A (1998)\"\n",
            "\t\t]\n",
            "\t},\n",
            "\t{\n",
            "\t\t\"Shadowlands (1993)\": [\n",
            "\t\t\t\"Remains of the Day, The (1993)\",\n",
            "\t\t\t\"English Patient, The (1996)\",\n",
            "\t\t\t\"Sense and Sensibility (1995)\"\n",
            "\t\t],\n",
            "\t\t\"Sixth Sense, The (1999)\": [\n",
            "\t\t\t\"Schindler's List (1993)\",\n",
            "\t\t\t\"Saving Private Ryan (1998)\",\n",
            "\t\t\t\"Silence of the Lambs, The (1991)\"\n",
            "\t\t],\n",
            "\t\t\"Shawshank Redemption, The (1994)\": [\n",
            "\t\t\t\"Schindler's List (1993)\",\n",
            "\t\t\t\"Saving Private Ryan (1998)\",\n",
            "\t\t\t\"Silence of the Lambs, The (1991)\"\n",
            "\t\t]\n",
            "\t},\n",
            "\t{\n",
            "\t\t\"Austin Powers: The Spy Who Shagged Me (1999)\": [\n",
            "\t\t\t\"American Beauty (1999)\",\n",
            "\t\t\t\"Clerks (1994)\",\n",
            "\t\t\t\"Blair Witch Project, The (1999)\"\n",
            "\t\t],\n",
            "\t\t\"American Pie (1999)\": [\n",
            "\t\t\t\"American Beauty (1999)\",\n",
            "\t\t\t\"Clerks (1994)\",\n",
            "\t\t\t\"Blair Witch Project, The (1999)\"\n",
            "\t\t],\n",
            "\t\t\"Big Daddy (1999)\": [\n",
            "\t\t\t\"Clerks (1994)\",\n",
            "\t\t\t\"Blair Witch Project, The (1999)\",\n",
            "\t\t\t\"American Beauty (1999)\"\n",
            "\t\t]\n",
            "\t}\n",
            "]\n"
          ]
        }
      ]
    },
    {
      "cell_type": "markdown",
      "id": "d7d7ea0c-8288-45f5-83d4-9761a8952669",
      "metadata": {
        "id": "d7d7ea0c-8288-45f5-83d4-9761a8952669"
      },
      "source": [
        "##### Задание 4. До этого мы работали с рейтингами, но как обсуждалось на лекции, implicit ALS отлично работает и с implicit фидбэком. Давайте попробуем преобразовать наш датасет(трейн и тест) следующим образом\n",
        "\n",
        "1. Бинаризуем все рейтинги(заменим любую интеракцию пользователя на 1)\n",
        "2. Заменим на 1 только рейтинги 4 и 5, а рейтинг ниже 4 заменим на 0\n",
        "3. Заменим на 1 только рейтинги 4 и 5, а рейтинг ниже 4 заменим на -1\n",
        "4. Заменим на 1 только рейтинги 4 и 5, а рейтинг ниже 4 заменим на -1 и добавим сглаживание по времени. То есть чем дальше была интеракция от максимальной даты трейна, тем с меньшим весом мы будем ее учитывать(например можно интеракции за последний месяц брать в исходном виде, и с каждым месяцем в прошлое умножать их на какой-нибудь коэффициент меньший 1). Таким образом более старые интеракции пользователя будут вносить меньший вклад в его интересы\n",
        "5. Придумайте свой вариант(опционально)\n",
        "\n",
        "Для каждой полученной матрицы обучите iALS и SVD и сравните их результаты между собой(преобразовывать нужно только обучающую выборку, тестовую оставляем неизменной)"
      ]
    },
    {
      "cell_type": "code",
      "source": [
        "df_train['month'] = df_train.datetime.apply(lambda x: x.month + (x.year * 12))\n",
        "df_train['coef'] = (df_train.month.max() + 1) - df_train.month"
      ],
      "metadata": {
        "id": "p8vOaX3teN40"
      },
      "id": "p8vOaX3teN40",
      "execution_count": 144,
      "outputs": []
    },
    {
      "cell_type": "code",
      "source": [
        "coef_matrix = np.ones(interactions.shape)\n",
        "coef_matrix[\n",
        "    df_train.user_id.values,\n",
        "    df_train.item_id.values\n",
        "] = df_train.coef.values"
      ],
      "metadata": {
        "id": "QiiTkgxufPH4"
      },
      "id": "QiiTkgxufPH4",
      "execution_count": 145,
      "outputs": []
    },
    {
      "cell_type": "code",
      "source": [
        "experiments = {\n",
        "    '1/0 (>0/=0)': np.where(interactions>0, 1, 0),\n",
        "    '1/0 (>3/<4)': np.where(interactions>3, 1, 0),\n",
        "    '1/0/-1 (>3/=0/<4)': np.where(interactions>=4, 1, np.where(interactions==0, 0, -1)),\n",
        "    '1/0/-1 (>3/=0/<4) w smoothing': np.where(interactions>=4, 1, np.where(interactions==0, 0, -1)) / coef_matrix\n",
        "}"
      ],
      "metadata": {
        "id": "hC31fXFAhQ0q"
      },
      "id": "hC31fXFAhQ0q",
      "execution_count": 146,
      "outputs": []
    },
    {
      "cell_type": "code",
      "source": [
        "res = {\n",
        "    'iALS': {},\n",
        "    'SVD': {}\n",
        "}\n",
        "\n",
        "for exp_name, train_matrix in experiments.items():\n",
        "    svd_recs = make_svd_recommendations(train_matrix, n_singular_values=5, top_k=100)\n",
        "    als_recs, _ = make_als_recommendations(train_matrix, top_k=100, **study.best_params)\n",
        "\n",
        "    res['iALS'][exp_name] = ndcg(gt_scores, als_recs).mean()\n",
        "    res['SVD'][exp_name] = ndcg(gt_scores, svd_recs).mean()"
      ],
      "metadata": {
        "id": "jnB-9zEghMvz"
      },
      "id": "jnB-9zEghMvz",
      "execution_count": 148,
      "outputs": []
    },
    {
      "cell_type": "code",
      "source": [
        "pd.DataFrame(res)"
      ],
      "metadata": {
        "colab": {
          "base_uri": "https://localhost:8080/",
          "height": 174
        },
        "id": "co484Zszjv7z",
        "outputId": "1876d831-e635-4bae-a197-5b3e2929fdb3"
      },
      "id": "co484Zszjv7z",
      "execution_count": 149,
      "outputs": [
        {
          "output_type": "execute_result",
          "data": {
            "text/plain": [
              "                                   iALS       SVD\n",
              "1/0 (>0/=0)                    0.055539  0.055711\n",
              "1/0 (>3/<4)                    0.055560  0.046787\n",
              "1/0/-1 (>3/=0/<4)              0.055541  0.055711\n",
              "1/0/-1 (>3/=0/<4) w smoothing  0.055964  0.055711"
            ],
            "text/html": [
              "\n",
              "  <div id=\"df-3317f9e6-7476-4494-b0f8-d8dad953676a\" class=\"colab-df-container\">\n",
              "    <div>\n",
              "<style scoped>\n",
              "    .dataframe tbody tr th:only-of-type {\n",
              "        vertical-align: middle;\n",
              "    }\n",
              "\n",
              "    .dataframe tbody tr th {\n",
              "        vertical-align: top;\n",
              "    }\n",
              "\n",
              "    .dataframe thead th {\n",
              "        text-align: right;\n",
              "    }\n",
              "</style>\n",
              "<table border=\"1\" class=\"dataframe\">\n",
              "  <thead>\n",
              "    <tr style=\"text-align: right;\">\n",
              "      <th></th>\n",
              "      <th>iALS</th>\n",
              "      <th>SVD</th>\n",
              "    </tr>\n",
              "  </thead>\n",
              "  <tbody>\n",
              "    <tr>\n",
              "      <th>1/0 (&gt;0/=0)</th>\n",
              "      <td>0.055539</td>\n",
              "      <td>0.055711</td>\n",
              "    </tr>\n",
              "    <tr>\n",
              "      <th>1/0 (&gt;3/&lt;4)</th>\n",
              "      <td>0.055560</td>\n",
              "      <td>0.046787</td>\n",
              "    </tr>\n",
              "    <tr>\n",
              "      <th>1/0/-1 (&gt;3/=0/&lt;4)</th>\n",
              "      <td>0.055541</td>\n",
              "      <td>0.055711</td>\n",
              "    </tr>\n",
              "    <tr>\n",
              "      <th>1/0/-1 (&gt;3/=0/&lt;4) w smoothing</th>\n",
              "      <td>0.055964</td>\n",
              "      <td>0.055711</td>\n",
              "    </tr>\n",
              "  </tbody>\n",
              "</table>\n",
              "</div>\n",
              "    <div class=\"colab-df-buttons\">\n",
              "\n",
              "  <div class=\"colab-df-container\">\n",
              "    <button class=\"colab-df-convert\" onclick=\"convertToInteractive('df-3317f9e6-7476-4494-b0f8-d8dad953676a')\"\n",
              "            title=\"Convert this dataframe to an interactive table.\"\n",
              "            style=\"display:none;\">\n",
              "\n",
              "  <svg xmlns=\"http://www.w3.org/2000/svg\" height=\"24px\" viewBox=\"0 -960 960 960\">\n",
              "    <path d=\"M120-120v-720h720v720H120Zm60-500h600v-160H180v160Zm220 220h160v-160H400v160Zm0 220h160v-160H400v160ZM180-400h160v-160H180v160Zm440 0h160v-160H620v160ZM180-180h160v-160H180v160Zm440 0h160v-160H620v160Z\"/>\n",
              "  </svg>\n",
              "    </button>\n",
              "\n",
              "  <style>\n",
              "    .colab-df-container {\n",
              "      display:flex;\n",
              "      gap: 12px;\n",
              "    }\n",
              "\n",
              "    .colab-df-convert {\n",
              "      background-color: #E8F0FE;\n",
              "      border: none;\n",
              "      border-radius: 50%;\n",
              "      cursor: pointer;\n",
              "      display: none;\n",
              "      fill: #1967D2;\n",
              "      height: 32px;\n",
              "      padding: 0 0 0 0;\n",
              "      width: 32px;\n",
              "    }\n",
              "\n",
              "    .colab-df-convert:hover {\n",
              "      background-color: #E2EBFA;\n",
              "      box-shadow: 0px 1px 2px rgba(60, 64, 67, 0.3), 0px 1px 3px 1px rgba(60, 64, 67, 0.15);\n",
              "      fill: #174EA6;\n",
              "    }\n",
              "\n",
              "    .colab-df-buttons div {\n",
              "      margin-bottom: 4px;\n",
              "    }\n",
              "\n",
              "    [theme=dark] .colab-df-convert {\n",
              "      background-color: #3B4455;\n",
              "      fill: #D2E3FC;\n",
              "    }\n",
              "\n",
              "    [theme=dark] .colab-df-convert:hover {\n",
              "      background-color: #434B5C;\n",
              "      box-shadow: 0px 1px 3px 1px rgba(0, 0, 0, 0.15);\n",
              "      filter: drop-shadow(0px 1px 2px rgba(0, 0, 0, 0.3));\n",
              "      fill: #FFFFFF;\n",
              "    }\n",
              "  </style>\n",
              "\n",
              "    <script>\n",
              "      const buttonEl =\n",
              "        document.querySelector('#df-3317f9e6-7476-4494-b0f8-d8dad953676a button.colab-df-convert');\n",
              "      buttonEl.style.display =\n",
              "        google.colab.kernel.accessAllowed ? 'block' : 'none';\n",
              "\n",
              "      async function convertToInteractive(key) {\n",
              "        const element = document.querySelector('#df-3317f9e6-7476-4494-b0f8-d8dad953676a');\n",
              "        const dataTable =\n",
              "          await google.colab.kernel.invokeFunction('convertToInteractive',\n",
              "                                                    [key], {});\n",
              "        if (!dataTable) return;\n",
              "\n",
              "        const docLinkHtml = 'Like what you see? Visit the ' +\n",
              "          '<a target=\"_blank\" href=https://colab.research.google.com/notebooks/data_table.ipynb>data table notebook</a>'\n",
              "          + ' to learn more about interactive tables.';\n",
              "        element.innerHTML = '';\n",
              "        dataTable['output_type'] = 'display_data';\n",
              "        await google.colab.output.renderOutput(dataTable, element);\n",
              "        const docLink = document.createElement('div');\n",
              "        docLink.innerHTML = docLinkHtml;\n",
              "        element.appendChild(docLink);\n",
              "      }\n",
              "    </script>\n",
              "  </div>\n",
              "\n",
              "\n",
              "<div id=\"df-0e3cb828-ec9a-4d2c-b151-9a3922d77cc7\">\n",
              "  <button class=\"colab-df-quickchart\" onclick=\"quickchart('df-0e3cb828-ec9a-4d2c-b151-9a3922d77cc7')\"\n",
              "            title=\"Suggest charts\"\n",
              "            style=\"display:none;\">\n",
              "\n",
              "<svg xmlns=\"http://www.w3.org/2000/svg\" height=\"24px\"viewBox=\"0 0 24 24\"\n",
              "     width=\"24px\">\n",
              "    <g>\n",
              "        <path d=\"M19 3H5c-1.1 0-2 .9-2 2v14c0 1.1.9 2 2 2h14c1.1 0 2-.9 2-2V5c0-1.1-.9-2-2-2zM9 17H7v-7h2v7zm4 0h-2V7h2v10zm4 0h-2v-4h2v4z\"/>\n",
              "    </g>\n",
              "</svg>\n",
              "  </button>\n",
              "\n",
              "<style>\n",
              "  .colab-df-quickchart {\n",
              "      --bg-color: #E8F0FE;\n",
              "      --fill-color: #1967D2;\n",
              "      --hover-bg-color: #E2EBFA;\n",
              "      --hover-fill-color: #174EA6;\n",
              "      --disabled-fill-color: #AAA;\n",
              "      --disabled-bg-color: #DDD;\n",
              "  }\n",
              "\n",
              "  [theme=dark] .colab-df-quickchart {\n",
              "      --bg-color: #3B4455;\n",
              "      --fill-color: #D2E3FC;\n",
              "      --hover-bg-color: #434B5C;\n",
              "      --hover-fill-color: #FFFFFF;\n",
              "      --disabled-bg-color: #3B4455;\n",
              "      --disabled-fill-color: #666;\n",
              "  }\n",
              "\n",
              "  .colab-df-quickchart {\n",
              "    background-color: var(--bg-color);\n",
              "    border: none;\n",
              "    border-radius: 50%;\n",
              "    cursor: pointer;\n",
              "    display: none;\n",
              "    fill: var(--fill-color);\n",
              "    height: 32px;\n",
              "    padding: 0;\n",
              "    width: 32px;\n",
              "  }\n",
              "\n",
              "  .colab-df-quickchart:hover {\n",
              "    background-color: var(--hover-bg-color);\n",
              "    box-shadow: 0 1px 2px rgba(60, 64, 67, 0.3), 0 1px 3px 1px rgba(60, 64, 67, 0.15);\n",
              "    fill: var(--button-hover-fill-color);\n",
              "  }\n",
              "\n",
              "  .colab-df-quickchart-complete:disabled,\n",
              "  .colab-df-quickchart-complete:disabled:hover {\n",
              "    background-color: var(--disabled-bg-color);\n",
              "    fill: var(--disabled-fill-color);\n",
              "    box-shadow: none;\n",
              "  }\n",
              "\n",
              "  .colab-df-spinner {\n",
              "    border: 2px solid var(--fill-color);\n",
              "    border-color: transparent;\n",
              "    border-bottom-color: var(--fill-color);\n",
              "    animation:\n",
              "      spin 1s steps(1) infinite;\n",
              "  }\n",
              "\n",
              "  @keyframes spin {\n",
              "    0% {\n",
              "      border-color: transparent;\n",
              "      border-bottom-color: var(--fill-color);\n",
              "      border-left-color: var(--fill-color);\n",
              "    }\n",
              "    20% {\n",
              "      border-color: transparent;\n",
              "      border-left-color: var(--fill-color);\n",
              "      border-top-color: var(--fill-color);\n",
              "    }\n",
              "    30% {\n",
              "      border-color: transparent;\n",
              "      border-left-color: var(--fill-color);\n",
              "      border-top-color: var(--fill-color);\n",
              "      border-right-color: var(--fill-color);\n",
              "    }\n",
              "    40% {\n",
              "      border-color: transparent;\n",
              "      border-right-color: var(--fill-color);\n",
              "      border-top-color: var(--fill-color);\n",
              "    }\n",
              "    60% {\n",
              "      border-color: transparent;\n",
              "      border-right-color: var(--fill-color);\n",
              "    }\n",
              "    80% {\n",
              "      border-color: transparent;\n",
              "      border-right-color: var(--fill-color);\n",
              "      border-bottom-color: var(--fill-color);\n",
              "    }\n",
              "    90% {\n",
              "      border-color: transparent;\n",
              "      border-bottom-color: var(--fill-color);\n",
              "    }\n",
              "  }\n",
              "</style>\n",
              "\n",
              "  <script>\n",
              "    async function quickchart(key) {\n",
              "      const quickchartButtonEl =\n",
              "        document.querySelector('#' + key + ' button');\n",
              "      quickchartButtonEl.disabled = true;  // To prevent multiple clicks.\n",
              "      quickchartButtonEl.classList.add('colab-df-spinner');\n",
              "      try {\n",
              "        const charts = await google.colab.kernel.invokeFunction(\n",
              "            'suggestCharts', [key], {});\n",
              "      } catch (error) {\n",
              "        console.error('Error during call to suggestCharts:', error);\n",
              "      }\n",
              "      quickchartButtonEl.classList.remove('colab-df-spinner');\n",
              "      quickchartButtonEl.classList.add('colab-df-quickchart-complete');\n",
              "    }\n",
              "    (() => {\n",
              "      let quickchartButtonEl =\n",
              "        document.querySelector('#df-0e3cb828-ec9a-4d2c-b151-9a3922d77cc7 button');\n",
              "      quickchartButtonEl.style.display =\n",
              "        google.colab.kernel.accessAllowed ? 'block' : 'none';\n",
              "    })();\n",
              "  </script>\n",
              "</div>\n",
              "    </div>\n",
              "  </div>\n"
            ],
            "application/vnd.google.colaboratory.intrinsic+json": {
              "type": "dataframe",
              "summary": "{\n  \"name\": \"pd\",\n  \"rows\": 4,\n  \"fields\": [\n    {\n      \"column\": \"iALS\",\n      \"properties\": {\n        \"dtype\": \"number\",\n        \"std\": 0.0002086143180156071,\n        \"min\": 0.05553924760233016,\n        \"max\": 0.05596364524761127,\n        \"num_unique_values\": 4,\n        \"samples\": [\n          0.05556000256709895,\n          0.05596364524761127,\n          0.05553924760233016\n        ],\n        \"semantic_type\": \"\",\n        \"description\": \"\"\n      }\n    },\n    {\n      \"column\": \"SVD\",\n      \"properties\": {\n        \"dtype\": \"number\",\n        \"std\": 0.004462126146673382,\n        \"min\": 0.04678689063713427,\n        \"max\": 0.05571114293048103,\n        \"num_unique_values\": 2,\n        \"samples\": [\n          0.04678689063713427,\n          0.05571114293048103\n        ],\n        \"semantic_type\": \"\",\n        \"description\": \"\"\n      }\n    }\n  ]\n}"
            }
          },
          "metadata": {},
          "execution_count": 149
        }
      ]
    },
    {
      "cell_type": "markdown",
      "id": "ee7a03b1-5072-4bc4-ba46-1fc3c989b888",
      "metadata": {
        "id": "ee7a03b1-5072-4bc4-ba46-1fc3c989b888"
      },
      "source": [
        "##### Задание 5. iALS на numpy/torch. Давайте реализуем алгоритм iALS на нумпае или торче. Требуется реализовать алгорит, описанный в 4 части [статьи](http://yifanhu.net/PUB/cf.pdf). Обратите внимания на все оптимизации, которые они описывают в статье, чтобы сократить лишние вычисления. Hint: метрики у вашего алгоритма должны быть сравнимы с метриками ALS из библиотеки implicit"
      ]
    },
    {
      "cell_type": "code",
      "execution_count": null,
      "id": "e6be5f0d-1454-4f15-9dd1-17d1f1f99583",
      "metadata": {
        "id": "e6be5f0d-1454-4f15-9dd1-17d1f1f99583"
      },
      "outputs": [],
      "source": [
        "class iALS:\n",
        "    def __init__(self, n_factors: int = 100, alpha: float = 1.0, reg_coef = 0.01):\n",
        "        self.n_factors = n_factors\n",
        "        self.alpha = alpha\n",
        "        self.reg_coef = reg_coef\n",
        "\n",
        "    def fit(self, interractions: np.ndarray, n_iterations: int 10):\n",
        "        #your code here\n",
        "\n",
        "    def predict(self, top_k: int = 100):\n",
        "        # возвращает top-k айтемов для каждого юзера(айтемы с которыми юзер взаимодействовал не должны попасть в рекомендации)\n",
        "        #your code here\n",
        "\n",
        "        return predicts # shape ~ [n_users, top_k]"
      ]
    },
    {
      "cell_type": "code",
      "execution_count": null,
      "id": "a9aa65d7-11dc-48d9-a270-8d0a6d96f28e",
      "metadata": {
        "id": "a9aa65d7-11dc-48d9-a270-8d0a6d96f28e"
      },
      "outputs": [],
      "source": []
    }
  ],
  "metadata": {
    "kernelspec": {
      "display_name": "recsys_course",
      "language": "python",
      "name": "recsys_course"
    },
    "language_info": {
      "codemirror_mode": {
        "name": "ipython",
        "version": 3
      },
      "file_extension": ".py",
      "mimetype": "text/x-python",
      "name": "python",
      "nbconvert_exporter": "python",
      "pygments_lexer": "ipython3",
      "version": "3.12.8"
    },
    "colab": {
      "provenance": [],
      "include_colab_link": true
    }
  },
  "nbformat": 4,
  "nbformat_minor": 5
}