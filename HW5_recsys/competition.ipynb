{
  "nbformat": 4,
  "nbformat_minor": 0,
  "metadata": {
    "colab": {
      "provenance": [],
      "collapsed_sections": [
        "knqxOWE3Xk6t",
        "O6VY6tBHbbZf"
      ],
      "authorship_tag": "ABX9TyM6HjxKRV3p2yRbrWtToB1/",
      "include_colab_link": true
    },
    "kernelspec": {
      "name": "python3",
      "display_name": "Python 3"
    },
    "language_info": {
      "name": "python"
    }
  },
  "cells": [
    {
      "cell_type": "markdown",
      "metadata": {
        "id": "view-in-github",
        "colab_type": "text"
      },
      "source": [
        "<a href=\"https://colab.research.google.com/github/PhilBurub/ML_course_MSc/blob/main/HW5_recsys/competition.ipynb\" target=\"_parent\"><img src=\"https://colab.research.google.com/assets/colab-badge.svg\" alt=\"Open In Colab\"/></a>"
      ]
    },
    {
      "cell_type": "code",
      "source": [
        "!pip install numpy==1.23.5"
      ],
      "metadata": {
        "colab": {
          "base_uri": "https://localhost:8080/"
        },
        "id": "R1ipdHLpjKiz",
        "outputId": "945cb9c6-6087-48a4-d2e3-9226543b4654"
      },
      "execution_count": null,
      "outputs": [
        {
          "output_type": "stream",
          "name": "stdout",
          "text": [
            "Requirement already satisfied: numpy==1.23.5 in /usr/local/lib/python3.11/dist-packages (1.23.5)\n"
          ]
        }
      ]
    },
    {
      "cell_type": "code",
      "execution_count": null,
      "metadata": {
        "id": "rJ13YjLyhwuK"
      },
      "outputs": [],
      "source": [
        "%%capture\n",
        "!pip install implicit\n",
        "!pip install catboost"
      ]
    },
    {
      "cell_type": "code",
      "source": [
        "from google.colab import drive\n",
        "drive.mount('/content/drive')"
      ],
      "metadata": {
        "colab": {
          "base_uri": "https://localhost:8080/"
        },
        "id": "8ZO9Y4PXjJfa",
        "outputId": "3d95df1b-864c-4d28-986f-75555d5fa65c"
      },
      "execution_count": null,
      "outputs": [
        {
          "output_type": "stream",
          "name": "stdout",
          "text": [
            "Drive already mounted at /content/drive; to attempt to forcibly remount, call drive.mount(\"/content/drive\", force_remount=True).\n"
          ]
        }
      ]
    },
    {
      "cell_type": "code",
      "source": [
        "import pandas as pd\n",
        "import numpy as np\n",
        "\n",
        "from sklearn.metrics import ndcg_score\n",
        "from pathlib import Path\n",
        "\n",
        "from implicit.cpu.als import AlternatingLeastSquares\n",
        "from implicit.cpu.lmf import LogisticMatrixFactorization\n",
        "from implicit.cpu.bpr import BayesianPersonalizedRanking\n",
        "\n",
        "from scipy.sparse import csr_matrix\n",
        "\n",
        "from catboost import CatBoostClassifier\n",
        "\n",
        "from sklearn.preprocessing import StandardScaler\n",
        "from sklearn.model_selection import train_test_split\n",
        "from sklearn.metrics import roc_auc_score\n",
        "\n",
        "from tqdm import tqdm\n",
        "import torch"
      ],
      "metadata": {
        "id": "e_onZdMjjeXO"
      },
      "execution_count": null,
      "outputs": []
    },
    {
      "cell_type": "markdown",
      "source": [
        "# 0. Unzip"
      ],
      "metadata": {
        "id": "9yGKhQZsl4AD"
      }
    },
    {
      "cell_type": "markdown",
      "source": [
        "```python\n",
        "import zipfile\n",
        "\n",
        "path = '/content/drive/MyDrive/recsys_contest/hse-25-rec-sys-course-competition.zip'\n",
        "zip = zipfile.ZipFile(path)\n",
        "zip.extractall('/content/drive/MyDrive/recsys_contest')\n",
        "```"
      ],
      "metadata": {
        "id": "noYKdqK3l6_O"
      }
    },
    {
      "cell_type": "markdown",
      "source": [
        "# 1. Разделение данных"
      ],
      "metadata": {
        "id": "KpuSzvWDjcIZ"
      }
    },
    {
      "cell_type": "code",
      "source": [
        "train = pd.read_csv('/content/drive/MyDrive/recsys_contest/hse_train.csv')\n",
        "train.head()"
      ],
      "metadata": {
        "colab": {
          "base_uri": "https://localhost:8080/",
          "height": 206
        },
        "id": "MXodQy9YjbR9",
        "outputId": "7137f57e-b2ee-46d9-deb1-0d34571d115b"
      },
      "execution_count": null,
      "outputs": [
        {
          "output_type": "execute_result",
          "data": {
            "text/plain": [
              "   user_id  item_id   timestamp\n",
              "0   258671    74254  1511701649\n",
              "1   258671   115615  1511841435\n",
              "2   258671   176624  1512105022\n",
              "3   240498    45484  1511605442\n",
              "4   240498    39504  1511756830"
            ],
            "text/html": [
              "\n",
              "  <div id=\"df-2e39df82-e104-481b-bba6-a2ad5b21041e\" class=\"colab-df-container\">\n",
              "    <div>\n",
              "<style scoped>\n",
              "    .dataframe tbody tr th:only-of-type {\n",
              "        vertical-align: middle;\n",
              "    }\n",
              "\n",
              "    .dataframe tbody tr th {\n",
              "        vertical-align: top;\n",
              "    }\n",
              "\n",
              "    .dataframe thead th {\n",
              "        text-align: right;\n",
              "    }\n",
              "</style>\n",
              "<table border=\"1\" class=\"dataframe\">\n",
              "  <thead>\n",
              "    <tr style=\"text-align: right;\">\n",
              "      <th></th>\n",
              "      <th>user_id</th>\n",
              "      <th>item_id</th>\n",
              "      <th>timestamp</th>\n",
              "    </tr>\n",
              "  </thead>\n",
              "  <tbody>\n",
              "    <tr>\n",
              "      <th>0</th>\n",
              "      <td>258671</td>\n",
              "      <td>74254</td>\n",
              "      <td>1511701649</td>\n",
              "    </tr>\n",
              "    <tr>\n",
              "      <th>1</th>\n",
              "      <td>258671</td>\n",
              "      <td>115615</td>\n",
              "      <td>1511841435</td>\n",
              "    </tr>\n",
              "    <tr>\n",
              "      <th>2</th>\n",
              "      <td>258671</td>\n",
              "      <td>176624</td>\n",
              "      <td>1512105022</td>\n",
              "    </tr>\n",
              "    <tr>\n",
              "      <th>3</th>\n",
              "      <td>240498</td>\n",
              "      <td>45484</td>\n",
              "      <td>1511605442</td>\n",
              "    </tr>\n",
              "    <tr>\n",
              "      <th>4</th>\n",
              "      <td>240498</td>\n",
              "      <td>39504</td>\n",
              "      <td>1511756830</td>\n",
              "    </tr>\n",
              "  </tbody>\n",
              "</table>\n",
              "</div>\n",
              "    <div class=\"colab-df-buttons\">\n",
              "\n",
              "  <div class=\"colab-df-container\">\n",
              "    <button class=\"colab-df-convert\" onclick=\"convertToInteractive('df-2e39df82-e104-481b-bba6-a2ad5b21041e')\"\n",
              "            title=\"Convert this dataframe to an interactive table.\"\n",
              "            style=\"display:none;\">\n",
              "\n",
              "  <svg xmlns=\"http://www.w3.org/2000/svg\" height=\"24px\" viewBox=\"0 -960 960 960\">\n",
              "    <path d=\"M120-120v-720h720v720H120Zm60-500h600v-160H180v160Zm220 220h160v-160H400v160Zm0 220h160v-160H400v160ZM180-400h160v-160H180v160Zm440 0h160v-160H620v160ZM180-180h160v-160H180v160Zm440 0h160v-160H620v160Z\"/>\n",
              "  </svg>\n",
              "    </button>\n",
              "\n",
              "  <style>\n",
              "    .colab-df-container {\n",
              "      display:flex;\n",
              "      gap: 12px;\n",
              "    }\n",
              "\n",
              "    .colab-df-convert {\n",
              "      background-color: #E8F0FE;\n",
              "      border: none;\n",
              "      border-radius: 50%;\n",
              "      cursor: pointer;\n",
              "      display: none;\n",
              "      fill: #1967D2;\n",
              "      height: 32px;\n",
              "      padding: 0 0 0 0;\n",
              "      width: 32px;\n",
              "    }\n",
              "\n",
              "    .colab-df-convert:hover {\n",
              "      background-color: #E2EBFA;\n",
              "      box-shadow: 0px 1px 2px rgba(60, 64, 67, 0.3), 0px 1px 3px 1px rgba(60, 64, 67, 0.15);\n",
              "      fill: #174EA6;\n",
              "    }\n",
              "\n",
              "    .colab-df-buttons div {\n",
              "      margin-bottom: 4px;\n",
              "    }\n",
              "\n",
              "    [theme=dark] .colab-df-convert {\n",
              "      background-color: #3B4455;\n",
              "      fill: #D2E3FC;\n",
              "    }\n",
              "\n",
              "    [theme=dark] .colab-df-convert:hover {\n",
              "      background-color: #434B5C;\n",
              "      box-shadow: 0px 1px 3px 1px rgba(0, 0, 0, 0.15);\n",
              "      filter: drop-shadow(0px 1px 2px rgba(0, 0, 0, 0.3));\n",
              "      fill: #FFFFFF;\n",
              "    }\n",
              "  </style>\n",
              "\n",
              "    <script>\n",
              "      const buttonEl =\n",
              "        document.querySelector('#df-2e39df82-e104-481b-bba6-a2ad5b21041e button.colab-df-convert');\n",
              "      buttonEl.style.display =\n",
              "        google.colab.kernel.accessAllowed ? 'block' : 'none';\n",
              "\n",
              "      async function convertToInteractive(key) {\n",
              "        const element = document.querySelector('#df-2e39df82-e104-481b-bba6-a2ad5b21041e');\n",
              "        const dataTable =\n",
              "          await google.colab.kernel.invokeFunction('convertToInteractive',\n",
              "                                                    [key], {});\n",
              "        if (!dataTable) return;\n",
              "\n",
              "        const docLinkHtml = 'Like what you see? Visit the ' +\n",
              "          '<a target=\"_blank\" href=https://colab.research.google.com/notebooks/data_table.ipynb>data table notebook</a>'\n",
              "          + ' to learn more about interactive tables.';\n",
              "        element.innerHTML = '';\n",
              "        dataTable['output_type'] = 'display_data';\n",
              "        await google.colab.output.renderOutput(dataTable, element);\n",
              "        const docLink = document.createElement('div');\n",
              "        docLink.innerHTML = docLinkHtml;\n",
              "        element.appendChild(docLink);\n",
              "      }\n",
              "    </script>\n",
              "  </div>\n",
              "\n",
              "\n",
              "    <div id=\"df-ddfd09f2-8942-449d-8e0b-7c984f029738\">\n",
              "      <button class=\"colab-df-quickchart\" onclick=\"quickchart('df-ddfd09f2-8942-449d-8e0b-7c984f029738')\"\n",
              "                title=\"Suggest charts\"\n",
              "                style=\"display:none;\">\n",
              "\n",
              "<svg xmlns=\"http://www.w3.org/2000/svg\" height=\"24px\"viewBox=\"0 0 24 24\"\n",
              "     width=\"24px\">\n",
              "    <g>\n",
              "        <path d=\"M19 3H5c-1.1 0-2 .9-2 2v14c0 1.1.9 2 2 2h14c1.1 0 2-.9 2-2V5c0-1.1-.9-2-2-2zM9 17H7v-7h2v7zm4 0h-2V7h2v10zm4 0h-2v-4h2v4z\"/>\n",
              "    </g>\n",
              "</svg>\n",
              "      </button>\n",
              "\n",
              "<style>\n",
              "  .colab-df-quickchart {\n",
              "      --bg-color: #E8F0FE;\n",
              "      --fill-color: #1967D2;\n",
              "      --hover-bg-color: #E2EBFA;\n",
              "      --hover-fill-color: #174EA6;\n",
              "      --disabled-fill-color: #AAA;\n",
              "      --disabled-bg-color: #DDD;\n",
              "  }\n",
              "\n",
              "  [theme=dark] .colab-df-quickchart {\n",
              "      --bg-color: #3B4455;\n",
              "      --fill-color: #D2E3FC;\n",
              "      --hover-bg-color: #434B5C;\n",
              "      --hover-fill-color: #FFFFFF;\n",
              "      --disabled-bg-color: #3B4455;\n",
              "      --disabled-fill-color: #666;\n",
              "  }\n",
              "\n",
              "  .colab-df-quickchart {\n",
              "    background-color: var(--bg-color);\n",
              "    border: none;\n",
              "    border-radius: 50%;\n",
              "    cursor: pointer;\n",
              "    display: none;\n",
              "    fill: var(--fill-color);\n",
              "    height: 32px;\n",
              "    padding: 0;\n",
              "    width: 32px;\n",
              "  }\n",
              "\n",
              "  .colab-df-quickchart:hover {\n",
              "    background-color: var(--hover-bg-color);\n",
              "    box-shadow: 0 1px 2px rgba(60, 64, 67, 0.3), 0 1px 3px 1px rgba(60, 64, 67, 0.15);\n",
              "    fill: var(--button-hover-fill-color);\n",
              "  }\n",
              "\n",
              "  .colab-df-quickchart-complete:disabled,\n",
              "  .colab-df-quickchart-complete:disabled:hover {\n",
              "    background-color: var(--disabled-bg-color);\n",
              "    fill: var(--disabled-fill-color);\n",
              "    box-shadow: none;\n",
              "  }\n",
              "\n",
              "  .colab-df-spinner {\n",
              "    border: 2px solid var(--fill-color);\n",
              "    border-color: transparent;\n",
              "    border-bottom-color: var(--fill-color);\n",
              "    animation:\n",
              "      spin 1s steps(1) infinite;\n",
              "  }\n",
              "\n",
              "  @keyframes spin {\n",
              "    0% {\n",
              "      border-color: transparent;\n",
              "      border-bottom-color: var(--fill-color);\n",
              "      border-left-color: var(--fill-color);\n",
              "    }\n",
              "    20% {\n",
              "      border-color: transparent;\n",
              "      border-left-color: var(--fill-color);\n",
              "      border-top-color: var(--fill-color);\n",
              "    }\n",
              "    30% {\n",
              "      border-color: transparent;\n",
              "      border-left-color: var(--fill-color);\n",
              "      border-top-color: var(--fill-color);\n",
              "      border-right-color: var(--fill-color);\n",
              "    }\n",
              "    40% {\n",
              "      border-color: transparent;\n",
              "      border-right-color: var(--fill-color);\n",
              "      border-top-color: var(--fill-color);\n",
              "    }\n",
              "    60% {\n",
              "      border-color: transparent;\n",
              "      border-right-color: var(--fill-color);\n",
              "    }\n",
              "    80% {\n",
              "      border-color: transparent;\n",
              "      border-right-color: var(--fill-color);\n",
              "      border-bottom-color: var(--fill-color);\n",
              "    }\n",
              "    90% {\n",
              "      border-color: transparent;\n",
              "      border-bottom-color: var(--fill-color);\n",
              "    }\n",
              "  }\n",
              "</style>\n",
              "\n",
              "      <script>\n",
              "        async function quickchart(key) {\n",
              "          const quickchartButtonEl =\n",
              "            document.querySelector('#' + key + ' button');\n",
              "          quickchartButtonEl.disabled = true;  // To prevent multiple clicks.\n",
              "          quickchartButtonEl.classList.add('colab-df-spinner');\n",
              "          try {\n",
              "            const charts = await google.colab.kernel.invokeFunction(\n",
              "                'suggestCharts', [key], {});\n",
              "          } catch (error) {\n",
              "            console.error('Error during call to suggestCharts:', error);\n",
              "          }\n",
              "          quickchartButtonEl.classList.remove('colab-df-spinner');\n",
              "          quickchartButtonEl.classList.add('colab-df-quickchart-complete');\n",
              "        }\n",
              "        (() => {\n",
              "          let quickchartButtonEl =\n",
              "            document.querySelector('#df-ddfd09f2-8942-449d-8e0b-7c984f029738 button');\n",
              "          quickchartButtonEl.style.display =\n",
              "            google.colab.kernel.accessAllowed ? 'block' : 'none';\n",
              "        })();\n",
              "      </script>\n",
              "    </div>\n",
              "    </div>\n",
              "  </div>\n"
            ],
            "application/vnd.google.colaboratory.intrinsic+json": {
              "type": "dataframe",
              "variable_name": "train"
            }
          },
          "metadata": {},
          "execution_count": 54
        }
      ]
    },
    {
      "cell_type": "code",
      "source": [
        "len(train)"
      ],
      "metadata": {
        "colab": {
          "base_uri": "https://localhost:8080/"
        },
        "id": "TscMFsl2rY0v",
        "outputId": "669b4598-17f9-4c30-8324-20603f2de47f"
      },
      "execution_count": null,
      "outputs": [
        {
          "output_type": "execute_result",
          "data": {
            "text/plain": [
              "4842338"
            ]
          },
          "metadata": {},
          "execution_count": 55
        }
      ]
    },
    {
      "cell_type": "code",
      "source": [
        "uids = train.user_id.unique()\n",
        "uids.sort()\n",
        "\n",
        "user2id = {id_: i for i, id_ in enumerate(uids)}"
      ],
      "metadata": {
        "id": "7FC3ww4T6XJl"
      },
      "execution_count": null,
      "outputs": []
    },
    {
      "cell_type": "code",
      "source": [
        "iids = train.item_id.unique()\n",
        "iids.sort()\n",
        "\n",
        "item2id = {id_: i for i, id_ in enumerate(iids)}"
      ],
      "metadata": {
        "id": "OWTCVg_D6eOX"
      },
      "execution_count": null,
      "outputs": []
    },
    {
      "cell_type": "code",
      "source": [
        "train.user_id = train.user_id.map(user2id)\n",
        "train.item_id = train.item_id.map(item2id)"
      ],
      "metadata": {
        "id": "eSxEDE6N6rlC"
      },
      "execution_count": null,
      "outputs": []
    },
    {
      "cell_type": "code",
      "source": [
        "threshold = train.timestamp.quantile(0.75)\n",
        "train_1, val_1 = train[train.timestamp <= threshold], train[train.timestamp > threshold]"
      ],
      "metadata": {
        "id": "uk56IaC_jaym"
      },
      "execution_count": null,
      "outputs": []
    },
    {
      "cell_type": "markdown",
      "source": [
        "# 2. Модели первого уровня"
      ],
      "metadata": {
        "id": "kHdozU5drz0M"
      }
    },
    {
      "cell_type": "markdown",
      "source": [
        "## 2.1. Эвристические модели"
      ],
      "metadata": {
        "id": "jj-0DRe7r8lS"
      }
    },
    {
      "cell_type": "markdown",
      "source": [
        "### 2.1.1. TopPop"
      ],
      "metadata": {
        "id": "KhClRIrxsDrl"
      }
    },
    {
      "cell_type": "code",
      "source": [
        "class TopPopVanila:\n",
        "  def fit(self, df):\n",
        "    df = df.copy()\n",
        "    self.preds = df.groupby('item_id').agg({'timestamp': 'count'})\\\n",
        "      .sort_values(by='timestamp', ascending=False)\n",
        "\n",
        "  def score(self, item_ids, user_ids=[None]):\n",
        "    return self.preds.loc[item_ids].values[:, 0].tolist()\n",
        "\n",
        "  def top_n(self, n, user_ids=[None]):\n",
        "    return [self.preds.index[:n].tolist()] * len(user_ids)"
      ],
      "metadata": {
        "id": "qNSREg_M0q4t"
      },
      "execution_count": null,
      "outputs": []
    },
    {
      "cell_type": "markdown",
      "source": [
        "### 2.1.2. TopPop window"
      ],
      "metadata": {
        "id": "cOmuY2vLxrr4"
      }
    },
    {
      "cell_type": "code",
      "source": [
        "class TopPopWindow(TopPopVanila):\n",
        "  def fit(self, df, window=50000):\n",
        "    df = df.copy()\n",
        "    df['value'] = df.timestamp > df.timestamp.max() - window\n",
        "    self.preds = df.groupby('item_id').agg({'value': 'sum'})\\\n",
        "      .sort_values(by='value', ascending=False)"
      ],
      "metadata": {
        "id": "9pB2FKTm0zsT"
      },
      "execution_count": null,
      "outputs": []
    },
    {
      "cell_type": "markdown",
      "source": [
        "### 2.1.3. TopPop w smotthing"
      ],
      "metadata": {
        "id": "LXGCT3B6xxhN"
      }
    },
    {
      "cell_type": "code",
      "source": [
        "class TopPopularSmooth(TopPopVanila):\n",
        "  def fit(self, df):\n",
        "    df = df.copy()\n",
        "\n",
        "    first = df.timestamp.min()\n",
        "    last = df.timestamp.max()\n",
        "    delta = last - first + 1\n",
        "    df['value'] = df.timestamp.apply(lambda x: (x - first + 1) / delta)\n",
        "\n",
        "    self.preds = df.groupby('item_id').agg({'value': 'sum'})\\\n",
        "      .sort_values(by='value', ascending=False)"
      ],
      "metadata": {
        "id": "R4O1paRGrsWh"
      },
      "execution_count": null,
      "outputs": []
    },
    {
      "cell_type": "markdown",
      "source": [
        "## 2.2. Матричное разложение"
      ],
      "metadata": {
        "id": "P37jpW4yx1ZE"
      }
    },
    {
      "cell_type": "markdown",
      "source": [
        "### 2.2.1. iALS"
      ],
      "metadata": {
        "id": "vDgTgLM85947"
      }
    },
    {
      "cell_type": "code",
      "source": [
        "class iALS:\n",
        "  def fit(self, df):\n",
        "\n",
        "    shape = (\n",
        "      df.user_id.max() + 1,\n",
        "      df.item_id.max() + 1\n",
        "    )\n",
        "\n",
        "    first = df.timestamp.min()\n",
        "    last = df.timestamp.max()\n",
        "    delta = last - first + 1\n",
        "    df['value'] = df.timestamp.apply(lambda x: (x - first + 1) / delta)\n",
        "\n",
        "    self.user_item_matrix = csr_matrix(\n",
        "        (\n",
        "            df['value'],\n",
        "            df[['user_id', 'item_id']].T.values\n",
        "        ),\n",
        "        shape=shape\n",
        "    )\n",
        "\n",
        "    path = Path('/content/drive/MyDrive/recsys_contest/ials.npz')\n",
        "    if path.exists():\n",
        "      self.mf = AlternatingLeastSquares.load(path)\n",
        "    else:\n",
        "      self.mf = AlternatingLeastSquares(factors=15, calculate_training_loss=True)\n",
        "      self.mf.fit(self.user_item_matrix)\n",
        "      self.mf.save(path)\n",
        "\n",
        "    self.userf = torch.tensor(self.mf.user_factors).to('cuda') if torch.cuda.is_available() \\\n",
        "      else torch.tensor(self.mf.user_factors)\n",
        "\n",
        "    self.itemf = torch.tensor(self.mf.item_factors).to('cuda') if torch.cuda.is_available() \\\n",
        "      else torch.tensor(self.mf.item_factors)\n",
        "\n",
        "  def score(self, item_ids, user_ids, batch_size=25000):\n",
        "    scores = torch.tensor([]).to('cuda') if torch.cuda.is_available() else torch.tensor([])\n",
        "    for i in tqdm(range(0, len(item_ids), batch_size)):\n",
        "      logits = self.userf[user_ids[i:i+batch_size]] @ \\\n",
        "        self.itemf[item_ids[i:i+batch_size]].T\n",
        "      scores = torch.concatenate(\n",
        "          (\n",
        "              scores,\n",
        "              logits.diag()\n",
        "          )\n",
        "      )\n",
        "    return scores.cpu()\n",
        "\n",
        "  def top_n(self, n, user_ids):\n",
        "    return self.mf.recommend(user_ids, self.user_item_matrix[user_ids], N=n)[0].tolist()"
      ],
      "metadata": {
        "id": "uD3u_Ld9yVSR"
      },
      "execution_count": null,
      "outputs": []
    },
    {
      "cell_type": "markdown",
      "source": [
        "### 2.2.2. LMF"
      ],
      "metadata": {
        "id": "Ry7serSE6BzI"
      }
    },
    {
      "cell_type": "code",
      "source": [
        "class LMF(iALS):\n",
        "  def fit(self, df):\n",
        "\n",
        "    shape = (\n",
        "      df.user_id.max() + 1,\n",
        "      df.item_id.max() + 1\n",
        "    )\n",
        "\n",
        "    first = df.timestamp.min()\n",
        "    last = df.timestamp.max()\n",
        "    delta = last - first + 1\n",
        "    df['value'] = df.timestamp.apply(lambda x: (x - first + 1) / delta)\n",
        "\n",
        "    self.user_item_matrix = csr_matrix(\n",
        "        (\n",
        "            df['value'],\n",
        "            df[['user_id', 'item_id']].T.values\n",
        "        ),\n",
        "        shape=shape\n",
        "    )\n",
        "\n",
        "    path = Path('/content/drive/MyDrive/recsys_contest/lmf.npz')\n",
        "    if path.exists():\n",
        "      self.mf = LogisticMatrixFactorization.load(path)\n",
        "    else:\n",
        "      self.mf = LogisticMatrixFactorization()\n",
        "      self.mf.fit(self.user_item_matrix)\n",
        "      self.mf.save(path)\n",
        "\n",
        "    self.userf = torch.tensor(self.mf.user_factors).to('cuda') if torch.cuda.is_available() \\\n",
        "      else self.mf.user_factors\n",
        "\n",
        "    self.itemf = torch.tensor(self.mf.item_factors).to('cuda') if torch.cuda.is_available() \\\n",
        "      else self.mf.item_factors"
      ],
      "metadata": {
        "id": "haiYpizx6lag"
      },
      "execution_count": null,
      "outputs": []
    },
    {
      "cell_type": "markdown",
      "source": [
        "### 2.2.3. BPR"
      ],
      "metadata": {
        "id": "efLgQi6zgjHH"
      }
    },
    {
      "cell_type": "code",
      "source": [
        "class BPR(iALS):\n",
        "  def fit(self, df):\n",
        "\n",
        "    shape = (\n",
        "      df.user_id.max() + 1,\n",
        "      df.item_id.max() + 1\n",
        "    )\n",
        "\n",
        "    first = df.timestamp.min()\n",
        "    last = df.timestamp.max()\n",
        "    delta = last - first + 1\n",
        "    df['value'] = df.timestamp.apply(lambda x: (x - first + 1) / delta)\n",
        "\n",
        "    self.user_item_matrix = csr_matrix(\n",
        "        (\n",
        "            df['value'],\n",
        "            df[['user_id', 'item_id']].T.values\n",
        "        ),\n",
        "        shape=shape\n",
        "    )\n",
        "\n",
        "    path = Path('/content/drive/MyDrive/recsys_contest/bpr.npz')\n",
        "    if path.exists():\n",
        "      self.mf = BayesianPersonalizedRanking.load(path)\n",
        "    else:\n",
        "      self.mf = BayesianPersonalizedRanking(factors=15)\n",
        "      self.mf.fit(self.user_item_matrix)\n",
        "      self.mf.save(path)\n",
        "\n",
        "    self.userf = torch.tensor(self.mf.user_factors).to('cuda') if torch.cuda.is_available() \\\n",
        "      else self.mf.user_factors\n",
        "\n",
        "    self.itemf = torch.tensor(self.mf.item_factors).to('cuda') if torch.cuda.is_available() \\\n",
        "      else self.mf.item_factors"
      ],
      "metadata": {
        "id": "5y11VeDegjHI"
      },
      "execution_count": null,
      "outputs": []
    },
    {
      "cell_type": "markdown",
      "source": [
        "## 2.3. Нейросетевые модели"
      ],
      "metadata": {
        "id": "m5ga1Xt5Xgkm"
      }
    },
    {
      "cell_type": "markdown",
      "source": [
        "### 2.3.1. BERT4Rec"
      ],
      "metadata": {
        "id": "knqxOWE3Xk6t"
      }
    },
    {
      "cell_type": "code",
      "source": [
        "# from rectools.models.nn.transformers.bert4rec import BERT4RecModel\n",
        "# from rectools.dataset import Dataset"
      ],
      "metadata": {
        "id": "p9o77NAMXtB7"
      },
      "execution_count": null,
      "outputs": []
    },
    {
      "cell_type": "code",
      "source": [
        "# class Bert:\n",
        "#   def fit(self, df):\n",
        "#     interactions_df = df[['user_id', 'item_id']]\n",
        "#     interactions_df['datetime'] = df['timestamp']\n",
        "#     interactions_df['weight'] = 1\n",
        "#     self.dataset = Dataset.construct(interactions_df)\n",
        "\n",
        "#     path = Path('/content/drive/MyDrive/recsys_contest/bert')\n",
        "#     if path.exists():\n",
        "#       self.bert = BERT4RecModel.load(path)\n",
        "#     else:\n",
        "#       self.bert = BERT4RecModel(n_heads=2, n_factors=32, epochs=1, batch_size=64)\n",
        "#       self.bert.fit(self.dataset)\n",
        "#       self.bert.save(path)\n",
        "\n",
        "#   def score(self, item_id, user_id):\n",
        "#     df = self.bert.recommend(\n",
        "#           [user_id],\n",
        "#           self.dataset,\n",
        "#           k=len(self.dataset.item_id_map.external_ids),\n",
        "#           filter_viewed=False\n",
        "#     )\n",
        "#     item_row = df[df.item_id == item_id]\n",
        "#     if len(item_row) != 1:\n",
        "#       return 0\n",
        "#     return item_row.score.item()\n",
        "\n",
        "#   def top_n(self, n, user_ids):\n",
        "#     bert_preds = self.bert.recommend(user_ids, self.dataset, top_n=n, filter_viewed=True)\n",
        "#     return bert_preds.groupby('user_id').agg({'item_id': list}).loc[user_ids].tolist()"
      ],
      "metadata": {
        "id": "j6VxDF6aXpfm"
      },
      "execution_count": null,
      "outputs": []
    },
    {
      "cell_type": "markdown",
      "source": [
        "### 2.3.1. SASRec"
      ],
      "metadata": {
        "id": "O6VY6tBHbbZf"
      }
    },
    {
      "cell_type": "code",
      "source": [
        "# from rectools.models.nn.transformers.sasrec import SASRecModel"
      ],
      "metadata": {
        "id": "GFa1x1WPbbZh"
      },
      "execution_count": null,
      "outputs": []
    },
    {
      "cell_type": "code",
      "source": [
        "# class SAS:\n",
        "#   def fit(self, df):\n",
        "#     interactions_df = df[['user_id', 'item_id']]\n",
        "#     interactions_df['datetime'] = df['timestamp']\n",
        "#     interactions_df['weight'] = 1\n",
        "#     self.dataset = Dataset.construct(interactions_df)\n",
        "\n",
        "#     path = Path('/content/drive/MyDrive/recsys_contest/sasrec')\n",
        "#     if path.exists():\n",
        "#       self.sasrec = SASRecModel.load(path)\n",
        "#     else:\n",
        "#       self.sasrec = SASRecModel(n_heads=2, n_factors=32, epochs=1, batch_size=64)\n",
        "#       self.sasrec.fit(self.dataset)\n",
        "#       self.sasrec.save(path)\n",
        "\n",
        "#   def score(self, item_id, user_id):\n",
        "#     df = self.sasrec.recommend(\n",
        "#           [user_id],\n",
        "#           self.dataset,\n",
        "#           k=len(self.dataset.item_id_map.external_ids),\n",
        "#           filter_viewed=False\n",
        "#     )\n",
        "#     item_row = df[df.item_id == item_id]\n",
        "#     if len(item_row) != 1:\n",
        "#       return 0\n",
        "#     return item_row.score.item()\n",
        "\n",
        "#   def top_n(self, n, user_ids):\n",
        "#     sas_preds = self.sasrec.recommend(user_ids, self.dataset, top_n=n, filter_viewed=True)\n",
        "#     return sas_preds.groupby('user_id').agg({'item_id': list}).loc[user_ids].tolist()"
      ],
      "metadata": {
        "id": "y-ET6qeubbZh"
      },
      "execution_count": null,
      "outputs": []
    },
    {
      "cell_type": "markdown",
      "source": [
        "# 3. Обучение модели второго уровня"
      ],
      "metadata": {
        "id": "VD5UD7Bf-iPc"
      }
    },
    {
      "cell_type": "markdown",
      "source": [
        "## 3.1. Сбор датасета"
      ],
      "metadata": {
        "id": "HWaXEdP348mi"
      }
    },
    {
      "cell_type": "markdown",
      "source": [
        "### 3.1.1. Генерация кандидатов"
      ],
      "metadata": {
        "id": "xdJqyMN45EzQ"
      }
    },
    {
      "cell_type": "code",
      "source": [
        "models = {\n",
        "    'toppop': TopPopVanila(),\n",
        "    'toppop_window': TopPopWindow(),\n",
        "    'toppop_smooth': TopPopularSmooth(),\n",
        "    'ials': iALS(),\n",
        "    'lmf': LMF(),\n",
        "    'bpr': BPR()\n",
        "    # 'bert': Bert(),\n",
        "    # 'sasrec': SAS()\n",
        "}"
      ],
      "metadata": {
        "id": "zamM6gUB-kP1"
      },
      "execution_count": null,
      "outputs": []
    },
    {
      "cell_type": "code",
      "source": [
        "for name, model in models.items():\n",
        "  print(name)\n",
        "  model.fit(train_1)"
      ],
      "metadata": {
        "colab": {
          "base_uri": "https://localhost:8080/"
        },
        "id": "_Sk5ojf8_byG",
        "outputId": "727f1780-09b7-4d1d-eac1-b0ec520688e6"
      },
      "execution_count": null,
      "outputs": [
        {
          "output_type": "stream",
          "name": "stdout",
          "text": [
            "toppop\n",
            "toppop_window\n",
            "toppop_smooth\n",
            "ials\n"
          ]
        },
        {
          "output_type": "stream",
          "name": "stderr",
          "text": [
            "<ipython-input-115-33880c94c6e8>:12: SettingWithCopyWarning: \n",
            "A value is trying to be set on a copy of a slice from a DataFrame.\n",
            "Try using .loc[row_indexer,col_indexer] = value instead\n",
            "\n",
            "See the caveats in the documentation: https://pandas.pydata.org/pandas-docs/stable/user_guide/indexing.html#returning-a-view-versus-a-copy\n",
            "  df['value'] = df.timestamp.apply(lambda x: (x - first + 1) / delta)\n"
          ]
        },
        {
          "output_type": "stream",
          "name": "stdout",
          "text": [
            "lmf\n"
          ]
        },
        {
          "output_type": "stream",
          "name": "stderr",
          "text": [
            "<ipython-input-117-acbe4de06257>:12: SettingWithCopyWarning: \n",
            "A value is trying to be set on a copy of a slice from a DataFrame.\n",
            "Try using .loc[row_indexer,col_indexer] = value instead\n",
            "\n",
            "See the caveats in the documentation: https://pandas.pydata.org/pandas-docs/stable/user_guide/indexing.html#returning-a-view-versus-a-copy\n",
            "  df['value'] = df.timestamp.apply(lambda x: (x - first + 1) / delta)\n"
          ]
        },
        {
          "output_type": "stream",
          "name": "stdout",
          "text": [
            "bpr\n"
          ]
        },
        {
          "output_type": "stream",
          "name": "stderr",
          "text": [
            "<ipython-input-119-3b4367eeee66>:12: SettingWithCopyWarning: \n",
            "A value is trying to be set on a copy of a slice from a DataFrame.\n",
            "Try using .loc[row_indexer,col_indexer] = value instead\n",
            "\n",
            "See the caveats in the documentation: https://pandas.pydata.org/pandas-docs/stable/user_guide/indexing.html#returning-a-view-versus-a-copy\n",
            "  df['value'] = df.timestamp.apply(lambda x: (x - first + 1) / delta)\n"
          ]
        }
      ]
    },
    {
      "cell_type": "code",
      "source": [
        "pred_table = pd.DataFrame({'user_id': train.user_id.unique()})"
      ],
      "metadata": {
        "id": "5SvJGtk2oCGD"
      },
      "execution_count": null,
      "outputs": []
    },
    {
      "cell_type": "code",
      "source": [
        "for name, model in models.items():\n",
        "  print(name)\n",
        "  pred_table[name + '_items'] = model.top_n(10, pred_table.user_id.to_list())"
      ],
      "metadata": {
        "id": "_IpMkS-0BrX1",
        "colab": {
          "base_uri": "https://localhost:8080/"
        },
        "outputId": "cac19067-787c-490a-b27c-09e1b7190115"
      },
      "execution_count": null,
      "outputs": [
        {
          "output_type": "stream",
          "name": "stdout",
          "text": [
            "toppop\n",
            "toppop_window\n",
            "toppop_smooth\n",
            "ials\n",
            "lmf\n",
            "bpr\n"
          ]
        }
      ]
    },
    {
      "cell_type": "code",
      "source": [
        "pred_table['combined'] = \\\n",
        "  pred_table.toppop_items + \\\n",
        "  pred_table.toppop_window_items + \\\n",
        "  pred_table.toppop_smooth_items + \\\n",
        "  pred_table.ials_items + \\\n",
        "  pred_table.lmf_items + \\\n",
        "  pred_table.bpr_items"
      ],
      "metadata": {
        "id": "q7KAG7ApUnUi"
      },
      "execution_count": null,
      "outputs": []
    },
    {
      "cell_type": "code",
      "source": [
        "pred_table['combined'] = pred_table['combined'].apply(set)"
      ],
      "metadata": {
        "id": "1rouISDSNYCF"
      },
      "execution_count": null,
      "outputs": []
    },
    {
      "cell_type": "code",
      "source": [
        "train_df = pred_table[['user_id', 'combined']].apply(\n",
        "    lambda row: pd.DataFrame(\n",
        "        {\n",
        "            'user_id':[row.user_id] * len(row.combined),\n",
        "            'combined': list(row.combined)\n",
        "        }\n",
        "    ),\n",
        "    axis=1\n",
        ")"
      ],
      "metadata": {
        "id": "5NfvJUmqWKF9"
      },
      "execution_count": null,
      "outputs": []
    },
    {
      "cell_type": "code",
      "source": [
        "pd.concat(train_df.tolist()).to_csv(\n",
        "    '/content/drive/MyDrive/recsys_contest/light_models_pred.csv',\n",
        "    index=False\n",
        ")"
      ],
      "metadata": {
        "id": "V47hvfQnXVyg"
      },
      "execution_count": null,
      "outputs": []
    },
    {
      "cell_type": "markdown",
      "source": [
        "#### 3.1.2. Доливка валидейта"
      ],
      "metadata": {
        "id": "pOKrIbPv5KQY"
      }
    },
    {
      "cell_type": "code",
      "source": [
        "train_df = pd.read_csv('/content/drive/MyDrive/recsys_contest/light_models_pred.csv').rename(columns={'combined': 'item_id'})\n",
        "train_df['target'] = 0"
      ],
      "metadata": {
        "id": "egsCkvU5Zdbb"
      },
      "execution_count": null,
      "outputs": []
    },
    {
      "cell_type": "code",
      "source": [
        "iid_digits = np.log10(len(iids)) // 1 + 2\n",
        "coef = 10 ** iid_digits"
      ],
      "metadata": {
        "id": "5OIqZRXp2SDJ"
      },
      "execution_count": null,
      "outputs": []
    },
    {
      "cell_type": "code",
      "source": [
        "train_df['key'] = (train_df.user_id * coef) + train_df.item_id\n",
        "val_1['key'] = (val_1.user_id * coef) + val_1.item_id"
      ],
      "metadata": {
        "colab": {
          "base_uri": "https://localhost:8080/"
        },
        "id": "J2KOy-ch04KA",
        "outputId": "353f0cce-d354-430c-b32e-730301a95c6f"
      },
      "execution_count": null,
      "outputs": [
        {
          "output_type": "stream",
          "name": "stderr",
          "text": [
            "<ipython-input-61-fd784a475edc>:2: SettingWithCopyWarning: \n",
            "A value is trying to be set on a copy of a slice from a DataFrame.\n",
            "Try using .loc[row_indexer,col_indexer] = value instead\n",
            "\n",
            "See the caveats in the documentation: https://pandas.pydata.org/pandas-docs/stable/user_guide/indexing.html#returning-a-view-versus-a-copy\n",
            "  val_1['key'] = (val_1.user_id * coef) + val_1.item_id\n"
          ]
        }
      ]
    },
    {
      "cell_type": "code",
      "source": [
        "train_df = train_df[~np.in1d(train_df['key'], val_1['key'])]\n",
        "val_1 = val_1[\n",
        "    np.in1d(val_1.user_id, train_1.user_id) & np.in1d(val_1.item_id, train_1.item_id)\n",
        "]"
      ],
      "metadata": {
        "id": "8umBYr6c3U5P"
      },
      "execution_count": null,
      "outputs": []
    },
    {
      "cell_type": "code",
      "source": [
        "val_1['target'] = 1\n",
        "train_df = pd.concat(\n",
        "    (\n",
        "        val_1,\n",
        "        train_df.sample(len(val_1))\n",
        "    )\n",
        ")"
      ],
      "metadata": {
        "colab": {
          "base_uri": "https://localhost:8080/"
        },
        "id": "YmgOm-6731sL",
        "outputId": "732ab3f3-4fdd-4e6b-85b4-72bba8b6c520"
      },
      "execution_count": null,
      "outputs": [
        {
          "output_type": "stream",
          "name": "stderr",
          "text": [
            "<ipython-input-65-f75aa4df2300>:1: SettingWithCopyWarning: \n",
            "A value is trying to be set on a copy of a slice from a DataFrame.\n",
            "Try using .loc[row_indexer,col_indexer] = value instead\n",
            "\n",
            "See the caveats in the documentation: https://pandas.pydata.org/pandas-docs/stable/user_guide/indexing.html#returning-a-view-versus-a-copy\n",
            "  val_1['target'] = 1\n"
          ]
        }
      ]
    },
    {
      "cell_type": "code",
      "source": [
        "train_df[['user_id', 'item_id', 'target']].to_csv(\n",
        "    '/content/drive/MyDrive/recsys_contest/catboost_dataset.csv',\n",
        "    index=False\n",
        ")"
      ],
      "metadata": {
        "id": "nAezMAmk4b9c"
      },
      "execution_count": null,
      "outputs": []
    },
    {
      "cell_type": "markdown",
      "source": [
        "### 3.1.3. Получение оценок моделей"
      ],
      "metadata": {
        "id": "axhu0IsB6OII"
      }
    },
    {
      "cell_type": "code",
      "source": [
        "train_df = pd.read_csv('/content/drive/MyDrive/recsys_contest/catboost_dataset.csv')"
      ],
      "metadata": {
        "id": "UZFUq4zdqoXK"
      },
      "execution_count": null,
      "outputs": []
    },
    {
      "cell_type": "code",
      "source": [
        "for name, model in models.items():\n",
        "  print(name)\n",
        "  train_df[name + '_score'] = model.score(\n",
        "      train_df.item_id.values, train_df.user_id.values\n",
        "  )"
      ],
      "metadata": {
        "colab": {
          "base_uri": "https://localhost:8080/"
        },
        "id": "fZ3QH8li6ZbZ",
        "outputId": "3e89e314-a910-4772-97c5-09e3b53d104f"
      },
      "execution_count": null,
      "outputs": [
        {
          "output_type": "stream",
          "name": "stdout",
          "text": [
            "toppop\n",
            "toppop_window\n",
            "toppop_smooth\n",
            "ials\n",
            "lmf\n",
            "bpr\n"
          ]
        }
      ]
    },
    {
      "cell_type": "markdown",
      "source": [
        "## 3.2. Обучение модели"
      ],
      "metadata": {
        "id": "utqqbUSH5AwH"
      }
    },
    {
      "cell_type": "code",
      "source": [
        "cboost = CatBoostClassifier()\n",
        "X_tr, X_te, y_tr, y_te = train_test_split(\n",
        "    train_df[\n",
        "        [\n",
        "            'toppop_score',\n",
        "            'toppop_window_score',\n",
        "            'toppop_smooth_score',\n",
        "            'ials_score',\n",
        "            'lmf_score',\n",
        "            'bpr_score'\n",
        "        ]\n",
        "    ],\n",
        "    train_df.target,\n",
        "    test_size=0.1,\n",
        "    random_state=42\n",
        ")"
      ],
      "metadata": {
        "id": "cODuyl_35ZEX"
      },
      "execution_count": null,
      "outputs": []
    },
    {
      "cell_type": "code",
      "source": [
        "scale = StandardScaler()\n",
        "X_tr = scale.fit_transform(X_tr)\n",
        "X_te = scale.transform(X_te)"
      ],
      "metadata": {
        "id": "blPM6OQ-7X5Y"
      },
      "execution_count": null,
      "outputs": []
    },
    {
      "cell_type": "code",
      "source": [
        "cboost.fit(X_tr, y_tr)"
      ],
      "metadata": {
        "id": "lAGEVU6u7oLf"
      },
      "execution_count": null,
      "outputs": []
    },
    {
      "cell_type": "code",
      "source": [
        "roc_auc_score(y_te, cboost.predict(X_te))"
      ],
      "metadata": {
        "colab": {
          "base_uri": "https://localhost:8080/"
        },
        "id": "syYOKDQ27tD8",
        "outputId": "222bcbf7-9106-4af1-da91-6cfd323d83ce"
      },
      "execution_count": null,
      "outputs": [
        {
          "output_type": "execute_result",
          "data": {
            "text/plain": [
              "0.9663376928452899"
            ]
          },
          "metadata": {},
          "execution_count": 142
        }
      ]
    },
    {
      "cell_type": "code",
      "source": [
        "cboost.save_model('/content/drive/MyDrive/recsys_contest/catboost.cbm')"
      ],
      "metadata": {
        "id": "1RALRfYV7_M3"
      },
      "execution_count": null,
      "outputs": []
    },
    {
      "cell_type": "markdown",
      "source": [
        "# 4. Подготовка рекомендаций"
      ],
      "metadata": {
        "id": "rh21trqgCS9l"
      }
    },
    {
      "cell_type": "markdown",
      "source": [
        "## 4.1. Генерация кандидатов"
      ],
      "metadata": {
        "id": "lkSG-O9kCmGl"
      }
    },
    {
      "cell_type": "code",
      "source": [
        "models = {\n",
        "    'toppop': TopPopVanila(),\n",
        "    'toppop_window': TopPopWindow(),\n",
        "    'toppop_smooth': TopPopularSmooth(),\n",
        "    'ials': iALS(),\n",
        "    'lmf': LMF(),\n",
        "    'bpr': BPR()\n",
        "}"
      ],
      "metadata": {
        "id": "bPQLr_gaClYJ"
      },
      "execution_count": null,
      "outputs": []
    },
    {
      "cell_type": "code",
      "source": [
        "!export OPENBLAS_NUM_THREADS=1"
      ],
      "metadata": {
        "id": "s-IJ2pKPnoHb"
      },
      "execution_count": null,
      "outputs": []
    },
    {
      "cell_type": "code",
      "source": [
        "for name, model in models.items():\n",
        "  print(name)\n",
        "  model.fit(train)"
      ],
      "metadata": {
        "colab": {
          "base_uri": "https://localhost:8080/"
        },
        "id": "hxiR3LZTL-UZ",
        "outputId": "7856355c-2480-4186-923e-11a17dbbc5c6"
      },
      "execution_count": null,
      "outputs": [
        {
          "output_type": "stream",
          "name": "stdout",
          "text": [
            "toppop\n",
            "toppop_window\n",
            "toppop_smooth\n"
          ]
        }
      ]
    },
    {
      "cell_type": "code",
      "source": [
        "pred_table = pd.DataFrame(\n",
        "    {\n",
        "        'user_id': train.user_id.unique(),\n",
        "        'item_ids': [[]] * len(train.user_id.unique())\n",
        "    }\n",
        ")"
      ],
      "metadata": {
        "id": "c9a8-lk4MTm_"
      },
      "execution_count": null,
      "outputs": []
    },
    {
      "cell_type": "code",
      "source": [
        "for name, model in models.items():\n",
        "  print(name)\n",
        "  pred_table['item_ids'] += pd.Series(model.top_n(20, pred_table.user_id.to_list()))"
      ],
      "metadata": {
        "colab": {
          "base_uri": "https://localhost:8080/"
        },
        "id": "BA1nSX74PD7N",
        "outputId": "8a79ee8b-6527-48c0-bec9-12e973e24e6d"
      },
      "execution_count": null,
      "outputs": [
        {
          "output_type": "stream",
          "name": "stdout",
          "text": [
            "toppop\n",
            "toppop_window\n",
            "toppop_smooth\n",
            "ials\n",
            "lmf\n",
            "bpr\n"
          ]
        }
      ]
    },
    {
      "cell_type": "code",
      "source": [
        "pred_table.item_ids = pred_table.item_ids.apply(set).apply(list)"
      ],
      "metadata": {
        "id": "aNIYcYkCkqTO"
      },
      "execution_count": null,
      "outputs": []
    },
    {
      "cell_type": "code",
      "source": [
        "from tqdm import tqdm\n",
        "\n",
        "test_df = {\n",
        "    'user_id': [],\n",
        "    'item_id': []\n",
        "}\n",
        "\n",
        "for _, row in tqdm(pred_table.iterrows(), total=len(pred_table)):\n",
        "    test_df['user_id'].extend([row.user_id] * len(row.item_ids))\n",
        "    test_df['item_id'].extend(row.item_ids)"
      ],
      "metadata": {
        "colab": {
          "base_uri": "https://localhost:8080/"
        },
        "id": "eokhtoEPkFpa",
        "outputId": "36c52aa9-b3c2-4ab1-bbad-4798f7b47f0d"
      },
      "execution_count": null,
      "outputs": [
        {
          "output_type": "stream",
          "name": "stderr",
          "text": [
            "100%|██████████| 701981/701981 [00:53<00:00, 13229.93it/s]\n"
          ]
        }
      ]
    },
    {
      "cell_type": "code",
      "source": [
        "import json\n",
        "\n",
        "with open(\n",
        "    '/content/drive/MyDrive/recsys_contest/light_models_candidates.json',\n",
        "    'w',\n",
        "    encoding='utf-8'\n",
        ") as f:\n",
        "    json.dump(test_df, f)"
      ],
      "metadata": {
        "id": "s0KjEfohmisg"
      },
      "execution_count": null,
      "outputs": []
    },
    {
      "cell_type": "markdown",
      "source": [
        "## 4.2. Получение оценок моделей"
      ],
      "metadata": {
        "id": "QWfMjfRtoJEJ"
      }
    },
    {
      "cell_type": "code",
      "source": [
        "pred_table = pd.read_json('/content/drive/MyDrive/recsys_contest/light_models_candidates.json')"
      ],
      "metadata": {
        "id": "CivJ-c7anyU6"
      },
      "execution_count": null,
      "outputs": []
    },
    {
      "cell_type": "code",
      "source": [
        "for name, model in models.items():\n",
        "  print(name)\n",
        "  pred_table[name + '_score'] = model.score(\n",
        "      pred_table.item_id.values, pred_table.user_id.values\n",
        "  )"
      ],
      "metadata": {
        "colab": {
          "base_uri": "https://localhost:8080/"
        },
        "id": "JjEtSvbcoDtx",
        "outputId": "5d7e3c43-08da-446a-85e4-7c08a1717cb3"
      },
      "execution_count": null,
      "outputs": [
        {
          "output_type": "stream",
          "name": "stdout",
          "text": [
            "toppop\n",
            "toppop_window\n",
            "toppop_smooth\n"
          ]
        }
      ]
    },
    {
      "cell_type": "code",
      "source": [
        "np.save('/content/drive/MyDrive/recsys_contest/toppop_score.npy', pred_table['toppop_score'].values)\n",
        "np.save('/content/drive/MyDrive/recsys_contest/toppop_window_score.npy', pred_table['toppop_window_score'].values)\n",
        "np.save('/content/drive/MyDrive/recsys_contest/toppop_smooth_score.npy', pred_table['toppop_smooth_score'].values)"
      ],
      "metadata": {
        "id": "ht0LeZvhPwPG"
      },
      "execution_count": null,
      "outputs": []
    },
    {
      "cell_type": "code",
      "source": [
        "np.save('/content/drive/MyDrive/recsys_contest/ials_score.npy', pred_table['ials_score'].values)\n",
        "np.save('/content/drive/MyDrive/recsys_contest/lmf_score.npy', pred_table['lmf_score'].values)\n",
        "np.save('/content/drive/MyDrive/recsys_contest/bpr_score.npy', pred_table['bpr_score'].values)"
      ],
      "metadata": {
        "id": "lrJFtvRLNx8c"
      },
      "execution_count": null,
      "outputs": []
    },
    {
      "cell_type": "markdown",
      "source": [
        "## 4.3. Получение предсказаний модели второго уровня"
      ],
      "metadata": {
        "id": "ubnwelOfL5l7"
      }
    },
    {
      "cell_type": "code",
      "source": [
        "model = CatBoostClassifier()\n",
        "model.load_model('/content/drive/MyDrive/recsys_contest/catboost.cbm')"
      ],
      "metadata": {
        "colab": {
          "base_uri": "https://localhost:8080/"
        },
        "id": "LMf44BY7L5XA",
        "outputId": "509a8ebc-d084-49ee-9b53-3f9c8b323114"
      },
      "execution_count": null,
      "outputs": [
        {
          "output_type": "execute_result",
          "data": {
            "text/plain": [
              "<catboost.core.CatBoostClassifier at 0x79c66f20e590>"
            ]
          },
          "metadata": {},
          "execution_count": 5
        }
      ]
    },
    {
      "cell_type": "code",
      "source": [
        "X = np.concatenate(\n",
        "    (\n",
        "        np.load('/content/drive/MyDrive/recsys_contest/toppop_score.npy').reshape((-1, 1)),\n",
        "        np.load('/content/drive/MyDrive/recsys_contest/toppop_window_score.npy').reshape((-1, 1)),\n",
        "        np.load('/content/drive/MyDrive/recsys_contest/toppop_smooth_score.npy').reshape((-1, 1)),\n",
        "        np.load('/content/drive/MyDrive/recsys_contest/ials_score.npy').reshape((-1, 1)),\n",
        "        np.load('/content/drive/MyDrive/recsys_contest/lmf_score.npy').reshape((-1, 1)),\n",
        "        np.load('/content/drive/MyDrive/recsys_contest/bpr_score.npy').reshape((-1, 1))\n",
        "    ),\n",
        "    axis=1\n",
        ")"
      ],
      "metadata": {
        "id": "iskd9mDwQhRZ"
      },
      "execution_count": null,
      "outputs": []
    },
    {
      "cell_type": "code",
      "source": [
        "scale = StandardScaler()\n",
        "X = scale.fit_transform(X)"
      ],
      "metadata": {
        "id": "jrzJYTX-ocsw"
      },
      "execution_count": null,
      "outputs": []
    },
    {
      "cell_type": "code",
      "source": [
        "np.save('/content/drive/MyDrive/recsys_contest/scaled_scores.npy', X)"
      ],
      "metadata": {
        "id": "uuD8tDAxL0hq"
      },
      "execution_count": null,
      "outputs": []
    },
    {
      "cell_type": "code",
      "source": [
        "preds = model.predict_proba(X)"
      ],
      "metadata": {
        "id": "Q2LmfRpNRwGM"
      },
      "execution_count": null,
      "outputs": []
    },
    {
      "cell_type": "code",
      "source": [
        "np.save('/content/drive/MyDrive/recsys_contest/preds.npy', preds)"
      ],
      "metadata": {
        "id": "AqtWKgkEViIv"
      },
      "execution_count": null,
      "outputs": []
    },
    {
      "cell_type": "markdown",
      "source": [
        "## 4.4. Выбор кандидатов"
      ],
      "metadata": {
        "id": "0TW1YdsoWI9n"
      }
    },
    {
      "cell_type": "code",
      "source": [
        "pred_table = pd.read_json('/content/drive/MyDrive/recsys_contest/light_models_candidates.json')"
      ],
      "metadata": {
        "id": "QWxlCpqKWNS0"
      },
      "execution_count": null,
      "outputs": []
    },
    {
      "cell_type": "code",
      "source": [
        "proba = np.load('/content/drive/MyDrive/recsys_contest/preds.npy')\n",
        "pred_table['proba'] = proba[:, 1]"
      ],
      "metadata": {
        "id": "ADJOlZR-XBpc"
      },
      "execution_count": null,
      "outputs": []
    },
    {
      "cell_type": "code",
      "source": [
        "submit = pred_table.groupby('user_id').apply(\n",
        "    lambda row: row.item_id.values[row.proba.values.argsort()[-1:-10:-1]]\n",
        ")"
      ],
      "metadata": {
        "colab": {
          "base_uri": "https://localhost:8080/"
        },
        "id": "2gLDLWsvW2F1",
        "outputId": "ee216c71-a1da-4f10-e86b-c40db9a3b8d1"
      },
      "execution_count": null,
      "outputs": [
        {
          "output_type": "stream",
          "name": "stderr",
          "text": [
            "<ipython-input-68-175c5b5e2743>:1: DeprecationWarning: DataFrameGroupBy.apply operated on the grouping columns. This behavior is deprecated, and in a future version of pandas the grouping columns will be excluded from the operation. Either pass `include_groups=False` to exclude the groupings or explicitly select the grouping columns after groupby to silence this warning.\n",
            "  submit = pred_table.groupby('user_id').apply(\n"
          ]
        }
      ]
    },
    {
      "cell_type": "code",
      "source": [
        "from tqdm import tqdm\n",
        "\n",
        "submit_df = {\n",
        "    'user_id': [],\n",
        "    'item_id': []\n",
        "}\n",
        "\n",
        "for user_id, row in tqdm(submit.items(), total=len(submit)):\n",
        "    submit_df['user_id'].extend([user_id] * len(row))\n",
        "    submit_df['item_id'].extend(row)"
      ],
      "metadata": {
        "colab": {
          "base_uri": "https://localhost:8080/"
        },
        "id": "CjOrR2scZvHC",
        "outputId": "cca0958f-e8ef-4c51-8ddc-1d6e7328410b"
      },
      "execution_count": null,
      "outputs": [
        {
          "output_type": "stream",
          "name": "stderr",
          "text": [
            "100%|██████████| 701981/701981 [00:01<00:00, 397942.62it/s]\n"
          ]
        }
      ]
    },
    {
      "cell_type": "code",
      "source": [
        "submit = pd.DataFrame(submit_df)"
      ],
      "metadata": {
        "id": "6frOFXqGa2Xq"
      },
      "execution_count": null,
      "outputs": []
    },
    {
      "cell_type": "code",
      "source": [
        "uids[submit.user_id.values]"
      ],
      "metadata": {
        "colab": {
          "base_uri": "https://localhost:8080/"
        },
        "id": "8N4N6MaecdRA",
        "outputId": "fc69add5-1f36-4ff9-8a20-fdfdcaf2e5e4"
      },
      "execution_count": null,
      "outputs": [
        {
          "output_type": "execute_result",
          "data": {
            "text/plain": [
              "array([     0,      0,      0, ..., 701980, 701980, 701980])"
            ]
          },
          "metadata": {},
          "execution_count": 71
        }
      ]
    },
    {
      "cell_type": "code",
      "source": [
        "submit.user_id = uids[submit.user_id.values]\n",
        "submit.item_id = iids[submit.item_id.values]"
      ],
      "metadata": {
        "id": "aVcg6jlTbzLW"
      },
      "execution_count": null,
      "outputs": []
    },
    {
      "cell_type": "code",
      "source": [
        "submit.rename(columns={'item_id': 'items'}).to_csv('/content/drive/MyDrive/recsys_contest/submission.csv', index=False)"
      ],
      "metadata": {
        "id": "78kLRheycRE0"
      },
      "execution_count": null,
      "outputs": []
    },
    {
      "cell_type": "code",
      "source": [],
      "metadata": {
        "id": "YHct4sh-crea"
      },
      "execution_count": null,
      "outputs": []
    }
  ]
}