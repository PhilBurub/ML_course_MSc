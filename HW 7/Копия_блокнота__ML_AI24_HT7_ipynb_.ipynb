{
  "cells": [
    {
      "cell_type": "markdown",
      "metadata": {
        "id": "p7Vud7oB5y9q"
      },
      "source": [
        "# **Домашнее задание 7: Fraud Detection Competition**\n",
        "\n",
        "Добро пожаловать на финальное домашнее задание курса! Домашнее задание направлено на систематизацию всех знаний, полученных в процессе учебы.\n",
        "\n",
        "В нём Вы потренируетесь применять навыки построения пайплайнов машинного обучения, приобретенные в курсе от точки разведочного анализа данных до построения и валидации моделей машинного обучения.\n",
        "\n",
        "## **Задача**\n",
        "**Вы будете решать задачу определения фрода:**\n",
        "\n",
        "https://www.kaggle.com/competitions/fraud-detection-24\n",
        "\n",
        "**Вам нужно будет:**\n",
        "- в jupyter notebook провести исследование данных;\n",
        "- в нём же построить модели и оценить их качество;\n",
        "- отправить посылку на Kaggle.\n",
        "\n",
        "Более подробное описание шагов - в ноутбуке ниже.\n",
        "\n",
        "## **Оценивание и баллы**\n",
        "- В EDA и во всей работе будут оцениваться полнота и **выводы**;\n",
        "- При обучении моделей старайтесь обоснованно подходить к их выбору, избегая простого перебора;\n",
        "\n",
        "**Максимальный балл** - 10 (+ бонусы за Kaggle, см. ниже).\n",
        "\n",
        "\n",
        "Мягкий дедлайн (окончание соревнования на Kaggle): **15 марта 23:59**\n"
      ]
    },
    {
      "cell_type": "markdown",
      "metadata": {
        "id": "T1oMvDTqqU3V"
      },
      "source": [
        "# **Базовое решение и пример формирования файла под submission**\n"
      ]
    },
    {
      "cell_type": "code",
      "execution_count": 1,
      "metadata": {
        "id": "YrOxS8n8q2v1"
      },
      "outputs": [],
      "source": [
        "# %%capture\n",
        "# !pip install catboost -q"
      ]
    },
    {
      "cell_type": "code",
      "execution_count": 2,
      "metadata": {
        "id": "IdCmv4IoqxHJ"
      },
      "outputs": [],
      "source": [
        "# from catboost import CatBoostClassifier\n",
        "# import pandas as pd\n",
        "# import os\n",
        "# from tqdm import tqdm\n",
        "\n",
        "# INPUT_DIR = './'\n",
        "\n",
        "# train_transaction = pd.read_csv(os.path.join(INPUT_DIR, 'train_transaction.csv'))\n",
        "# train_identity = pd.read_csv(os.path.join(INPUT_DIR, 'train_identity.csv'))\n",
        "# test_transaction = pd.read_csv(os.path.join(INPUT_DIR, 'test_transaction.csv'))\n",
        "# test_identity = pd.read_csv(os.path.join(INPUT_DIR, 'test_identity.csv'))\n",
        "# sample_submission = pd.read_csv(os.path.join(INPUT_DIR, 'sample_submission.csv'))\n",
        "\n",
        "# df_train = train_transaction.merge(train_identity, how='left', on='TransactionID')\n",
        "\n",
        "# df_test = test_transaction.merge(test_identity, how='left', on='TransactionID')\n",
        "\n",
        "# df_train.drop(['TransactionID', 'TransactionDT'], axis=1, inplace=True)\n",
        "# df_test.drop(['TransactionID', 'TransactionDT'], axis=1, inplace=True)\n",
        "# df_train.shape, df_test.shape\n",
        "\n",
        "# object_cols = []\n",
        "# for idx, col in tqdm(enumerate(df_train.columns.drop('isFraud'))):\n",
        "#     if df_train[col].dtype == 'O':\n",
        "#       object_cols.append(idx)\n",
        "\n",
        "# X_train = df_train.drop('isFraud', axis=1)\n",
        "# X_train = X_train.fillna('')\n",
        "# y_train = df_train['isFraud'].values\n",
        "\n",
        "# cb = CatBoostClassifier(iterations=3)\n",
        "# cb.fit(X_train, y_train, object_cols, )\n",
        "\n",
        "# predictions = cb.predict_proba(df_test.fillna(''))\n",
        "\n",
        "# sub = pd.DataFrame({'TransactionID': sample_submission['TransactionID'], 'isFraud': predictions[:, 0]})\n",
        "# sub.head()\n",
        "\n",
        "# # Сохранение submission\n",
        "# sub.to_csv('submission_baseline.csv', index=False)"
      ]
    },
    {
      "cell_type": "markdown",
      "metadata": {
        "id": "ES0ZdLnfvPm-"
      },
      "source": [
        "### **Примечания:**\n",
        "\n",
        "**1. Оценка качества и Submission File**\n",
        "- Ответом является число от 0 до 1, метрикой качества - AUC-ROC.\n",
        "- Структура Submission File:\n",
        " - для каждого значения *TransactionID* в тестовых данных вы должны предсказать **вероятность** для столбца *isFraud*.\n",
        " - в файле у вас должно быть две колонки: `TransactionID` и`isFraud`  **для каждой транзакции в датасете**.\n",
        "\n",
        "**2. Объем данных**\n",
        "\n",
        "Поскольку набор данных объемный, могут быть проблемы с переполнением памяти в Collab. Для решения проблемы можете использовать функцию из [этого ноутбука](https://colab.research.google.com/drive/18u75eyFGEoyeWJ_MbsLkcPa6gv2tNI8G#scrollTo=V2L1Nl5CTMMl), разобравшись, что она делает с данными."
      ]
    },
    {
      "cell_type": "markdown",
      "metadata": {
        "id": "_h-Grgsp64a_"
      },
      "source": [
        "# **Задание 1 (2 балла)**\n",
        "\n",
        "Проведите EDA (разведочный анализ данных):\n",
        "* проанализируйте признаки, их особенности и связь с целевой переменной\n",
        "* проанализируйте целевую переменную\n",
        "* оцените степень попарной взаимосвязи признаков, а также связи признаков и целевой переменной\n",
        "* по результатам исследований сделайте необходимую обработку данных (удаление дублей, работа с пропусками, с категориальными столбцами (если они есть), работа с аномалиями, другие преобразования признаков)\n",
        "\n",
        "Важно, что EDA всегда сопровождается выводами - не забудьте об этом."
      ]
    },
    {
      "cell_type": "code",
      "execution_count": 3,
      "metadata": {
        "colab": {
          "base_uri": "https://localhost:8080/"
        },
        "id": "de61c3NbKa7f",
        "outputId": "53938355-7edf-4536-af38-6c23acce063e"
      },
      "outputs": [
        {
          "output_type": "stream",
          "name": "stdout",
          "text": [
            "Drive already mounted at /content/drive; to attempt to forcibly remount, call drive.mount(\"/content/drive\", force_remount=True).\n"
          ]
        }
      ],
      "source": [
        "from google.colab import drive\n",
        "drive.mount('/content/drive')"
      ]
    },
    {
      "cell_type": "code",
      "execution_count": 4,
      "metadata": {
        "id": "PAaxmoIXGnYP"
      },
      "outputs": [],
      "source": [
        "import pandas as pd\n",
        "import seaborn as sns\n",
        "from matplotlib import pyplot as plt\n",
        "import numpy as np\n",
        "import os\n",
        "from datetime import datetime"
      ]
    },
    {
      "cell_type": "code",
      "execution_count": 5,
      "metadata": {
        "id": "DUKWGMECFTNa"
      },
      "outputs": [],
      "source": [
        "INPUT_DIR = '/content/drive/MyDrive/AI/fraud-detection-24'\n",
        "\n",
        "train_transaction = pd.read_csv(os.path.join(INPUT_DIR, 'train_transaction.csv'))\n",
        "train_identity = pd.read_csv(os.path.join(INPUT_DIR, 'train_identity.csv'))\n",
        "test_transaction = pd.read_csv(os.path.join(INPUT_DIR, 'test_transaction.csv'))\n",
        "test_identity = pd.read_csv(os.path.join(INPUT_DIR, 'test_identity.csv'))\n",
        "\n",
        "df_train = train_transaction.merge(train_identity, how='left', on='TransactionID')\n",
        "df_test = test_transaction.merge(test_identity, how='left', on='TransactionID')\n",
        "\n",
        "df_train.drop(['TransactionID', 'TransactionDT'], axis=1, inplace=True)\n",
        "df_test.drop(['TransactionID', 'TransactionDT'], axis=1, inplace=True)"
      ]
    },
    {
      "cell_type": "code",
      "execution_count": 6,
      "metadata": {
        "id": "cLZBrBXwcoBV"
      },
      "outputs": [],
      "source": [
        "del train_transaction, train_identity, test_transaction, test_identity"
      ]
    },
    {
      "cell_type": "code",
      "execution_count": 7,
      "metadata": {
        "colab": {
          "base_uri": "https://localhost:8080/"
        },
        "id": "wh60F2U8d9Wb",
        "outputId": "4d1c6139-e83f-4a52-d881-afe2ad53a992"
      },
      "outputs": [
        {
          "output_type": "execute_result",
          "data": {
            "text/plain": [
              "datetime.datetime(237, 7, 22, 0, 0)"
            ]
          },
          "metadata": {},
          "execution_count": 7
        }
      ],
      "source": [
        "datetime.fromordinal(86400)"
      ]
    },
    {
      "cell_type": "code",
      "execution_count": 8,
      "metadata": {
        "colab": {
          "base_uri": "https://localhost:8080/",
          "height": 290
        },
        "id": "03HgPcIYB5Jo",
        "outputId": "3d68fd1a-4811-4698-843b-014257caa304"
      },
      "outputs": [
        {
          "output_type": "execute_result",
          "data": {
            "text/plain": [
              "   isFraud  TransactionAmt ProductCD  card1  card2  card3       card4  card5  \\\n",
              "0        0            68.5         W  13926    NaN  150.0    discover  142.0   \n",
              "1        0            29.0         W   2755  404.0  150.0  mastercard  102.0   \n",
              "2        0            59.0         W   4663  490.0  150.0        visa  166.0   \n",
              "3        0            50.0         W  18132  567.0  150.0  mastercard  117.0   \n",
              "4        0            50.0         H   4497  514.0  150.0  mastercard  102.0   \n",
              "\n",
              "    card6  addr1  ...                id_31  id_32      id_33           id_34  \\\n",
              "0  credit  315.0  ...                  NaN    NaN        NaN             NaN   \n",
              "1  credit  325.0  ...                  NaN    NaN        NaN             NaN   \n",
              "2   debit  330.0  ...                  NaN    NaN        NaN             NaN   \n",
              "3   debit  476.0  ...                  NaN    NaN        NaN             NaN   \n",
              "4  credit  420.0  ...  samsung browser 6.2   32.0  2220x1080  match_status:2   \n",
              "\n",
              "  id_35  id_36  id_37  id_38  DeviceType                     DeviceInfo  \n",
              "0   NaN    NaN    NaN    NaN         NaN                            NaN  \n",
              "1   NaN    NaN    NaN    NaN         NaN                            NaN  \n",
              "2   NaN    NaN    NaN    NaN         NaN                            NaN  \n",
              "3   NaN    NaN    NaN    NaN         NaN                            NaN  \n",
              "4     T      F      T      T      mobile  SAMSUNG SM-G892A Build/NRD90M  \n",
              "\n",
              "[5 rows x 432 columns]"
            ],
            "text/html": [
              "\n",
              "  <div id=\"df-a7b32606-a62b-47db-b1d4-acb35efe3eda\" class=\"colab-df-container\">\n",
              "    <div>\n",
              "<style scoped>\n",
              "    .dataframe tbody tr th:only-of-type {\n",
              "        vertical-align: middle;\n",
              "    }\n",
              "\n",
              "    .dataframe tbody tr th {\n",
              "        vertical-align: top;\n",
              "    }\n",
              "\n",
              "    .dataframe thead th {\n",
              "        text-align: right;\n",
              "    }\n",
              "</style>\n",
              "<table border=\"1\" class=\"dataframe\">\n",
              "  <thead>\n",
              "    <tr style=\"text-align: right;\">\n",
              "      <th></th>\n",
              "      <th>isFraud</th>\n",
              "      <th>TransactionAmt</th>\n",
              "      <th>ProductCD</th>\n",
              "      <th>card1</th>\n",
              "      <th>card2</th>\n",
              "      <th>card3</th>\n",
              "      <th>card4</th>\n",
              "      <th>card5</th>\n",
              "      <th>card6</th>\n",
              "      <th>addr1</th>\n",
              "      <th>...</th>\n",
              "      <th>id_31</th>\n",
              "      <th>id_32</th>\n",
              "      <th>id_33</th>\n",
              "      <th>id_34</th>\n",
              "      <th>id_35</th>\n",
              "      <th>id_36</th>\n",
              "      <th>id_37</th>\n",
              "      <th>id_38</th>\n",
              "      <th>DeviceType</th>\n",
              "      <th>DeviceInfo</th>\n",
              "    </tr>\n",
              "  </thead>\n",
              "  <tbody>\n",
              "    <tr>\n",
              "      <th>0</th>\n",
              "      <td>0</td>\n",
              "      <td>68.5</td>\n",
              "      <td>W</td>\n",
              "      <td>13926</td>\n",
              "      <td>NaN</td>\n",
              "      <td>150.0</td>\n",
              "      <td>discover</td>\n",
              "      <td>142.0</td>\n",
              "      <td>credit</td>\n",
              "      <td>315.0</td>\n",
              "      <td>...</td>\n",
              "      <td>NaN</td>\n",
              "      <td>NaN</td>\n",
              "      <td>NaN</td>\n",
              "      <td>NaN</td>\n",
              "      <td>NaN</td>\n",
              "      <td>NaN</td>\n",
              "      <td>NaN</td>\n",
              "      <td>NaN</td>\n",
              "      <td>NaN</td>\n",
              "      <td>NaN</td>\n",
              "    </tr>\n",
              "    <tr>\n",
              "      <th>1</th>\n",
              "      <td>0</td>\n",
              "      <td>29.0</td>\n",
              "      <td>W</td>\n",
              "      <td>2755</td>\n",
              "      <td>404.0</td>\n",
              "      <td>150.0</td>\n",
              "      <td>mastercard</td>\n",
              "      <td>102.0</td>\n",
              "      <td>credit</td>\n",
              "      <td>325.0</td>\n",
              "      <td>...</td>\n",
              "      <td>NaN</td>\n",
              "      <td>NaN</td>\n",
              "      <td>NaN</td>\n",
              "      <td>NaN</td>\n",
              "      <td>NaN</td>\n",
              "      <td>NaN</td>\n",
              "      <td>NaN</td>\n",
              "      <td>NaN</td>\n",
              "      <td>NaN</td>\n",
              "      <td>NaN</td>\n",
              "    </tr>\n",
              "    <tr>\n",
              "      <th>2</th>\n",
              "      <td>0</td>\n",
              "      <td>59.0</td>\n",
              "      <td>W</td>\n",
              "      <td>4663</td>\n",
              "      <td>490.0</td>\n",
              "      <td>150.0</td>\n",
              "      <td>visa</td>\n",
              "      <td>166.0</td>\n",
              "      <td>debit</td>\n",
              "      <td>330.0</td>\n",
              "      <td>...</td>\n",
              "      <td>NaN</td>\n",
              "      <td>NaN</td>\n",
              "      <td>NaN</td>\n",
              "      <td>NaN</td>\n",
              "      <td>NaN</td>\n",
              "      <td>NaN</td>\n",
              "      <td>NaN</td>\n",
              "      <td>NaN</td>\n",
              "      <td>NaN</td>\n",
              "      <td>NaN</td>\n",
              "    </tr>\n",
              "    <tr>\n",
              "      <th>3</th>\n",
              "      <td>0</td>\n",
              "      <td>50.0</td>\n",
              "      <td>W</td>\n",
              "      <td>18132</td>\n",
              "      <td>567.0</td>\n",
              "      <td>150.0</td>\n",
              "      <td>mastercard</td>\n",
              "      <td>117.0</td>\n",
              "      <td>debit</td>\n",
              "      <td>476.0</td>\n",
              "      <td>...</td>\n",
              "      <td>NaN</td>\n",
              "      <td>NaN</td>\n",
              "      <td>NaN</td>\n",
              "      <td>NaN</td>\n",
              "      <td>NaN</td>\n",
              "      <td>NaN</td>\n",
              "      <td>NaN</td>\n",
              "      <td>NaN</td>\n",
              "      <td>NaN</td>\n",
              "      <td>NaN</td>\n",
              "    </tr>\n",
              "    <tr>\n",
              "      <th>4</th>\n",
              "      <td>0</td>\n",
              "      <td>50.0</td>\n",
              "      <td>H</td>\n",
              "      <td>4497</td>\n",
              "      <td>514.0</td>\n",
              "      <td>150.0</td>\n",
              "      <td>mastercard</td>\n",
              "      <td>102.0</td>\n",
              "      <td>credit</td>\n",
              "      <td>420.0</td>\n",
              "      <td>...</td>\n",
              "      <td>samsung browser 6.2</td>\n",
              "      <td>32.0</td>\n",
              "      <td>2220x1080</td>\n",
              "      <td>match_status:2</td>\n",
              "      <td>T</td>\n",
              "      <td>F</td>\n",
              "      <td>T</td>\n",
              "      <td>T</td>\n",
              "      <td>mobile</td>\n",
              "      <td>SAMSUNG SM-G892A Build/NRD90M</td>\n",
              "    </tr>\n",
              "  </tbody>\n",
              "</table>\n",
              "<p>5 rows × 432 columns</p>\n",
              "</div>\n",
              "    <div class=\"colab-df-buttons\">\n",
              "\n",
              "  <div class=\"colab-df-container\">\n",
              "    <button class=\"colab-df-convert\" onclick=\"convertToInteractive('df-a7b32606-a62b-47db-b1d4-acb35efe3eda')\"\n",
              "            title=\"Convert this dataframe to an interactive table.\"\n",
              "            style=\"display:none;\">\n",
              "\n",
              "  <svg xmlns=\"http://www.w3.org/2000/svg\" height=\"24px\" viewBox=\"0 -960 960 960\">\n",
              "    <path d=\"M120-120v-720h720v720H120Zm60-500h600v-160H180v160Zm220 220h160v-160H400v160Zm0 220h160v-160H400v160ZM180-400h160v-160H180v160Zm440 0h160v-160H620v160ZM180-180h160v-160H180v160Zm440 0h160v-160H620v160Z\"/>\n",
              "  </svg>\n",
              "    </button>\n",
              "\n",
              "  <style>\n",
              "    .colab-df-container {\n",
              "      display:flex;\n",
              "      gap: 12px;\n",
              "    }\n",
              "\n",
              "    .colab-df-convert {\n",
              "      background-color: #E8F0FE;\n",
              "      border: none;\n",
              "      border-radius: 50%;\n",
              "      cursor: pointer;\n",
              "      display: none;\n",
              "      fill: #1967D2;\n",
              "      height: 32px;\n",
              "      padding: 0 0 0 0;\n",
              "      width: 32px;\n",
              "    }\n",
              "\n",
              "    .colab-df-convert:hover {\n",
              "      background-color: #E2EBFA;\n",
              "      box-shadow: 0px 1px 2px rgba(60, 64, 67, 0.3), 0px 1px 3px 1px rgba(60, 64, 67, 0.15);\n",
              "      fill: #174EA6;\n",
              "    }\n",
              "\n",
              "    .colab-df-buttons div {\n",
              "      margin-bottom: 4px;\n",
              "    }\n",
              "\n",
              "    [theme=dark] .colab-df-convert {\n",
              "      background-color: #3B4455;\n",
              "      fill: #D2E3FC;\n",
              "    }\n",
              "\n",
              "    [theme=dark] .colab-df-convert:hover {\n",
              "      background-color: #434B5C;\n",
              "      box-shadow: 0px 1px 3px 1px rgba(0, 0, 0, 0.15);\n",
              "      filter: drop-shadow(0px 1px 2px rgba(0, 0, 0, 0.3));\n",
              "      fill: #FFFFFF;\n",
              "    }\n",
              "  </style>\n",
              "\n",
              "    <script>\n",
              "      const buttonEl =\n",
              "        document.querySelector('#df-a7b32606-a62b-47db-b1d4-acb35efe3eda button.colab-df-convert');\n",
              "      buttonEl.style.display =\n",
              "        google.colab.kernel.accessAllowed ? 'block' : 'none';\n",
              "\n",
              "      async function convertToInteractive(key) {\n",
              "        const element = document.querySelector('#df-a7b32606-a62b-47db-b1d4-acb35efe3eda');\n",
              "        const dataTable =\n",
              "          await google.colab.kernel.invokeFunction('convertToInteractive',\n",
              "                                                    [key], {});\n",
              "        if (!dataTable) return;\n",
              "\n",
              "        const docLinkHtml = 'Like what you see? Visit the ' +\n",
              "          '<a target=\"_blank\" href=https://colab.research.google.com/notebooks/data_table.ipynb>data table notebook</a>'\n",
              "          + ' to learn more about interactive tables.';\n",
              "        element.innerHTML = '';\n",
              "        dataTable['output_type'] = 'display_data';\n",
              "        await google.colab.output.renderOutput(dataTable, element);\n",
              "        const docLink = document.createElement('div');\n",
              "        docLink.innerHTML = docLinkHtml;\n",
              "        element.appendChild(docLink);\n",
              "      }\n",
              "    </script>\n",
              "  </div>\n",
              "\n",
              "\n",
              "<div id=\"df-fb40ad5c-6617-471c-9daf-8cfba3f75f36\">\n",
              "  <button class=\"colab-df-quickchart\" onclick=\"quickchart('df-fb40ad5c-6617-471c-9daf-8cfba3f75f36')\"\n",
              "            title=\"Suggest charts\"\n",
              "            style=\"display:none;\">\n",
              "\n",
              "<svg xmlns=\"http://www.w3.org/2000/svg\" height=\"24px\"viewBox=\"0 0 24 24\"\n",
              "     width=\"24px\">\n",
              "    <g>\n",
              "        <path d=\"M19 3H5c-1.1 0-2 .9-2 2v14c0 1.1.9 2 2 2h14c1.1 0 2-.9 2-2V5c0-1.1-.9-2-2-2zM9 17H7v-7h2v7zm4 0h-2V7h2v10zm4 0h-2v-4h2v4z\"/>\n",
              "    </g>\n",
              "</svg>\n",
              "  </button>\n",
              "\n",
              "<style>\n",
              "  .colab-df-quickchart {\n",
              "      --bg-color: #E8F0FE;\n",
              "      --fill-color: #1967D2;\n",
              "      --hover-bg-color: #E2EBFA;\n",
              "      --hover-fill-color: #174EA6;\n",
              "      --disabled-fill-color: #AAA;\n",
              "      --disabled-bg-color: #DDD;\n",
              "  }\n",
              "\n",
              "  [theme=dark] .colab-df-quickchart {\n",
              "      --bg-color: #3B4455;\n",
              "      --fill-color: #D2E3FC;\n",
              "      --hover-bg-color: #434B5C;\n",
              "      --hover-fill-color: #FFFFFF;\n",
              "      --disabled-bg-color: #3B4455;\n",
              "      --disabled-fill-color: #666;\n",
              "  }\n",
              "\n",
              "  .colab-df-quickchart {\n",
              "    background-color: var(--bg-color);\n",
              "    border: none;\n",
              "    border-radius: 50%;\n",
              "    cursor: pointer;\n",
              "    display: none;\n",
              "    fill: var(--fill-color);\n",
              "    height: 32px;\n",
              "    padding: 0;\n",
              "    width: 32px;\n",
              "  }\n",
              "\n",
              "  .colab-df-quickchart:hover {\n",
              "    background-color: var(--hover-bg-color);\n",
              "    box-shadow: 0 1px 2px rgba(60, 64, 67, 0.3), 0 1px 3px 1px rgba(60, 64, 67, 0.15);\n",
              "    fill: var(--button-hover-fill-color);\n",
              "  }\n",
              "\n",
              "  .colab-df-quickchart-complete:disabled,\n",
              "  .colab-df-quickchart-complete:disabled:hover {\n",
              "    background-color: var(--disabled-bg-color);\n",
              "    fill: var(--disabled-fill-color);\n",
              "    box-shadow: none;\n",
              "  }\n",
              "\n",
              "  .colab-df-spinner {\n",
              "    border: 2px solid var(--fill-color);\n",
              "    border-color: transparent;\n",
              "    border-bottom-color: var(--fill-color);\n",
              "    animation:\n",
              "      spin 1s steps(1) infinite;\n",
              "  }\n",
              "\n",
              "  @keyframes spin {\n",
              "    0% {\n",
              "      border-color: transparent;\n",
              "      border-bottom-color: var(--fill-color);\n",
              "      border-left-color: var(--fill-color);\n",
              "    }\n",
              "    20% {\n",
              "      border-color: transparent;\n",
              "      border-left-color: var(--fill-color);\n",
              "      border-top-color: var(--fill-color);\n",
              "    }\n",
              "    30% {\n",
              "      border-color: transparent;\n",
              "      border-left-color: var(--fill-color);\n",
              "      border-top-color: var(--fill-color);\n",
              "      border-right-color: var(--fill-color);\n",
              "    }\n",
              "    40% {\n",
              "      border-color: transparent;\n",
              "      border-right-color: var(--fill-color);\n",
              "      border-top-color: var(--fill-color);\n",
              "    }\n",
              "    60% {\n",
              "      border-color: transparent;\n",
              "      border-right-color: var(--fill-color);\n",
              "    }\n",
              "    80% {\n",
              "      border-color: transparent;\n",
              "      border-right-color: var(--fill-color);\n",
              "      border-bottom-color: var(--fill-color);\n",
              "    }\n",
              "    90% {\n",
              "      border-color: transparent;\n",
              "      border-bottom-color: var(--fill-color);\n",
              "    }\n",
              "  }\n",
              "</style>\n",
              "\n",
              "  <script>\n",
              "    async function quickchart(key) {\n",
              "      const quickchartButtonEl =\n",
              "        document.querySelector('#' + key + ' button');\n",
              "      quickchartButtonEl.disabled = true;  // To prevent multiple clicks.\n",
              "      quickchartButtonEl.classList.add('colab-df-spinner');\n",
              "      try {\n",
              "        const charts = await google.colab.kernel.invokeFunction(\n",
              "            'suggestCharts', [key], {});\n",
              "      } catch (error) {\n",
              "        console.error('Error during call to suggestCharts:', error);\n",
              "      }\n",
              "      quickchartButtonEl.classList.remove('colab-df-spinner');\n",
              "      quickchartButtonEl.classList.add('colab-df-quickchart-complete');\n",
              "    }\n",
              "    (() => {\n",
              "      let quickchartButtonEl =\n",
              "        document.querySelector('#df-fb40ad5c-6617-471c-9daf-8cfba3f75f36 button');\n",
              "      quickchartButtonEl.style.display =\n",
              "        google.colab.kernel.accessAllowed ? 'block' : 'none';\n",
              "    })();\n",
              "  </script>\n",
              "</div>\n",
              "    </div>\n",
              "  </div>\n"
            ],
            "application/vnd.google.colaboratory.intrinsic+json": {
              "type": "dataframe",
              "variable_name": "df_train"
            }
          },
          "metadata": {},
          "execution_count": 8
        }
      ],
      "source": [
        "df_train.head()"
      ]
    },
    {
      "cell_type": "code",
      "execution_count": 9,
      "metadata": {
        "colab": {
          "base_uri": "https://localhost:8080/",
          "height": 349
        },
        "id": "s3WhQdusBrJB",
        "outputId": "ecefaeba-fb9c-409b-8a79-86106fd07aef"
      },
      "outputs": [
        {
          "output_type": "execute_result",
          "data": {
            "text/plain": [
              "             isFraud  TransactionAmt          card1          card2  \\\n",
              "count  417559.000000   417559.000000  417559.000000  410996.000000   \n",
              "mean        0.035255      134.666566    9865.320371     363.474253   \n",
              "std         0.184424      238.166118    4900.674210     158.146603   \n",
              "min         0.000000        0.251000    1000.000000     100.000000   \n",
              "25%         0.000000       42.950000    6019.000000     215.000000   \n",
              "50%         0.000000       68.950000    9633.000000     361.000000   \n",
              "75%         0.000000      125.000000   14128.000000     512.000000   \n",
              "max         1.000000    31937.391000   18396.000000     600.000000   \n",
              "\n",
              "               card3          card5          addr1          addr2  \\\n",
              "count  416738.000000  414578.000000  369586.000000  369586.000000   \n",
              "mean      153.347864     199.687439     290.437990      86.762670   \n",
              "std        11.566162      40.783018     101.852266       2.930881   \n",
              "min       100.000000     100.000000     100.000000      10.000000   \n",
              "25%       150.000000     166.000000     204.000000      87.000000   \n",
              "50%       150.000000     226.000000     299.000000      87.000000   \n",
              "75%       150.000000     226.000000     330.000000      87.000000   \n",
              "max       231.000000     237.000000     540.000000     102.000000   \n",
              "\n",
              "               dist1         dist2  ...          id_17         id_18  \\\n",
              "count  159468.000000  29286.000000  ...  107259.000000  34269.000000   \n",
              "mean      124.795796    239.833094  ...     187.936416     14.172547   \n",
              "std       381.805459    538.292779  ...      30.118252      1.479054   \n",
              "min         0.000000      0.000000  ...     100.000000     10.000000   \n",
              "25%         3.000000      7.000000  ...     166.000000     13.000000   \n",
              "50%         9.000000     36.000000  ...     166.000000     15.000000   \n",
              "75%        25.000000    225.000000  ...     225.000000     15.000000   \n",
              "max     10286.000000  11623.000000  ...     229.000000     29.000000   \n",
              "\n",
              "               id_19          id_20        id_21        id_22        id_24  \\\n",
              "count  107226.000000  107209.000000  3950.000000  3954.000000  3624.000000   \n",
              "mean      352.299619     400.498661   371.863038    15.991148    12.790563   \n",
              "std       140.265671     150.423924   200.186906     6.891239     2.189355   \n",
              "min       100.000000     100.000000   100.000000    10.000000    11.000000   \n",
              "25%       266.000000     256.000000   252.000000    14.000000    11.000000   \n",
              "50%       341.000000     469.000000   252.000000    14.000000    11.000000   \n",
              "75%       427.000000     521.000000   500.000000    14.000000    15.000000   \n",
              "max       671.000000     661.000000   854.000000    44.000000    26.000000   \n",
              "\n",
              "             id_25        id_26         id_32  \n",
              "count  3930.000000  3948.000000  62116.000000  \n",
              "mean    328.534351   148.645643     26.635327  \n",
              "std      98.821070    32.355822      3.787343  \n",
              "min     100.000000   100.000000      0.000000  \n",
              "25%     321.000000   119.000000     24.000000  \n",
              "50%     321.000000   147.000000     24.000000  \n",
              "75%     371.000000   169.000000     32.000000  \n",
              "max     548.000000   216.000000     32.000000  \n",
              "\n",
              "[8 rows x 401 columns]"
            ],
            "text/html": [
              "\n",
              "  <div id=\"df-78b86f33-f0a8-4619-a67f-eb763886d754\" class=\"colab-df-container\">\n",
              "    <div>\n",
              "<style scoped>\n",
              "    .dataframe tbody tr th:only-of-type {\n",
              "        vertical-align: middle;\n",
              "    }\n",
              "\n",
              "    .dataframe tbody tr th {\n",
              "        vertical-align: top;\n",
              "    }\n",
              "\n",
              "    .dataframe thead th {\n",
              "        text-align: right;\n",
              "    }\n",
              "</style>\n",
              "<table border=\"1\" class=\"dataframe\">\n",
              "  <thead>\n",
              "    <tr style=\"text-align: right;\">\n",
              "      <th></th>\n",
              "      <th>isFraud</th>\n",
              "      <th>TransactionAmt</th>\n",
              "      <th>card1</th>\n",
              "      <th>card2</th>\n",
              "      <th>card3</th>\n",
              "      <th>card5</th>\n",
              "      <th>addr1</th>\n",
              "      <th>addr2</th>\n",
              "      <th>dist1</th>\n",
              "      <th>dist2</th>\n",
              "      <th>...</th>\n",
              "      <th>id_17</th>\n",
              "      <th>id_18</th>\n",
              "      <th>id_19</th>\n",
              "      <th>id_20</th>\n",
              "      <th>id_21</th>\n",
              "      <th>id_22</th>\n",
              "      <th>id_24</th>\n",
              "      <th>id_25</th>\n",
              "      <th>id_26</th>\n",
              "      <th>id_32</th>\n",
              "    </tr>\n",
              "  </thead>\n",
              "  <tbody>\n",
              "    <tr>\n",
              "      <th>count</th>\n",
              "      <td>417559.000000</td>\n",
              "      <td>417559.000000</td>\n",
              "      <td>417559.000000</td>\n",
              "      <td>410996.000000</td>\n",
              "      <td>416738.000000</td>\n",
              "      <td>414578.000000</td>\n",
              "      <td>369586.000000</td>\n",
              "      <td>369586.000000</td>\n",
              "      <td>159468.000000</td>\n",
              "      <td>29286.000000</td>\n",
              "      <td>...</td>\n",
              "      <td>107259.000000</td>\n",
              "      <td>34269.000000</td>\n",
              "      <td>107226.000000</td>\n",
              "      <td>107209.000000</td>\n",
              "      <td>3950.000000</td>\n",
              "      <td>3954.000000</td>\n",
              "      <td>3624.000000</td>\n",
              "      <td>3930.000000</td>\n",
              "      <td>3948.000000</td>\n",
              "      <td>62116.000000</td>\n",
              "    </tr>\n",
              "    <tr>\n",
              "      <th>mean</th>\n",
              "      <td>0.035255</td>\n",
              "      <td>134.666566</td>\n",
              "      <td>9865.320371</td>\n",
              "      <td>363.474253</td>\n",
              "      <td>153.347864</td>\n",
              "      <td>199.687439</td>\n",
              "      <td>290.437990</td>\n",
              "      <td>86.762670</td>\n",
              "      <td>124.795796</td>\n",
              "      <td>239.833094</td>\n",
              "      <td>...</td>\n",
              "      <td>187.936416</td>\n",
              "      <td>14.172547</td>\n",
              "      <td>352.299619</td>\n",
              "      <td>400.498661</td>\n",
              "      <td>371.863038</td>\n",
              "      <td>15.991148</td>\n",
              "      <td>12.790563</td>\n",
              "      <td>328.534351</td>\n",
              "      <td>148.645643</td>\n",
              "      <td>26.635327</td>\n",
              "    </tr>\n",
              "    <tr>\n",
              "      <th>std</th>\n",
              "      <td>0.184424</td>\n",
              "      <td>238.166118</td>\n",
              "      <td>4900.674210</td>\n",
              "      <td>158.146603</td>\n",
              "      <td>11.566162</td>\n",
              "      <td>40.783018</td>\n",
              "      <td>101.852266</td>\n",
              "      <td>2.930881</td>\n",
              "      <td>381.805459</td>\n",
              "      <td>538.292779</td>\n",
              "      <td>...</td>\n",
              "      <td>30.118252</td>\n",
              "      <td>1.479054</td>\n",
              "      <td>140.265671</td>\n",
              "      <td>150.423924</td>\n",
              "      <td>200.186906</td>\n",
              "      <td>6.891239</td>\n",
              "      <td>2.189355</td>\n",
              "      <td>98.821070</td>\n",
              "      <td>32.355822</td>\n",
              "      <td>3.787343</td>\n",
              "    </tr>\n",
              "    <tr>\n",
              "      <th>min</th>\n",
              "      <td>0.000000</td>\n",
              "      <td>0.251000</td>\n",
              "      <td>1000.000000</td>\n",
              "      <td>100.000000</td>\n",
              "      <td>100.000000</td>\n",
              "      <td>100.000000</td>\n",
              "      <td>100.000000</td>\n",
              "      <td>10.000000</td>\n",
              "      <td>0.000000</td>\n",
              "      <td>0.000000</td>\n",
              "      <td>...</td>\n",
              "      <td>100.000000</td>\n",
              "      <td>10.000000</td>\n",
              "      <td>100.000000</td>\n",
              "      <td>100.000000</td>\n",
              "      <td>100.000000</td>\n",
              "      <td>10.000000</td>\n",
              "      <td>11.000000</td>\n",
              "      <td>100.000000</td>\n",
              "      <td>100.000000</td>\n",
              "      <td>0.000000</td>\n",
              "    </tr>\n",
              "    <tr>\n",
              "      <th>25%</th>\n",
              "      <td>0.000000</td>\n",
              "      <td>42.950000</td>\n",
              "      <td>6019.000000</td>\n",
              "      <td>215.000000</td>\n",
              "      <td>150.000000</td>\n",
              "      <td>166.000000</td>\n",
              "      <td>204.000000</td>\n",
              "      <td>87.000000</td>\n",
              "      <td>3.000000</td>\n",
              "      <td>7.000000</td>\n",
              "      <td>...</td>\n",
              "      <td>166.000000</td>\n",
              "      <td>13.000000</td>\n",
              "      <td>266.000000</td>\n",
              "      <td>256.000000</td>\n",
              "      <td>252.000000</td>\n",
              "      <td>14.000000</td>\n",
              "      <td>11.000000</td>\n",
              "      <td>321.000000</td>\n",
              "      <td>119.000000</td>\n",
              "      <td>24.000000</td>\n",
              "    </tr>\n",
              "    <tr>\n",
              "      <th>50%</th>\n",
              "      <td>0.000000</td>\n",
              "      <td>68.950000</td>\n",
              "      <td>9633.000000</td>\n",
              "      <td>361.000000</td>\n",
              "      <td>150.000000</td>\n",
              "      <td>226.000000</td>\n",
              "      <td>299.000000</td>\n",
              "      <td>87.000000</td>\n",
              "      <td>9.000000</td>\n",
              "      <td>36.000000</td>\n",
              "      <td>...</td>\n",
              "      <td>166.000000</td>\n",
              "      <td>15.000000</td>\n",
              "      <td>341.000000</td>\n",
              "      <td>469.000000</td>\n",
              "      <td>252.000000</td>\n",
              "      <td>14.000000</td>\n",
              "      <td>11.000000</td>\n",
              "      <td>321.000000</td>\n",
              "      <td>147.000000</td>\n",
              "      <td>24.000000</td>\n",
              "    </tr>\n",
              "    <tr>\n",
              "      <th>75%</th>\n",
              "      <td>0.000000</td>\n",
              "      <td>125.000000</td>\n",
              "      <td>14128.000000</td>\n",
              "      <td>512.000000</td>\n",
              "      <td>150.000000</td>\n",
              "      <td>226.000000</td>\n",
              "      <td>330.000000</td>\n",
              "      <td>87.000000</td>\n",
              "      <td>25.000000</td>\n",
              "      <td>225.000000</td>\n",
              "      <td>...</td>\n",
              "      <td>225.000000</td>\n",
              "      <td>15.000000</td>\n",
              "      <td>427.000000</td>\n",
              "      <td>521.000000</td>\n",
              "      <td>500.000000</td>\n",
              "      <td>14.000000</td>\n",
              "      <td>15.000000</td>\n",
              "      <td>371.000000</td>\n",
              "      <td>169.000000</td>\n",
              "      <td>32.000000</td>\n",
              "    </tr>\n",
              "    <tr>\n",
              "      <th>max</th>\n",
              "      <td>1.000000</td>\n",
              "      <td>31937.391000</td>\n",
              "      <td>18396.000000</td>\n",
              "      <td>600.000000</td>\n",
              "      <td>231.000000</td>\n",
              "      <td>237.000000</td>\n",
              "      <td>540.000000</td>\n",
              "      <td>102.000000</td>\n",
              "      <td>10286.000000</td>\n",
              "      <td>11623.000000</td>\n",
              "      <td>...</td>\n",
              "      <td>229.000000</td>\n",
              "      <td>29.000000</td>\n",
              "      <td>671.000000</td>\n",
              "      <td>661.000000</td>\n",
              "      <td>854.000000</td>\n",
              "      <td>44.000000</td>\n",
              "      <td>26.000000</td>\n",
              "      <td>548.000000</td>\n",
              "      <td>216.000000</td>\n",
              "      <td>32.000000</td>\n",
              "    </tr>\n",
              "  </tbody>\n",
              "</table>\n",
              "<p>8 rows × 401 columns</p>\n",
              "</div>\n",
              "    <div class=\"colab-df-buttons\">\n",
              "\n",
              "  <div class=\"colab-df-container\">\n",
              "    <button class=\"colab-df-convert\" onclick=\"convertToInteractive('df-78b86f33-f0a8-4619-a67f-eb763886d754')\"\n",
              "            title=\"Convert this dataframe to an interactive table.\"\n",
              "            style=\"display:none;\">\n",
              "\n",
              "  <svg xmlns=\"http://www.w3.org/2000/svg\" height=\"24px\" viewBox=\"0 -960 960 960\">\n",
              "    <path d=\"M120-120v-720h720v720H120Zm60-500h600v-160H180v160Zm220 220h160v-160H400v160Zm0 220h160v-160H400v160ZM180-400h160v-160H180v160Zm440 0h160v-160H620v160ZM180-180h160v-160H180v160Zm440 0h160v-160H620v160Z\"/>\n",
              "  </svg>\n",
              "    </button>\n",
              "\n",
              "  <style>\n",
              "    .colab-df-container {\n",
              "      display:flex;\n",
              "      gap: 12px;\n",
              "    }\n",
              "\n",
              "    .colab-df-convert {\n",
              "      background-color: #E8F0FE;\n",
              "      border: none;\n",
              "      border-radius: 50%;\n",
              "      cursor: pointer;\n",
              "      display: none;\n",
              "      fill: #1967D2;\n",
              "      height: 32px;\n",
              "      padding: 0 0 0 0;\n",
              "      width: 32px;\n",
              "    }\n",
              "\n",
              "    .colab-df-convert:hover {\n",
              "      background-color: #E2EBFA;\n",
              "      box-shadow: 0px 1px 2px rgba(60, 64, 67, 0.3), 0px 1px 3px 1px rgba(60, 64, 67, 0.15);\n",
              "      fill: #174EA6;\n",
              "    }\n",
              "\n",
              "    .colab-df-buttons div {\n",
              "      margin-bottom: 4px;\n",
              "    }\n",
              "\n",
              "    [theme=dark] .colab-df-convert {\n",
              "      background-color: #3B4455;\n",
              "      fill: #D2E3FC;\n",
              "    }\n",
              "\n",
              "    [theme=dark] .colab-df-convert:hover {\n",
              "      background-color: #434B5C;\n",
              "      box-shadow: 0px 1px 3px 1px rgba(0, 0, 0, 0.15);\n",
              "      filter: drop-shadow(0px 1px 2px rgba(0, 0, 0, 0.3));\n",
              "      fill: #FFFFFF;\n",
              "    }\n",
              "  </style>\n",
              "\n",
              "    <script>\n",
              "      const buttonEl =\n",
              "        document.querySelector('#df-78b86f33-f0a8-4619-a67f-eb763886d754 button.colab-df-convert');\n",
              "      buttonEl.style.display =\n",
              "        google.colab.kernel.accessAllowed ? 'block' : 'none';\n",
              "\n",
              "      async function convertToInteractive(key) {\n",
              "        const element = document.querySelector('#df-78b86f33-f0a8-4619-a67f-eb763886d754');\n",
              "        const dataTable =\n",
              "          await google.colab.kernel.invokeFunction('convertToInteractive',\n",
              "                                                    [key], {});\n",
              "        if (!dataTable) return;\n",
              "\n",
              "        const docLinkHtml = 'Like what you see? Visit the ' +\n",
              "          '<a target=\"_blank\" href=https://colab.research.google.com/notebooks/data_table.ipynb>data table notebook</a>'\n",
              "          + ' to learn more about interactive tables.';\n",
              "        element.innerHTML = '';\n",
              "        dataTable['output_type'] = 'display_data';\n",
              "        await google.colab.output.renderOutput(dataTable, element);\n",
              "        const docLink = document.createElement('div');\n",
              "        docLink.innerHTML = docLinkHtml;\n",
              "        element.appendChild(docLink);\n",
              "      }\n",
              "    </script>\n",
              "  </div>\n",
              "\n",
              "\n",
              "<div id=\"df-32f6a720-c9c2-47fa-b6f9-168d890e6aba\">\n",
              "  <button class=\"colab-df-quickchart\" onclick=\"quickchart('df-32f6a720-c9c2-47fa-b6f9-168d890e6aba')\"\n",
              "            title=\"Suggest charts\"\n",
              "            style=\"display:none;\">\n",
              "\n",
              "<svg xmlns=\"http://www.w3.org/2000/svg\" height=\"24px\"viewBox=\"0 0 24 24\"\n",
              "     width=\"24px\">\n",
              "    <g>\n",
              "        <path d=\"M19 3H5c-1.1 0-2 .9-2 2v14c0 1.1.9 2 2 2h14c1.1 0 2-.9 2-2V5c0-1.1-.9-2-2-2zM9 17H7v-7h2v7zm4 0h-2V7h2v10zm4 0h-2v-4h2v4z\"/>\n",
              "    </g>\n",
              "</svg>\n",
              "  </button>\n",
              "\n",
              "<style>\n",
              "  .colab-df-quickchart {\n",
              "      --bg-color: #E8F0FE;\n",
              "      --fill-color: #1967D2;\n",
              "      --hover-bg-color: #E2EBFA;\n",
              "      --hover-fill-color: #174EA6;\n",
              "      --disabled-fill-color: #AAA;\n",
              "      --disabled-bg-color: #DDD;\n",
              "  }\n",
              "\n",
              "  [theme=dark] .colab-df-quickchart {\n",
              "      --bg-color: #3B4455;\n",
              "      --fill-color: #D2E3FC;\n",
              "      --hover-bg-color: #434B5C;\n",
              "      --hover-fill-color: #FFFFFF;\n",
              "      --disabled-bg-color: #3B4455;\n",
              "      --disabled-fill-color: #666;\n",
              "  }\n",
              "\n",
              "  .colab-df-quickchart {\n",
              "    background-color: var(--bg-color);\n",
              "    border: none;\n",
              "    border-radius: 50%;\n",
              "    cursor: pointer;\n",
              "    display: none;\n",
              "    fill: var(--fill-color);\n",
              "    height: 32px;\n",
              "    padding: 0;\n",
              "    width: 32px;\n",
              "  }\n",
              "\n",
              "  .colab-df-quickchart:hover {\n",
              "    background-color: var(--hover-bg-color);\n",
              "    box-shadow: 0 1px 2px rgba(60, 64, 67, 0.3), 0 1px 3px 1px rgba(60, 64, 67, 0.15);\n",
              "    fill: var(--button-hover-fill-color);\n",
              "  }\n",
              "\n",
              "  .colab-df-quickchart-complete:disabled,\n",
              "  .colab-df-quickchart-complete:disabled:hover {\n",
              "    background-color: var(--disabled-bg-color);\n",
              "    fill: var(--disabled-fill-color);\n",
              "    box-shadow: none;\n",
              "  }\n",
              "\n",
              "  .colab-df-spinner {\n",
              "    border: 2px solid var(--fill-color);\n",
              "    border-color: transparent;\n",
              "    border-bottom-color: var(--fill-color);\n",
              "    animation:\n",
              "      spin 1s steps(1) infinite;\n",
              "  }\n",
              "\n",
              "  @keyframes spin {\n",
              "    0% {\n",
              "      border-color: transparent;\n",
              "      border-bottom-color: var(--fill-color);\n",
              "      border-left-color: var(--fill-color);\n",
              "    }\n",
              "    20% {\n",
              "      border-color: transparent;\n",
              "      border-left-color: var(--fill-color);\n",
              "      border-top-color: var(--fill-color);\n",
              "    }\n",
              "    30% {\n",
              "      border-color: transparent;\n",
              "      border-left-color: var(--fill-color);\n",
              "      border-top-color: var(--fill-color);\n",
              "      border-right-color: var(--fill-color);\n",
              "    }\n",
              "    40% {\n",
              "      border-color: transparent;\n",
              "      border-right-color: var(--fill-color);\n",
              "      border-top-color: var(--fill-color);\n",
              "    }\n",
              "    60% {\n",
              "      border-color: transparent;\n",
              "      border-right-color: var(--fill-color);\n",
              "    }\n",
              "    80% {\n",
              "      border-color: transparent;\n",
              "      border-right-color: var(--fill-color);\n",
              "      border-bottom-color: var(--fill-color);\n",
              "    }\n",
              "    90% {\n",
              "      border-color: transparent;\n",
              "      border-bottom-color: var(--fill-color);\n",
              "    }\n",
              "  }\n",
              "</style>\n",
              "\n",
              "  <script>\n",
              "    async function quickchart(key) {\n",
              "      const quickchartButtonEl =\n",
              "        document.querySelector('#' + key + ' button');\n",
              "      quickchartButtonEl.disabled = true;  // To prevent multiple clicks.\n",
              "      quickchartButtonEl.classList.add('colab-df-spinner');\n",
              "      try {\n",
              "        const charts = await google.colab.kernel.invokeFunction(\n",
              "            'suggestCharts', [key], {});\n",
              "      } catch (error) {\n",
              "        console.error('Error during call to suggestCharts:', error);\n",
              "      }\n",
              "      quickchartButtonEl.classList.remove('colab-df-spinner');\n",
              "      quickchartButtonEl.classList.add('colab-df-quickchart-complete');\n",
              "    }\n",
              "    (() => {\n",
              "      let quickchartButtonEl =\n",
              "        document.querySelector('#df-32f6a720-c9c2-47fa-b6f9-168d890e6aba button');\n",
              "      quickchartButtonEl.style.display =\n",
              "        google.colab.kernel.accessAllowed ? 'block' : 'none';\n",
              "    })();\n",
              "  </script>\n",
              "</div>\n",
              "    </div>\n",
              "  </div>\n"
            ],
            "application/vnd.google.colaboratory.intrinsic+json": {
              "type": "dataframe"
            }
          },
          "metadata": {},
          "execution_count": 9
        }
      ],
      "source": [
        "df_train.describe()"
      ]
    },
    {
      "cell_type": "code",
      "execution_count": 10,
      "metadata": {
        "colab": {
          "base_uri": "https://localhost:8080/",
          "height": 241
        },
        "id": "W4JUQpF5DKP8",
        "outputId": "50c6b016-3f14-4f10-a16d-e209a7143341"
      },
      "outputs": [
        {
          "output_type": "execute_result",
          "data": {
            "text/plain": [
              "       ProductCD   card4   card6 P_emaildomain R_emaildomain      M1      M2  \\\n",
              "count     417559  416730  416733        352649        103820  194116  194116   \n",
              "unique         5       4       4            59            60       2       2   \n",
              "top            W    visa   debit     gmail.com     gmail.com       T       T   \n",
              "freq      301297  272753  306554        160974         43010  194098  173868   \n",
              "\n",
              "            M3      M4      M5  ...       id_30        id_31      id_33  \\\n",
              "count   194116  215646  165564  ...       62096       107961      57819   \n",
              "unique       2       3       2  ...          71          110        183   \n",
              "top          T      M0       F  ...  Windows 10  chrome 63.0  1920x1080   \n",
              "freq    152682  136257   91343  ...       16078        21821      13466   \n",
              "\n",
              "                 id_34   id_35   id_36   id_37   id_38 DeviceType DeviceInfo  \n",
              "count            62168  108273  108273  108273  108273     108124      91959  \n",
              "unique               4       2       2       2       2          2       1551  \n",
              "top     match_status:2       T       F       T       T    desktop    Windows  \n",
              "freq             46931   62152  102536   84398   57779      66324      36841  \n",
              "\n",
              "[4 rows x 31 columns]"
            ],
            "text/html": [
              "\n",
              "  <div id=\"df-c939d2e8-840c-4487-9fbc-ee29a47a4790\" class=\"colab-df-container\">\n",
              "    <div>\n",
              "<style scoped>\n",
              "    .dataframe tbody tr th:only-of-type {\n",
              "        vertical-align: middle;\n",
              "    }\n",
              "\n",
              "    .dataframe tbody tr th {\n",
              "        vertical-align: top;\n",
              "    }\n",
              "\n",
              "    .dataframe thead th {\n",
              "        text-align: right;\n",
              "    }\n",
              "</style>\n",
              "<table border=\"1\" class=\"dataframe\">\n",
              "  <thead>\n",
              "    <tr style=\"text-align: right;\">\n",
              "      <th></th>\n",
              "      <th>ProductCD</th>\n",
              "      <th>card4</th>\n",
              "      <th>card6</th>\n",
              "      <th>P_emaildomain</th>\n",
              "      <th>R_emaildomain</th>\n",
              "      <th>M1</th>\n",
              "      <th>M2</th>\n",
              "      <th>M3</th>\n",
              "      <th>M4</th>\n",
              "      <th>M5</th>\n",
              "      <th>...</th>\n",
              "      <th>id_30</th>\n",
              "      <th>id_31</th>\n",
              "      <th>id_33</th>\n",
              "      <th>id_34</th>\n",
              "      <th>id_35</th>\n",
              "      <th>id_36</th>\n",
              "      <th>id_37</th>\n",
              "      <th>id_38</th>\n",
              "      <th>DeviceType</th>\n",
              "      <th>DeviceInfo</th>\n",
              "    </tr>\n",
              "  </thead>\n",
              "  <tbody>\n",
              "    <tr>\n",
              "      <th>count</th>\n",
              "      <td>417559</td>\n",
              "      <td>416730</td>\n",
              "      <td>416733</td>\n",
              "      <td>352649</td>\n",
              "      <td>103820</td>\n",
              "      <td>194116</td>\n",
              "      <td>194116</td>\n",
              "      <td>194116</td>\n",
              "      <td>215646</td>\n",
              "      <td>165564</td>\n",
              "      <td>...</td>\n",
              "      <td>62096</td>\n",
              "      <td>107961</td>\n",
              "      <td>57819</td>\n",
              "      <td>62168</td>\n",
              "      <td>108273</td>\n",
              "      <td>108273</td>\n",
              "      <td>108273</td>\n",
              "      <td>108273</td>\n",
              "      <td>108124</td>\n",
              "      <td>91959</td>\n",
              "    </tr>\n",
              "    <tr>\n",
              "      <th>unique</th>\n",
              "      <td>5</td>\n",
              "      <td>4</td>\n",
              "      <td>4</td>\n",
              "      <td>59</td>\n",
              "      <td>60</td>\n",
              "      <td>2</td>\n",
              "      <td>2</td>\n",
              "      <td>2</td>\n",
              "      <td>3</td>\n",
              "      <td>2</td>\n",
              "      <td>...</td>\n",
              "      <td>71</td>\n",
              "      <td>110</td>\n",
              "      <td>183</td>\n",
              "      <td>4</td>\n",
              "      <td>2</td>\n",
              "      <td>2</td>\n",
              "      <td>2</td>\n",
              "      <td>2</td>\n",
              "      <td>2</td>\n",
              "      <td>1551</td>\n",
              "    </tr>\n",
              "    <tr>\n",
              "      <th>top</th>\n",
              "      <td>W</td>\n",
              "      <td>visa</td>\n",
              "      <td>debit</td>\n",
              "      <td>gmail.com</td>\n",
              "      <td>gmail.com</td>\n",
              "      <td>T</td>\n",
              "      <td>T</td>\n",
              "      <td>T</td>\n",
              "      <td>M0</td>\n",
              "      <td>F</td>\n",
              "      <td>...</td>\n",
              "      <td>Windows 10</td>\n",
              "      <td>chrome 63.0</td>\n",
              "      <td>1920x1080</td>\n",
              "      <td>match_status:2</td>\n",
              "      <td>T</td>\n",
              "      <td>F</td>\n",
              "      <td>T</td>\n",
              "      <td>T</td>\n",
              "      <td>desktop</td>\n",
              "      <td>Windows</td>\n",
              "    </tr>\n",
              "    <tr>\n",
              "      <th>freq</th>\n",
              "      <td>301297</td>\n",
              "      <td>272753</td>\n",
              "      <td>306554</td>\n",
              "      <td>160974</td>\n",
              "      <td>43010</td>\n",
              "      <td>194098</td>\n",
              "      <td>173868</td>\n",
              "      <td>152682</td>\n",
              "      <td>136257</td>\n",
              "      <td>91343</td>\n",
              "      <td>...</td>\n",
              "      <td>16078</td>\n",
              "      <td>21821</td>\n",
              "      <td>13466</td>\n",
              "      <td>46931</td>\n",
              "      <td>62152</td>\n",
              "      <td>102536</td>\n",
              "      <td>84398</td>\n",
              "      <td>57779</td>\n",
              "      <td>66324</td>\n",
              "      <td>36841</td>\n",
              "    </tr>\n",
              "  </tbody>\n",
              "</table>\n",
              "<p>4 rows × 31 columns</p>\n",
              "</div>\n",
              "    <div class=\"colab-df-buttons\">\n",
              "\n",
              "  <div class=\"colab-df-container\">\n",
              "    <button class=\"colab-df-convert\" onclick=\"convertToInteractive('df-c939d2e8-840c-4487-9fbc-ee29a47a4790')\"\n",
              "            title=\"Convert this dataframe to an interactive table.\"\n",
              "            style=\"display:none;\">\n",
              "\n",
              "  <svg xmlns=\"http://www.w3.org/2000/svg\" height=\"24px\" viewBox=\"0 -960 960 960\">\n",
              "    <path d=\"M120-120v-720h720v720H120Zm60-500h600v-160H180v160Zm220 220h160v-160H400v160Zm0 220h160v-160H400v160ZM180-400h160v-160H180v160Zm440 0h160v-160H620v160ZM180-180h160v-160H180v160Zm440 0h160v-160H620v160Z\"/>\n",
              "  </svg>\n",
              "    </button>\n",
              "\n",
              "  <style>\n",
              "    .colab-df-container {\n",
              "      display:flex;\n",
              "      gap: 12px;\n",
              "    }\n",
              "\n",
              "    .colab-df-convert {\n",
              "      background-color: #E8F0FE;\n",
              "      border: none;\n",
              "      border-radius: 50%;\n",
              "      cursor: pointer;\n",
              "      display: none;\n",
              "      fill: #1967D2;\n",
              "      height: 32px;\n",
              "      padding: 0 0 0 0;\n",
              "      width: 32px;\n",
              "    }\n",
              "\n",
              "    .colab-df-convert:hover {\n",
              "      background-color: #E2EBFA;\n",
              "      box-shadow: 0px 1px 2px rgba(60, 64, 67, 0.3), 0px 1px 3px 1px rgba(60, 64, 67, 0.15);\n",
              "      fill: #174EA6;\n",
              "    }\n",
              "\n",
              "    .colab-df-buttons div {\n",
              "      margin-bottom: 4px;\n",
              "    }\n",
              "\n",
              "    [theme=dark] .colab-df-convert {\n",
              "      background-color: #3B4455;\n",
              "      fill: #D2E3FC;\n",
              "    }\n",
              "\n",
              "    [theme=dark] .colab-df-convert:hover {\n",
              "      background-color: #434B5C;\n",
              "      box-shadow: 0px 1px 3px 1px rgba(0, 0, 0, 0.15);\n",
              "      filter: drop-shadow(0px 1px 2px rgba(0, 0, 0, 0.3));\n",
              "      fill: #FFFFFF;\n",
              "    }\n",
              "  </style>\n",
              "\n",
              "    <script>\n",
              "      const buttonEl =\n",
              "        document.querySelector('#df-c939d2e8-840c-4487-9fbc-ee29a47a4790 button.colab-df-convert');\n",
              "      buttonEl.style.display =\n",
              "        google.colab.kernel.accessAllowed ? 'block' : 'none';\n",
              "\n",
              "      async function convertToInteractive(key) {\n",
              "        const element = document.querySelector('#df-c939d2e8-840c-4487-9fbc-ee29a47a4790');\n",
              "        const dataTable =\n",
              "          await google.colab.kernel.invokeFunction('convertToInteractive',\n",
              "                                                    [key], {});\n",
              "        if (!dataTable) return;\n",
              "\n",
              "        const docLinkHtml = 'Like what you see? Visit the ' +\n",
              "          '<a target=\"_blank\" href=https://colab.research.google.com/notebooks/data_table.ipynb>data table notebook</a>'\n",
              "          + ' to learn more about interactive tables.';\n",
              "        element.innerHTML = '';\n",
              "        dataTable['output_type'] = 'display_data';\n",
              "        await google.colab.output.renderOutput(dataTable, element);\n",
              "        const docLink = document.createElement('div');\n",
              "        docLink.innerHTML = docLinkHtml;\n",
              "        element.appendChild(docLink);\n",
              "      }\n",
              "    </script>\n",
              "  </div>\n",
              "\n",
              "\n",
              "<div id=\"df-43af08e2-c0c8-4fc7-9a6f-0dc2891f6c93\">\n",
              "  <button class=\"colab-df-quickchart\" onclick=\"quickchart('df-43af08e2-c0c8-4fc7-9a6f-0dc2891f6c93')\"\n",
              "            title=\"Suggest charts\"\n",
              "            style=\"display:none;\">\n",
              "\n",
              "<svg xmlns=\"http://www.w3.org/2000/svg\" height=\"24px\"viewBox=\"0 0 24 24\"\n",
              "     width=\"24px\">\n",
              "    <g>\n",
              "        <path d=\"M19 3H5c-1.1 0-2 .9-2 2v14c0 1.1.9 2 2 2h14c1.1 0 2-.9 2-2V5c0-1.1-.9-2-2-2zM9 17H7v-7h2v7zm4 0h-2V7h2v10zm4 0h-2v-4h2v4z\"/>\n",
              "    </g>\n",
              "</svg>\n",
              "  </button>\n",
              "\n",
              "<style>\n",
              "  .colab-df-quickchart {\n",
              "      --bg-color: #E8F0FE;\n",
              "      --fill-color: #1967D2;\n",
              "      --hover-bg-color: #E2EBFA;\n",
              "      --hover-fill-color: #174EA6;\n",
              "      --disabled-fill-color: #AAA;\n",
              "      --disabled-bg-color: #DDD;\n",
              "  }\n",
              "\n",
              "  [theme=dark] .colab-df-quickchart {\n",
              "      --bg-color: #3B4455;\n",
              "      --fill-color: #D2E3FC;\n",
              "      --hover-bg-color: #434B5C;\n",
              "      --hover-fill-color: #FFFFFF;\n",
              "      --disabled-bg-color: #3B4455;\n",
              "      --disabled-fill-color: #666;\n",
              "  }\n",
              "\n",
              "  .colab-df-quickchart {\n",
              "    background-color: var(--bg-color);\n",
              "    border: none;\n",
              "    border-radius: 50%;\n",
              "    cursor: pointer;\n",
              "    display: none;\n",
              "    fill: var(--fill-color);\n",
              "    height: 32px;\n",
              "    padding: 0;\n",
              "    width: 32px;\n",
              "  }\n",
              "\n",
              "  .colab-df-quickchart:hover {\n",
              "    background-color: var(--hover-bg-color);\n",
              "    box-shadow: 0 1px 2px rgba(60, 64, 67, 0.3), 0 1px 3px 1px rgba(60, 64, 67, 0.15);\n",
              "    fill: var(--button-hover-fill-color);\n",
              "  }\n",
              "\n",
              "  .colab-df-quickchart-complete:disabled,\n",
              "  .colab-df-quickchart-complete:disabled:hover {\n",
              "    background-color: var(--disabled-bg-color);\n",
              "    fill: var(--disabled-fill-color);\n",
              "    box-shadow: none;\n",
              "  }\n",
              "\n",
              "  .colab-df-spinner {\n",
              "    border: 2px solid var(--fill-color);\n",
              "    border-color: transparent;\n",
              "    border-bottom-color: var(--fill-color);\n",
              "    animation:\n",
              "      spin 1s steps(1) infinite;\n",
              "  }\n",
              "\n",
              "  @keyframes spin {\n",
              "    0% {\n",
              "      border-color: transparent;\n",
              "      border-bottom-color: var(--fill-color);\n",
              "      border-left-color: var(--fill-color);\n",
              "    }\n",
              "    20% {\n",
              "      border-color: transparent;\n",
              "      border-left-color: var(--fill-color);\n",
              "      border-top-color: var(--fill-color);\n",
              "    }\n",
              "    30% {\n",
              "      border-color: transparent;\n",
              "      border-left-color: var(--fill-color);\n",
              "      border-top-color: var(--fill-color);\n",
              "      border-right-color: var(--fill-color);\n",
              "    }\n",
              "    40% {\n",
              "      border-color: transparent;\n",
              "      border-right-color: var(--fill-color);\n",
              "      border-top-color: var(--fill-color);\n",
              "    }\n",
              "    60% {\n",
              "      border-color: transparent;\n",
              "      border-right-color: var(--fill-color);\n",
              "    }\n",
              "    80% {\n",
              "      border-color: transparent;\n",
              "      border-right-color: var(--fill-color);\n",
              "      border-bottom-color: var(--fill-color);\n",
              "    }\n",
              "    90% {\n",
              "      border-color: transparent;\n",
              "      border-bottom-color: var(--fill-color);\n",
              "    }\n",
              "  }\n",
              "</style>\n",
              "\n",
              "  <script>\n",
              "    async function quickchart(key) {\n",
              "      const quickchartButtonEl =\n",
              "        document.querySelector('#' + key + ' button');\n",
              "      quickchartButtonEl.disabled = true;  // To prevent multiple clicks.\n",
              "      quickchartButtonEl.classList.add('colab-df-spinner');\n",
              "      try {\n",
              "        const charts = await google.colab.kernel.invokeFunction(\n",
              "            'suggestCharts', [key], {});\n",
              "      } catch (error) {\n",
              "        console.error('Error during call to suggestCharts:', error);\n",
              "      }\n",
              "      quickchartButtonEl.classList.remove('colab-df-spinner');\n",
              "      quickchartButtonEl.classList.add('colab-df-quickchart-complete');\n",
              "    }\n",
              "    (() => {\n",
              "      let quickchartButtonEl =\n",
              "        document.querySelector('#df-43af08e2-c0c8-4fc7-9a6f-0dc2891f6c93 button');\n",
              "      quickchartButtonEl.style.display =\n",
              "        google.colab.kernel.accessAllowed ? 'block' : 'none';\n",
              "    })();\n",
              "  </script>\n",
              "</div>\n",
              "    </div>\n",
              "  </div>\n"
            ],
            "application/vnd.google.colaboratory.intrinsic+json": {
              "type": "dataframe"
            }
          },
          "metadata": {},
          "execution_count": 10
        }
      ],
      "source": [
        "df_train.describe(include='O')"
      ]
    },
    {
      "cell_type": "markdown",
      "metadata": {
        "id": "SPenZpolTX38"
      },
      "source": [
        "Очень много переменных, невозможно проанализировать все по отдельности. При этом заметно, что встречается много пропусков, посмотрю распределение признаков по доле пропусков:"
      ]
    },
    {
      "cell_type": "code",
      "execution_count": 11,
      "metadata": {
        "colab": {
          "base_uri": "https://localhost:8080/",
          "height": 450
        },
        "id": "w0xbyp-5B4R2",
        "outputId": "c409df92-a749-4d21-a656-a266bbec4330"
      },
      "outputs": [
        {
          "output_type": "execute_result",
          "data": {
            "text/plain": [
              "<Axes: >"
            ]
          },
          "metadata": {},
          "execution_count": 11
        },
        {
          "output_type": "display_data",
          "data": {
            "text/plain": [
              "<Figure size 640x480 with 1 Axes>"
            ],
            "image/png": "[encoded data removed]"
          },
          "metadata": {}
        }
      ],
      "source": [
        "(df_train.isna().sum(axis=0) / len(df_train)).hist()"
      ]
    },
    {
      "cell_type": "markdown",
      "metadata": {
        "id": "Kcjv38NjUBUE"
      },
      "source": [
        "Видно, что больше половины признаков по большей части состоят из пропусков. На мой взгляд, есть смысл рассматривать те признаки, в которых не более 30% пропусков, оставлю лишь их"
      ]
    },
    {
      "cell_type": "code",
      "execution_count": 12,
      "metadata": {
        "id": "VOuKInYMVSn0"
      },
      "outputs": [],
      "source": [
        "cols_to_drop = df_train.columns[df_train.isna().sum(axis=0) / len(df_train) > 0.3]\n",
        "df_train.drop(columns=cols_to_drop, inplace=True)\n",
        "df_test.drop(columns=cols_to_drop, inplace=True)"
      ]
    },
    {
      "cell_type": "markdown",
      "metadata": {
        "id": "TcVo8IKOXsxJ"
      },
      "source": [
        "Проверю наличие дубликатов"
      ]
    },
    {
      "cell_type": "code",
      "execution_count": 13,
      "metadata": {
        "colab": {
          "base_uri": "https://localhost:8080/"
        },
        "id": "0RvRPuqBXwfV",
        "outputId": "10b4dd1b-6266-4926-d2f8-e0980f399cf6"
      },
      "outputs": [
        {
          "output_type": "execute_result",
          "data": {
            "text/plain": [
              "True"
            ]
          },
          "metadata": {},
          "execution_count": 13
        }
      ],
      "source": [
        "df_train.duplicated().any()"
      ]
    },
    {
      "cell_type": "code",
      "execution_count": 14,
      "metadata": {
        "id": "7FmNTl1RX9_2"
      },
      "outputs": [],
      "source": [
        "df_train.drop_duplicates(inplace=True)"
      ]
    },
    {
      "cell_type": "code",
      "execution_count": 15,
      "metadata": {
        "colab": {
          "base_uri": "https://localhost:8080/"
        },
        "id": "MsbvhjrsYG4s",
        "outputId": "d45ae69d-b2cc-442f-d1df-fbdeefb620e3"
      },
      "outputs": [
        {
          "output_type": "execute_result",
          "data": {
            "text/plain": [
              "409575"
            ]
          },
          "metadata": {},
          "execution_count": 15
        }
      ],
      "source": [
        "len(df_train)"
      ]
    },
    {
      "cell_type": "markdown",
      "metadata": {
        "id": "x8Gi8O7oYKnE"
      },
      "source": [
        "Построю тепловую карту коррелияции признаков:"
      ]
    },
    {
      "cell_type": "code",
      "execution_count": 16,
      "metadata": {
        "colab": {
          "base_uri": "https://localhost:8080/",
          "height": 489
        },
        "id": "EZbro0plGilH",
        "outputId": "e500c88e-28d8-4cab-8e39-3777ac4a8aa5"
      },
      "outputs": [
        {
          "output_type": "execute_result",
          "data": {
            "text/plain": [
              "<Axes: >"
            ]
          },
          "metadata": {},
          "execution_count": 16
        },
        {
          "output_type": "display_data",
          "data": {
            "text/plain": [
              "<Figure size 640x480 with 2 Axes>"
            ],
            "image/png": "[encoded data removed]"
          },
          "metadata": {}
        }
      ],
      "source": [
        "corr_matrix = df_train.corr(numeric_only=True)\n",
        "sns.heatmap(corr_matrix)"
      ]
    },
    {
      "cell_type": "markdown",
      "metadata": {
        "id": "fd1JI6eKa_vt"
      },
      "source": [
        "Построю распределение попарных корреляций признаков:"
      ]
    },
    {
      "cell_type": "code",
      "execution_count": 17,
      "metadata": {
        "id": "GQXw8Qk5bFbk"
      },
      "outputs": [],
      "source": [
        "corr_df = (\n",
        "    corr_matrix - np.diag(np.ones(len(corr_matrix)))\n",
        ").abs().melt(ignore_index=False).reset_index()"
      ]
    },
    {
      "cell_type": "code",
      "execution_count": 18,
      "metadata": {
        "colab": {
          "base_uri": "https://localhost:8080/",
          "height": 469
        },
        "id": "RnuUFw65Y6sm",
        "outputId": "3ca5757d-7990-4594-be60-7dc4b85157dc"
      },
      "outputs": [
        {
          "output_type": "execute_result",
          "data": {
            "text/plain": [
              "array([[<Axes: title={'center': 'value'}>]], dtype=object)"
            ]
          },
          "metadata": {},
          "execution_count": 18
        },
        {
          "output_type": "display_data",
          "data": {
            "text/plain": [
              "<Figure size 640x480 with 1 Axes>"
            ],
            "image/png": "[encoded data removed]"
          },
          "metadata": {}
        }
      ],
      "source": [
        "corr_df.hist('value')"
      ]
    },
    {
      "cell_type": "markdown",
      "metadata": {
        "id": "ars0nxO9bXR5"
      },
      "source": [
        "Главным образом значения скоррелированы слабо, но есть часть линейно зависимых значений. При обучении они не будут давать новой информации, но при этом будут усложняться вычисления. Избавлюсь от значений, корреляция между которыми выше 0.7"
      ]
    },
    {
      "cell_type": "code",
      "execution_count": 19,
      "metadata": {
        "id": "-fgq_Ev7cB6t"
      },
      "outputs": [],
      "source": [
        "cols_to_delete = []\n",
        "for _, row in corr_df[corr_df.value > 0.7].iterrows():\n",
        "    if row['index'] not in cols_to_delete and row['variable'] not in cols_to_delete:\n",
        "        cols_to_delete.append(\n",
        "            row['index'] if df_train[row['index']].isna().sum() > df_train[row['variable']].isna().sum() \\\n",
        "              else row['variable']\n",
        "        )"
      ]
    },
    {
      "cell_type": "code",
      "execution_count": 20,
      "metadata": {
        "id": "ZjK6g6KadCmr"
      },
      "outputs": [],
      "source": [
        "df_train.drop(columns=cols_to_delete, inplace=True)\n",
        "df_test.drop(columns=cols_to_delete, inplace=True)"
      ]
    },
    {
      "cell_type": "code",
      "execution_count": 21,
      "metadata": {
        "colab": {
          "base_uri": "https://localhost:8080/",
          "height": 488
        },
        "id": "QSOx0vckd_f9",
        "outputId": "e858d822-b48b-4b9b-b586-5ea40be8501b"
      },
      "outputs": [
        {
          "output_type": "execute_result",
          "data": {
            "text/plain": [
              "<Axes: >"
            ]
          },
          "metadata": {},
          "execution_count": 21
        },
        {
          "output_type": "display_data",
          "data": {
            "text/plain": [
              "<Figure size 640x480 with 2 Axes>"
            ],
            "image/png": "[encoded data removed]"
          },
          "metadata": {}
        }
      ],
      "source": [
        "sns.heatmap(df_train.corr(numeric_only=True))"
      ]
    },
    {
      "cell_type": "markdown",
      "metadata": {
        "id": "Ob--0L7peSGv"
      },
      "source": [
        "На этой тепловой карте уже лучше видно, что значимой корреляции с целевой переменной нет, проверяю:"
      ]
    },
    {
      "cell_type": "code",
      "execution_count": 22,
      "metadata": {
        "colab": {
          "base_uri": "https://localhost:8080/",
          "height": 487
        },
        "id": "fP_g_mbLC70J",
        "outputId": "af17b1c4-e553-4025-8674-037743251981"
      },
      "outputs": [
        {
          "output_type": "stream",
          "name": "stderr",
          "text": [
            "/usr/local/lib/python3.11/dist-packages/numpy/lib/function_base.py:2897: RuntimeWarning: invalid value encountered in divide\n",
            "  c /= stddev[:, None]\n",
            "/usr/local/lib/python3.11/dist-packages/numpy/lib/function_base.py:2898: RuntimeWarning: invalid value encountered in divide\n",
            "  c /= stddev[None, :]\n"
          ]
        },
        {
          "output_type": "execute_result",
          "data": {
            "text/plain": [
              "V107            NaN\n",
              "isFraud    1.000000\n",
              "V45        0.279931\n",
              "V87        0.248532\n",
              "V38        0.189146\n",
              "V47        0.168855\n",
              "V78        0.153476\n",
              "card3      0.149539\n",
              "V304       0.137638\n",
              "V24        0.134124\n",
              "dtype: float64"
            ],
            "text/html": [
              "<div>\n",
              "<style scoped>\n",
              "    .dataframe tbody tr th:only-of-type {\n",
              "        vertical-align: middle;\n",
              "    }\n",
              "\n",
              "    .dataframe tbody tr th {\n",
              "        vertical-align: top;\n",
              "    }\n",
              "\n",
              "    .dataframe thead th {\n",
              "        text-align: right;\n",
              "    }\n",
              "</style>\n",
              "<table border=\"1\" class=\"dataframe\">\n",
              "  <thead>\n",
              "    <tr style=\"text-align: right;\">\n",
              "      <th></th>\n",
              "      <th>0</th>\n",
              "    </tr>\n",
              "  </thead>\n",
              "  <tbody>\n",
              "    <tr>\n",
              "      <th>V107</th>\n",
              "      <td>NaN</td>\n",
              "    </tr>\n",
              "    <tr>\n",
              "      <th>isFraud</th>\n",
              "      <td>1.000000</td>\n",
              "    </tr>\n",
              "    <tr>\n",
              "      <th>V45</th>\n",
              "      <td>0.279931</td>\n",
              "    </tr>\n",
              "    <tr>\n",
              "      <th>V87</th>\n",
              "      <td>0.248532</td>\n",
              "    </tr>\n",
              "    <tr>\n",
              "      <th>V38</th>\n",
              "      <td>0.189146</td>\n",
              "    </tr>\n",
              "    <tr>\n",
              "      <th>V47</th>\n",
              "      <td>0.168855</td>\n",
              "    </tr>\n",
              "    <tr>\n",
              "      <th>V78</th>\n",
              "      <td>0.153476</td>\n",
              "    </tr>\n",
              "    <tr>\n",
              "      <th>card3</th>\n",
              "      <td>0.149539</td>\n",
              "    </tr>\n",
              "    <tr>\n",
              "      <th>V304</th>\n",
              "      <td>0.137638</td>\n",
              "    </tr>\n",
              "    <tr>\n",
              "      <th>V24</th>\n",
              "      <td>0.134124</td>\n",
              "    </tr>\n",
              "  </tbody>\n",
              "</table>\n",
              "</div><br><label><b>dtype:</b> float64</label>"
            ]
          },
          "metadata": {},
          "execution_count": 22
        }
      ],
      "source": [
        "corr_w_target = df_train.corrwith(df_train.isFraud, numeric_only=True)\n",
        "sorted = np.argsort(np.abs(corr_w_target.values))[::-1]\n",
        "corr_w_target.iloc[sorted[:10]]"
      ]
    },
    {
      "cell_type": "markdown",
      "metadata": {
        "id": "xoV1TMEEVN2_"
      },
      "source": [
        "Есть признаки, которые показывают связь с целевой переменной. Посмотрим на аномалии"
      ]
    },
    {
      "cell_type": "code",
      "execution_count": 23,
      "metadata": {
        "id": "dR6FgrDTVOWQ"
      },
      "outputs": [],
      "source": [
        "q1 = df_train.select_dtypes(include='number').quantile(q=0.25, axis=0)\n",
        "q3 = df_train.select_dtypes(include='number').quantile(q=0.75, axis=0)\n",
        "iqr = q3 - q1\n",
        "lower = q1 - (1.5 * iqr)\n",
        "upper = q3 + (1.5 * iqr)"
      ]
    },
    {
      "cell_type": "code",
      "execution_count": 24,
      "metadata": {
        "id": "CjxCyrRkYpEp"
      },
      "outputs": [],
      "source": [
        "anomalies_ratio = (\n",
        "    (df_train.select_dtypes(include='number') > upper) + \\\n",
        "     (df_train.select_dtypes(include='number') < lower)\n",
        ").sum(axis=0) / len(df_train)"
      ]
    },
    {
      "cell_type": "code",
      "execution_count": 25,
      "metadata": {
        "colab": {
          "base_uri": "https://localhost:8080/",
          "height": 397
        },
        "id": "OrBi7yiBaNVS",
        "outputId": "59d83fbe-7f61-4ed3-8a95-47b276a74b34"
      },
      "outputs": [
        {
          "output_type": "execute_result",
          "data": {
            "text/plain": [
              "V62      0.187575\n",
              "V20      0.186872\n",
              "V83      0.176466\n",
              "V315     0.171246\n",
              "V289     0.171246\n",
              "C14      0.159600\n",
              "V131     0.152202\n",
              "V100     0.152202\n",
              "D1       0.129546\n",
              "card3    0.119485\n",
              "dtype: float64"
            ],
            "text/html": [
              "<div>\n",
              "<style scoped>\n",
              "    .dataframe tbody tr th:only-of-type {\n",
              "        vertical-align: middle;\n",
              "    }\n",
              "\n",
              "    .dataframe tbody tr th {\n",
              "        vertical-align: top;\n",
              "    }\n",
              "\n",
              "    .dataframe thead th {\n",
              "        text-align: right;\n",
              "    }\n",
              "</style>\n",
              "<table border=\"1\" class=\"dataframe\">\n",
              "  <thead>\n",
              "    <tr style=\"text-align: right;\">\n",
              "      <th></th>\n",
              "      <th>0</th>\n",
              "    </tr>\n",
              "  </thead>\n",
              "  <tbody>\n",
              "    <tr>\n",
              "      <th>V62</th>\n",
              "      <td>0.187575</td>\n",
              "    </tr>\n",
              "    <tr>\n",
              "      <th>V20</th>\n",
              "      <td>0.186872</td>\n",
              "    </tr>\n",
              "    <tr>\n",
              "      <th>V83</th>\n",
              "      <td>0.176466</td>\n",
              "    </tr>\n",
              "    <tr>\n",
              "      <th>V315</th>\n",
              "      <td>0.171246</td>\n",
              "    </tr>\n",
              "    <tr>\n",
              "      <th>V289</th>\n",
              "      <td>0.171246</td>\n",
              "    </tr>\n",
              "    <tr>\n",
              "      <th>C14</th>\n",
              "      <td>0.159600</td>\n",
              "    </tr>\n",
              "    <tr>\n",
              "      <th>V131</th>\n",
              "      <td>0.152202</td>\n",
              "    </tr>\n",
              "    <tr>\n",
              "      <th>V100</th>\n",
              "      <td>0.152202</td>\n",
              "    </tr>\n",
              "    <tr>\n",
              "      <th>D1</th>\n",
              "      <td>0.129546</td>\n",
              "    </tr>\n",
              "    <tr>\n",
              "      <th>card3</th>\n",
              "      <td>0.119485</td>\n",
              "    </tr>\n",
              "  </tbody>\n",
              "</table>\n",
              "</div><br><label><b>dtype:</b> float64</label>"
            ]
          },
          "metadata": {},
          "execution_count": 25
        }
      ],
      "source": [
        "anomalies_ratio.sort_values(ascending=False).head(10)"
      ]
    },
    {
      "cell_type": "markdown",
      "metadata": {
        "id": "oJ9yKwZxaYo_"
      },
      "source": [
        "Довольно много аномалий, причем именно в тех признаках, что сильнее всего связаны с целевой переменной. Есть гипотеза, что количество аномалий будет коррелировать с процентом фрода:"
      ]
    },
    {
      "cell_type": "code",
      "execution_count": 26,
      "metadata": {
        "id": "O9ezZTlJYEmD"
      },
      "outputs": [],
      "source": [
        "out = {}\n",
        "for col in df_train.select_dtypes(include='number').columns:\n",
        "    out[col] = df_train[(df_train[col] > upper[col]) | (df_train[col] < lower[col])].isFraud.mean()"
      ]
    },
    {
      "cell_type": "code",
      "execution_count": 27,
      "metadata": {
        "id": "1qIGCNG6Yej_"
      },
      "outputs": [],
      "source": [
        "anomalies_fraud_val = pd.DataFrame({'val': out})"
      ]
    },
    {
      "cell_type": "code",
      "execution_count": 28,
      "metadata": {
        "colab": {
          "base_uri": "https://localhost:8080/",
          "height": 112
        },
        "id": "nlon4NdjZAIL",
        "outputId": "a4007332-7cab-4c9f-f6ac-4f88e1e893f0"
      },
      "outputs": [
        {
          "output_type": "execute_result",
          "data": {
            "text/plain": [
              "          val         0\n",
              "val  1.000000 -0.281161\n",
              "0   -0.281161  1.000000"
            ],
            "text/html": [
              "\n",
              "  <div id=\"df-93fcd0da-d83f-44dd-a57b-7271e3d3d897\" class=\"colab-df-container\">\n",
              "    <div>\n",
              "<style scoped>\n",
              "    .dataframe tbody tr th:only-of-type {\n",
              "        vertical-align: middle;\n",
              "    }\n",
              "\n",
              "    .dataframe tbody tr th {\n",
              "        vertical-align: top;\n",
              "    }\n",
              "\n",
              "    .dataframe thead th {\n",
              "        text-align: right;\n",
              "    }\n",
              "</style>\n",
              "<table border=\"1\" class=\"dataframe\">\n",
              "  <thead>\n",
              "    <tr style=\"text-align: right;\">\n",
              "      <th></th>\n",
              "      <th>val</th>\n",
              "      <th>0</th>\n",
              "    </tr>\n",
              "  </thead>\n",
              "  <tbody>\n",
              "    <tr>\n",
              "      <th>val</th>\n",
              "      <td>1.000000</td>\n",
              "      <td>-0.281161</td>\n",
              "    </tr>\n",
              "    <tr>\n",
              "      <th>0</th>\n",
              "      <td>-0.281161</td>\n",
              "      <td>1.000000</td>\n",
              "    </tr>\n",
              "  </tbody>\n",
              "</table>\n",
              "</div>\n",
              "    <div class=\"colab-df-buttons\">\n",
              "\n",
              "  <div class=\"colab-df-container\">\n",
              "    <button class=\"colab-df-convert\" onclick=\"convertToInteractive('df-93fcd0da-d83f-44dd-a57b-7271e3d3d897')\"\n",
              "            title=\"Convert this dataframe to an interactive table.\"\n",
              "            style=\"display:none;\">\n",
              "\n",
              "  <svg xmlns=\"http://www.w3.org/2000/svg\" height=\"24px\" viewBox=\"0 -960 960 960\">\n",
              "    <path d=\"M120-120v-720h720v720H120Zm60-500h600v-160H180v160Zm220 220h160v-160H400v160Zm0 220h160v-160H400v160ZM180-400h160v-160H180v160Zm440 0h160v-160H620v160ZM180-180h160v-160H180v160Zm440 0h160v-160H620v160Z\"/>\n",
              "  </svg>\n",
              "    </button>\n",
              "\n",
              "  <style>\n",
              "    .colab-df-container {\n",
              "      display:flex;\n",
              "      gap: 12px;\n",
              "    }\n",
              "\n",
              "    .colab-df-convert {\n",
              "      background-color: #E8F0FE;\n",
              "      border: none;\n",
              "      border-radius: 50%;\n",
              "      cursor: pointer;\n",
              "      display: none;\n",
              "      fill: #1967D2;\n",
              "      height: 32px;\n",
              "      padding: 0 0 0 0;\n",
              "      width: 32px;\n",
              "    }\n",
              "\n",
              "    .colab-df-convert:hover {\n",
              "      background-color: #E2EBFA;\n",
              "      box-shadow: 0px 1px 2px rgba(60, 64, 67, 0.3), 0px 1px 3px 1px rgba(60, 64, 67, 0.15);\n",
              "      fill: #174EA6;\n",
              "    }\n",
              "\n",
              "    .colab-df-buttons div {\n",
              "      margin-bottom: 4px;\n",
              "    }\n",
              "\n",
              "    [theme=dark] .colab-df-convert {\n",
              "      background-color: #3B4455;\n",
              "      fill: #D2E3FC;\n",
              "    }\n",
              "\n",
              "    [theme=dark] .colab-df-convert:hover {\n",
              "      background-color: #434B5C;\n",
              "      box-shadow: 0px 1px 3px 1px rgba(0, 0, 0, 0.15);\n",
              "      filter: drop-shadow(0px 1px 2px rgba(0, 0, 0, 0.3));\n",
              "      fill: #FFFFFF;\n",
              "    }\n",
              "  </style>\n",
              "\n",
              "    <script>\n",
              "      const buttonEl =\n",
              "        document.querySelector('#df-93fcd0da-d83f-44dd-a57b-7271e3d3d897 button.colab-df-convert');\n",
              "      buttonEl.style.display =\n",
              "        google.colab.kernel.accessAllowed ? 'block' : 'none';\n",
              "\n",
              "      async function convertToInteractive(key) {\n",
              "        const element = document.querySelector('#df-93fcd0da-d83f-44dd-a57b-7271e3d3d897');\n",
              "        const dataTable =\n",
              "          await google.colab.kernel.invokeFunction('convertToInteractive',\n",
              "                                                    [key], {});\n",
              "        if (!dataTable) return;\n",
              "\n",
              "        const docLinkHtml = 'Like what you see? Visit the ' +\n",
              "          '<a target=\"_blank\" href=https://colab.research.google.com/notebooks/data_table.ipynb>data table notebook</a>'\n",
              "          + ' to learn more about interactive tables.';\n",
              "        element.innerHTML = '';\n",
              "        dataTable['output_type'] = 'display_data';\n",
              "        await google.colab.output.renderOutput(dataTable, element);\n",
              "        const docLink = document.createElement('div');\n",
              "        docLink.innerHTML = docLinkHtml;\n",
              "        element.appendChild(docLink);\n",
              "      }\n",
              "    </script>\n",
              "  </div>\n",
              "\n",
              "\n",
              "<div id=\"df-2e629649-d088-4481-a8a2-51ffcfab18cf\">\n",
              "  <button class=\"colab-df-quickchart\" onclick=\"quickchart('df-2e629649-d088-4481-a8a2-51ffcfab18cf')\"\n",
              "            title=\"Suggest charts\"\n",
              "            style=\"display:none;\">\n",
              "\n",
              "<svg xmlns=\"http://www.w3.org/2000/svg\" height=\"24px\"viewBox=\"0 0 24 24\"\n",
              "     width=\"24px\">\n",
              "    <g>\n",
              "        <path d=\"M19 3H5c-1.1 0-2 .9-2 2v14c0 1.1.9 2 2 2h14c1.1 0 2-.9 2-2V5c0-1.1-.9-2-2-2zM9 17H7v-7h2v7zm4 0h-2V7h2v10zm4 0h-2v-4h2v4z\"/>\n",
              "    </g>\n",
              "</svg>\n",
              "  </button>\n",
              "\n",
              "<style>\n",
              "  .colab-df-quickchart {\n",
              "      --bg-color: #E8F0FE;\n",
              "      --fill-color: #1967D2;\n",
              "      --hover-bg-color: #E2EBFA;\n",
              "      --hover-fill-color: #174EA6;\n",
              "      --disabled-fill-color: #AAA;\n",
              "      --disabled-bg-color: #DDD;\n",
              "  }\n",
              "\n",
              "  [theme=dark] .colab-df-quickchart {\n",
              "      --bg-color: #3B4455;\n",
              "      --fill-color: #D2E3FC;\n",
              "      --hover-bg-color: #434B5C;\n",
              "      --hover-fill-color: #FFFFFF;\n",
              "      --disabled-bg-color: #3B4455;\n",
              "      --disabled-fill-color: #666;\n",
              "  }\n",
              "\n",
              "  .colab-df-quickchart {\n",
              "    background-color: var(--bg-color);\n",
              "    border: none;\n",
              "    border-radius: 50%;\n",
              "    cursor: pointer;\n",
              "    display: none;\n",
              "    fill: var(--fill-color);\n",
              "    height: 32px;\n",
              "    padding: 0;\n",
              "    width: 32px;\n",
              "  }\n",
              "\n",
              "  .colab-df-quickchart:hover {\n",
              "    background-color: var(--hover-bg-color);\n",
              "    box-shadow: 0 1px 2px rgba(60, 64, 67, 0.3), 0 1px 3px 1px rgba(60, 64, 67, 0.15);\n",
              "    fill: var(--button-hover-fill-color);\n",
              "  }\n",
              "\n",
              "  .colab-df-quickchart-complete:disabled,\n",
              "  .colab-df-quickchart-complete:disabled:hover {\n",
              "    background-color: var(--disabled-bg-color);\n",
              "    fill: var(--disabled-fill-color);\n",
              "    box-shadow: none;\n",
              "  }\n",
              "\n",
              "  .colab-df-spinner {\n",
              "    border: 2px solid var(--fill-color);\n",
              "    border-color: transparent;\n",
              "    border-bottom-color: var(--fill-color);\n",
              "    animation:\n",
              "      spin 1s steps(1) infinite;\n",
              "  }\n",
              "\n",
              "  @keyframes spin {\n",
              "    0% {\n",
              "      border-color: transparent;\n",
              "      border-bottom-color: var(--fill-color);\n",
              "      border-left-color: var(--fill-color);\n",
              "    }\n",
              "    20% {\n",
              "      border-color: transparent;\n",
              "      border-left-color: var(--fill-color);\n",
              "      border-top-color: var(--fill-color);\n",
              "    }\n",
              "    30% {\n",
              "      border-color: transparent;\n",
              "      border-left-color: var(--fill-color);\n",
              "      border-top-color: var(--fill-color);\n",
              "      border-right-color: var(--fill-color);\n",
              "    }\n",
              "    40% {\n",
              "      border-color: transparent;\n",
              "      border-right-color: var(--fill-color);\n",
              "      border-top-color: var(--fill-color);\n",
              "    }\n",
              "    60% {\n",
              "      border-color: transparent;\n",
              "      border-right-color: var(--fill-color);\n",
              "    }\n",
              "    80% {\n",
              "      border-color: transparent;\n",
              "      border-right-color: var(--fill-color);\n",
              "      border-bottom-color: var(--fill-color);\n",
              "    }\n",
              "    90% {\n",
              "      border-color: transparent;\n",
              "      border-bottom-color: var(--fill-color);\n",
              "    }\n",
              "  }\n",
              "</style>\n",
              "\n",
              "  <script>\n",
              "    async function quickchart(key) {\n",
              "      const quickchartButtonEl =\n",
              "        document.querySelector('#' + key + ' button');\n",
              "      quickchartButtonEl.disabled = true;  // To prevent multiple clicks.\n",
              "      quickchartButtonEl.classList.add('colab-df-spinner');\n",
              "      try {\n",
              "        const charts = await google.colab.kernel.invokeFunction(\n",
              "            'suggestCharts', [key], {});\n",
              "      } catch (error) {\n",
              "        console.error('Error during call to suggestCharts:', error);\n",
              "      }\n",
              "      quickchartButtonEl.classList.remove('colab-df-spinner');\n",
              "      quickchartButtonEl.classList.add('colab-df-quickchart-complete');\n",
              "    }\n",
              "    (() => {\n",
              "      let quickchartButtonEl =\n",
              "        document.querySelector('#df-2e629649-d088-4481-a8a2-51ffcfab18cf button');\n",
              "      quickchartButtonEl.style.display =\n",
              "        google.colab.kernel.accessAllowed ? 'block' : 'none';\n",
              "    })();\n",
              "  </script>\n",
              "</div>\n",
              "    </div>\n",
              "  </div>\n"
            ],
            "application/vnd.google.colaboratory.intrinsic+json": {
              "type": "dataframe",
              "summary": "{\n  \"name\": \")\",\n  \"rows\": 2,\n  \"fields\": [\n    {\n      \"column\": \"val\",\n      \"properties\": {\n        \"dtype\": \"number\",\n        \"std\": 0.9059178031723354,\n        \"min\": -0.28116124364155687,\n        \"max\": 1.0,\n        \"num_unique_values\": 2,\n        \"samples\": [\n          -0.28116124364155687,\n          1.0\n        ],\n        \"semantic_type\": \"\",\n        \"description\": \"\"\n      }\n    },\n    {\n      \"column\": 0,\n      \"properties\": {\n        \"dtype\": \"number\",\n        \"std\": 0.9059178031723354,\n        \"min\": -0.28116124364155687,\n        \"max\": 1.0,\n        \"num_unique_values\": 2,\n        \"samples\": [\n          1.0,\n          -0.28116124364155687\n        ],\n        \"semantic_type\": \"\",\n        \"description\": \"\"\n      }\n    }\n  ]\n}"
            }
          },
          "metadata": {},
          "execution_count": 28
        }
      ],
      "source": [
        "pd.concat(\n",
        "    (\n",
        "        anomalies_fraud_val,\n",
        "        anomalies_ratio\n",
        "    ),\n",
        "    axis=1\n",
        ").corr('spearman')"
      ]
    },
    {
      "cell_type": "markdown",
      "metadata": {
        "id": "h_ktyDUraoHx"
      },
      "source": [
        "Связь действительно прослеживается. Следовательно, не стоит удалять аномалии"
      ]
    },
    {
      "cell_type": "markdown",
      "metadata": {
        "id": "gNtInvXUejMM"
      },
      "source": [
        "Теперь посмотрю на категориальные признаки:"
      ]
    },
    {
      "cell_type": "code",
      "execution_count": 29,
      "metadata": {
        "colab": {
          "base_uri": "https://localhost:8080/",
          "height": 175
        },
        "id": "1AxqpBwdBmCO",
        "outputId": "5996ae7e-2aeb-4949-c0ea-aefe6e44c013"
      },
      "outputs": [
        {
          "output_type": "execute_result",
          "data": {
            "text/plain": [
              "       ProductCD   card4   card6 P_emaildomain\n",
              "count     409575  408746  408749        345212\n",
              "unique         5       4       4            59\n",
              "top            W    visa   debit     gmail.com\n",
              "freq      298172  266351  300890        156054"
            ],
            "text/html": [
              "\n",
              "  <div id=\"df-4ec3f883-365e-433c-92c5-8fd00bb17a4b\" class=\"colab-df-container\">\n",
              "    <div>\n",
              "<style scoped>\n",
              "    .dataframe tbody tr th:only-of-type {\n",
              "        vertical-align: middle;\n",
              "    }\n",
              "\n",
              "    .dataframe tbody tr th {\n",
              "        vertical-align: top;\n",
              "    }\n",
              "\n",
              "    .dataframe thead th {\n",
              "        text-align: right;\n",
              "    }\n",
              "</style>\n",
              "<table border=\"1\" class=\"dataframe\">\n",
              "  <thead>\n",
              "    <tr style=\"text-align: right;\">\n",
              "      <th></th>\n",
              "      <th>ProductCD</th>\n",
              "      <th>card4</th>\n",
              "      <th>card6</th>\n",
              "      <th>P_emaildomain</th>\n",
              "    </tr>\n",
              "  </thead>\n",
              "  <tbody>\n",
              "    <tr>\n",
              "      <th>count</th>\n",
              "      <td>409575</td>\n",
              "      <td>408746</td>\n",
              "      <td>408749</td>\n",
              "      <td>345212</td>\n",
              "    </tr>\n",
              "    <tr>\n",
              "      <th>unique</th>\n",
              "      <td>5</td>\n",
              "      <td>4</td>\n",
              "      <td>4</td>\n",
              "      <td>59</td>\n",
              "    </tr>\n",
              "    <tr>\n",
              "      <th>top</th>\n",
              "      <td>W</td>\n",
              "      <td>visa</td>\n",
              "      <td>debit</td>\n",
              "      <td>gmail.com</td>\n",
              "    </tr>\n",
              "    <tr>\n",
              "      <th>freq</th>\n",
              "      <td>298172</td>\n",
              "      <td>266351</td>\n",
              "      <td>300890</td>\n",
              "      <td>156054</td>\n",
              "    </tr>\n",
              "  </tbody>\n",
              "</table>\n",
              "</div>\n",
              "    <div class=\"colab-df-buttons\">\n",
              "\n",
              "  <div class=\"colab-df-container\">\n",
              "    <button class=\"colab-df-convert\" onclick=\"convertToInteractive('df-4ec3f883-365e-433c-92c5-8fd00bb17a4b')\"\n",
              "            title=\"Convert this dataframe to an interactive table.\"\n",
              "            style=\"display:none;\">\n",
              "\n",
              "  <svg xmlns=\"http://www.w3.org/2000/svg\" height=\"24px\" viewBox=\"0 -960 960 960\">\n",
              "    <path d=\"M120-120v-720h720v720H120Zm60-500h600v-160H180v160Zm220 220h160v-160H400v160Zm0 220h160v-160H400v160ZM180-400h160v-160H180v160Zm440 0h160v-160H620v160ZM180-180h160v-160H180v160Zm440 0h160v-160H620v160Z\"/>\n",
              "  </svg>\n",
              "    </button>\n",
              "\n",
              "  <style>\n",
              "    .colab-df-container {\n",
              "      display:flex;\n",
              "      gap: 12px;\n",
              "    }\n",
              "\n",
              "    .colab-df-convert {\n",
              "      background-color: #E8F0FE;\n",
              "      border: none;\n",
              "      border-radius: 50%;\n",
              "      cursor: pointer;\n",
              "      display: none;\n",
              "      fill: #1967D2;\n",
              "      height: 32px;\n",
              "      padding: 0 0 0 0;\n",
              "      width: 32px;\n",
              "    }\n",
              "\n",
              "    .colab-df-convert:hover {\n",
              "      background-color: #E2EBFA;\n",
              "      box-shadow: 0px 1px 2px rgba(60, 64, 67, 0.3), 0px 1px 3px 1px rgba(60, 64, 67, 0.15);\n",
              "      fill: #174EA6;\n",
              "    }\n",
              "\n",
              "    .colab-df-buttons div {\n",
              "      margin-bottom: 4px;\n",
              "    }\n",
              "\n",
              "    [theme=dark] .colab-df-convert {\n",
              "      background-color: #3B4455;\n",
              "      fill: #D2E3FC;\n",
              "    }\n",
              "\n",
              "    [theme=dark] .colab-df-convert:hover {\n",
              "      background-color: #434B5C;\n",
              "      box-shadow: 0px 1px 3px 1px rgba(0, 0, 0, 0.15);\n",
              "      filter: drop-shadow(0px 1px 2px rgba(0, 0, 0, 0.3));\n",
              "      fill: #FFFFFF;\n",
              "    }\n",
              "  </style>\n",
              "\n",
              "    <script>\n",
              "      const buttonEl =\n",
              "        document.querySelector('#df-4ec3f883-365e-433c-92c5-8fd00bb17a4b button.colab-df-convert');\n",
              "      buttonEl.style.display =\n",
              "        google.colab.kernel.accessAllowed ? 'block' : 'none';\n",
              "\n",
              "      async function convertToInteractive(key) {\n",
              "        const element = document.querySelector('#df-4ec3f883-365e-433c-92c5-8fd00bb17a4b');\n",
              "        const dataTable =\n",
              "          await google.colab.kernel.invokeFunction('convertToInteractive',\n",
              "                                                    [key], {});\n",
              "        if (!dataTable) return;\n",
              "\n",
              "        const docLinkHtml = 'Like what you see? Visit the ' +\n",
              "          '<a target=\"_blank\" href=https://colab.research.google.com/notebooks/data_table.ipynb>data table notebook</a>'\n",
              "          + ' to learn more about interactive tables.';\n",
              "        element.innerHTML = '';\n",
              "        dataTable['output_type'] = 'display_data';\n",
              "        await google.colab.output.renderOutput(dataTable, element);\n",
              "        const docLink = document.createElement('div');\n",
              "        docLink.innerHTML = docLinkHtml;\n",
              "        element.appendChild(docLink);\n",
              "      }\n",
              "    </script>\n",
              "  </div>\n",
              "\n",
              "\n",
              "<div id=\"df-ebfc742b-b455-448e-aebb-f9efd9740568\">\n",
              "  <button class=\"colab-df-quickchart\" onclick=\"quickchart('df-ebfc742b-b455-448e-aebb-f9efd9740568')\"\n",
              "            title=\"Suggest charts\"\n",
              "            style=\"display:none;\">\n",
              "\n",
              "<svg xmlns=\"http://www.w3.org/2000/svg\" height=\"24px\"viewBox=\"0 0 24 24\"\n",
              "     width=\"24px\">\n",
              "    <g>\n",
              "        <path d=\"M19 3H5c-1.1 0-2 .9-2 2v14c0 1.1.9 2 2 2h14c1.1 0 2-.9 2-2V5c0-1.1-.9-2-2-2zM9 17H7v-7h2v7zm4 0h-2V7h2v10zm4 0h-2v-4h2v4z\"/>\n",
              "    </g>\n",
              "</svg>\n",
              "  </button>\n",
              "\n",
              "<style>\n",
              "  .colab-df-quickchart {\n",
              "      --bg-color: #E8F0FE;\n",
              "      --fill-color: #1967D2;\n",
              "      --hover-bg-color: #E2EBFA;\n",
              "      --hover-fill-color: #174EA6;\n",
              "      --disabled-fill-color: #AAA;\n",
              "      --disabled-bg-color: #DDD;\n",
              "  }\n",
              "\n",
              "  [theme=dark] .colab-df-quickchart {\n",
              "      --bg-color: #3B4455;\n",
              "      --fill-color: #D2E3FC;\n",
              "      --hover-bg-color: #434B5C;\n",
              "      --hover-fill-color: #FFFFFF;\n",
              "      --disabled-bg-color: #3B4455;\n",
              "      --disabled-fill-color: #666;\n",
              "  }\n",
              "\n",
              "  .colab-df-quickchart {\n",
              "    background-color: var(--bg-color);\n",
              "    border: none;\n",
              "    border-radius: 50%;\n",
              "    cursor: pointer;\n",
              "    display: none;\n",
              "    fill: var(--fill-color);\n",
              "    height: 32px;\n",
              "    padding: 0;\n",
              "    width: 32px;\n",
              "  }\n",
              "\n",
              "  .colab-df-quickchart:hover {\n",
              "    background-color: var(--hover-bg-color);\n",
              "    box-shadow: 0 1px 2px rgba(60, 64, 67, 0.3), 0 1px 3px 1px rgba(60, 64, 67, 0.15);\n",
              "    fill: var(--button-hover-fill-color);\n",
              "  }\n",
              "\n",
              "  .colab-df-quickchart-complete:disabled,\n",
              "  .colab-df-quickchart-complete:disabled:hover {\n",
              "    background-color: var(--disabled-bg-color);\n",
              "    fill: var(--disabled-fill-color);\n",
              "    box-shadow: none;\n",
              "  }\n",
              "\n",
              "  .colab-df-spinner {\n",
              "    border: 2px solid var(--fill-color);\n",
              "    border-color: transparent;\n",
              "    border-bottom-color: var(--fill-color);\n",
              "    animation:\n",
              "      spin 1s steps(1) infinite;\n",
              "  }\n",
              "\n",
              "  @keyframes spin {\n",
              "    0% {\n",
              "      border-color: transparent;\n",
              "      border-bottom-color: var(--fill-color);\n",
              "      border-left-color: var(--fill-color);\n",
              "    }\n",
              "    20% {\n",
              "      border-color: transparent;\n",
              "      border-left-color: var(--fill-color);\n",
              "      border-top-color: var(--fill-color);\n",
              "    }\n",
              "    30% {\n",
              "      border-color: transparent;\n",
              "      border-left-color: var(--fill-color);\n",
              "      border-top-color: var(--fill-color);\n",
              "      border-right-color: var(--fill-color);\n",
              "    }\n",
              "    40% {\n",
              "      border-color: transparent;\n",
              "      border-right-color: var(--fill-color);\n",
              "      border-top-color: var(--fill-color);\n",
              "    }\n",
              "    60% {\n",
              "      border-color: transparent;\n",
              "      border-right-color: var(--fill-color);\n",
              "    }\n",
              "    80% {\n",
              "      border-color: transparent;\n",
              "      border-right-color: var(--fill-color);\n",
              "      border-bottom-color: var(--fill-color);\n",
              "    }\n",
              "    90% {\n",
              "      border-color: transparent;\n",
              "      border-bottom-color: var(--fill-color);\n",
              "    }\n",
              "  }\n",
              "</style>\n",
              "\n",
              "  <script>\n",
              "    async function quickchart(key) {\n",
              "      const quickchartButtonEl =\n",
              "        document.querySelector('#' + key + ' button');\n",
              "      quickchartButtonEl.disabled = true;  // To prevent multiple clicks.\n",
              "      quickchartButtonEl.classList.add('colab-df-spinner');\n",
              "      try {\n",
              "        const charts = await google.colab.kernel.invokeFunction(\n",
              "            'suggestCharts', [key], {});\n",
              "      } catch (error) {\n",
              "        console.error('Error during call to suggestCharts:', error);\n",
              "      }\n",
              "      quickchartButtonEl.classList.remove('colab-df-spinner');\n",
              "      quickchartButtonEl.classList.add('colab-df-quickchart-complete');\n",
              "    }\n",
              "    (() => {\n",
              "      let quickchartButtonEl =\n",
              "        document.querySelector('#df-ebfc742b-b455-448e-aebb-f9efd9740568 button');\n",
              "      quickchartButtonEl.style.display =\n",
              "        google.colab.kernel.accessAllowed ? 'block' : 'none';\n",
              "    })();\n",
              "  </script>\n",
              "</div>\n",
              "    </div>\n",
              "  </div>\n"
            ],
            "application/vnd.google.colaboratory.intrinsic+json": {
              "type": "dataframe",
              "summary": "{\n  \"name\": \"df_train\",\n  \"rows\": 4,\n  \"fields\": [\n    {\n      \"column\": \"ProductCD\",\n      \"properties\": {\n        \"dtype\": \"string\",\n        \"num_unique_values\": 4,\n        \"samples\": [\n          5,\n          \"298172\",\n          \"409575\"\n        ],\n        \"semantic_type\": \"\",\n        \"description\": \"\"\n      }\n    },\n    {\n      \"column\": \"card4\",\n      \"properties\": {\n        \"dtype\": \"string\",\n        \"num_unique_values\": 4,\n        \"samples\": [\n          4,\n          \"266351\",\n          \"408746\"\n        ],\n        \"semantic_type\": \"\",\n        \"description\": \"\"\n      }\n    },\n    {\n      \"column\": \"card6\",\n      \"properties\": {\n        \"dtype\": \"string\",\n        \"num_unique_values\": 4,\n        \"samples\": [\n          4,\n          \"300890\",\n          \"408749\"\n        ],\n        \"semantic_type\": \"\",\n        \"description\": \"\"\n      }\n    },\n    {\n      \"column\": \"P_emaildomain\",\n      \"properties\": {\n        \"dtype\": \"string\",\n        \"num_unique_values\": 4,\n        \"samples\": [\n          59,\n          \"156054\",\n          \"345212\"\n        ],\n        \"semantic_type\": \"\",\n        \"description\": \"\"\n      }\n    }\n  ]\n}"
            }
          },
          "metadata": {},
          "execution_count": 29
        }
      ],
      "source": [
        "df_train.describe(include='O')"
      ]
    },
    {
      "cell_type": "code",
      "execution_count": 30,
      "metadata": {
        "colab": {
          "base_uri": "https://localhost:8080/",
          "height": 272
        },
        "id": "zQQwShqXJ2ck",
        "outputId": "4db5d063-70f3-4252-bdaf-0da53eadde81"
      },
      "outputs": [
        {
          "output_type": "execute_result",
          "data": {
            "text/plain": [
              "ProductCD\n",
              "W    0.728003\n",
              "C    0.120776\n",
              "R    0.069335\n",
              "H    0.064474\n",
              "S    0.017411\n",
              "Name: count, dtype: float64"
            ],
            "text/html": [
              "<div>\n",
              "<style scoped>\n",
              "    .dataframe tbody tr th:only-of-type {\n",
              "        vertical-align: middle;\n",
              "    }\n",
              "\n",
              "    .dataframe tbody tr th {\n",
              "        vertical-align: top;\n",
              "    }\n",
              "\n",
              "    .dataframe thead th {\n",
              "        text-align: right;\n",
              "    }\n",
              "</style>\n",
              "<table border=\"1\" class=\"dataframe\">\n",
              "  <thead>\n",
              "    <tr style=\"text-align: right;\">\n",
              "      <th></th>\n",
              "      <th>count</th>\n",
              "    </tr>\n",
              "    <tr>\n",
              "      <th>ProductCD</th>\n",
              "      <th></th>\n",
              "    </tr>\n",
              "  </thead>\n",
              "  <tbody>\n",
              "    <tr>\n",
              "      <th>W</th>\n",
              "      <td>0.728003</td>\n",
              "    </tr>\n",
              "    <tr>\n",
              "      <th>C</th>\n",
              "      <td>0.120776</td>\n",
              "    </tr>\n",
              "    <tr>\n",
              "      <th>R</th>\n",
              "      <td>0.069335</td>\n",
              "    </tr>\n",
              "    <tr>\n",
              "      <th>H</th>\n",
              "      <td>0.064474</td>\n",
              "    </tr>\n",
              "    <tr>\n",
              "      <th>S</th>\n",
              "      <td>0.017411</td>\n",
              "    </tr>\n",
              "  </tbody>\n",
              "</table>\n",
              "</div><br><label><b>dtype:</b> float64</label>"
            ]
          },
          "metadata": {},
          "execution_count": 30
        }
      ],
      "source": [
        "df_train.ProductCD.value_counts() / len(df_train)"
      ]
    },
    {
      "cell_type": "code",
      "execution_count": 31,
      "metadata": {
        "colab": {
          "base_uri": "https://localhost:8080/",
          "height": 241
        },
        "id": "5qm4zynKJ6IT",
        "outputId": "b0c1e7ac-b8d0-4933-998e-00b7d727cf25"
      },
      "outputs": [
        {
          "output_type": "execute_result",
          "data": {
            "text/plain": [
              "card4\n",
              "visa                0.650311\n",
              "mastercard          0.319656\n",
              "american express    0.016493\n",
              "discover            0.011517\n",
              "Name: count, dtype: float64"
            ],
            "text/html": [
              "<div>\n",
              "<style scoped>\n",
              "    .dataframe tbody tr th:only-of-type {\n",
              "        vertical-align: middle;\n",
              "    }\n",
              "\n",
              "    .dataframe tbody tr th {\n",
              "        vertical-align: top;\n",
              "    }\n",
              "\n",
              "    .dataframe thead th {\n",
              "        text-align: right;\n",
              "    }\n",
              "</style>\n",
              "<table border=\"1\" class=\"dataframe\">\n",
              "  <thead>\n",
              "    <tr style=\"text-align: right;\">\n",
              "      <th></th>\n",
              "      <th>count</th>\n",
              "    </tr>\n",
              "    <tr>\n",
              "      <th>card4</th>\n",
              "      <th></th>\n",
              "    </tr>\n",
              "  </thead>\n",
              "  <tbody>\n",
              "    <tr>\n",
              "      <th>visa</th>\n",
              "      <td>0.650311</td>\n",
              "    </tr>\n",
              "    <tr>\n",
              "      <th>mastercard</th>\n",
              "      <td>0.319656</td>\n",
              "    </tr>\n",
              "    <tr>\n",
              "      <th>american express</th>\n",
              "      <td>0.016493</td>\n",
              "    </tr>\n",
              "    <tr>\n",
              "      <th>discover</th>\n",
              "      <td>0.011517</td>\n",
              "    </tr>\n",
              "  </tbody>\n",
              "</table>\n",
              "</div><br><label><b>dtype:</b> float64</label>"
            ]
          },
          "metadata": {},
          "execution_count": 31
        }
      ],
      "source": [
        "df_train.card4.value_counts() / len(df_train)"
      ]
    },
    {
      "cell_type": "code",
      "execution_count": 32,
      "metadata": {
        "colab": {
          "base_uri": "https://localhost:8080/",
          "height": 241
        },
        "id": "gv7ngXLmJ8VD",
        "outputId": "6917ff0b-70fa-4543-a0ee-9e74aaf294f9"
      },
      "outputs": [
        {
          "output_type": "execute_result",
          "data": {
            "text/plain": [
              "card6\n",
              "debit              0.734640\n",
              "credit             0.263234\n",
              "debit or credit    0.000073\n",
              "charge card        0.000037\n",
              "Name: count, dtype: float64"
            ],
            "text/html": [
              "<div>\n",
              "<style scoped>\n",
              "    .dataframe tbody tr th:only-of-type {\n",
              "        vertical-align: middle;\n",
              "    }\n",
              "\n",
              "    .dataframe tbody tr th {\n",
              "        vertical-align: top;\n",
              "    }\n",
              "\n",
              "    .dataframe thead th {\n",
              "        text-align: right;\n",
              "    }\n",
              "</style>\n",
              "<table border=\"1\" class=\"dataframe\">\n",
              "  <thead>\n",
              "    <tr style=\"text-align: right;\">\n",
              "      <th></th>\n",
              "      <th>count</th>\n",
              "    </tr>\n",
              "    <tr>\n",
              "      <th>card6</th>\n",
              "      <th></th>\n",
              "    </tr>\n",
              "  </thead>\n",
              "  <tbody>\n",
              "    <tr>\n",
              "      <th>debit</th>\n",
              "      <td>0.734640</td>\n",
              "    </tr>\n",
              "    <tr>\n",
              "      <th>credit</th>\n",
              "      <td>0.263234</td>\n",
              "    </tr>\n",
              "    <tr>\n",
              "      <th>debit or credit</th>\n",
              "      <td>0.000073</td>\n",
              "    </tr>\n",
              "    <tr>\n",
              "      <th>charge card</th>\n",
              "      <td>0.000037</td>\n",
              "    </tr>\n",
              "  </tbody>\n",
              "</table>\n",
              "</div><br><label><b>dtype:</b> float64</label>"
            ]
          },
          "metadata": {},
          "execution_count": 32
        }
      ],
      "source": [
        "df_train.card6.value_counts()  / len(df_train)"
      ]
    },
    {
      "cell_type": "markdown",
      "metadata": {
        "id": "AVRwNjWUPOLa"
      },
      "source": [
        "Есть очень редкие значения. Можно свести переменную к бинарному признаку (пропуски сразу заполняю самым популярным значением):"
      ]
    },
    {
      "cell_type": "code",
      "execution_count": 33,
      "metadata": {
        "id": "3g0LAgFmPdYF"
      },
      "outputs": [],
      "source": [
        "df_train.card6 = df_train.card6.apply(lambda x: 1 if x=='credit' else 0)\n",
        "df_test.card6 = df_test.card6.apply(lambda x: 1 if x=='credit' else 0)"
      ]
    },
    {
      "cell_type": "markdown",
      "metadata": {
        "id": "U411xvrDPwc5"
      },
      "source": [
        "Теперь самый разнообразный признак"
      ]
    },
    {
      "cell_type": "code",
      "execution_count": 34,
      "metadata": {
        "colab": {
          "base_uri": "https://localhost:8080/",
          "height": 742
        },
        "id": "ZGlB4oQgLaTA",
        "outputId": "a883ae4a-88be-4f98-f79c-36f80b6abfc1"
      },
      "outputs": [
        {
          "output_type": "execute_result",
          "data": {
            "text/plain": [
              "P_emaildomain\n",
              "gmail.com        0.381014\n",
              "yahoo.com        0.170811\n",
              "hotmail.com      0.079563\n",
              "anonymous.com    0.064689\n",
              "aol.com          0.048360\n",
              "comcast.net      0.014017\n",
              "icloud.com       0.010643\n",
              "outlook.com      0.008753\n",
              "msn.com          0.007278\n",
              "att.net          0.006668\n",
              "live.com         0.005389\n",
              "sbcglobal.net    0.005237\n",
              "verizon.net      0.004934\n",
              "ymail.com        0.004143\n",
              "bellsouth.net    0.003408\n",
              "me.com           0.002849\n",
              "yahoo.com.mx     0.002805\n",
              "cox.net          0.002432\n",
              "optonline.net    0.001858\n",
              "charter.net      0.001558\n",
              "Name: count, dtype: float64"
            ],
            "text/html": [
              "<div>\n",
              "<style scoped>\n",
              "    .dataframe tbody tr th:only-of-type {\n",
              "        vertical-align: middle;\n",
              "    }\n",
              "\n",
              "    .dataframe tbody tr th {\n",
              "        vertical-align: top;\n",
              "    }\n",
              "\n",
              "    .dataframe thead th {\n",
              "        text-align: right;\n",
              "    }\n",
              "</style>\n",
              "<table border=\"1\" class=\"dataframe\">\n",
              "  <thead>\n",
              "    <tr style=\"text-align: right;\">\n",
              "      <th></th>\n",
              "      <th>count</th>\n",
              "    </tr>\n",
              "    <tr>\n",
              "      <th>P_emaildomain</th>\n",
              "      <th></th>\n",
              "    </tr>\n",
              "  </thead>\n",
              "  <tbody>\n",
              "    <tr>\n",
              "      <th>gmail.com</th>\n",
              "      <td>0.381014</td>\n",
              "    </tr>\n",
              "    <tr>\n",
              "      <th>yahoo.com</th>\n",
              "      <td>0.170811</td>\n",
              "    </tr>\n",
              "    <tr>\n",
              "      <th>hotmail.com</th>\n",
              "      <td>0.079563</td>\n",
              "    </tr>\n",
              "    <tr>\n",
              "      <th>anonymous.com</th>\n",
              "      <td>0.064689</td>\n",
              "    </tr>\n",
              "    <tr>\n",
              "      <th>aol.com</th>\n",
              "      <td>0.048360</td>\n",
              "    </tr>\n",
              "    <tr>\n",
              "      <th>comcast.net</th>\n",
              "      <td>0.014017</td>\n",
              "    </tr>\n",
              "    <tr>\n",
              "      <th>icloud.com</th>\n",
              "      <td>0.010643</td>\n",
              "    </tr>\n",
              "    <tr>\n",
              "      <th>outlook.com</th>\n",
              "      <td>0.008753</td>\n",
              "    </tr>\n",
              "    <tr>\n",
              "      <th>msn.com</th>\n",
              "      <td>0.007278</td>\n",
              "    </tr>\n",
              "    <tr>\n",
              "      <th>att.net</th>\n",
              "      <td>0.006668</td>\n",
              "    </tr>\n",
              "    <tr>\n",
              "      <th>live.com</th>\n",
              "      <td>0.005389</td>\n",
              "    </tr>\n",
              "    <tr>\n",
              "      <th>sbcglobal.net</th>\n",
              "      <td>0.005237</td>\n",
              "    </tr>\n",
              "    <tr>\n",
              "      <th>verizon.net</th>\n",
              "      <td>0.004934</td>\n",
              "    </tr>\n",
              "    <tr>\n",
              "      <th>ymail.com</th>\n",
              "      <td>0.004143</td>\n",
              "    </tr>\n",
              "    <tr>\n",
              "      <th>bellsouth.net</th>\n",
              "      <td>0.003408</td>\n",
              "    </tr>\n",
              "    <tr>\n",
              "      <th>me.com</th>\n",
              "      <td>0.002849</td>\n",
              "    </tr>\n",
              "    <tr>\n",
              "      <th>yahoo.com.mx</th>\n",
              "      <td>0.002805</td>\n",
              "    </tr>\n",
              "    <tr>\n",
              "      <th>cox.net</th>\n",
              "      <td>0.002432</td>\n",
              "    </tr>\n",
              "    <tr>\n",
              "      <th>optonline.net</th>\n",
              "      <td>0.001858</td>\n",
              "    </tr>\n",
              "    <tr>\n",
              "      <th>charter.net</th>\n",
              "      <td>0.001558</td>\n",
              "    </tr>\n",
              "  </tbody>\n",
              "</table>\n",
              "</div><br><label><b>dtype:</b> float64</label>"
            ]
          },
          "metadata": {},
          "execution_count": 34
        }
      ],
      "source": [
        "(df_train.P_emaildomain.value_counts()  / len(df_train)).head(20)"
      ]
    },
    {
      "cell_type": "markdown",
      "metadata": {
        "id": "8pMNJoiZP8Tl"
      },
      "source": [
        "На мой взгляд, можно оставить те значения, которые встречаются чаще 1%, остальные выделить в \"other\":"
      ]
    },
    {
      "cell_type": "code",
      "execution_count": 35,
      "metadata": {
        "id": "jhdAYTubQOtp"
      },
      "outputs": [],
      "source": [
        "P_emaildomain_vals = df_train.P_emaildomain.value_counts()\n",
        "main_values = P_emaildomain_vals[P_emaildomain_vals / len(df_train) > 0.01].index\n",
        "\n",
        "df_train.P_emaildomain = df_train.P_emaildomain.apply(\n",
        "    lambda x: x if x in main_values or pd.isna(x) else 'other'\n",
        ")\n",
        "df_test.P_emaildomain = df_test.P_emaildomain.apply(\n",
        "    lambda x: x if x in main_values or pd.isna(x) else 'other'\n",
        ")"
      ]
    },
    {
      "cell_type": "markdown",
      "metadata": {
        "id": "XfbK3bGaFm87"
      },
      "source": [
        "Перед тем, как закодировать категориальные переменные, заполню пропуски в данных. Для числовых столбцов средним, для категориальных самым популярным классом"
      ]
    },
    {
      "cell_type": "code",
      "execution_count": 36,
      "metadata": {
        "id": "VbdGon7DF56H"
      },
      "outputs": [],
      "source": [
        "fill_values = pd.concat(\n",
        "    (\n",
        "        df_train.select_dtypes(include='number').mean(axis=0),\n",
        "        df_train.select_dtypes(include='O').mode(axis=0).T\n",
        "    ),\n",
        "    axis=0\n",
        ")"
      ]
    },
    {
      "cell_type": "code",
      "execution_count": 37,
      "metadata": {
        "colab": {
          "base_uri": "https://localhost:8080/",
          "height": 143
        },
        "id": "b0hdWPLgSMx7",
        "outputId": "9e7b2d37-0a26-4212-f61f-e0415850f05b"
      },
      "outputs": [
        {
          "output_type": "execute_result",
          "data": {
            "text/plain": [
              "                       0\n",
              "ProductCD              W\n",
              "card4               visa\n",
              "P_emaildomain  gmail.com"
            ],
            "text/html": [
              "\n",
              "  <div id=\"df-7477a7d6-004d-4b58-899b-ddb1d5ac21d5\" class=\"colab-df-container\">\n",
              "    <div>\n",
              "<style scoped>\n",
              "    .dataframe tbody tr th:only-of-type {\n",
              "        vertical-align: middle;\n",
              "    }\n",
              "\n",
              "    .dataframe tbody tr th {\n",
              "        vertical-align: top;\n",
              "    }\n",
              "\n",
              "    .dataframe thead th {\n",
              "        text-align: right;\n",
              "    }\n",
              "</style>\n",
              "<table border=\"1\" class=\"dataframe\">\n",
              "  <thead>\n",
              "    <tr style=\"text-align: right;\">\n",
              "      <th></th>\n",
              "      <th>0</th>\n",
              "    </tr>\n",
              "  </thead>\n",
              "  <tbody>\n",
              "    <tr>\n",
              "      <th>ProductCD</th>\n",
              "      <td>W</td>\n",
              "    </tr>\n",
              "    <tr>\n",
              "      <th>card4</th>\n",
              "      <td>visa</td>\n",
              "    </tr>\n",
              "    <tr>\n",
              "      <th>P_emaildomain</th>\n",
              "      <td>gmail.com</td>\n",
              "    </tr>\n",
              "  </tbody>\n",
              "</table>\n",
              "</div>\n",
              "    <div class=\"colab-df-buttons\">\n",
              "\n",
              "  <div class=\"colab-df-container\">\n",
              "    <button class=\"colab-df-convert\" onclick=\"convertToInteractive('df-7477a7d6-004d-4b58-899b-ddb1d5ac21d5')\"\n",
              "            title=\"Convert this dataframe to an interactive table.\"\n",
              "            style=\"display:none;\">\n",
              "\n",
              "  <svg xmlns=\"http://www.w3.org/2000/svg\" height=\"24px\" viewBox=\"0 -960 960 960\">\n",
              "    <path d=\"M120-120v-720h720v720H120Zm60-500h600v-160H180v160Zm220 220h160v-160H400v160Zm0 220h160v-160H400v160ZM180-400h160v-160H180v160Zm440 0h160v-160H620v160ZM180-180h160v-160H180v160Zm440 0h160v-160H620v160Z\"/>\n",
              "  </svg>\n",
              "    </button>\n",
              "\n",
              "  <style>\n",
              "    .colab-df-container {\n",
              "      display:flex;\n",
              "      gap: 12px;\n",
              "    }\n",
              "\n",
              "    .colab-df-convert {\n",
              "      background-color: #E8F0FE;\n",
              "      border: none;\n",
              "      border-radius: 50%;\n",
              "      cursor: pointer;\n",
              "      display: none;\n",
              "      fill: #1967D2;\n",
              "      height: 32px;\n",
              "      padding: 0 0 0 0;\n",
              "      width: 32px;\n",
              "    }\n",
              "\n",
              "    .colab-df-convert:hover {\n",
              "      background-color: #E2EBFA;\n",
              "      box-shadow: 0px 1px 2px rgba(60, 64, 67, 0.3), 0px 1px 3px 1px rgba(60, 64, 67, 0.15);\n",
              "      fill: #174EA6;\n",
              "    }\n",
              "\n",
              "    .colab-df-buttons div {\n",
              "      margin-bottom: 4px;\n",
              "    }\n",
              "\n",
              "    [theme=dark] .colab-df-convert {\n",
              "      background-color: #3B4455;\n",
              "      fill: #D2E3FC;\n",
              "    }\n",
              "\n",
              "    [theme=dark] .colab-df-convert:hover {\n",
              "      background-color: #434B5C;\n",
              "      box-shadow: 0px 1px 3px 1px rgba(0, 0, 0, 0.15);\n",
              "      filter: drop-shadow(0px 1px 2px rgba(0, 0, 0, 0.3));\n",
              "      fill: #FFFFFF;\n",
              "    }\n",
              "  </style>\n",
              "\n",
              "    <script>\n",
              "      const buttonEl =\n",
              "        document.querySelector('#df-7477a7d6-004d-4b58-899b-ddb1d5ac21d5 button.colab-df-convert');\n",
              "      buttonEl.style.display =\n",
              "        google.colab.kernel.accessAllowed ? 'block' : 'none';\n",
              "\n",
              "      async function convertToInteractive(key) {\n",
              "        const element = document.querySelector('#df-7477a7d6-004d-4b58-899b-ddb1d5ac21d5');\n",
              "        const dataTable =\n",
              "          await google.colab.kernel.invokeFunction('convertToInteractive',\n",
              "                                                    [key], {});\n",
              "        if (!dataTable) return;\n",
              "\n",
              "        const docLinkHtml = 'Like what you see? Visit the ' +\n",
              "          '<a target=\"_blank\" href=https://colab.research.google.com/notebooks/data_table.ipynb>data table notebook</a>'\n",
              "          + ' to learn more about interactive tables.';\n",
              "        element.innerHTML = '';\n",
              "        dataTable['output_type'] = 'display_data';\n",
              "        await google.colab.output.renderOutput(dataTable, element);\n",
              "        const docLink = document.createElement('div');\n",
              "        docLink.innerHTML = docLinkHtml;\n",
              "        element.appendChild(docLink);\n",
              "      }\n",
              "    </script>\n",
              "  </div>\n",
              "\n",
              "\n",
              "<div id=\"df-78c4ea02-7e71-40b1-b2a5-7c08b903e8b9\">\n",
              "  <button class=\"colab-df-quickchart\" onclick=\"quickchart('df-78c4ea02-7e71-40b1-b2a5-7c08b903e8b9')\"\n",
              "            title=\"Suggest charts\"\n",
              "            style=\"display:none;\">\n",
              "\n",
              "<svg xmlns=\"http://www.w3.org/2000/svg\" height=\"24px\"viewBox=\"0 0 24 24\"\n",
              "     width=\"24px\">\n",
              "    <g>\n",
              "        <path d=\"M19 3H5c-1.1 0-2 .9-2 2v14c0 1.1.9 2 2 2h14c1.1 0 2-.9 2-2V5c0-1.1-.9-2-2-2zM9 17H7v-7h2v7zm4 0h-2V7h2v10zm4 0h-2v-4h2v4z\"/>\n",
              "    </g>\n",
              "</svg>\n",
              "  </button>\n",
              "\n",
              "<style>\n",
              "  .colab-df-quickchart {\n",
              "      --bg-color: #E8F0FE;\n",
              "      --fill-color: #1967D2;\n",
              "      --hover-bg-color: #E2EBFA;\n",
              "      --hover-fill-color: #174EA6;\n",
              "      --disabled-fill-color: #AAA;\n",
              "      --disabled-bg-color: #DDD;\n",
              "  }\n",
              "\n",
              "  [theme=dark] .colab-df-quickchart {\n",
              "      --bg-color: #3B4455;\n",
              "      --fill-color: #D2E3FC;\n",
              "      --hover-bg-color: #434B5C;\n",
              "      --hover-fill-color: #FFFFFF;\n",
              "      --disabled-bg-color: #3B4455;\n",
              "      --disabled-fill-color: #666;\n",
              "  }\n",
              "\n",
              "  .colab-df-quickchart {\n",
              "    background-color: var(--bg-color);\n",
              "    border: none;\n",
              "    border-radius: 50%;\n",
              "    cursor: pointer;\n",
              "    display: none;\n",
              "    fill: var(--fill-color);\n",
              "    height: 32px;\n",
              "    padding: 0;\n",
              "    width: 32px;\n",
              "  }\n",
              "\n",
              "  .colab-df-quickchart:hover {\n",
              "    background-color: var(--hover-bg-color);\n",
              "    box-shadow: 0 1px 2px rgba(60, 64, 67, 0.3), 0 1px 3px 1px rgba(60, 64, 67, 0.15);\n",
              "    fill: var(--button-hover-fill-color);\n",
              "  }\n",
              "\n",
              "  .colab-df-quickchart-complete:disabled,\n",
              "  .colab-df-quickchart-complete:disabled:hover {\n",
              "    background-color: var(--disabled-bg-color);\n",
              "    fill: var(--disabled-fill-color);\n",
              "    box-shadow: none;\n",
              "  }\n",
              "\n",
              "  .colab-df-spinner {\n",
              "    border: 2px solid var(--fill-color);\n",
              "    border-color: transparent;\n",
              "    border-bottom-color: var(--fill-color);\n",
              "    animation:\n",
              "      spin 1s steps(1) infinite;\n",
              "  }\n",
              "\n",
              "  @keyframes spin {\n",
              "    0% {\n",
              "      border-color: transparent;\n",
              "      border-bottom-color: var(--fill-color);\n",
              "      border-left-color: var(--fill-color);\n",
              "    }\n",
              "    20% {\n",
              "      border-color: transparent;\n",
              "      border-left-color: var(--fill-color);\n",
              "      border-top-color: var(--fill-color);\n",
              "    }\n",
              "    30% {\n",
              "      border-color: transparent;\n",
              "      border-left-color: var(--fill-color);\n",
              "      border-top-color: var(--fill-color);\n",
              "      border-right-color: var(--fill-color);\n",
              "    }\n",
              "    40% {\n",
              "      border-color: transparent;\n",
              "      border-right-color: var(--fill-color);\n",
              "      border-top-color: var(--fill-color);\n",
              "    }\n",
              "    60% {\n",
              "      border-color: transparent;\n",
              "      border-right-color: var(--fill-color);\n",
              "    }\n",
              "    80% {\n",
              "      border-color: transparent;\n",
              "      border-right-color: var(--fill-color);\n",
              "      border-bottom-color: var(--fill-color);\n",
              "    }\n",
              "    90% {\n",
              "      border-color: transparent;\n",
              "      border-bottom-color: var(--fill-color);\n",
              "    }\n",
              "  }\n",
              "</style>\n",
              "\n",
              "  <script>\n",
              "    async function quickchart(key) {\n",
              "      const quickchartButtonEl =\n",
              "        document.querySelector('#' + key + ' button');\n",
              "      quickchartButtonEl.disabled = true;  // To prevent multiple clicks.\n",
              "      quickchartButtonEl.classList.add('colab-df-spinner');\n",
              "      try {\n",
              "        const charts = await google.colab.kernel.invokeFunction(\n",
              "            'suggestCharts', [key], {});\n",
              "      } catch (error) {\n",
              "        console.error('Error during call to suggestCharts:', error);\n",
              "      }\n",
              "      quickchartButtonEl.classList.remove('colab-df-spinner');\n",
              "      quickchartButtonEl.classList.add('colab-df-quickchart-complete');\n",
              "    }\n",
              "    (() => {\n",
              "      let quickchartButtonEl =\n",
              "        document.querySelector('#df-78c4ea02-7e71-40b1-b2a5-7c08b903e8b9 button');\n",
              "      quickchartButtonEl.style.display =\n",
              "        google.colab.kernel.accessAllowed ? 'block' : 'none';\n",
              "    })();\n",
              "  </script>\n",
              "</div>\n",
              "    </div>\n",
              "  </div>\n"
            ],
            "application/vnd.google.colaboratory.intrinsic+json": {
              "type": "dataframe",
              "summary": "{\n  \"name\": \"df_train\",\n  \"rows\": 3,\n  \"fields\": [\n    {\n      \"column\": 0,\n      \"properties\": {\n        \"dtype\": \"string\",\n        \"num_unique_values\": 3,\n        \"samples\": [\n          \"W\",\n          \"visa\",\n          \"gmail.com\"\n        ],\n        \"semantic_type\": \"\",\n        \"description\": \"\"\n      }\n    }\n  ]\n}"
            }
          },
          "metadata": {},
          "execution_count": 37
        }
      ],
      "source": [
        "df_train.select_dtypes(include='O').mode(axis=0).T"
      ]
    },
    {
      "cell_type": "code",
      "execution_count": 38,
      "metadata": {
        "id": "OnCHTCd2G8rV"
      },
      "outputs": [],
      "source": [
        "df_train.fillna(fill_values.to_dict()[0], inplace=True)\n",
        "df_test.fillna(fill_values.to_dict()[0], inplace=True)"
      ]
    },
    {
      "cell_type": "markdown",
      "metadata": {
        "id": "-O0x3-h2HMt4"
      },
      "source": [
        "Кодируем оставшиеся переменные и масштабируем данные"
      ]
    },
    {
      "cell_type": "code",
      "execution_count": 39,
      "metadata": {
        "id": "AOdi2XlSHSOA"
      },
      "outputs": [],
      "source": [
        "from sklearn.preprocessing import OneHotEncoder, StandardScaler"
      ]
    },
    {
      "cell_type": "code",
      "execution_count": 40,
      "metadata": {
        "id": "FpcnmC8NRoI5"
      },
      "outputs": [],
      "source": [
        "df_train = df_train.reset_index(drop=True)\n",
        "df_test = df_test.reset_index(drop=True)"
      ]
    },
    {
      "cell_type": "code",
      "execution_count": 41,
      "metadata": {
        "id": "l8ScIpQWHW-L"
      },
      "outputs": [],
      "source": [
        "ohe = OneHotEncoder(sparse_output=False)\n",
        "train_ohe = ohe.fit_transform(df_train.select_dtypes(include='O'))\n",
        "test_ohe = ohe.transform(df_test.select_dtypes(include='O'))"
      ]
    },
    {
      "cell_type": "code",
      "execution_count": 42,
      "metadata": {
        "id": "OZpJLINQI7gq"
      },
      "outputs": [],
      "source": [
        "df_train = pd.concat(\n",
        "  (\n",
        "      df_train,\n",
        "      pd.DataFrame(train_ohe, columns=ohe.get_feature_names_out())\n",
        "  ),\n",
        "  axis=1\n",
        ")"
      ]
    },
    {
      "cell_type": "code",
      "execution_count": 43,
      "metadata": {
        "id": "_4a2AgkvI1S4"
      },
      "outputs": [],
      "source": [
        "df_test = pd.concat(\n",
        "  (\n",
        "      df_test,\n",
        "      pd.DataFrame(test_ohe, columns=ohe.get_feature_names_out())\n",
        "  ),\n",
        "  axis=1\n",
        ")"
      ]
    },
    {
      "cell_type": "code",
      "execution_count": 44,
      "metadata": {
        "id": "xwZft4nVVF01"
      },
      "outputs": [],
      "source": [
        "scaler = StandardScaler()\n",
        "\n",
        "y_train, df_train = df_train.isFraud.values, df_train.drop(columns=['isFraud'])\n",
        "df_train_scaled = scaler.fit_transform(df_train.select_dtypes(include='number'))\n",
        "df_test_scaled = scaler.transform(df_test.select_dtypes(include='number'))"
      ]
    },
    {
      "cell_type": "markdown",
      "metadata": {
        "id": "w-bahxM7U93m"
      },
      "source": [
        "Теперь посмотрим на целевую переменную:"
      ]
    },
    {
      "cell_type": "code",
      "execution_count": 45,
      "metadata": {
        "colab": {
          "base_uri": "https://localhost:8080/",
          "height": 499
        },
        "id": "R_8vOi-2XZgb",
        "outputId": "3c8d2639-37d5-458b-d681-8acbf451d931"
      },
      "outputs": [
        {
          "output_type": "execute_result",
          "data": {
            "text/plain": [
              "(array([394933.,      0.,      0.,      0.,      0.,      0.,      0.,\n",
              "             0.,      0.,  14642.]),\n",
              " array([0. , 0.1, 0.2, 0.3, 0.4, 0.5, 0.6, 0.7, 0.8, 0.9, 1. ]),\n",
              " <BarContainer object of 10 artists>)"
            ]
          },
          "metadata": {},
          "execution_count": 45
        },
        {
          "output_type": "display_data",
          "data": {
            "text/plain": [
              "<Figure size 640x480 with 1 Axes>"
            ],
            "image/png": "[encoded data removed]"
          },
          "metadata": {}
        }
      ],
      "source": [
        "plt.hist(y_train)"
      ]
    },
    {
      "cell_type": "markdown",
      "metadata": {
        "id": "csC3tpore7Ok"
      },
      "source": [
        "Заметный дисбаланс классов. Это ограничивает нас в выборе моделей, так как без дополнительных решений мы не сможем испльзовать логистическую регрессию, так как она будет приближаться к константной модели."
      ]
    },
    {
      "cell_type": "markdown",
      "metadata": {
        "id": "vWNI5i4S7VzN"
      },
      "source": [
        "# **Задание 2 (3 балла)**\n",
        "\n",
        "Обучите несколько ML-моделей для решения поставленной задачи.\n",
        "Оцените их качество двумя способами:\n",
        "\n",
        "1) на кросс-валидации\n",
        "\n",
        "2) на лидерборде\n",
        "\n",
        "Подберите число фолдов на кросс-валидации так, чтобы метрики, которые вы видите, были максимально близки на кросс-валидации и на лидерборде.\n",
        "\n",
        "По результатам экспериментов постройте таблицу:\n",
        "* в каждой строке таблицы - результаты одной модели\n",
        "* по столбцам: качество на кросс-валидации, качество на лидерборде, модель с гиперпараметрами\n",
        "Полученную таблицу вставьте картинкой прямо в ноутбук после ячеек с кодом. Сделайте текстовые выводы."
      ]
    },
    {
      "cell_type": "markdown",
      "source": [
        "## Подбор фолдов"
      ],
      "metadata": {
        "id": "zaqoTe0R2GaC"
      }
    },
    {
      "cell_type": "code",
      "source": [
        "%%capture\n",
        "!pip install catboost -q"
      ],
      "metadata": {
        "id": "wOd8_IkvuXqw"
      },
      "execution_count": 46,
      "outputs": []
    },
    {
      "cell_type": "code",
      "execution_count": 47,
      "metadata": {
        "id": "OsCE29kYWQur"
      },
      "outputs": [],
      "source": [
        "from catboost import CatBoostClassifier\n",
        "from sklearn.metrics import roc_auc_score, make_scorer\n",
        "from sklearn.model_selection import GridSearchCV, cross_val_score"
      ]
    },
    {
      "cell_type": "code",
      "source": [
        "cb = CatBoostClassifier(iterations=50, depth=6, verbose=False)\n",
        "cb.fit(df_train, y_train, cat_features=df_train.select_dtypes(include='O').columns.tolist())\n",
        "predictions = cb.predict_proba(df_test)"
      ],
      "metadata": {
        "id": "9htnpnIU9hwU"
      },
      "execution_count": null,
      "outputs": []
    },
    {
      "cell_type": "code",
      "source": [
        "sample_submission = pd.read_csv(os.path.join(INPUT_DIR, 'sample_submission.csv'))\n",
        "sub = pd.DataFrame({'TransactionID': sample_submission['TransactionID'], 'isFraud': predictions[:, 1]})\n",
        "sub.to_csv('submission_baseline_2.csv', index=False)"
      ],
      "metadata": {
        "id": "Hau7TEUZ-Fxb"
      },
      "execution_count": null,
      "outputs": []
    },
    {
      "cell_type": "markdown",
      "source": [
        "Метрика на лидерборде 0.86220"
      ],
      "metadata": {
        "id": "kaJIcWXG-XZp"
      }
    },
    {
      "cell_type": "code",
      "source": [
        "cross_val_score(\n",
        "    CatBoostClassifier(iterations=50, depth=6, verbose=False),\n",
        "    cv=3,\n",
        "    X=df_train,\n",
        "    y=y_train,\n",
        "    params=dict(cat_features=df_train.select_dtypes(include='O').columns.tolist()),\n",
        "    scoring='roc_auc'\n",
        ").mean()"
      ],
      "metadata": {
        "colab": {
          "base_uri": "https://localhost:8080/"
        },
        "id": "KCTPnZxN-h95",
        "outputId": "2915657c-33e6-4004-a041-2b091667e5e8"
      },
      "execution_count": null,
      "outputs": [
        {
          "output_type": "execute_result",
          "data": {
            "text/plain": [
              "0.8458201391577433"
            ]
          },
          "metadata": {},
          "execution_count": 147
        }
      ]
    },
    {
      "cell_type": "code",
      "source": [
        "cross_val_score(\n",
        "    CatBoostClassifier(iterations=50, depth=6, verbose=False),\n",
        "    cv=5,\n",
        "    X=df_train,\n",
        "    y=y_train,\n",
        "    params=dict(cat_features=df_train.select_dtypes(include='O').columns.tolist()),\n",
        "    scoring='roc_auc'\n",
        ").mean()"
      ],
      "metadata": {
        "colab": {
          "base_uri": "https://localhost:8080/"
        },
        "id": "klVmxrYYARyr",
        "outputId": "a4a8665a-6c1f-4344-a4c3-8d663221193b"
      },
      "execution_count": null,
      "outputs": [
        {
          "output_type": "execute_result",
          "data": {
            "text/plain": [
              "0.8594681469801924"
            ]
          },
          "metadata": {},
          "execution_count": 148
        }
      ]
    },
    {
      "cell_type": "code",
      "execution_count": null,
      "metadata": {
        "colab": {
          "base_uri": "https://localhost:8080/"
        },
        "id": "O9AHyuZLXCcJ",
        "outputId": "a96e73d2-3d17-4a30-f7a7-e198350de853"
      },
      "outputs": [
        {
          "output_type": "execute_result",
          "data": {
            "text/plain": [
              "0.8658031244321815"
            ]
          },
          "metadata": {},
          "execution_count": 149
        }
      ],
      "source": [
        "cross_val_score(\n",
        "    CatBoostClassifier(iterations=50, depth=6, verbose=False),\n",
        "    cv=7,\n",
        "    X=df_train,\n",
        "    y=y_train,\n",
        "    params=dict(cat_features=df_train.select_dtypes(include='O').columns.tolist()),\n",
        "    scoring='roc_auc'\n",
        ").mean()"
      ]
    },
    {
      "cell_type": "code",
      "source": [
        "cross_val_score(\n",
        "    CatBoostClassifier(iterations=50, depth=10, verbose=False),\n",
        "    cv=9,\n",
        "    X=df_train,\n",
        "    y=y_train,\n",
        "    params=dict(cat_features=df_train.select_dtypes(include='O').columns.tolist()),\n",
        "    scoring='roc_auc'\n",
        ").mean()"
      ],
      "metadata": {
        "colab": {
          "base_uri": "https://localhost:8080/"
        },
        "id": "G0HZkqpO6_Rk",
        "outputId": "0bbef14b-edf0-498b-df55-b74a32e170c9"
      },
      "execution_count": null,
      "outputs": [
        {
          "output_type": "execute_result",
          "data": {
            "text/plain": [
              "0.8761994932423501"
            ]
          },
          "metadata": {},
          "execution_count": 151
        }
      ]
    },
    {
      "cell_type": "markdown",
      "source": [
        "Оптимальное число фолдов — 5"
      ],
      "metadata": {
        "id": "oeO7A35h5n19"
      }
    },
    {
      "cell_type": "markdown",
      "source": [
        "| Номер | Модель | Гиперпараметры | CV score | True score |\n",
        "| ---------- | -------- | ---------- | ----- | ----- |\n",
        "| 0 | CatBoost | 10dp 50it | 0.8594 | 0.8622"
      ],
      "metadata": {
        "id": "wgtp6ESX8X3T"
      }
    },
    {
      "cell_type": "markdown",
      "source": [
        "## Оценка моделей"
      ],
      "metadata": {
        "id": "t_tYiWJd2Oxw"
      }
    },
    {
      "cell_type": "markdown",
      "source": [
        "### CatBoost"
      ],
      "metadata": {
        "id": "oPJlB1Wk2UJM"
      }
    },
    {
      "cell_type": "code",
      "source": [
        "gs = GridSearchCV(\n",
        "    CatBoostClassifier(verbose=False),\n",
        "    param_grid={\n",
        "        'iterations': [10, 25, 40, 55],\n",
        "        'depth': [3, 6, 9, 12]\n",
        "    },\n",
        "    scoring='roc_auc',\n",
        "    cv=5,\n",
        "    verbose=2\n",
        ")\n",
        "\n",
        "gs.fit(\n",
        "    df_train,\n",
        "    y_train,\n",
        "    cat_features=df_train.select_dtypes(include='O').columns.tolist()\n",
        ")"
      ],
      "metadata": {
        "id": "4JtG0JOO9INI"
      },
      "execution_count": null,
      "outputs": []
    },
    {
      "cell_type": "code",
      "source": [
        "gs.best_params_, gs.best_score_"
      ],
      "metadata": {
        "colab": {
          "base_uri": "https://localhost:8080/"
        },
        "id": "to9l11AQIDTe",
        "outputId": "dc13606b-1604-4303-b199-b5b4cdc63734"
      },
      "execution_count": null,
      "outputs": [
        {
          "output_type": "execute_result",
          "data": {
            "text/plain": [
              "({'depth': 9, 'iterations': 55}, 0.8698826727935425)"
            ]
          },
          "metadata": {},
          "execution_count": 144
        }
      ]
    },
    {
      "cell_type": "code",
      "execution_count": null,
      "metadata": {
        "id": "e1HQ-rnWIqNH"
      },
      "outputs": [],
      "source": [
        "predictions = gs.best_estimator_.predict_proba(df_test)\n",
        "sub = pd.DataFrame({'TransactionID': sample_submission['TransactionID'], 'isFraud': predictions[:, 1]})\n",
        "sub.to_csv('submission_baseline_cb.csv', index=False)"
      ]
    },
    {
      "cell_type": "markdown",
      "source": [
        "| Номер | Модель | Гиперпараметры | CV score | True score |\n",
        "| ---------- | -------- | ---------- | ----- | ----- |\n",
        "| 1 | CatBoost | 9dp 55it | 0.8699 | 0.8599 |"
      ],
      "metadata": {
        "id": "synbzevu8UAP"
      }
    },
    {
      "cell_type": "markdown",
      "source": [
        "### RandomForest"
      ],
      "metadata": {
        "id": "K3F-cE9aip7i"
      }
    },
    {
      "cell_type": "code",
      "source": [
        "from sklearn.ensemble import RandomForestClassifier"
      ],
      "metadata": {
        "id": "Uo_vYVqFk638"
      },
      "execution_count": null,
      "outputs": []
    },
    {
      "cell_type": "code",
      "source": [
        "gs = GridSearchCV(\n",
        "    RandomForestClassifier(),\n",
        "    param_grid={\n",
        "        'n_estimators': [10, 25, 40, 55],\n",
        "        'max_depth': [3, 6, 9, 12]\n",
        "    },\n",
        "    scoring='roc_auc',\n",
        "    cv=5,\n",
        "    verbose=2\n",
        ")\n",
        "\n",
        "gs.fit(\n",
        "    df_train.select_dtypes(include='number'),\n",
        "    y_train,\n",
        ")"
      ],
      "metadata": {
        "id": "lOExXvTamL31"
      },
      "execution_count": null,
      "outputs": []
    },
    {
      "cell_type": "code",
      "source": [
        "gs.best_params_, gs.best_score_"
      ],
      "metadata": {
        "colab": {
          "base_uri": "https://localhost:8080/"
        },
        "id": "-pwdFSkCqbBX",
        "outputId": "42ab7228-f3c8-46cf-e77d-955b586bb1a9"
      },
      "execution_count": null,
      "outputs": [
        {
          "output_type": "execute_result",
          "data": {
            "text/plain": [
              "({'max_depth': 12, 'n_estimators': 40}, 0.8618439878405141)"
            ]
          },
          "metadata": {},
          "execution_count": 58
        }
      ]
    },
    {
      "cell_type": "code",
      "source": [
        "predictions = gs.best_estimator_.predict_proba(df_test.select_dtypes(include='number'))\n",
        "sub = pd.DataFrame({'TransactionID': sample_submission['TransactionID'], 'isFraud': predictions[:, 1]})\n",
        "sub.to_csv('submission_baseline_rf.csv', index=False)"
      ],
      "metadata": {
        "id": "wvFRomQemfIT"
      },
      "execution_count": null,
      "outputs": []
    },
    {
      "cell_type": "markdown",
      "source": [
        "| Номер | Модель | Гиперпараметры | CV score | True score |\n",
        "| ---------- | -------- | ---------- | ----- | ----- |\n",
        "| 2 | RandomForest | 12dp 40it | 0.8618 | 0.8612 |"
      ],
      "metadata": {
        "id": "tztMaYSLk6XK"
      }
    },
    {
      "cell_type": "markdown",
      "source": [
        "### LightGBM"
      ],
      "metadata": {
        "id": "0mIxlp6gk6Ng"
      }
    },
    {
      "cell_type": "code",
      "source": [
        "%%capture\n",
        "!pip install lightgbm"
      ],
      "metadata": {
        "id": "Ybcqz2KjjcY4"
      },
      "execution_count": null,
      "outputs": []
    },
    {
      "cell_type": "code",
      "source": [
        "from lightgbm import LGBMClassifier"
      ],
      "metadata": {
        "id": "kZVdg7Tvje7r"
      },
      "execution_count": null,
      "outputs": []
    },
    {
      "cell_type": "code",
      "source": [
        "gs = GridSearchCV(\n",
        "    LGBMClassifier(verbosity=-1),\n",
        "    param_grid={\n",
        "        'n_estimators': [10, 25, 40, 55],\n",
        "        'max_depth': [3, 6, 9, 12]\n",
        "    },\n",
        "    scoring='roc_auc',\n",
        "    cv=5,\n",
        "    verbose=2\n",
        ")\n",
        "\n",
        "gs.fit(\n",
        "    df_train.select_dtypes(include='number'),\n",
        "    y_train,\n",
        ")"
      ],
      "metadata": {
        "id": "cZNtlm0Vt-fQ"
      },
      "execution_count": null,
      "outputs": []
    },
    {
      "cell_type": "code",
      "source": [
        "gs.best_params_, gs.best_score_"
      ],
      "metadata": {
        "colab": {
          "base_uri": "https://localhost:8080/"
        },
        "id": "Ghx4gUh_wAHw",
        "outputId": "2a75629b-d532-4ddc-b8a4-8a4531521d9e"
      },
      "execution_count": null,
      "outputs": [
        {
          "output_type": "execute_result",
          "data": {
            "text/plain": [
              "({'max_depth': 12, 'n_estimators': 55}, 0.8817288032592131)"
            ]
          },
          "metadata": {},
          "execution_count": 70
        }
      ]
    },
    {
      "cell_type": "code",
      "source": [
        "predictions = gs.best_estimator_.predict_proba(df_test.select_dtypes(include='number'))\n",
        "sub = pd.DataFrame({'TransactionID': sample_submission['TransactionID'], 'isFraud': predictions[:, 1]})\n",
        "sub.to_csv('submission_baseline_lgbm.csv', index=False)"
      ],
      "metadata": {
        "id": "_k0_u8qhwAtH"
      },
      "execution_count": null,
      "outputs": []
    },
    {
      "cell_type": "markdown",
      "source": [
        "| Номер | Модель | Гиперпараметры | CV score | True score |\n",
        "| ---------- | -------- | ---------- | ----- | ----- |\n",
        "| 3 | LightGBM | 12dp 55it | 0.8817 | 0.8782 |"
      ],
      "metadata": {
        "id": "g8m71EbQyxMK"
      }
    },
    {
      "cell_type": "markdown",
      "source": [
        "### XGBoost"
      ],
      "metadata": {
        "id": "D5sM9D7U2Dmv"
      }
    },
    {
      "cell_type": "code",
      "source": [
        "from xgboost import XGBClassifier"
      ],
      "metadata": {
        "id": "z7jjVxRZ2pau"
      },
      "execution_count": 59,
      "outputs": []
    },
    {
      "cell_type": "code",
      "source": [
        "gs = GridSearchCV(\n",
        "    XGBClassifier(),\n",
        "    param_grid={\n",
        "        'n_estimators': [10, 25, 40, 55],\n",
        "        'max_depth': [3, 6, 9, 12]\n",
        "    },\n",
        "    scoring='roc_auc',\n",
        "    cv=5,\n",
        "    verbose=2\n",
        ")\n",
        "\n",
        "gs.fit(\n",
        "    df_train.select_dtypes(include='number'),\n",
        "    y_train,\n",
        ")"
      ],
      "metadata": {
        "id": "3HH-wn3W2zBq"
      },
      "execution_count": null,
      "outputs": []
    },
    {
      "cell_type": "code",
      "source": [
        "gs.best_params_, gs.best_score_"
      ],
      "metadata": {
        "colab": {
          "base_uri": "https://localhost:8080/"
        },
        "id": "sdGzDfiV3LwX",
        "outputId": "37ab1891-2ce9-4394-b3c2-a5affd8d3aca"
      },
      "execution_count": null,
      "outputs": [
        {
          "output_type": "execute_result",
          "data": {
            "text/plain": [
              "({'max_depth': 12, 'n_estimators': 25}, 0.8974871330732537)"
            ]
          },
          "metadata": {},
          "execution_count": 53
        }
      ]
    },
    {
      "cell_type": "code",
      "source": [
        "predictions = gs.best_estimator_.predict_proba(df_test.select_dtypes(include='number'))\n",
        "sub = pd.DataFrame({'TransactionID': sample_submission['TransactionID'], 'isFraud': predictions[:, 1]})\n",
        "sub.to_csv('submission_baseline_xgb.csv', index=False)"
      ],
      "metadata": {
        "id": "QPskFTcB3MW3"
      },
      "execution_count": null,
      "outputs": []
    },
    {
      "cell_type": "markdown",
      "source": [
        "| Номер | Модель | Гиперпараметры | CV score | True score |\n",
        "| ---------- | -------- | ---------- | ----- | ----- |\n",
        "| 4 | XGBoost | 12dp 25it | 0.8975 | 0.8879 |"
      ],
      "metadata": {
        "id": "0JtNPJZG8AFp"
      }
    },
    {
      "cell_type": "markdown",
      "source": [
        "### Результаты:\n",
        "\n",
        "| Номер | Модель | Гиперпараметры | CV score | True score |\n",
        "| ---------- | -------- | ---------- | ----- | ----- |\n",
        "| 0 | CatBoost | 10dp 50it | 0.8594 | 0.8622 |\n",
        "| 1 | CatBoost | 9dp 55it | 0.8699 | 0.8599 |\n",
        "| 2 | RandomForest | 12dp 40it | 0.8618 | 0.8612 |\n",
        "| 3 | LightGBM | 12dp 55it | 0.8817 | 0.8782 |\n",
        "| 4 | XGBoost | 12dp 25it | 0.8975 | 0.8879 |"
      ],
      "metadata": {
        "id": "mHFVfgj1zdJg"
      }
    },
    {
      "cell_type": "markdown",
      "metadata": {
        "id": "qYedT0TJ79RC"
      },
      "source": [
        "# **Задание 3 (2 балла)**\n",
        "\n",
        "Попробуйте подойти к задаче как к поиску аномалий.\n",
        "\n",
        "1) Поищите аномалии (фрод) различными рассмотренными в курсе методами и сделайте прогноз на тестовых данных.\n",
        "\n",
        "Результатом также будет таблица:\n",
        "* по строкам - методы поиска аномалий\n",
        "* по столбцам - качество вашего решения на leaderboard\n",
        "\n",
        "2) Попробуйте встроить поиск аномалий и их удаление в ML-пайплайн: найдите аномалии и что-нибудь с ними сделайте до обучения моделей (можно удалить их, а можно использовать в качестве дополнительных признаков - попробуйте разные стратегии). Результат проверьте на кросс-валидации и на лидерборде, сделайте выводы."
      ]
    },
    {
      "cell_type": "markdown",
      "source": [
        "## Поиск аномалий"
      ],
      "metadata": {
        "id": "pkxS8SDhej03"
      }
    },
    {
      "cell_type": "code",
      "source": [
        "%%capture\n",
        "!pip install pyod"
      ],
      "metadata": {
        "collapsed": true,
        "id": "d-tfaf6iem9S"
      },
      "execution_count": 48,
      "outputs": []
    },
    {
      "cell_type": "code",
      "source": [
        "from pyod.models.hbos import HBOS\n",
        "from pyod.models.iforest import IForest\n",
        "from pyod.models.cblof import CBLOF"
      ],
      "metadata": {
        "id": "rg5Kz0c6e1b1"
      },
      "execution_count": 50,
      "outputs": []
    },
    {
      "cell_type": "code",
      "source": [
        "contamination = y_train.mean()"
      ],
      "metadata": {
        "id": "mdbG9PXff4jV"
      },
      "execution_count": 52,
      "outputs": []
    },
    {
      "cell_type": "markdown",
      "source": [
        "### HBOS"
      ],
      "metadata": {
        "id": "AUuT3_51fX4O"
      }
    },
    {
      "cell_type": "code",
      "source": [
        "hbos = HBOS(contamination=contamination)\n",
        "hbos.fit(df_train_scaled)\n",
        "predictions = hbos.decision_function(df_test_scaled) / 100\n",
        "\n",
        "sample_submission = pd.read_csv(os.path.join(INPUT_DIR, 'sample_submission.csv'))\n",
        "sub = pd.DataFrame({'TransactionID': sample_submission['TransactionID'], 'isFraud': predictions})\n",
        "sub.to_csv('submission_baseline_hbos.csv', index=False)"
      ],
      "metadata": {
        "id": "jgRqodiVfceK"
      },
      "execution_count": 58,
      "outputs": []
    },
    {
      "cell_type": "markdown",
      "source": [
        "| Номер | Модель | True score |\n",
        "| ----- | -------- | ----- |\n",
        "| 1 | HBOS | 0.6377 |"
      ],
      "metadata": {
        "id": "gWAJRwnsh-pC"
      }
    },
    {
      "cell_type": "markdown",
      "source": [
        "### IForest"
      ],
      "metadata": {
        "id": "iTli3a_JiaqM"
      }
    },
    {
      "cell_type": "code",
      "source": [
        "iforest = IForest(contamination=contamination)\n",
        "iforest.fit(df_train_scaled)\n",
        "predictions = iforest.decision_function(df_test_scaled) / 100\n",
        "\n",
        "sample_submission = pd.read_csv(os.path.join(INPUT_DIR, 'sample_submission.csv'))\n",
        "sub = pd.DataFrame({'TransactionID': sample_submission['TransactionID'], 'isFraud': predictions})\n",
        "sub.to_csv('submission_baseline_iforest.csv', index=False)"
      ],
      "metadata": {
        "id": "HapkuzjfidpP"
      },
      "execution_count": 54,
      "outputs": []
    },
    {
      "cell_type": "markdown",
      "source": [
        "| Номер | Модель | True score |\n",
        "| ----- | -------- | ----- |\n",
        "| 2 | IForest | 0.7277 |"
      ],
      "metadata": {
        "id": "NoK4JTf7imSv"
      }
    },
    {
      "cell_type": "markdown",
      "source": [
        "### CBLOF"
      ],
      "metadata": {
        "id": "Ald24s7pixKO"
      }
    },
    {
      "cell_type": "code",
      "source": [
        "cblof = CBLOF(contamination=contamination)\n",
        "cblof.fit(df_train_scaled)\n",
        "predictions = cblof.decision_function(df_test_scaled) / 100\n",
        "\n",
        "sub = pd.DataFrame({'TransactionID': sample_submission['TransactionID'], 'isFraud': predictions})\n",
        "sub.to_csv('submission_baseline_cblof.csv', index=False)"
      ],
      "metadata": {
        "id": "g-QFSpOvi15s"
      },
      "execution_count": 55,
      "outputs": []
    },
    {
      "cell_type": "markdown",
      "source": [
        "| Номер | Модель | True score |\n",
        "| ----- | -------- | ----- |\n",
        "| 3 | CBLOF | 0.6674 |"
      ],
      "metadata": {
        "id": "4kwfV4P3i7M1"
      }
    },
    {
      "cell_type": "markdown",
      "source": [
        "### Результаты:\n",
        "| Номер | Модель | True score |\n",
        "| ----- | -------- | ----- |\n",
        "| 1 | HBOS | 0.6377 |\n",
        "| 2 | IForest | 0.7277 |\n",
        "| 3 | CBLOF | 0.6674 |"
      ],
      "metadata": {
        "id": "jQ5I867tjHYQ"
      }
    },
    {
      "cell_type": "markdown",
      "source": [
        "## Учет аномалий в пайплайне"
      ],
      "metadata": {
        "id": "z6A1HUMPkyC6"
      }
    },
    {
      "cell_type": "markdown",
      "source": [
        "Возьму самый удачный алгоритм определения аномалий из рассмотренных — IForest и лучшую из рассмотренных моделей — \tXGBoost (12 max_depth, 25 n_estimators)"
      ],
      "metadata": {
        "id": "fosMifd2mVMY"
      }
    },
    {
      "cell_type": "code",
      "source": [
        "iforest = IForest(contamination=contamination)\n",
        "iforest.fit(df_train_scaled)"
      ],
      "metadata": {
        "id": "TDuUDAo6oqFY"
      },
      "execution_count": null,
      "outputs": []
    },
    {
      "cell_type": "markdown",
      "source": [
        "### Добавление информации"
      ],
      "metadata": {
        "id": "hZDmehfnmP09"
      }
    },
    {
      "cell_type": "markdown",
      "source": [
        "Так как информация об аномалиях полезна для задачи антифрода, попробую добавить ее в данные"
      ],
      "metadata": {
        "id": "A16sjWHfk2eI"
      }
    },
    {
      "cell_type": "code",
      "source": [
        "df_train_w_anomalies = df_train.select_dtypes(include='number')\n",
        "df_train_w_anomalies['anomaly_score'] = iforest.decision_function(df_train_scaled)\n",
        "\n",
        "df_test_w_anomalies = df_test.select_dtypes(include='number')\n",
        "df_test_w_anomalies['anomaly_score'] = iforest.decision_function(df_test_scaled)"
      ],
      "metadata": {
        "id": "p7mUbxLjlv9s"
      },
      "execution_count": 58,
      "outputs": []
    },
    {
      "cell_type": "code",
      "source": [
        "cross_val_score(\n",
        "    XGBClassifier(n_estimators=25, max_depth=12),\n",
        "    cv=5,\n",
        "    X=df_train_w_anomalies,\n",
        "    y=y_train,\n",
        "    scoring='roc_auc'\n",
        ").mean()"
      ],
      "metadata": {
        "colab": {
          "base_uri": "https://localhost:8080/"
        },
        "id": "BZI5Alpxm45F",
        "outputId": "c6c48013-b3dd-4bf3-ca3f-4595b122183b"
      },
      "execution_count": 60,
      "outputs": [
        {
          "output_type": "execute_result",
          "data": {
            "text/plain": [
              "0.8948651427681028"
            ]
          },
          "metadata": {},
          "execution_count": 60
        }
      ]
    },
    {
      "cell_type": "code",
      "source": [
        "xgboost = XGBClassifier(n_estimators=25, max_depth=12)\n",
        "xgboost.fit(df_train_w_anomalies, y_train)\n",
        "predictions = xgboost.predict_proba(df_test_w_anomalies)"
      ],
      "metadata": {
        "id": "yUkJ4Irynwbs"
      },
      "execution_count": 61,
      "outputs": []
    },
    {
      "cell_type": "code",
      "source": [
        "sub = pd.DataFrame({'TransactionID': sample_submission['TransactionID'], 'isFraud': predictions[:, 1]})\n",
        "sub.to_csv('submission_baseline_xgb_anomalies.csv', index=False)"
      ],
      "metadata": {
        "id": "fKDLEjF8nfF2"
      },
      "execution_count": 64,
      "outputs": []
    },
    {
      "cell_type": "markdown",
      "source": [
        "| Номер | Метод | CV score | True score |\n",
        "| ---------- | -------- | ----- | ----- |\n",
        "| 1 | Добавление инф-ы | 0.8949 | 0.8900 |"
      ],
      "metadata": {
        "id": "NNW96kmZoXo2"
      }
    },
    {
      "cell_type": "markdown",
      "source": [
        "### Удаление аномалий"
      ],
      "metadata": {
        "id": "OKgTXq6los0L"
      }
    },
    {
      "cell_type": "code",
      "source": [
        "scores = iforest.decision_function(df_train_scaled)\n",
        "plt.hist(scores)"
      ],
      "metadata": {
        "colab": {
          "base_uri": "https://localhost:8080/",
          "height": 534
        },
        "id": "N7gC7ZSno9en",
        "outputId": "d4f89946-33ff-4ad0-ccf7-26ddafb77800"
      },
      "execution_count": 67,
      "outputs": [
        {
          "output_type": "execute_result",
          "data": {
            "text/plain": [
              "(array([1.62603e+05, 1.26944e+05, 7.26230e+04, 3.04950e+04, 1.10320e+04,\n",
              "        4.10700e+03, 1.18200e+03, 4.25000e+02, 1.25000e+02, 3.90000e+01]),\n",
              " array([-0.15515128, -0.11772372, -0.08029615, -0.04286859, -0.00544102,\n",
              "         0.03198654,  0.06941411,  0.10684167,  0.14426923,  0.1816968 ,\n",
              "         0.21912436]),\n",
              " <BarContainer object of 10 artists>)"
            ]
          },
          "metadata": {},
          "execution_count": 67
        },
        {
          "output_type": "display_data",
          "data": {
            "text/plain": [
              "<Figure size 640x480 with 1 Axes>"
            ],
            "image/png": "[encoded data removed]"
          },
          "metadata": {}
        }
      ]
    },
    {
      "cell_type": "code",
      "source": [
        "df_train_wo_anomalies = df_train.select_dtypes(include='number').iloc[scores < 0]\n",
        "y_train_wo_anomalies = y_train[scores < 0]"
      ],
      "metadata": {
        "id": "X90at9q0ox_i"
      },
      "execution_count": 70,
      "outputs": []
    },
    {
      "cell_type": "code",
      "source": [
        "cross_val_score(\n",
        "    XGBClassifier(n_estimators=25, max_depth=12),\n",
        "    cv=5,\n",
        "    X=df_train_wo_anomalies,\n",
        "    y=y_train_wo_anomalies,\n",
        "    scoring='roc_auc'\n",
        ").mean()"
      ],
      "metadata": {
        "colab": {
          "base_uri": "https://localhost:8080/"
        },
        "id": "3fjqY9KRpXQ5",
        "outputId": "ecc2423f-6b93-4d06-c98b-305624dc8ad0"
      },
      "execution_count": 71,
      "outputs": [
        {
          "output_type": "execute_result",
          "data": {
            "text/plain": [
              "0.8910669818077949"
            ]
          },
          "metadata": {},
          "execution_count": 71
        }
      ]
    },
    {
      "cell_type": "code",
      "source": [
        "xgboost = XGBClassifier(n_estimators=25, max_depth=12)\n",
        "xgboost.fit(df_train_wo_anomalies, y_train_wo_anomalies)\n",
        "predictions = xgboost.predict_proba(df_test.select_dtypes(include='number'))"
      ],
      "metadata": {
        "id": "MXLXOi3Gpc4I"
      },
      "execution_count": 73,
      "outputs": []
    },
    {
      "cell_type": "code",
      "source": [
        "sub = pd.DataFrame({'TransactionID': sample_submission['TransactionID'], 'isFraud': predictions[:, 1]})\n",
        "sub.to_csv('submission_baseline_xgb_wo_anomalies.csv', index=False)"
      ],
      "metadata": {
        "id": "ES9dAbARpj1P"
      },
      "execution_count": 74,
      "outputs": []
    },
    {
      "cell_type": "markdown",
      "source": [
        "| Номер | Метод | CV score | True score |\n",
        "| ---------- | -------- | ----- | ----- |\n",
        "| 2 | Удаление аномалий | 0.8910 | 0.8861 |"
      ],
      "metadata": {
        "id": "hnoM0J2uqPwb"
      }
    },
    {
      "cell_type": "markdown",
      "source": [
        "### Результаты:\n",
        "| Номер | Метод | CV score | True score |\n",
        "| ---------- | -------- | ----- | ----- |\n",
        "| 0 | Бейзлайн | 0.8975 | 0.8879 |\n",
        "| 1 | Добавление инф-ы | 0.8949 | 0.8900 |\n",
        "| 2 | Удаление аномалий | 0.8910 | 0.8861 |\n",
        "\n",
        "Лучше всего себя показал вариант с добавлением информации об аномалиях"
      ],
      "metadata": {
        "id": "rfQWY_1aqKiy"
      }
    },
    {
      "cell_type": "markdown",
      "metadata": {
        "id": "LWokFc_n8qSR"
      },
      "source": [
        "# **Задание 4 (1 балл)**\n",
        "\n",
        "Сделайте кластеризацию различными способами. Результаты кластеризации используйте для улучшения ML-решений:\n",
        "\n",
        "1) Номера кластеров закодируйте (OHE или target-encoding) и добавьте как новые признаки\n",
        "\n",
        "2) При использовании DBSCAN / HDBSCAN предсказанный шум можно трактовать как найденную аномалию и также добавить ее как новый признак\n",
        "\n",
        "Проведите различные эксперименты. Проверьте как эти подходы влияют на качество прогнозов по кросс-валидации и на лидерборде, сделайте выводы."
      ]
    },
    {
      "cell_type": "code",
      "execution_count": null,
      "metadata": {
        "id": "aS2aMVfg9G1h"
      },
      "outputs": [],
      "source": [
        "# ваши эксперименты с кластеризацией здесь"
      ]
    },
    {
      "cell_type": "markdown",
      "metadata": {
        "id": "-cLx2cL--7MM"
      },
      "source": [
        "## **Задание 5 (1 балл)**\n",
        "\n",
        "Примените какой-нибудь (один любой) AutoML фреймворк для решения поставленной задачи.\n",
        "\n",
        "Отправьте AutoML-прогноз на kaggle и посмотрите на качество модели. Сделайте текстовые выводы."
      ]
    },
    {
      "cell_type": "code",
      "execution_count": null,
      "metadata": {
        "id": "Rhw85LDV_QJn"
      },
      "outputs": [],
      "source": [
        "# ваш AutoML здесь"
      ]
    },
    {
      "cell_type": "markdown",
      "metadata": {
        "id": "mxUr8jaG9JxA"
      },
      "source": [
        "# **Задание 6 (1 балл)**\n",
        "\n",
        "Весь курс мы работали в Google Colab. Но всегда должны быть запасные варианты, где Вы будете обучать модели.\n",
        "\n",
        "Среди вариантов есть:\n",
        "* ваша локальная машина\n",
        "* kaggle notebooks\n",
        "* yandex cloud\n",
        "и другие.\n",
        "\n",
        "Кроме привычного Google Colab выберите из списка выше один любой альтернативный вариант и проведите эксперимент:\n",
        "\n",
        "* Прогоните ваш лучший по качеству по результатам заданий 2-4 ML-пайплайн заново в Google Colab и с помощью библиотек (например, при помощи библиотеки time) замерьте время обучения и отдельно время инференса на тестовых данных\n",
        "\n",
        "* Прогоните этот пайплайн на выбранном альтернативном сервисе/локальной машине и также замерьте время обучения и инференса.\n",
        "\n",
        "Текстом напишите выводы: опишите, какое альтернативное место для обучения моделей Вы использовали? Прикрепите прямо в ноутбук скриншот с экраном кода в альтернативном сервисе/на локальной машине. Также в виде таблицы приведите сравнение времени обучения и инференса в колабе и в альтернативном месте. Сделайте выводы."
      ]
    },
    {
      "cell_type": "code",
      "execution_count": null,
      "metadata": {
        "id": "Os6aMaqS-MjX"
      },
      "outputs": [],
      "source": [
        "# ваши эксперименты здесь"
      ]
    },
    {
      "cell_type": "markdown",
      "metadata": {
        "id": "r-CI3PL9-P45"
      },
      "source": [
        "# **Бонус: за Kaggle и стремление к хорошим скорам (2 балла)**\n",
        "\n",
        "В этом домашнем задании Ваша цель - не просто выполнить шаги выше, но и построить максимально хорошую по качеству модель.\n",
        "\n",
        "**К 10 вы можете получить до двух дополнительных баллов:**\n",
        "\n",
        "* За попадание в топ-20% на private leaderboard — +1 дополнительный балл к оценке\n",
        "* За попадание в топ-5 мест на private leaderboard — + еще один дополнительный балл к оценке (то есть суммарно 2 дополнительных балла)\n",
        "\n",
        "**ВАЖНО!!!**\n",
        "\n",
        "Эти баллы ставятся до мягкого дедлайна по соревнованию. После мягкого дедлайна лидерборд не обновляется, и дополнительные баллы не ставятся.\n",
        "\n",
        "Успехов!"
      ]
    },
    {
      "cell_type": "code",
      "execution_count": null,
      "metadata": {
        "id": "BywMmnkB-s3w"
      },
      "outputs": [],
      "source": [
        "# не забудьте прикрепить скриншоты лидерборда, пожалуйста"
      ]
    }
  ],
  "metadata": {
    "colab": {
      "provenance": []
    },
    "kernelspec": {
      "display_name": "Python 3",
      "name": "python3"
    },
    "language_info": {
      "name": "python"
    }
  },
  "nbformat": 4,
  "nbformat_minor": 0
}